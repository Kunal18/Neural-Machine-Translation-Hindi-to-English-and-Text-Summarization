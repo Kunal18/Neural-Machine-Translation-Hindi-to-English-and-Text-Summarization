{
 "cells": [
  {
   "cell_type": "code",
   "execution_count": 1,
   "id": "5f36c29f",
   "metadata": {
    "execution": {
     "iopub.execute_input": "2023-04-10T22:18:09.599601Z",
     "iopub.status.busy": "2023-04-10T22:18:09.599198Z",
     "iopub.status.idle": "2023-04-10T22:18:10.832576Z",
     "shell.execute_reply": "2023-04-10T22:18:10.831154Z"
    },
    "papermill": {
     "duration": 1.246194,
     "end_time": "2023-04-10T22:18:10.835855",
     "exception": false,
     "start_time": "2023-04-10T22:18:09.589661",
     "status": "completed"
    },
    "tags": []
   },
   "outputs": [],
   "source": [
    "import pandas as pd\n",
    "import numpy as np\n",
    "from gensim.parsing import strip_tags, strip_numeric, strip_multiple_whitespaces, stem_text, strip_punctuation, remove_stopwords\n",
    "from gensim.parsing import preprocess_string\n",
    "from gensim import parsing\n",
    "import re"
   ]
  },
  {
   "cell_type": "code",
   "execution_count": 2,
   "id": "d84fcc38",
   "metadata": {
    "execution": {
     "iopub.execute_input": "2023-04-10T22:18:10.849709Z",
     "iopub.status.busy": "2023-04-10T22:18:10.849245Z",
     "iopub.status.idle": "2023-04-10T22:18:23.461401Z",
     "shell.execute_reply": "2023-04-10T22:18:23.460007Z"
    },
    "papermill": {
     "duration": 12.622456,
     "end_time": "2023-04-10T22:18:23.464478",
     "exception": false,
     "start_time": "2023-04-10T22:18:10.842022",
     "status": "completed"
    },
    "tags": []
   },
   "outputs": [
    {
     "name": "stdout",
     "output_type": "stream",
     "text": [
      "Collecting rouge\r\n",
      "  Downloading rouge-1.0.1-py3-none-any.whl (13 kB)\r\n",
      "Requirement already satisfied: six in /opt/conda/lib/python3.7/site-packages (from rouge) (1.16.0)\r\n",
      "Installing collected packages: rouge\r\n",
      "Successfully installed rouge-1.0.1\r\n",
      "\u001b[33mWARNING: Running pip as the 'root' user can result in broken permissions and conflicting behaviour with the system package manager. It is recommended to use a virtual environment instead: https://pip.pypa.io/warnings/venv\u001b[0m\u001b[33m\r\n",
      "\u001b[0m"
     ]
    }
   ],
   "source": [
    "!pip install rouge\n",
    "from rouge import Rouge\n",
    "rouge = Rouge()\n",
    "\n",
    "from collections import Counter"
   ]
  },
  {
   "cell_type": "code",
   "execution_count": 3,
   "id": "8e7519f6",
   "metadata": {
    "execution": {
     "iopub.execute_input": "2023-04-10T22:18:23.479278Z",
     "iopub.status.busy": "2023-04-10T22:18:23.478857Z",
     "iopub.status.idle": "2023-04-10T22:18:54.028968Z",
     "shell.execute_reply": "2023-04-10T22:18:54.027445Z"
    },
    "papermill": {
     "duration": 30.564998,
     "end_time": "2023-04-10T22:18:54.035810",
     "exception": false,
     "start_time": "2023-04-10T22:18:23.470812",
     "status": "completed"
    },
    "tags": []
   },
   "outputs": [
    {
     "data": {
      "text/html": [
       "<div>\n",
       "<style scoped>\n",
       "    .dataframe tbody tr th:only-of-type {\n",
       "        vertical-align: middle;\n",
       "    }\n",
       "\n",
       "    .dataframe tbody tr th {\n",
       "        vertical-align: top;\n",
       "    }\n",
       "\n",
       "    .dataframe thead th {\n",
       "        text-align: right;\n",
       "    }\n",
       "</style>\n",
       "<table border=\"1\" class=\"dataframe\">\n",
       "  <thead>\n",
       "    <tr style=\"text-align: right;\">\n",
       "      <th></th>\n",
       "      <th>id</th>\n",
       "      <th>article</th>\n",
       "      <th>highlights</th>\n",
       "    </tr>\n",
       "  </thead>\n",
       "  <tbody>\n",
       "    <tr>\n",
       "      <th>0</th>\n",
       "      <td>0001d1afc246a7964130f43ae940af6bc6c57f01</td>\n",
       "      <td>By . Associated Press . PUBLISHED: . 14:11 EST...</td>\n",
       "      <td>Bishop John Folda, of North Dakota, is taking ...</td>\n",
       "    </tr>\n",
       "    <tr>\n",
       "      <th>1</th>\n",
       "      <td>0002095e55fcbd3a2f366d9bf92a95433dc305ef</td>\n",
       "      <td>(CNN) -- Ralph Mata was an internal affairs li...</td>\n",
       "      <td>Criminal complaint: Cop used his role to help ...</td>\n",
       "    </tr>\n",
       "    <tr>\n",
       "      <th>2</th>\n",
       "      <td>00027e965c8264c35cc1bc55556db388da82b07f</td>\n",
       "      <td>A drunk driver who killed a young woman in a h...</td>\n",
       "      <td>Craig Eccleston-Todd, 27, had drunk at least t...</td>\n",
       "    </tr>\n",
       "    <tr>\n",
       "      <th>3</th>\n",
       "      <td>0002c17436637c4fe1837c935c04de47adb18e9a</td>\n",
       "      <td>(CNN) -- With a breezy sweep of his pen Presid...</td>\n",
       "      <td>Nina dos Santos says Europe must be ready to a...</td>\n",
       "    </tr>\n",
       "    <tr>\n",
       "      <th>4</th>\n",
       "      <td>0003ad6ef0c37534f80b55b4235108024b407f0b</td>\n",
       "      <td>Fleetwood are the only team still to have a 10...</td>\n",
       "      <td>Fleetwood top of League One after 2-0 win at S...</td>\n",
       "    </tr>\n",
       "    <tr>\n",
       "      <th>...</th>\n",
       "      <td>...</td>\n",
       "      <td>...</td>\n",
       "      <td>...</td>\n",
       "    </tr>\n",
       "    <tr>\n",
       "      <th>287108</th>\n",
       "      <td>fffdfb56fdf1a12d364562cc2b9b1d4de7481dee</td>\n",
       "      <td>By . James Rush . Former first daughter Chelse...</td>\n",
       "      <td>Chelsea Clinton said question of running for o...</td>\n",
       "    </tr>\n",
       "    <tr>\n",
       "      <th>287109</th>\n",
       "      <td>fffeecb8690b85de8c3faed80adbc7a978f9ae2a</td>\n",
       "      <td>An apologetic Vanilla Ice has given his first ...</td>\n",
       "      <td>Vanilla Ice, 47 - real name Robert Van Winkle ...</td>\n",
       "    </tr>\n",
       "    <tr>\n",
       "      <th>287110</th>\n",
       "      <td>ffff5231e4c71544bc6c97015cdb16c60e42b3f4</td>\n",
       "      <td>America's most lethal sniper claimed he wished...</td>\n",
       "      <td>America's most lethal sniper made comment in i...</td>\n",
       "    </tr>\n",
       "    <tr>\n",
       "      <th>287111</th>\n",
       "      <td>ffff924b14a8d82058b6c1c5368ff1113c1632af</td>\n",
       "      <td>By . Sara Malm . PUBLISHED: . 12:19 EST, 8 Mar...</td>\n",
       "      <td>A swarm of more than one million has crossed b...</td>\n",
       "    </tr>\n",
       "    <tr>\n",
       "      <th>287112</th>\n",
       "      <td>ffffd563a96104f5cf4493cfa701a65f31b06abf</td>\n",
       "      <td>(CNN)Former Florida Gov. Jeb Bush has decided ...</td>\n",
       "      <td>Other 2016 hopefuls maintain that Bush's annou...</td>\n",
       "    </tr>\n",
       "  </tbody>\n",
       "</table>\n",
       "<p>287113 rows × 3 columns</p>\n",
       "</div>"
      ],
      "text/plain": [
       "                                              id  \\\n",
       "0       0001d1afc246a7964130f43ae940af6bc6c57f01   \n",
       "1       0002095e55fcbd3a2f366d9bf92a95433dc305ef   \n",
       "2       00027e965c8264c35cc1bc55556db388da82b07f   \n",
       "3       0002c17436637c4fe1837c935c04de47adb18e9a   \n",
       "4       0003ad6ef0c37534f80b55b4235108024b407f0b   \n",
       "...                                          ...   \n",
       "287108  fffdfb56fdf1a12d364562cc2b9b1d4de7481dee   \n",
       "287109  fffeecb8690b85de8c3faed80adbc7a978f9ae2a   \n",
       "287110  ffff5231e4c71544bc6c97015cdb16c60e42b3f4   \n",
       "287111  ffff924b14a8d82058b6c1c5368ff1113c1632af   \n",
       "287112  ffffd563a96104f5cf4493cfa701a65f31b06abf   \n",
       "\n",
       "                                                  article  \\\n",
       "0       By . Associated Press . PUBLISHED: . 14:11 EST...   \n",
       "1       (CNN) -- Ralph Mata was an internal affairs li...   \n",
       "2       A drunk driver who killed a young woman in a h...   \n",
       "3       (CNN) -- With a breezy sweep of his pen Presid...   \n",
       "4       Fleetwood are the only team still to have a 10...   \n",
       "...                                                   ...   \n",
       "287108  By . James Rush . Former first daughter Chelse...   \n",
       "287109  An apologetic Vanilla Ice has given his first ...   \n",
       "287110  America's most lethal sniper claimed he wished...   \n",
       "287111  By . Sara Malm . PUBLISHED: . 12:19 EST, 8 Mar...   \n",
       "287112  (CNN)Former Florida Gov. Jeb Bush has decided ...   \n",
       "\n",
       "                                               highlights  \n",
       "0       Bishop John Folda, of North Dakota, is taking ...  \n",
       "1       Criminal complaint: Cop used his role to help ...  \n",
       "2       Craig Eccleston-Todd, 27, had drunk at least t...  \n",
       "3       Nina dos Santos says Europe must be ready to a...  \n",
       "4       Fleetwood top of League One after 2-0 win at S...  \n",
       "...                                                   ...  \n",
       "287108  Chelsea Clinton said question of running for o...  \n",
       "287109  Vanilla Ice, 47 - real name Robert Van Winkle ...  \n",
       "287110  America's most lethal sniper made comment in i...  \n",
       "287111  A swarm of more than one million has crossed b...  \n",
       "287112  Other 2016 hopefuls maintain that Bush's annou...  \n",
       "\n",
       "[287113 rows x 3 columns]"
      ]
     },
     "execution_count": 3,
     "metadata": {},
     "output_type": "execute_result"
    }
   ],
   "source": [
    "df_train = pd.read_csv(\"/kaggle/input/newspaper-text-summarization-cnn-dailymail/cnn_dailymail/train.csv\")\n",
    "\n",
    "df_train"
   ]
  },
  {
   "cell_type": "code",
   "execution_count": 4,
   "id": "51cd208c",
   "metadata": {
    "execution": {
     "iopub.execute_input": "2023-04-10T22:18:54.051182Z",
     "iopub.status.busy": "2023-04-10T22:18:54.050224Z",
     "iopub.status.idle": "2023-04-10T22:18:57.678472Z",
     "shell.execute_reply": "2023-04-10T22:18:57.677102Z"
    },
    "papermill": {
     "duration": 3.639339,
     "end_time": "2023-04-10T22:18:57.681562",
     "exception": false,
     "start_time": "2023-04-10T22:18:54.042223",
     "status": "completed"
    },
    "tags": []
   },
   "outputs": [],
   "source": [
    "number_doc = 30000\n",
    "abstract = []\n",
    "introduction = []\n",
    "cnt = 0\n",
    "\n",
    "for index, row in df_train.iterrows():\n",
    "    cnt += 1\n",
    "    abstract.append(row['highlights'])\n",
    "    introduction.append(row['article'])\n",
    "    if cnt == number_doc:\n",
    "        break\n",
    "\n",
    "abstract = np.array(abstract)\n",
    "introduction = np.array(introduction)"
   ]
  },
  {
   "cell_type": "code",
   "execution_count": 5,
   "id": "d97c1b1e",
   "metadata": {
    "execution": {
     "iopub.execute_input": "2023-04-10T22:18:57.697135Z",
     "iopub.status.busy": "2023-04-10T22:18:57.696717Z",
     "iopub.status.idle": "2023-04-10T22:18:57.704634Z",
     "shell.execute_reply": "2023-04-10T22:18:57.703652Z"
    },
    "papermill": {
     "duration": 0.018796,
     "end_time": "2023-04-10T22:18:57.707103",
     "exception": false,
     "start_time": "2023-04-10T22:18:57.688307",
     "status": "completed"
    },
    "tags": []
   },
   "outputs": [
    {
     "data": {
      "text/plain": [
       "'Heidi and Maryellen Olson conceived first daughter using donor sperm .\\nHeidi gave birth to Sequoia on Nov 7, Maryellen wanted to breastfeed too .\\nMaryellen followed a program of birth control pills and a milk-enhancing drug for three months before the birth at home in Santa Cruz, California .\\nNow, both mothers nurse their daughter, claim it enhances their closeness .'"
      ]
     },
     "execution_count": 5,
     "metadata": {},
     "output_type": "execute_result"
    }
   ],
   "source": [
    "abstract[43]"
   ]
  },
  {
   "cell_type": "code",
   "execution_count": 6,
   "id": "9c0b55e6",
   "metadata": {
    "execution": {
     "iopub.execute_input": "2023-04-10T22:18:57.723899Z",
     "iopub.status.busy": "2023-04-10T22:18:57.723240Z",
     "iopub.status.idle": "2023-04-10T22:18:57.732985Z",
     "shell.execute_reply": "2023-04-10T22:18:57.731456Z"
    },
    "papermill": {
     "duration": 0.021507,
     "end_time": "2023-04-10T22:18:57.735608",
     "exception": false,
     "start_time": "2023-04-10T22:18:57.714101",
     "status": "completed"
    },
    "tags": []
   },
   "outputs": [
    {
     "data": {
      "text/plain": [
       "'It is one of the key bonding experiences for a mother and child: breastfeeding. So lesbian partners Heidi and Maryellen Olson wanted to share that with their first-born Sequoia. They both nurse their one-month-old daughter. Phenomenon: Maryellen Olson, 25, nurses her daughter Sequoia despite not giving birth . Both breastfeeding: Her wife Heidi, 26, naturally lactates meaning they can both nurse their first-born . Dubbed \\'co-nursing\\', the little-known practice requires Maryellen, who didn\\'t give birth, to induce lactation and take a natural drug to boost breastmilk. According to the new parents, it has changed everything. \\'It is so worth it for the closeness I feel with Sequoia, and also for the sanity-saving it provides both of us,\\' graduate student Maryellen, 25, told MailOnline from the family\\'s home in Santa Cruz, California. \\'We both feel pretty amazed. \\'It\\'s amazing to see what our bodies can do, and we felt lucky to have this additional bonding experience available for both of us.\\' The couple, who married in 2012, discovered the treatment - more common among adoptive families - in a group for lesbians trying to conceive and immediately agreed to pursue it. Maryellen followed a program named the Newman-Goldfarb protocol, which made her body simulate pregnancy. Starting four months before the birth, she took birth control pills and a breastmilk-enhancing drug called Domperidone. The drug does not yet have FDA approval but is prevalent in Europe, some US states, and Canada, where Heidi and Maryellen eventually bought their dosage. Experience: The couple from Santa Cruz, California, said it has made them stronger as a family . Journey: Maryellen (right) started taking birth control pills and a drug called Domperidone four months before Heidi (left) gave birth to Sequoia on November 7. They conceived using artificially inseminated donor sperm . Maryellen stopped the birth control pills six weeks before Heidi\\'s due date, to make her body believe she had given birth, and started \\'pumping\\' up to six times a day. The pump is designed to make a woman\\'s body produce more milk. By the time Sequoia was born on November 7, Maryellen was ready to nurse. She will continue with Domperidone and herbal tablets called \\'More Milk Special Blend\\' until Sequioa is no longer breastfeeding. \\'Our friends are fascinated by the fact that my wife and I both breastfeed our daughter,\\' Heidi, a 26-year-old nurse, said. \\'We get a lot of: \"Wow, that\\'s amazing!\" and \"I didn\\'t know that was possible!\"\\' It came after a long battle to conceive. Heidi endured a year-long battle with endometriosis and ovarian cysts that threatened to affect her fertility. In spring this year, she was finally able to undergo an intrauterine insemination (IUI) to implant a donor\\'s sperm in her uterus. But it took ten cycles before the pregnancy test flashed pink. \\'It was a heart wrenching time and very hard on us both,\\' Heidi said. \\'Every cycle and negative test was harder than the last, and the doctors were less and less hopeful. Birth: Having followed the meticulous program, Maryellen was able to nurse Sequoia as soon as she was born . Joy: They celebrated the birth at their family home and say they are already easing into their nursing routine . \\'Our positive pregnancy test came just in the nick of time, and we were so glad.\\' Now, four weeks after their home birth, photographed by Santa Cruz Birth Photography, Heidi, Maryellen and Sequoia are easing into their unconventional routine. For Sequoia, it means she doesn\\'t have to wait around - even though she is sometimes stubborn (\\'she really makes us work for it!\\'). \\'We don\\'t really have a set schedule or rotation,\\' Maryellen said. \\'Whoever is near the baby or holding her will feed her, and the other will try to pump then or shortly after.\\' \\'We are able to sleep in longer chunks due to this, since it\\'s not all on one mama to have to feed her and stay awake. We switch whenever the awake mama feels like she needs help or sleep.\\' Makes everything easier! Both nursing, it means either can respond to Sequoia\\'s cries if the other is busy . But the crucial benefit is their connection. Maryellen said: \\'For me, I am able to feel even closer to her. \\'I am absolutely in love with her and feel incredibly connected to her ever since she was in utero, but since she\\'s been out of the womb and I\\'m breastfeeding, I feel even more connected. \\'I know other non-carrying lesbian mothers who feel like they are not as close to their child as the mom who carried the baby, and I know that breastfeeding has helped me feel incredibly bonded to her. \\'When she is breastfeeding and falls asleep on me or lays her hand on me, I feel an overwhelming amount of love for her that I wouldn\\'t have were I not breastfeeding.\\''"
      ]
     },
     "execution_count": 6,
     "metadata": {},
     "output_type": "execute_result"
    }
   ],
   "source": [
    "introduction[43]"
   ]
  },
  {
   "cell_type": "code",
   "execution_count": 7,
   "id": "6c465a46",
   "metadata": {
    "execution": {
     "iopub.execute_input": "2023-04-10T22:18:57.752026Z",
     "iopub.status.busy": "2023-04-10T22:18:57.751244Z",
     "iopub.status.idle": "2023-04-10T22:18:58.886881Z",
     "shell.execute_reply": "2023-04-10T22:18:58.885134Z"
    },
    "papermill": {
     "duration": 1.146749,
     "end_time": "2023-04-10T22:18:58.889712",
     "exception": false,
     "start_time": "2023-04-10T22:18:57.742963",
     "status": "completed"
    },
    "tags": []
   },
   "outputs": [
    {
     "name": "stdout",
     "output_type": "stream",
     "text": [
      "[nltk_data] Downloading package punkt to /usr/share/nltk_data...\n",
      "[nltk_data]   Package punkt is already up-to-date!\n",
      "[nltk_data] Downloading package stopwords to /usr/share/nltk_data...\n",
      "[nltk_data]   Package stopwords is already up-to-date!\n",
      "[nltk_data] Downloading package wordnet to /usr/share/nltk_data...\n",
      "[nltk_data]   Package wordnet is already up-to-date!\n"
     ]
    }
   ],
   "source": [
    "import nltk\n",
    "from nltk.corpus import stopwords\n",
    "from nltk.tokenize import sent_tokenize, word_tokenize\n",
    "nltk.download('punkt')\n",
    "nltk.download('stopwords')\n",
    "nltk.download('wordnet')\n",
    "import string\n",
    "\n",
    "# tokens = word_tokenize(text.lower())\n",
    "\n",
    "# stop_words = set(stopwords.words('english'))\n",
    "# filtered_tokens = [token for token in tokens if token.lower() not in stop_words]"
   ]
  },
  {
   "cell_type": "code",
   "execution_count": 8,
   "id": "9762c3e3",
   "metadata": {
    "execution": {
     "iopub.execute_input": "2023-04-10T22:18:58.906689Z",
     "iopub.status.busy": "2023-04-10T22:18:58.906157Z",
     "iopub.status.idle": "2023-04-10T22:18:58.913232Z",
     "shell.execute_reply": "2023-04-10T22:18:58.911932Z"
    },
    "papermill": {
     "duration": 0.019327,
     "end_time": "2023-04-10T22:18:58.916078",
     "exception": false,
     "start_time": "2023-04-10T22:18:58.896751",
     "status": "completed"
    },
    "tags": []
   },
   "outputs": [],
   "source": [
    "def get_Sentences(introduction):\n",
    "    sentences = sent_tokenize(introduction.lower())\n",
    "    sentences = [s for s in sentences if len(s.strip()) > 1]\n",
    "    return sentences"
   ]
  },
  {
   "cell_type": "code",
   "execution_count": 9,
   "id": "5c7df278",
   "metadata": {
    "execution": {
     "iopub.execute_input": "2023-04-10T22:18:58.932903Z",
     "iopub.status.busy": "2023-04-10T22:18:58.932167Z",
     "iopub.status.idle": "2023-04-10T22:18:58.940272Z",
     "shell.execute_reply": "2023-04-10T22:18:58.938893Z"
    },
    "papermill": {
     "duration": 0.019825,
     "end_time": "2023-04-10T22:18:58.942973",
     "exception": false,
     "start_time": "2023-04-10T22:18:58.923148",
     "status": "completed"
    },
    "tags": []
   },
   "outputs": [],
   "source": [
    "def preprocessing(sentences):\n",
    "\n",
    "    # remove_emails = lambda s: re.sub(r'^[a-zA-Z0-9+_.-]+@[a-zA-Z0-9.-]+$', '', s)\n",
    "    # remove_single_char = lambda s: re.sub(r'\\s+\\w{1}\\s+', '', s)\n",
    "\n",
    "    CLEAN_FILTERS = [\n",
    "                    #remove_emails,\n",
    "                    strip_tags,\n",
    "                    strip_numeric, \n",
    "                    strip_multiple_whitespaces]\n",
    "\n",
    "    processed_words = preprocess_string(sentences, CLEAN_FILTERS)\n",
    "    text = ' '.join(processed_words)\n",
    "    tokens = word_tokenize(text.lower())\n",
    "    \n",
    "    stop_words = set(stopwords.words('english'))\n",
    "    stop_words.add('\\x1a')\n",
    "    punctuations = set(string.punctuation)\n",
    "    filtered_tokens = [token for token in tokens if token.lower() not in stop_words]\n",
    "    \n",
    "    return filtered_tokens"
   ]
  },
  {
   "cell_type": "code",
   "execution_count": 10,
   "id": "1f434cb3",
   "metadata": {
    "execution": {
     "iopub.execute_input": "2023-04-10T22:18:58.960513Z",
     "iopub.status.busy": "2023-04-10T22:18:58.960056Z",
     "iopub.status.idle": "2023-04-10T22:18:58.965915Z",
     "shell.execute_reply": "2023-04-10T22:18:58.964892Z"
    },
    "papermill": {
     "duration": 0.01819,
     "end_time": "2023-04-10T22:18:58.968217",
     "exception": false,
     "start_time": "2023-04-10T22:18:58.950027",
     "status": "completed"
    },
    "tags": []
   },
   "outputs": [],
   "source": [
    "def get_word_freq(tokens):\n",
    "    word_freq = Counter(tokens)\n",
    "    #print(word_freq)\n",
    "    total_words = sum(word_freq.values())\n",
    "    #print(total_words)\n",
    "    return word_freq, total_words"
   ]
  },
  {
   "cell_type": "code",
   "execution_count": 11,
   "id": "0bcf6104",
   "metadata": {
    "execution": {
     "iopub.execute_input": "2023-04-10T22:18:58.984130Z",
     "iopub.status.busy": "2023-04-10T22:18:58.983675Z",
     "iopub.status.idle": "2023-04-10T22:18:58.989992Z",
     "shell.execute_reply": "2023-04-10T22:18:58.988644Z"
    },
    "papermill": {
     "duration": 0.01768,
     "end_time": "2023-04-10T22:18:58.992879",
     "exception": false,
     "start_time": "2023-04-10T22:18:58.975199",
     "status": "completed"
    },
    "tags": []
   },
   "outputs": [],
   "source": [
    "def get_word_pd(word_freq,total_words):\n",
    "    word_pd = {word: count / total_words for word, count in word_freq.items()}\n",
    "    #print(word_pd)\n",
    "    return word_pd"
   ]
  },
  {
   "cell_type": "code",
   "execution_count": 12,
   "id": "0fac6d10",
   "metadata": {
    "execution": {
     "iopub.execute_input": "2023-04-10T22:18:59.009190Z",
     "iopub.status.busy": "2023-04-10T22:18:59.008780Z",
     "iopub.status.idle": "2023-04-10T22:18:59.016905Z",
     "shell.execute_reply": "2023-04-10T22:18:59.015228Z"
    },
    "papermill": {
     "duration": 0.019651,
     "end_time": "2023-04-10T22:18:59.019730",
     "exception": false,
     "start_time": "2023-04-10T22:18:59.000079",
     "status": "completed"
    },
    "tags": []
   },
   "outputs": [],
   "source": [
    "# Calculate the sentence scores based on KL divergence\n",
    "# doc * log (doc/sentences)\n",
    "def KL(sentences,word_pd):\n",
    "    sentence_scores = {}\n",
    "    for i, sentence in enumerate(sentences):\n",
    "        sentence_words = preprocessing(sentence.lower())\n",
    "        sentence_word_freq = Counter(sentence_words)\n",
    "        sent_ps = {word: count/len(sentence_words) for word, count in sentence_word_freq.items()}\n",
    "\n",
    "        #check kl divergence value for each sentence and store it in an array\n",
    "        score = 0\n",
    "        for word in sentence_words:\n",
    "            if word in word_pd and word in sent_ps:\n",
    "                score += word_pd[word] * np.log(word_pd[word]/sent_ps[word])\n",
    "\n",
    "        sentence_scores[i] = score\n",
    "    return sentence_scores"
   ]
  },
  {
   "cell_type": "code",
   "execution_count": 13,
   "id": "844e471a",
   "metadata": {
    "execution": {
     "iopub.execute_input": "2023-04-10T22:18:59.037327Z",
     "iopub.status.busy": "2023-04-10T22:18:59.036866Z",
     "iopub.status.idle": "2023-04-10T22:18:59.044061Z",
     "shell.execute_reply": "2023-04-10T22:18:59.042565Z"
    },
    "papermill": {
     "duration": 0.01873,
     "end_time": "2023-04-10T22:18:59.046687",
     "exception": false,
     "start_time": "2023-04-10T22:18:59.027957",
     "status": "completed"
    },
    "tags": []
   },
   "outputs": [],
   "source": [
    "def get_Summary(sentence_scores,no_sentences):\n",
    "  # all_sentences = sorted(sentence_scores, key=sentence_scores.get, reverse=True)\n",
    "  # print(all_sentences)\n",
    "  # Sort the sentences in descending order of scores and select the top summary_size sentences\n",
    "    summary_sentences = sorted(sentence_scores, key=sentence_scores.get, reverse=True)[:no_sentences]\n",
    "    summary_sentences = sorted(summary_sentences)\n",
    "    # print(summary_sentences)\n",
    "    summary = ' '.join([sentences[i] for i in summary_sentences])\n",
    "    return summary"
   ]
  },
  {
   "cell_type": "code",
   "execution_count": 14,
   "id": "fa47008c",
   "metadata": {
    "execution": {
     "iopub.execute_input": "2023-04-10T22:18:59.063240Z",
     "iopub.status.busy": "2023-04-10T22:18:59.062824Z",
     "iopub.status.idle": "2023-04-10T22:18:59.068188Z",
     "shell.execute_reply": "2023-04-10T22:18:59.066879Z"
    },
    "papermill": {
     "duration": 0.017128,
     "end_time": "2023-04-10T22:18:59.070827",
     "exception": false,
     "start_time": "2023-04-10T22:18:59.053699",
     "status": "completed"
    },
    "tags": []
   },
   "outputs": [],
   "source": [
    "def get_rouge_score(summary, abstract):\n",
    "    scores = rouge.get_scores(summary, abstract)\n",
    "    return scores"
   ]
  },
  {
   "cell_type": "code",
   "execution_count": 15,
   "id": "6a857888",
   "metadata": {
    "execution": {
     "iopub.execute_input": "2023-04-10T22:18:59.087381Z",
     "iopub.status.busy": "2023-04-10T22:18:59.086519Z",
     "iopub.status.idle": "2023-04-10T22:18:59.094789Z",
     "shell.execute_reply": "2023-04-10T22:18:59.093088Z"
    },
    "papermill": {
     "duration": 0.019729,
     "end_time": "2023-04-10T22:18:59.097544",
     "exception": false,
     "start_time": "2023-04-10T22:18:59.077815",
     "status": "completed"
    },
    "tags": []
   },
   "outputs": [],
   "source": [
    "def preprocessing_summaries(sentences):\n",
    "\n",
    "    # remove_emails = lambda s: re.sub(r'^[a-zA-Z0-9+_.-]+@[a-zA-Z0-9.-]+$', '', s)\n",
    "    # remove_single_char = lambda s: re.sub(r'\\s+\\w{1}\\s+', '', s)\n",
    "\n",
    "    CLEAN_FILTERS = [\n",
    "                    #remove_emails,\n",
    "                    strip_tags,\n",
    "                    strip_numeric, \n",
    "                    strip_multiple_whitespaces]\n",
    "\n",
    "    processed_words = preprocess_string(sentences, CLEAN_FILTERS)\n",
    "    text = ' '.join(processed_words)\n",
    "    tokens = word_tokenize(text.lower())\n",
    "    \n",
    "    stop_words = set(stopwords.words('english'))\n",
    "    stop_words.add('\\x1a')\n",
    "    punctuations = set(string.punctuation)\n",
    "    filtered_tokens = ' '.join(token for token in tokens if token.lower() not in stop_words)\n",
    "    \n",
    "    return filtered_tokens"
   ]
  },
  {
   "cell_type": "code",
   "execution_count": 16,
   "id": "bbe699ae",
   "metadata": {
    "execution": {
     "iopub.execute_input": "2023-04-10T22:18:59.113404Z",
     "iopub.status.busy": "2023-04-10T22:18:59.112967Z",
     "iopub.status.idle": "2023-04-10T22:36:41.204518Z",
     "shell.execute_reply": "2023-04-10T22:36:41.202862Z"
    },
    "papermill": {
     "duration": 1062.103213,
     "end_time": "2023-04-10T22:36:41.207712",
     "exception": false,
     "start_time": "2023-04-10T22:18:59.104499",
     "status": "completed"
    },
    "tags": []
   },
   "outputs": [],
   "source": [
    "import warnings\n",
    "warnings.filterwarnings('ignore')\n",
    "\n",
    "columns = ['summary','gold_summary','ROUGE-1 Precision','ROUGE-1 Recall','ROUGE-1 F1','ROUGE-L Precision','ROUGE-L Recall','ROUGE-L F1']\n",
    "df = pd.DataFrame(columns=columns)\n",
    "\n",
    "for i in range(len(abstract)):\n",
    "\n",
    "    sentences = get_Sentences(introduction[i])\n",
    "    tokens = preprocessing(introduction[i])\n",
    "    word_freq, total_words = get_word_freq(tokens)\n",
    "    word_pd = get_word_pd(word_freq,total_words)\n",
    "    sentence_scores = KL(sentences,word_pd)\n",
    "    summary = get_Summary(sentence_scores,6)\n",
    "    # print(summary)\n",
    "    gold_summary = abstract[i].lower()\n",
    "    #print(i)\n",
    "    scores = get_rouge_score(preprocessing_summaries(summary), preprocessing_summaries(gold_summary))\n",
    "    all_scores = {\n",
    "    'summary': summary,\n",
    "    'gold_summary':gold_summary,\n",
    "    'ROUGE-1 Precision': scores[0]['rouge-1']['p'],\n",
    "    'ROUGE-1 Recall': scores[0]['rouge-1']['r'],\n",
    "    'ROUGE-1 F1': scores[0]['rouge-1']['f'],\n",
    "    'ROUGE-L Precision': scores[0]['rouge-l']['p'],\n",
    "    'ROUGE-L Recall': scores[0]['rouge-l']['r'],\n",
    "    'ROUGE-L F1': scores[0]['rouge-l']['f']}\n",
    "    new_row = pd.DataFrame(all_scores, index=[0])\n",
    "    df = df.append(new_row, ignore_index=True)\n"
   ]
  },
  {
   "cell_type": "code",
   "execution_count": 17,
   "id": "6e553399",
   "metadata": {
    "execution": {
     "iopub.execute_input": "2023-04-10T22:36:41.224518Z",
     "iopub.status.busy": "2023-04-10T22:36:41.223457Z",
     "iopub.status.idle": "2023-04-10T22:36:41.242331Z",
     "shell.execute_reply": "2023-04-10T22:36:41.241420Z"
    },
    "papermill": {
     "duration": 0.029704,
     "end_time": "2023-04-10T22:36:41.244647",
     "exception": false,
     "start_time": "2023-04-10T22:36:41.214943",
     "status": "completed"
    },
    "tags": []
   },
   "outputs": [
    {
     "data": {
      "text/html": [
       "<div>\n",
       "<style scoped>\n",
       "    .dataframe tbody tr th:only-of-type {\n",
       "        vertical-align: middle;\n",
       "    }\n",
       "\n",
       "    .dataframe tbody tr th {\n",
       "        vertical-align: top;\n",
       "    }\n",
       "\n",
       "    .dataframe thead th {\n",
       "        text-align: right;\n",
       "    }\n",
       "</style>\n",
       "<table border=\"1\" class=\"dataframe\">\n",
       "  <thead>\n",
       "    <tr style=\"text-align: right;\">\n",
       "      <th></th>\n",
       "      <th>summary</th>\n",
       "      <th>gold_summary</th>\n",
       "      <th>ROUGE-1 Precision</th>\n",
       "      <th>ROUGE-1 Recall</th>\n",
       "      <th>ROUGE-1 F1</th>\n",
       "      <th>ROUGE-L Precision</th>\n",
       "      <th>ROUGE-L Recall</th>\n",
       "      <th>ROUGE-L F1</th>\n",
       "    </tr>\n",
       "  </thead>\n",
       "  <tbody>\n",
       "    <tr>\n",
       "      <th>0</th>\n",
       "      <td>associated press . published: . | . updated: ....</td>\n",
       "      <td>bishop john folda, of north dakota, is taking ...</td>\n",
       "      <td>0.029412</td>\n",
       "      <td>0.045455</td>\n",
       "      <td>0.035714</td>\n",
       "      <td>0.029412</td>\n",
       "      <td>0.045455</td>\n",
       "      <td>0.035714</td>\n",
       "    </tr>\n",
       "    <tr>\n",
       "      <th>1</th>\n",
       "      <td>(cnn) -- ralph mata was an internal affairs li...</td>\n",
       "      <td>criminal complaint: cop used his role to help ...</td>\n",
       "      <td>0.147727</td>\n",
       "      <td>0.464286</td>\n",
       "      <td>0.224138</td>\n",
       "      <td>0.147727</td>\n",
       "      <td>0.464286</td>\n",
       "      <td>0.224138</td>\n",
       "    </tr>\n",
       "    <tr>\n",
       "      <th>2</th>\n",
       "      <td>she died later from her injuries . miss titley...</td>\n",
       "      <td>craig eccleston-todd, 27, had drunk at least t...</td>\n",
       "      <td>0.108108</td>\n",
       "      <td>0.097561</td>\n",
       "      <td>0.102564</td>\n",
       "      <td>0.108108</td>\n",
       "      <td>0.097561</td>\n",
       "      <td>0.102564</td>\n",
       "    </tr>\n",
       "    <tr>\n",
       "      <th>3</th>\n",
       "      <td>sixty years prior, ukraine's breakaway peninsu...</td>\n",
       "      <td>nina dos santos says europe must be ready to a...</td>\n",
       "      <td>0.089286</td>\n",
       "      <td>0.156250</td>\n",
       "      <td>0.113636</td>\n",
       "      <td>0.071429</td>\n",
       "      <td>0.125000</td>\n",
       "      <td>0.090909</td>\n",
       "    </tr>\n",
       "    <tr>\n",
       "      <th>4</th>\n",
       "      <td>the cod army are playing in the third tier for...</td>\n",
       "      <td>fleetwood top of league one after 2-0 win at s...</td>\n",
       "      <td>0.102941</td>\n",
       "      <td>0.162791</td>\n",
       "      <td>0.126126</td>\n",
       "      <td>0.102941</td>\n",
       "      <td>0.162791</td>\n",
       "      <td>0.126126</td>\n",
       "    </tr>\n",
       "    <tr>\n",
       "      <th>...</th>\n",
       "      <td>...</td>\n",
       "      <td>...</td>\n",
       "      <td>...</td>\n",
       "      <td>...</td>\n",
       "      <td>...</td>\n",
       "      <td>...</td>\n",
       "      <td>...</td>\n",
       "      <td>...</td>\n",
       "    </tr>\n",
       "    <tr>\n",
       "      <th>29995</th>\n",
       "      <td>mahatma ghandi is spliced with wise jedi teach...</td>\n",
       "      <td>sculptor mike leavitt says he was inspired by ...</td>\n",
       "      <td>0.020408</td>\n",
       "      <td>0.045455</td>\n",
       "      <td>0.028169</td>\n",
       "      <td>0.020408</td>\n",
       "      <td>0.045455</td>\n",
       "      <td>0.028169</td>\n",
       "    </tr>\n",
       "    <tr>\n",
       "      <th>29996</th>\n",
       "      <td>sara smyth . staff have not been paid since au...</td>\n",
       "      <td>defunct airline grounded in october 2012 over ...</td>\n",
       "      <td>0.076923</td>\n",
       "      <td>0.235294</td>\n",
       "      <td>0.115942</td>\n",
       "      <td>0.076923</td>\n",
       "      <td>0.235294</td>\n",
       "      <td>0.115942</td>\n",
       "    </tr>\n",
       "    <tr>\n",
       "      <th>29997</th>\n",
       "      <td>join the club. they offered up the spoiler foi...</td>\n",
       "      <td>valentine day's weekend was binge time for \"ho...</td>\n",
       "      <td>0.078947</td>\n",
       "      <td>0.100000</td>\n",
       "      <td>0.088235</td>\n",
       "      <td>0.052632</td>\n",
       "      <td>0.066667</td>\n",
       "      <td>0.058824</td>\n",
       "    </tr>\n",
       "    <tr>\n",
       "      <th>29998</th>\n",
       "      <td>(cnn) -- a plane crashed early sunday in the s...</td>\n",
       "      <td>new: official says the pilot saved lives by gu...</td>\n",
       "      <td>0.243902</td>\n",
       "      <td>0.588235</td>\n",
       "      <td>0.344828</td>\n",
       "      <td>0.207317</td>\n",
       "      <td>0.500000</td>\n",
       "      <td>0.293103</td>\n",
       "    </tr>\n",
       "    <tr>\n",
       "      <th>29999</th>\n",
       "      <td>continued our investigation and uncovered evid...</td>\n",
       "      <td>brad davis, 33, allegedly told police he kille...</td>\n",
       "      <td>0.108696</td>\n",
       "      <td>0.151515</td>\n",
       "      <td>0.126582</td>\n",
       "      <td>0.108696</td>\n",
       "      <td>0.151515</td>\n",
       "      <td>0.126582</td>\n",
       "    </tr>\n",
       "  </tbody>\n",
       "</table>\n",
       "<p>30000 rows × 8 columns</p>\n",
       "</div>"
      ],
      "text/plain": [
       "                                                 summary  \\\n",
       "0      associated press . published: . | . updated: ....   \n",
       "1      (cnn) -- ralph mata was an internal affairs li...   \n",
       "2      she died later from her injuries . miss titley...   \n",
       "3      sixty years prior, ukraine's breakaway peninsu...   \n",
       "4      the cod army are playing in the third tier for...   \n",
       "...                                                  ...   \n",
       "29995  mahatma ghandi is spliced with wise jedi teach...   \n",
       "29996  sara smyth . staff have not been paid since au...   \n",
       "29997  join the club. they offered up the spoiler foi...   \n",
       "29998  (cnn) -- a plane crashed early sunday in the s...   \n",
       "29999  continued our investigation and uncovered evid...   \n",
       "\n",
       "                                            gold_summary  ROUGE-1 Precision  \\\n",
       "0      bishop john folda, of north dakota, is taking ...           0.029412   \n",
       "1      criminal complaint: cop used his role to help ...           0.147727   \n",
       "2      craig eccleston-todd, 27, had drunk at least t...           0.108108   \n",
       "3      nina dos santos says europe must be ready to a...           0.089286   \n",
       "4      fleetwood top of league one after 2-0 win at s...           0.102941   \n",
       "...                                                  ...                ...   \n",
       "29995  sculptor mike leavitt says he was inspired by ...           0.020408   \n",
       "29996  defunct airline grounded in october 2012 over ...           0.076923   \n",
       "29997  valentine day's weekend was binge time for \"ho...           0.078947   \n",
       "29998  new: official says the pilot saved lives by gu...           0.243902   \n",
       "29999  brad davis, 33, allegedly told police he kille...           0.108696   \n",
       "\n",
       "       ROUGE-1 Recall  ROUGE-1 F1  ROUGE-L Precision  ROUGE-L Recall  \\\n",
       "0            0.045455    0.035714           0.029412        0.045455   \n",
       "1            0.464286    0.224138           0.147727        0.464286   \n",
       "2            0.097561    0.102564           0.108108        0.097561   \n",
       "3            0.156250    0.113636           0.071429        0.125000   \n",
       "4            0.162791    0.126126           0.102941        0.162791   \n",
       "...               ...         ...                ...             ...   \n",
       "29995        0.045455    0.028169           0.020408        0.045455   \n",
       "29996        0.235294    0.115942           0.076923        0.235294   \n",
       "29997        0.100000    0.088235           0.052632        0.066667   \n",
       "29998        0.588235    0.344828           0.207317        0.500000   \n",
       "29999        0.151515    0.126582           0.108696        0.151515   \n",
       "\n",
       "       ROUGE-L F1  \n",
       "0        0.035714  \n",
       "1        0.224138  \n",
       "2        0.102564  \n",
       "3        0.090909  \n",
       "4        0.126126  \n",
       "...           ...  \n",
       "29995    0.028169  \n",
       "29996    0.115942  \n",
       "29997    0.058824  \n",
       "29998    0.293103  \n",
       "29999    0.126582  \n",
       "\n",
       "[30000 rows x 8 columns]"
      ]
     },
     "execution_count": 17,
     "metadata": {},
     "output_type": "execute_result"
    }
   ],
   "source": [
    "df"
   ]
  },
  {
   "cell_type": "code",
   "execution_count": 18,
   "id": "8847cb39",
   "metadata": {
    "execution": {
     "iopub.execute_input": "2023-04-10T22:36:41.261298Z",
     "iopub.status.busy": "2023-04-10T22:36:41.260615Z",
     "iopub.status.idle": "2023-04-10T22:36:41.289841Z",
     "shell.execute_reply": "2023-04-10T22:36:41.288468Z"
    },
    "papermill": {
     "duration": 0.040427,
     "end_time": "2023-04-10T22:36:41.292390",
     "exception": false,
     "start_time": "2023-04-10T22:36:41.251963",
     "status": "completed"
    },
    "tags": []
   },
   "outputs": [
    {
     "data": {
      "text/html": [
       "<div>\n",
       "<style scoped>\n",
       "    .dataframe tbody tr th:only-of-type {\n",
       "        vertical-align: middle;\n",
       "    }\n",
       "\n",
       "    .dataframe tbody tr th {\n",
       "        vertical-align: top;\n",
       "    }\n",
       "\n",
       "    .dataframe thead th {\n",
       "        text-align: right;\n",
       "    }\n",
       "</style>\n",
       "<table border=\"1\" class=\"dataframe\">\n",
       "  <thead>\n",
       "    <tr style=\"text-align: right;\">\n",
       "      <th></th>\n",
       "      <th>summary</th>\n",
       "      <th>gold_summary</th>\n",
       "      <th>ROUGE-1 Precision</th>\n",
       "      <th>ROUGE-1 Recall</th>\n",
       "      <th>ROUGE-1 F1</th>\n",
       "      <th>ROUGE-L Precision</th>\n",
       "      <th>ROUGE-L Recall</th>\n",
       "      <th>ROUGE-L F1</th>\n",
       "    </tr>\n",
       "  </thead>\n",
       "  <tbody>\n",
       "    <tr>\n",
       "      <th>17285</th>\n",
       "      <td>police say a maryland teenager eating a pot br...</td>\n",
       "      <td>student gave teacher a piece when asked for a ...</td>\n",
       "      <td>0.632653</td>\n",
       "      <td>0.911765</td>\n",
       "      <td>0.746988</td>\n",
       "      <td>0.612245</td>\n",
       "      <td>0.882353</td>\n",
       "      <td>0.722892</td>\n",
       "    </tr>\n",
       "    <tr>\n",
       "      <th>4361</th>\n",
       "      <td>scroll down for video . the baby died at its h...</td>\n",
       "      <td>the baby died at its home in fort plains on tu...</td>\n",
       "      <td>0.557377</td>\n",
       "      <td>0.971429</td>\n",
       "      <td>0.708333</td>\n",
       "      <td>0.557377</td>\n",
       "      <td>0.971429</td>\n",
       "      <td>0.708333</td>\n",
       "    </tr>\n",
       "    <tr>\n",
       "      <th>19765</th>\n",
       "      <td>it shows a ‘worryingly vast variation’ in acce...</td>\n",
       "      <td>reports shows a ‘worryingly vast variation’ in...</td>\n",
       "      <td>0.561404</td>\n",
       "      <td>0.941176</td>\n",
       "      <td>0.703297</td>\n",
       "      <td>0.561404</td>\n",
       "      <td>0.941176</td>\n",
       "      <td>0.703297</td>\n",
       "    </tr>\n",
       "    <tr>\n",
       "      <th>7028</th>\n",
       "      <td>a french physician who treated michael schumac...</td>\n",
       "      <td>michael schumacher is no longer in a coma, say...</td>\n",
       "      <td>0.592593</td>\n",
       "      <td>0.864865</td>\n",
       "      <td>0.703297</td>\n",
       "      <td>0.537037</td>\n",
       "      <td>0.783784</td>\n",
       "      <td>0.637363</td>\n",
       "    </tr>\n",
       "    <tr>\n",
       "      <th>13039</th>\n",
       "      <td>ex-nba star michael jordan advised  tom watson...</td>\n",
       "      <td>the chicago bulls star has been supporting tea...</td>\n",
       "      <td>0.568182</td>\n",
       "      <td>0.806452</td>\n",
       "      <td>0.666667</td>\n",
       "      <td>0.568182</td>\n",
       "      <td>0.806452</td>\n",
       "      <td>0.666667</td>\n",
       "    </tr>\n",
       "  </tbody>\n",
       "</table>\n",
       "</div>"
      ],
      "text/plain": [
       "                                                 summary  \\\n",
       "17285  police say a maryland teenager eating a pot br...   \n",
       "4361   scroll down for video . the baby died at its h...   \n",
       "19765  it shows a ‘worryingly vast variation’ in acce...   \n",
       "7028   a french physician who treated michael schumac...   \n",
       "13039  ex-nba star michael jordan advised  tom watson...   \n",
       "\n",
       "                                            gold_summary  ROUGE-1 Precision  \\\n",
       "17285  student gave teacher a piece when asked for a ...           0.632653   \n",
       "4361   the baby died at its home in fort plains on tu...           0.557377   \n",
       "19765  reports shows a ‘worryingly vast variation’ in...           0.561404   \n",
       "7028   michael schumacher is no longer in a coma, say...           0.592593   \n",
       "13039  the chicago bulls star has been supporting tea...           0.568182   \n",
       "\n",
       "       ROUGE-1 Recall  ROUGE-1 F1  ROUGE-L Precision  ROUGE-L Recall  \\\n",
       "17285        0.911765    0.746988           0.612245        0.882353   \n",
       "4361         0.971429    0.708333           0.557377        0.971429   \n",
       "19765        0.941176    0.703297           0.561404        0.941176   \n",
       "7028         0.864865    0.703297           0.537037        0.783784   \n",
       "13039        0.806452    0.666667           0.568182        0.806452   \n",
       "\n",
       "       ROUGE-L F1  \n",
       "17285    0.722892  \n",
       "4361     0.708333  \n",
       "19765    0.703297  \n",
       "7028     0.637363  \n",
       "13039    0.666667  "
      ]
     },
     "execution_count": 18,
     "metadata": {},
     "output_type": "execute_result"
    }
   ],
   "source": [
    "sorted_df = df.sort_values(by=['ROUGE-1 F1'], ascending=False)\n",
    "sorted_df.reset_index(drop=True)\n",
    "\n",
    "top_5_rows = sorted_df.head(5)\n",
    "\n",
    "top_5_rows"
   ]
  },
  {
   "cell_type": "code",
   "execution_count": 19,
   "id": "166679c2",
   "metadata": {
    "execution": {
     "iopub.execute_input": "2023-04-10T22:36:41.310610Z",
     "iopub.status.busy": "2023-04-10T22:36:41.309471Z",
     "iopub.status.idle": "2023-04-10T22:36:41.320752Z",
     "shell.execute_reply": "2023-04-10T22:36:41.319336Z"
    },
    "papermill": {
     "duration": 0.02335,
     "end_time": "2023-04-10T22:36:41.323322",
     "exception": false,
     "start_time": "2023-04-10T22:36:41.299972",
     "status": "completed"
    },
    "tags": []
   },
   "outputs": [
    {
     "name": "stdout",
     "output_type": "stream",
     "text": [
      "Average ROUGE-1 Precision:  0.12596687501775447\n",
      "Average ROUGE-1 Recall:  0.28115178094734683\n",
      "Average ROUGE-1 F1:  0.16798822862813623\n",
      "Average ROUGE-L Precision:  0.11831457232961373\n",
      "Average ROUGE-L Recall:  0.2638127356956711\n",
      "Average ROUGE-L F1:  0.15770930599183394\n"
     ]
    }
   ],
   "source": [
    "avg_precision = df['ROUGE-1 Precision'].mean()\n",
    "avg_recall = df['ROUGE-1 Recall'].mean()\n",
    "avg_f1 = df['ROUGE-1 F1'].mean()\n",
    "avg_l_precision = df['ROUGE-L Precision'].mean()\n",
    "avg_l_recall = df['ROUGE-L Recall'].mean()\n",
    "avg_l_f1 = df['ROUGE-L F1'].mean()\n",
    "\n",
    "# Print the results\n",
    "print(\"Average ROUGE-1 Precision: \", avg_precision)\n",
    "print(\"Average ROUGE-1 Recall: \", avg_recall)\n",
    "print(\"Average ROUGE-1 F1: \", avg_f1)\n",
    "print(\"Average ROUGE-L Precision: \", avg_l_precision)\n",
    "print(\"Average ROUGE-L Recall: \", avg_l_recall)\n",
    "print(\"Average ROUGE-L F1: \", avg_l_f1)"
   ]
  },
  {
   "cell_type": "code",
   "execution_count": 20,
   "id": "66e915b0",
   "metadata": {
    "execution": {
     "iopub.execute_input": "2023-04-10T22:36:41.340767Z",
     "iopub.status.busy": "2023-04-10T22:36:41.339909Z",
     "iopub.status.idle": "2023-04-10T22:36:41.346744Z",
     "shell.execute_reply": "2023-04-10T22:36:41.345825Z"
    },
    "papermill": {
     "duration": 0.017971,
     "end_time": "2023-04-10T22:36:41.348937",
     "exception": false,
     "start_time": "2023-04-10T22:36:41.330966",
     "status": "completed"
    },
    "tags": []
   },
   "outputs": [
    {
     "data": {
      "text/plain": [
       "\"police say a maryland teenager eating a pot brownie in class panicked when his teacher asked him for a piece of the treat, and that he is now charged for obliging. anne arundel county police said tuesday that the 17-year-old didn't tell the teacher that the brownie contained marijuana. she began feeling ill and acting disoriented, and was brought to the nurse's office at broadneck high school in annapolis on monday. police say a maryland teenager eating a pot brownie in class at broadneck high school panicked when his teacher asked him for a piece of the treat, and that he is now charged for obliging . police did not release his name, and they say he was released to a guardian. the school is taking action through its own code of conduct separately.\""
      ]
     },
     "execution_count": 20,
     "metadata": {},
     "output_type": "execute_result"
    }
   ],
   "source": [
    "df['summary'][17285]"
   ]
  },
  {
   "cell_type": "code",
   "execution_count": 21,
   "id": "2ee88057",
   "metadata": {
    "execution": {
     "iopub.execute_input": "2023-04-10T22:36:41.366494Z",
     "iopub.status.busy": "2023-04-10T22:36:41.365651Z",
     "iopub.status.idle": "2023-04-10T22:36:41.373497Z",
     "shell.execute_reply": "2023-04-10T22:36:41.372201Z"
    },
    "papermill": {
     "duration": 0.019258,
     "end_time": "2023-04-10T22:36:41.375858",
     "exception": false,
     "start_time": "2023-04-10T22:36:41.356600",
     "status": "completed"
    },
    "tags": []
   },
   "outputs": [
    {
     "data": {
      "text/plain": [
       "\"student gave teacher a piece when asked for a bite of the treat .\\nanne arundel county police said tuesday that the 17-year-old didn't tell the teacher that the brownie contained marijuana .\\nteacher began feeling ill and acting disoriented, and was brought to the nurse's office at broadneck high school in annapolis on monday .\""
      ]
     },
     "execution_count": 21,
     "metadata": {},
     "output_type": "execute_result"
    }
   ],
   "source": [
    "df['gold_summary'][17285]"
   ]
  },
  {
   "cell_type": "code",
   "execution_count": 22,
   "id": "5b396eb0",
   "metadata": {
    "execution": {
     "iopub.execute_input": "2023-04-10T22:36:41.393164Z",
     "iopub.status.busy": "2023-04-10T22:36:41.392743Z",
     "iopub.status.idle": "2023-04-10T22:36:41.400352Z",
     "shell.execute_reply": "2023-04-10T22:36:41.398955Z"
    },
    "papermill": {
     "duration": 0.019159,
     "end_time": "2023-04-10T22:36:41.402868",
     "exception": false,
     "start_time": "2023-04-10T22:36:41.383709",
     "status": "completed"
    },
    "tags": []
   },
   "outputs": [
    {
     "data": {
      "text/plain": [
       "\"Police say a Maryland teenager eating a pot brownie in class panicked when his teacher asked him for a piece of the treat, and that he is now charged for obliging. Anne Arundel County police said Tuesday that the 17-year-old didn't tell the teacher that the brownie contained marijuana. She began feeling ill and acting disoriented, and was brought to the nurse's office at Broadneck High School in Annapolis on Monday. Police say a Maryland teenager eating a pot brownie in class at Broadneck High School panicked when his teacher asked him for a piece of the treat, and that he is now charged for obliging . The teacher told police that the student had given her the brownie during third period and that she suspected it contained marijuana. The student, from nearby Arnold, was charged with juvenile counts of administering a dangerous substance, assault and reckless endangerment. Police did not release his name, and they say he was released to a guardian. The school is taking action through its own Code of Conduct separately. 'Possession and use of drugs can have very, very serious consequences,' schools spokesman Bob Mosier told The Capital Gazette.\\xa0'The very thought that a student would give a teacher something laced with drugs is, quite frankly, appalling.'\""
      ]
     },
     "execution_count": 22,
     "metadata": {},
     "output_type": "execute_result"
    }
   ],
   "source": [
    "introduction[17285]"
   ]
  }
 ],
 "metadata": {
  "kernelspec": {
   "display_name": "Python 3",
   "language": "python",
   "name": "python3"
  },
  "language_info": {
   "codemirror_mode": {
    "name": "ipython",
    "version": 3
   },
   "file_extension": ".py",
   "mimetype": "text/x-python",
   "name": "python",
   "nbconvert_exporter": "python",
   "pygments_lexer": "ipython3",
   "version": "3.7.12"
  },
  "papermill": {
   "default_parameters": {},
   "duration": 1123.798215,
   "end_time": "2023-04-10T22:36:42.637789",
   "environment_variables": {},
   "exception": null,
   "input_path": "__notebook__.ipynb",
   "output_path": "__notebook__.ipynb",
   "parameters": {},
   "start_time": "2023-04-10T22:17:58.839574",
   "version": "2.4.0"
  }
 },
 "nbformat": 4,
 "nbformat_minor": 5
}
