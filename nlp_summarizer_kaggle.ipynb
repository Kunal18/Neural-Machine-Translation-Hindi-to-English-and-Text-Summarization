{
  "metadata": {
    "colab": {
      "provenance": [],
      "include_colab_link": true
    },
    "kernelspec": {
      "name": "python3",
      "display_name": "Python 3",
      "language": "python"
    },
    "language_info": {
      "name": "python",
      "version": "3.7.12",
      "mimetype": "text/x-python",
      "codemirror_mode": {
        "name": "ipython",
        "version": 3
      },
      "pygments_lexer": "ipython3",
      "nbconvert_exporter": "python",
      "file_extension": ".py"
    },
    "accelerator": "GPU",
    "gpuClass": "standard",
    "widgets": {
      "application/vnd.jupyter.widget-state+json": {
        "afb598b814ce4565b5a2e1dc80707af0": {
          "model_module": "@jupyter-widgets/controls",
          "model_name": "HBoxModel",
          "model_module_version": "1.5.0",
          "state": {
            "_dom_classes": [],
            "_model_module": "@jupyter-widgets/controls",
            "_model_module_version": "1.5.0",
            "_model_name": "HBoxModel",
            "_view_count": null,
            "_view_module": "@jupyter-widgets/controls",
            "_view_module_version": "1.5.0",
            "_view_name": "HBoxView",
            "box_style": "",
            "children": [
              "IPY_MODEL_9c84674bd33b434492eca0f4d19b094d",
              "IPY_MODEL_b70f49ed05a64b65a9228d29254e68bd",
              "IPY_MODEL_1df1b1c5b7834f8b907a6d1b331d91fa"
            ],
            "layout": "IPY_MODEL_f32e180c93f344e3a87836673b3a03d2"
          }
        },
        "9c84674bd33b434492eca0f4d19b094d": {
          "model_module": "@jupyter-widgets/controls",
          "model_name": "HTMLModel",
          "model_module_version": "1.5.0",
          "state": {
            "_dom_classes": [],
            "_model_module": "@jupyter-widgets/controls",
            "_model_module_version": "1.5.0",
            "_model_name": "HTMLModel",
            "_view_count": null,
            "_view_module": "@jupyter-widgets/controls",
            "_view_module_version": "1.5.0",
            "_view_name": "HTMLView",
            "description": "",
            "description_tooltip": null,
            "layout": "IPY_MODEL_ae13e2c9e9b14c8e9a6c97e33b5f1df2",
            "placeholder": "​",
            "style": "IPY_MODEL_d28eb38f9d704909b262a8f76f9be3f3",
            "value": "Downloading (…)lve/main/config.json: 100%"
          }
        },
        "b70f49ed05a64b65a9228d29254e68bd": {
          "model_module": "@jupyter-widgets/controls",
          "model_name": "FloatProgressModel",
          "model_module_version": "1.5.0",
          "state": {
            "_dom_classes": [],
            "_model_module": "@jupyter-widgets/controls",
            "_model_module_version": "1.5.0",
            "_model_name": "FloatProgressModel",
            "_view_count": null,
            "_view_module": "@jupyter-widgets/controls",
            "_view_module_version": "1.5.0",
            "_view_name": "ProgressView",
            "bar_style": "success",
            "description": "",
            "description_tooltip": null,
            "layout": "IPY_MODEL_5a999614ad9c46b4abdbeae3e31d7914",
            "max": 1716,
            "min": 0,
            "orientation": "horizontal",
            "style": "IPY_MODEL_b544abea5d0e45c1a13856011c3a1095",
            "value": 1716
          }
        },
        "1df1b1c5b7834f8b907a6d1b331d91fa": {
          "model_module": "@jupyter-widgets/controls",
          "model_name": "HTMLModel",
          "model_module_version": "1.5.0",
          "state": {
            "_dom_classes": [],
            "_model_module": "@jupyter-widgets/controls",
            "_model_module_version": "1.5.0",
            "_model_name": "HTMLModel",
            "_view_count": null,
            "_view_module": "@jupyter-widgets/controls",
            "_view_module_version": "1.5.0",
            "_view_name": "HTMLView",
            "description": "",
            "description_tooltip": null,
            "layout": "IPY_MODEL_642a77b41b944d04804503990956baf4",
            "placeholder": "​",
            "style": "IPY_MODEL_34efc94552304685bea2ebed77adf35d",
            "value": " 1.72k/1.72k [00:00&lt;00:00, 7.15kB/s]"
          }
        },
        "f32e180c93f344e3a87836673b3a03d2": {
          "model_module": "@jupyter-widgets/base",
          "model_name": "LayoutModel",
          "model_module_version": "1.2.0",
          "state": {
            "_model_module": "@jupyter-widgets/base",
            "_model_module_version": "1.2.0",
            "_model_name": "LayoutModel",
            "_view_count": null,
            "_view_module": "@jupyter-widgets/base",
            "_view_module_version": "1.2.0",
            "_view_name": "LayoutView",
            "align_content": null,
            "align_items": null,
            "align_self": null,
            "border": null,
            "bottom": null,
            "display": null,
            "flex": null,
            "flex_flow": null,
            "grid_area": null,
            "grid_auto_columns": null,
            "grid_auto_flow": null,
            "grid_auto_rows": null,
            "grid_column": null,
            "grid_gap": null,
            "grid_row": null,
            "grid_template_areas": null,
            "grid_template_columns": null,
            "grid_template_rows": null,
            "height": null,
            "justify_content": null,
            "justify_items": null,
            "left": null,
            "margin": null,
            "max_height": null,
            "max_width": null,
            "min_height": null,
            "min_width": null,
            "object_fit": null,
            "object_position": null,
            "order": null,
            "overflow": null,
            "overflow_x": null,
            "overflow_y": null,
            "padding": null,
            "right": null,
            "top": null,
            "visibility": null,
            "width": null
          }
        },
        "ae13e2c9e9b14c8e9a6c97e33b5f1df2": {
          "model_module": "@jupyter-widgets/base",
          "model_name": "LayoutModel",
          "model_module_version": "1.2.0",
          "state": {
            "_model_module": "@jupyter-widgets/base",
            "_model_module_version": "1.2.0",
            "_model_name": "LayoutModel",
            "_view_count": null,
            "_view_module": "@jupyter-widgets/base",
            "_view_module_version": "1.2.0",
            "_view_name": "LayoutView",
            "align_content": null,
            "align_items": null,
            "align_self": null,
            "border": null,
            "bottom": null,
            "display": null,
            "flex": null,
            "flex_flow": null,
            "grid_area": null,
            "grid_auto_columns": null,
            "grid_auto_flow": null,
            "grid_auto_rows": null,
            "grid_column": null,
            "grid_gap": null,
            "grid_row": null,
            "grid_template_areas": null,
            "grid_template_columns": null,
            "grid_template_rows": null,
            "height": null,
            "justify_content": null,
            "justify_items": null,
            "left": null,
            "margin": null,
            "max_height": null,
            "max_width": null,
            "min_height": null,
            "min_width": null,
            "object_fit": null,
            "object_position": null,
            "order": null,
            "overflow": null,
            "overflow_x": null,
            "overflow_y": null,
            "padding": null,
            "right": null,
            "top": null,
            "visibility": null,
            "width": null
          }
        },
        "d28eb38f9d704909b262a8f76f9be3f3": {
          "model_module": "@jupyter-widgets/controls",
          "model_name": "DescriptionStyleModel",
          "model_module_version": "1.5.0",
          "state": {
            "_model_module": "@jupyter-widgets/controls",
            "_model_module_version": "1.5.0",
            "_model_name": "DescriptionStyleModel",
            "_view_count": null,
            "_view_module": "@jupyter-widgets/base",
            "_view_module_version": "1.2.0",
            "_view_name": "StyleView",
            "description_width": ""
          }
        },
        "5a999614ad9c46b4abdbeae3e31d7914": {
          "model_module": "@jupyter-widgets/base",
          "model_name": "LayoutModel",
          "model_module_version": "1.2.0",
          "state": {
            "_model_module": "@jupyter-widgets/base",
            "_model_module_version": "1.2.0",
            "_model_name": "LayoutModel",
            "_view_count": null,
            "_view_module": "@jupyter-widgets/base",
            "_view_module_version": "1.2.0",
            "_view_name": "LayoutView",
            "align_content": null,
            "align_items": null,
            "align_self": null,
            "border": null,
            "bottom": null,
            "display": null,
            "flex": null,
            "flex_flow": null,
            "grid_area": null,
            "grid_auto_columns": null,
            "grid_auto_flow": null,
            "grid_auto_rows": null,
            "grid_column": null,
            "grid_gap": null,
            "grid_row": null,
            "grid_template_areas": null,
            "grid_template_columns": null,
            "grid_template_rows": null,
            "height": null,
            "justify_content": null,
            "justify_items": null,
            "left": null,
            "margin": null,
            "max_height": null,
            "max_width": null,
            "min_height": null,
            "min_width": null,
            "object_fit": null,
            "object_position": null,
            "order": null,
            "overflow": null,
            "overflow_x": null,
            "overflow_y": null,
            "padding": null,
            "right": null,
            "top": null,
            "visibility": null,
            "width": null
          }
        },
        "b544abea5d0e45c1a13856011c3a1095": {
          "model_module": "@jupyter-widgets/controls",
          "model_name": "ProgressStyleModel",
          "model_module_version": "1.5.0",
          "state": {
            "_model_module": "@jupyter-widgets/controls",
            "_model_module_version": "1.5.0",
            "_model_name": "ProgressStyleModel",
            "_view_count": null,
            "_view_module": "@jupyter-widgets/base",
            "_view_module_version": "1.2.0",
            "_view_name": "StyleView",
            "bar_color": null,
            "description_width": ""
          }
        },
        "642a77b41b944d04804503990956baf4": {
          "model_module": "@jupyter-widgets/base",
          "model_name": "LayoutModel",
          "model_module_version": "1.2.0",
          "state": {
            "_model_module": "@jupyter-widgets/base",
            "_model_module_version": "1.2.0",
            "_model_name": "LayoutModel",
            "_view_count": null,
            "_view_module": "@jupyter-widgets/base",
            "_view_module_version": "1.2.0",
            "_view_name": "LayoutView",
            "align_content": null,
            "align_items": null,
            "align_self": null,
            "border": null,
            "bottom": null,
            "display": null,
            "flex": null,
            "flex_flow": null,
            "grid_area": null,
            "grid_auto_columns": null,
            "grid_auto_flow": null,
            "grid_auto_rows": null,
            "grid_column": null,
            "grid_gap": null,
            "grid_row": null,
            "grid_template_areas": null,
            "grid_template_columns": null,
            "grid_template_rows": null,
            "height": null,
            "justify_content": null,
            "justify_items": null,
            "left": null,
            "margin": null,
            "max_height": null,
            "max_width": null,
            "min_height": null,
            "min_width": null,
            "object_fit": null,
            "object_position": null,
            "order": null,
            "overflow": null,
            "overflow_x": null,
            "overflow_y": null,
            "padding": null,
            "right": null,
            "top": null,
            "visibility": null,
            "width": null
          }
        },
        "34efc94552304685bea2ebed77adf35d": {
          "model_module": "@jupyter-widgets/controls",
          "model_name": "DescriptionStyleModel",
          "model_module_version": "1.5.0",
          "state": {
            "_model_module": "@jupyter-widgets/controls",
            "_model_module_version": "1.5.0",
            "_model_name": "DescriptionStyleModel",
            "_view_count": null,
            "_view_module": "@jupyter-widgets/base",
            "_view_module_version": "1.2.0",
            "_view_name": "StyleView",
            "description_width": ""
          }
        },
        "85b82ab23bc94135979ce48cfe6b2d7f": {
          "model_module": "@jupyter-widgets/controls",
          "model_name": "HBoxModel",
          "model_module_version": "1.5.0",
          "state": {
            "_dom_classes": [],
            "_model_module": "@jupyter-widgets/controls",
            "_model_module_version": "1.5.0",
            "_model_name": "HBoxModel",
            "_view_count": null,
            "_view_module": "@jupyter-widgets/controls",
            "_view_module_version": "1.5.0",
            "_view_name": "HBoxView",
            "box_style": "",
            "children": [
              "IPY_MODEL_a4826ac043d64e69965e76b3189df4b5",
              "IPY_MODEL_17760d07f6ec4c0383b47aa7187642cc",
              "IPY_MODEL_421954782d954e73b393d06ceb7fb85d"
            ],
            "layout": "IPY_MODEL_43904e575bde4272a5239b0c0db3418d"
          }
        },
        "a4826ac043d64e69965e76b3189df4b5": {
          "model_module": "@jupyter-widgets/controls",
          "model_name": "HTMLModel",
          "model_module_version": "1.5.0",
          "state": {
            "_dom_classes": [],
            "_model_module": "@jupyter-widgets/controls",
            "_model_module_version": "1.5.0",
            "_model_name": "HTMLModel",
            "_view_count": null,
            "_view_module": "@jupyter-widgets/controls",
            "_view_module_version": "1.5.0",
            "_view_name": "HTMLView",
            "description": "",
            "description_tooltip": null,
            "layout": "IPY_MODEL_1807e6bf65894617b259614ff49be665",
            "placeholder": "​",
            "style": "IPY_MODEL_c67d924b0fee4fceb5a112954c4fb0c9",
            "value": "Downloading (…)olve/main/vocab.json: 100%"
          }
        },
        "17760d07f6ec4c0383b47aa7187642cc": {
          "model_module": "@jupyter-widgets/controls",
          "model_name": "FloatProgressModel",
          "model_module_version": "1.5.0",
          "state": {
            "_dom_classes": [],
            "_model_module": "@jupyter-widgets/controls",
            "_model_module_version": "1.5.0",
            "_model_name": "FloatProgressModel",
            "_view_count": null,
            "_view_module": "@jupyter-widgets/controls",
            "_view_module_version": "1.5.0",
            "_view_name": "ProgressView",
            "bar_style": "success",
            "description": "",
            "description_tooltip": null,
            "layout": "IPY_MODEL_6e2da996cfbf41ea8f1e4fbb2cfdffb8",
            "max": 898823,
            "min": 0,
            "orientation": "horizontal",
            "style": "IPY_MODEL_fd9de01cadb4430bae8061b25202b346",
            "value": 898823
          }
        },
        "421954782d954e73b393d06ceb7fb85d": {
          "model_module": "@jupyter-widgets/controls",
          "model_name": "HTMLModel",
          "model_module_version": "1.5.0",
          "state": {
            "_dom_classes": [],
            "_model_module": "@jupyter-widgets/controls",
            "_model_module_version": "1.5.0",
            "_model_name": "HTMLModel",
            "_view_count": null,
            "_view_module": "@jupyter-widgets/controls",
            "_view_module_version": "1.5.0",
            "_view_name": "HTMLView",
            "description": "",
            "description_tooltip": null,
            "layout": "IPY_MODEL_e349ea28b297440aa3c9ac31b421e329",
            "placeholder": "​",
            "style": "IPY_MODEL_79e2529bc7364def9774856b58ee5567",
            "value": " 899k/899k [00:00&lt;00:00, 13.7MB/s]"
          }
        },
        "43904e575bde4272a5239b0c0db3418d": {
          "model_module": "@jupyter-widgets/base",
          "model_name": "LayoutModel",
          "model_module_version": "1.2.0",
          "state": {
            "_model_module": "@jupyter-widgets/base",
            "_model_module_version": "1.2.0",
            "_model_name": "LayoutModel",
            "_view_count": null,
            "_view_module": "@jupyter-widgets/base",
            "_view_module_version": "1.2.0",
            "_view_name": "LayoutView",
            "align_content": null,
            "align_items": null,
            "align_self": null,
            "border": null,
            "bottom": null,
            "display": null,
            "flex": null,
            "flex_flow": null,
            "grid_area": null,
            "grid_auto_columns": null,
            "grid_auto_flow": null,
            "grid_auto_rows": null,
            "grid_column": null,
            "grid_gap": null,
            "grid_row": null,
            "grid_template_areas": null,
            "grid_template_columns": null,
            "grid_template_rows": null,
            "height": null,
            "justify_content": null,
            "justify_items": null,
            "left": null,
            "margin": null,
            "max_height": null,
            "max_width": null,
            "min_height": null,
            "min_width": null,
            "object_fit": null,
            "object_position": null,
            "order": null,
            "overflow": null,
            "overflow_x": null,
            "overflow_y": null,
            "padding": null,
            "right": null,
            "top": null,
            "visibility": null,
            "width": null
          }
        },
        "1807e6bf65894617b259614ff49be665": {
          "model_module": "@jupyter-widgets/base",
          "model_name": "LayoutModel",
          "model_module_version": "1.2.0",
          "state": {
            "_model_module": "@jupyter-widgets/base",
            "_model_module_version": "1.2.0",
            "_model_name": "LayoutModel",
            "_view_count": null,
            "_view_module": "@jupyter-widgets/base",
            "_view_module_version": "1.2.0",
            "_view_name": "LayoutView",
            "align_content": null,
            "align_items": null,
            "align_self": null,
            "border": null,
            "bottom": null,
            "display": null,
            "flex": null,
            "flex_flow": null,
            "grid_area": null,
            "grid_auto_columns": null,
            "grid_auto_flow": null,
            "grid_auto_rows": null,
            "grid_column": null,
            "grid_gap": null,
            "grid_row": null,
            "grid_template_areas": null,
            "grid_template_columns": null,
            "grid_template_rows": null,
            "height": null,
            "justify_content": null,
            "justify_items": null,
            "left": null,
            "margin": null,
            "max_height": null,
            "max_width": null,
            "min_height": null,
            "min_width": null,
            "object_fit": null,
            "object_position": null,
            "order": null,
            "overflow": null,
            "overflow_x": null,
            "overflow_y": null,
            "padding": null,
            "right": null,
            "top": null,
            "visibility": null,
            "width": null
          }
        },
        "c67d924b0fee4fceb5a112954c4fb0c9": {
          "model_module": "@jupyter-widgets/controls",
          "model_name": "DescriptionStyleModel",
          "model_module_version": "1.5.0",
          "state": {
            "_model_module": "@jupyter-widgets/controls",
            "_model_module_version": "1.5.0",
            "_model_name": "DescriptionStyleModel",
            "_view_count": null,
            "_view_module": "@jupyter-widgets/base",
            "_view_module_version": "1.2.0",
            "_view_name": "StyleView",
            "description_width": ""
          }
        },
        "6e2da996cfbf41ea8f1e4fbb2cfdffb8": {
          "model_module": "@jupyter-widgets/base",
          "model_name": "LayoutModel",
          "model_module_version": "1.2.0",
          "state": {
            "_model_module": "@jupyter-widgets/base",
            "_model_module_version": "1.2.0",
            "_model_name": "LayoutModel",
            "_view_count": null,
            "_view_module": "@jupyter-widgets/base",
            "_view_module_version": "1.2.0",
            "_view_name": "LayoutView",
            "align_content": null,
            "align_items": null,
            "align_self": null,
            "border": null,
            "bottom": null,
            "display": null,
            "flex": null,
            "flex_flow": null,
            "grid_area": null,
            "grid_auto_columns": null,
            "grid_auto_flow": null,
            "grid_auto_rows": null,
            "grid_column": null,
            "grid_gap": null,
            "grid_row": null,
            "grid_template_areas": null,
            "grid_template_columns": null,
            "grid_template_rows": null,
            "height": null,
            "justify_content": null,
            "justify_items": null,
            "left": null,
            "margin": null,
            "max_height": null,
            "max_width": null,
            "min_height": null,
            "min_width": null,
            "object_fit": null,
            "object_position": null,
            "order": null,
            "overflow": null,
            "overflow_x": null,
            "overflow_y": null,
            "padding": null,
            "right": null,
            "top": null,
            "visibility": null,
            "width": null
          }
        },
        "fd9de01cadb4430bae8061b25202b346": {
          "model_module": "@jupyter-widgets/controls",
          "model_name": "ProgressStyleModel",
          "model_module_version": "1.5.0",
          "state": {
            "_model_module": "@jupyter-widgets/controls",
            "_model_module_version": "1.5.0",
            "_model_name": "ProgressStyleModel",
            "_view_count": null,
            "_view_module": "@jupyter-widgets/base",
            "_view_module_version": "1.2.0",
            "_view_name": "StyleView",
            "bar_color": null,
            "description_width": ""
          }
        },
        "e349ea28b297440aa3c9ac31b421e329": {
          "model_module": "@jupyter-widgets/base",
          "model_name": "LayoutModel",
          "model_module_version": "1.2.0",
          "state": {
            "_model_module": "@jupyter-widgets/base",
            "_model_module_version": "1.2.0",
            "_model_name": "LayoutModel",
            "_view_count": null,
            "_view_module": "@jupyter-widgets/base",
            "_view_module_version": "1.2.0",
            "_view_name": "LayoutView",
            "align_content": null,
            "align_items": null,
            "align_self": null,
            "border": null,
            "bottom": null,
            "display": null,
            "flex": null,
            "flex_flow": null,
            "grid_area": null,
            "grid_auto_columns": null,
            "grid_auto_flow": null,
            "grid_auto_rows": null,
            "grid_column": null,
            "grid_gap": null,
            "grid_row": null,
            "grid_template_areas": null,
            "grid_template_columns": null,
            "grid_template_rows": null,
            "height": null,
            "justify_content": null,
            "justify_items": null,
            "left": null,
            "margin": null,
            "max_height": null,
            "max_width": null,
            "min_height": null,
            "min_width": null,
            "object_fit": null,
            "object_position": null,
            "order": null,
            "overflow": null,
            "overflow_x": null,
            "overflow_y": null,
            "padding": null,
            "right": null,
            "top": null,
            "visibility": null,
            "width": null
          }
        },
        "79e2529bc7364def9774856b58ee5567": {
          "model_module": "@jupyter-widgets/controls",
          "model_name": "DescriptionStyleModel",
          "model_module_version": "1.5.0",
          "state": {
            "_model_module": "@jupyter-widgets/controls",
            "_model_module_version": "1.5.0",
            "_model_name": "DescriptionStyleModel",
            "_view_count": null,
            "_view_module": "@jupyter-widgets/base",
            "_view_module_version": "1.2.0",
            "_view_name": "StyleView",
            "description_width": ""
          }
        },
        "0ba53216dc8a418397ab071ca78f1b28": {
          "model_module": "@jupyter-widgets/controls",
          "model_name": "HBoxModel",
          "model_module_version": "1.5.0",
          "state": {
            "_dom_classes": [],
            "_model_module": "@jupyter-widgets/controls",
            "_model_module_version": "1.5.0",
            "_model_name": "HBoxModel",
            "_view_count": null,
            "_view_module": "@jupyter-widgets/controls",
            "_view_module_version": "1.5.0",
            "_view_name": "HBoxView",
            "box_style": "",
            "children": [
              "IPY_MODEL_61c1414e2f874bdca2bfe2335524de8f",
              "IPY_MODEL_f27465bde92a4b1db86aab0f5b889ad2",
              "IPY_MODEL_422310e60d804095991cec077be4e1f6"
            ],
            "layout": "IPY_MODEL_6f2f3d545daf4cf4bd976c7561fd1ca9"
          }
        },
        "61c1414e2f874bdca2bfe2335524de8f": {
          "model_module": "@jupyter-widgets/controls",
          "model_name": "HTMLModel",
          "model_module_version": "1.5.0",
          "state": {
            "_dom_classes": [],
            "_model_module": "@jupyter-widgets/controls",
            "_model_module_version": "1.5.0",
            "_model_name": "HTMLModel",
            "_view_count": null,
            "_view_module": "@jupyter-widgets/controls",
            "_view_module_version": "1.5.0",
            "_view_name": "HTMLView",
            "description": "",
            "description_tooltip": null,
            "layout": "IPY_MODEL_615316daf73c42c9b75b1f729b930e4f",
            "placeholder": "​",
            "style": "IPY_MODEL_d2b5bef45aab4b12b669d4541234ccf3",
            "value": "Downloading (…)olve/main/merges.txt: 100%"
          }
        },
        "f27465bde92a4b1db86aab0f5b889ad2": {
          "model_module": "@jupyter-widgets/controls",
          "model_name": "FloatProgressModel",
          "model_module_version": "1.5.0",
          "state": {
            "_dom_classes": [],
            "_model_module": "@jupyter-widgets/controls",
            "_model_module_version": "1.5.0",
            "_model_name": "FloatProgressModel",
            "_view_count": null,
            "_view_module": "@jupyter-widgets/controls",
            "_view_module_version": "1.5.0",
            "_view_name": "ProgressView",
            "bar_style": "success",
            "description": "",
            "description_tooltip": null,
            "layout": "IPY_MODEL_7f8fd45f3b8c45b9be3028e4d661c4a9",
            "max": 456318,
            "min": 0,
            "orientation": "horizontal",
            "style": "IPY_MODEL_71e87c90b4fd41f39af8006430de9fa9",
            "value": 456318
          }
        },
        "422310e60d804095991cec077be4e1f6": {
          "model_module": "@jupyter-widgets/controls",
          "model_name": "HTMLModel",
          "model_module_version": "1.5.0",
          "state": {
            "_dom_classes": [],
            "_model_module": "@jupyter-widgets/controls",
            "_model_module_version": "1.5.0",
            "_model_name": "HTMLModel",
            "_view_count": null,
            "_view_module": "@jupyter-widgets/controls",
            "_view_module_version": "1.5.0",
            "_view_name": "HTMLView",
            "description": "",
            "description_tooltip": null,
            "layout": "IPY_MODEL_768506db7149450ca3ee369ff288986b",
            "placeholder": "​",
            "style": "IPY_MODEL_648143871b9e43b2bf0e2e7ab5a50719",
            "value": " 456k/456k [00:00&lt;00:00, 9.79MB/s]"
          }
        },
        "6f2f3d545daf4cf4bd976c7561fd1ca9": {
          "model_module": "@jupyter-widgets/base",
          "model_name": "LayoutModel",
          "model_module_version": "1.2.0",
          "state": {
            "_model_module": "@jupyter-widgets/base",
            "_model_module_version": "1.2.0",
            "_model_name": "LayoutModel",
            "_view_count": null,
            "_view_module": "@jupyter-widgets/base",
            "_view_module_version": "1.2.0",
            "_view_name": "LayoutView",
            "align_content": null,
            "align_items": null,
            "align_self": null,
            "border": null,
            "bottom": null,
            "display": null,
            "flex": null,
            "flex_flow": null,
            "grid_area": null,
            "grid_auto_columns": null,
            "grid_auto_flow": null,
            "grid_auto_rows": null,
            "grid_column": null,
            "grid_gap": null,
            "grid_row": null,
            "grid_template_areas": null,
            "grid_template_columns": null,
            "grid_template_rows": null,
            "height": null,
            "justify_content": null,
            "justify_items": null,
            "left": null,
            "margin": null,
            "max_height": null,
            "max_width": null,
            "min_height": null,
            "min_width": null,
            "object_fit": null,
            "object_position": null,
            "order": null,
            "overflow": null,
            "overflow_x": null,
            "overflow_y": null,
            "padding": null,
            "right": null,
            "top": null,
            "visibility": null,
            "width": null
          }
        },
        "615316daf73c42c9b75b1f729b930e4f": {
          "model_module": "@jupyter-widgets/base",
          "model_name": "LayoutModel",
          "model_module_version": "1.2.0",
          "state": {
            "_model_module": "@jupyter-widgets/base",
            "_model_module_version": "1.2.0",
            "_model_name": "LayoutModel",
            "_view_count": null,
            "_view_module": "@jupyter-widgets/base",
            "_view_module_version": "1.2.0",
            "_view_name": "LayoutView",
            "align_content": null,
            "align_items": null,
            "align_self": null,
            "border": null,
            "bottom": null,
            "display": null,
            "flex": null,
            "flex_flow": null,
            "grid_area": null,
            "grid_auto_columns": null,
            "grid_auto_flow": null,
            "grid_auto_rows": null,
            "grid_column": null,
            "grid_gap": null,
            "grid_row": null,
            "grid_template_areas": null,
            "grid_template_columns": null,
            "grid_template_rows": null,
            "height": null,
            "justify_content": null,
            "justify_items": null,
            "left": null,
            "margin": null,
            "max_height": null,
            "max_width": null,
            "min_height": null,
            "min_width": null,
            "object_fit": null,
            "object_position": null,
            "order": null,
            "overflow": null,
            "overflow_x": null,
            "overflow_y": null,
            "padding": null,
            "right": null,
            "top": null,
            "visibility": null,
            "width": null
          }
        },
        "d2b5bef45aab4b12b669d4541234ccf3": {
          "model_module": "@jupyter-widgets/controls",
          "model_name": "DescriptionStyleModel",
          "model_module_version": "1.5.0",
          "state": {
            "_model_module": "@jupyter-widgets/controls",
            "_model_module_version": "1.5.0",
            "_model_name": "DescriptionStyleModel",
            "_view_count": null,
            "_view_module": "@jupyter-widgets/base",
            "_view_module_version": "1.2.0",
            "_view_name": "StyleView",
            "description_width": ""
          }
        },
        "7f8fd45f3b8c45b9be3028e4d661c4a9": {
          "model_module": "@jupyter-widgets/base",
          "model_name": "LayoutModel",
          "model_module_version": "1.2.0",
          "state": {
            "_model_module": "@jupyter-widgets/base",
            "_model_module_version": "1.2.0",
            "_model_name": "LayoutModel",
            "_view_count": null,
            "_view_module": "@jupyter-widgets/base",
            "_view_module_version": "1.2.0",
            "_view_name": "LayoutView",
            "align_content": null,
            "align_items": null,
            "align_self": null,
            "border": null,
            "bottom": null,
            "display": null,
            "flex": null,
            "flex_flow": null,
            "grid_area": null,
            "grid_auto_columns": null,
            "grid_auto_flow": null,
            "grid_auto_rows": null,
            "grid_column": null,
            "grid_gap": null,
            "grid_row": null,
            "grid_template_areas": null,
            "grid_template_columns": null,
            "grid_template_rows": null,
            "height": null,
            "justify_content": null,
            "justify_items": null,
            "left": null,
            "margin": null,
            "max_height": null,
            "max_width": null,
            "min_height": null,
            "min_width": null,
            "object_fit": null,
            "object_position": null,
            "order": null,
            "overflow": null,
            "overflow_x": null,
            "overflow_y": null,
            "padding": null,
            "right": null,
            "top": null,
            "visibility": null,
            "width": null
          }
        },
        "71e87c90b4fd41f39af8006430de9fa9": {
          "model_module": "@jupyter-widgets/controls",
          "model_name": "ProgressStyleModel",
          "model_module_version": "1.5.0",
          "state": {
            "_model_module": "@jupyter-widgets/controls",
            "_model_module_version": "1.5.0",
            "_model_name": "ProgressStyleModel",
            "_view_count": null,
            "_view_module": "@jupyter-widgets/base",
            "_view_module_version": "1.2.0",
            "_view_name": "StyleView",
            "bar_color": null,
            "description_width": ""
          }
        },
        "768506db7149450ca3ee369ff288986b": {
          "model_module": "@jupyter-widgets/base",
          "model_name": "LayoutModel",
          "model_module_version": "1.2.0",
          "state": {
            "_model_module": "@jupyter-widgets/base",
            "_model_module_version": "1.2.0",
            "_model_name": "LayoutModel",
            "_view_count": null,
            "_view_module": "@jupyter-widgets/base",
            "_view_module_version": "1.2.0",
            "_view_name": "LayoutView",
            "align_content": null,
            "align_items": null,
            "align_self": null,
            "border": null,
            "bottom": null,
            "display": null,
            "flex": null,
            "flex_flow": null,
            "grid_area": null,
            "grid_auto_columns": null,
            "grid_auto_flow": null,
            "grid_auto_rows": null,
            "grid_column": null,
            "grid_gap": null,
            "grid_row": null,
            "grid_template_areas": null,
            "grid_template_columns": null,
            "grid_template_rows": null,
            "height": null,
            "justify_content": null,
            "justify_items": null,
            "left": null,
            "margin": null,
            "max_height": null,
            "max_width": null,
            "min_height": null,
            "min_width": null,
            "object_fit": null,
            "object_position": null,
            "order": null,
            "overflow": null,
            "overflow_x": null,
            "overflow_y": null,
            "padding": null,
            "right": null,
            "top": null,
            "visibility": null,
            "width": null
          }
        },
        "648143871b9e43b2bf0e2e7ab5a50719": {
          "model_module": "@jupyter-widgets/controls",
          "model_name": "DescriptionStyleModel",
          "model_module_version": "1.5.0",
          "state": {
            "_model_module": "@jupyter-widgets/controls",
            "_model_module_version": "1.5.0",
            "_model_name": "DescriptionStyleModel",
            "_view_count": null,
            "_view_module": "@jupyter-widgets/base",
            "_view_module_version": "1.2.0",
            "_view_name": "StyleView",
            "description_width": ""
          }
        },
        "a42ce79d74724281a0f91f86248a7bfb": {
          "model_module": "@jupyter-widgets/controls",
          "model_name": "HBoxModel",
          "model_module_version": "1.5.0",
          "state": {
            "_dom_classes": [],
            "_model_module": "@jupyter-widgets/controls",
            "_model_module_version": "1.5.0",
            "_model_name": "HBoxModel",
            "_view_count": null,
            "_view_module": "@jupyter-widgets/controls",
            "_view_module_version": "1.5.0",
            "_view_name": "HBoxView",
            "box_style": "",
            "children": [
              "IPY_MODEL_5a726b6c784246fdb8c2fb7617737171",
              "IPY_MODEL_094927f3a70f4abfb2b19d48f8fac646",
              "IPY_MODEL_d9bfbb9878c14ddead484b1d0e7f9fb7"
            ],
            "layout": "IPY_MODEL_8423eb73a61047308c2d79c057f1dac5"
          }
        },
        "5a726b6c784246fdb8c2fb7617737171": {
          "model_module": "@jupyter-widgets/controls",
          "model_name": "HTMLModel",
          "model_module_version": "1.5.0",
          "state": {
            "_dom_classes": [],
            "_model_module": "@jupyter-widgets/controls",
            "_model_module_version": "1.5.0",
            "_model_name": "HTMLModel",
            "_view_count": null,
            "_view_module": "@jupyter-widgets/controls",
            "_view_module_version": "1.5.0",
            "_view_name": "HTMLView",
            "description": "",
            "description_tooltip": null,
            "layout": "IPY_MODEL_f556e34b6d5e4828ad70d8d49b7bdc93",
            "placeholder": "​",
            "style": "IPY_MODEL_03aa641f126a4d74839593e2e813c55e",
            "value": "Downloading (…)/main/tokenizer.json: 100%"
          }
        },
        "094927f3a70f4abfb2b19d48f8fac646": {
          "model_module": "@jupyter-widgets/controls",
          "model_name": "FloatProgressModel",
          "model_module_version": "1.5.0",
          "state": {
            "_dom_classes": [],
            "_model_module": "@jupyter-widgets/controls",
            "_model_module_version": "1.5.0",
            "_model_name": "FloatProgressModel",
            "_view_count": null,
            "_view_module": "@jupyter-widgets/controls",
            "_view_module_version": "1.5.0",
            "_view_name": "ProgressView",
            "bar_style": "success",
            "description": "",
            "description_tooltip": null,
            "layout": "IPY_MODEL_82939c2844254bd4aff2ea07ab308ffe",
            "max": 1355863,
            "min": 0,
            "orientation": "horizontal",
            "style": "IPY_MODEL_ea788820a8a9470faa5403d14fdd410c",
            "value": 1355863
          }
        },
        "d9bfbb9878c14ddead484b1d0e7f9fb7": {
          "model_module": "@jupyter-widgets/controls",
          "model_name": "HTMLModel",
          "model_module_version": "1.5.0",
          "state": {
            "_dom_classes": [],
            "_model_module": "@jupyter-widgets/controls",
            "_model_module_version": "1.5.0",
            "_model_name": "HTMLModel",
            "_view_count": null,
            "_view_module": "@jupyter-widgets/controls",
            "_view_module_version": "1.5.0",
            "_view_name": "HTMLView",
            "description": "",
            "description_tooltip": null,
            "layout": "IPY_MODEL_0560eb5dd3d64416b7987f72101d0af5",
            "placeholder": "​",
            "style": "IPY_MODEL_9b866e823ee5477dab8ac58d97c02b61",
            "value": " 1.36M/1.36M [00:00&lt;00:00, 28.4MB/s]"
          }
        },
        "8423eb73a61047308c2d79c057f1dac5": {
          "model_module": "@jupyter-widgets/base",
          "model_name": "LayoutModel",
          "model_module_version": "1.2.0",
          "state": {
            "_model_module": "@jupyter-widgets/base",
            "_model_module_version": "1.2.0",
            "_model_name": "LayoutModel",
            "_view_count": null,
            "_view_module": "@jupyter-widgets/base",
            "_view_module_version": "1.2.0",
            "_view_name": "LayoutView",
            "align_content": null,
            "align_items": null,
            "align_self": null,
            "border": null,
            "bottom": null,
            "display": null,
            "flex": null,
            "flex_flow": null,
            "grid_area": null,
            "grid_auto_columns": null,
            "grid_auto_flow": null,
            "grid_auto_rows": null,
            "grid_column": null,
            "grid_gap": null,
            "grid_row": null,
            "grid_template_areas": null,
            "grid_template_columns": null,
            "grid_template_rows": null,
            "height": null,
            "justify_content": null,
            "justify_items": null,
            "left": null,
            "margin": null,
            "max_height": null,
            "max_width": null,
            "min_height": null,
            "min_width": null,
            "object_fit": null,
            "object_position": null,
            "order": null,
            "overflow": null,
            "overflow_x": null,
            "overflow_y": null,
            "padding": null,
            "right": null,
            "top": null,
            "visibility": null,
            "width": null
          }
        },
        "f556e34b6d5e4828ad70d8d49b7bdc93": {
          "model_module": "@jupyter-widgets/base",
          "model_name": "LayoutModel",
          "model_module_version": "1.2.0",
          "state": {
            "_model_module": "@jupyter-widgets/base",
            "_model_module_version": "1.2.0",
            "_model_name": "LayoutModel",
            "_view_count": null,
            "_view_module": "@jupyter-widgets/base",
            "_view_module_version": "1.2.0",
            "_view_name": "LayoutView",
            "align_content": null,
            "align_items": null,
            "align_self": null,
            "border": null,
            "bottom": null,
            "display": null,
            "flex": null,
            "flex_flow": null,
            "grid_area": null,
            "grid_auto_columns": null,
            "grid_auto_flow": null,
            "grid_auto_rows": null,
            "grid_column": null,
            "grid_gap": null,
            "grid_row": null,
            "grid_template_areas": null,
            "grid_template_columns": null,
            "grid_template_rows": null,
            "height": null,
            "justify_content": null,
            "justify_items": null,
            "left": null,
            "margin": null,
            "max_height": null,
            "max_width": null,
            "min_height": null,
            "min_width": null,
            "object_fit": null,
            "object_position": null,
            "order": null,
            "overflow": null,
            "overflow_x": null,
            "overflow_y": null,
            "padding": null,
            "right": null,
            "top": null,
            "visibility": null,
            "width": null
          }
        },
        "03aa641f126a4d74839593e2e813c55e": {
          "model_module": "@jupyter-widgets/controls",
          "model_name": "DescriptionStyleModel",
          "model_module_version": "1.5.0",
          "state": {
            "_model_module": "@jupyter-widgets/controls",
            "_model_module_version": "1.5.0",
            "_model_name": "DescriptionStyleModel",
            "_view_count": null,
            "_view_module": "@jupyter-widgets/base",
            "_view_module_version": "1.2.0",
            "_view_name": "StyleView",
            "description_width": ""
          }
        },
        "82939c2844254bd4aff2ea07ab308ffe": {
          "model_module": "@jupyter-widgets/base",
          "model_name": "LayoutModel",
          "model_module_version": "1.2.0",
          "state": {
            "_model_module": "@jupyter-widgets/base",
            "_model_module_version": "1.2.0",
            "_model_name": "LayoutModel",
            "_view_count": null,
            "_view_module": "@jupyter-widgets/base",
            "_view_module_version": "1.2.0",
            "_view_name": "LayoutView",
            "align_content": null,
            "align_items": null,
            "align_self": null,
            "border": null,
            "bottom": null,
            "display": null,
            "flex": null,
            "flex_flow": null,
            "grid_area": null,
            "grid_auto_columns": null,
            "grid_auto_flow": null,
            "grid_auto_rows": null,
            "grid_column": null,
            "grid_gap": null,
            "grid_row": null,
            "grid_template_areas": null,
            "grid_template_columns": null,
            "grid_template_rows": null,
            "height": null,
            "justify_content": null,
            "justify_items": null,
            "left": null,
            "margin": null,
            "max_height": null,
            "max_width": null,
            "min_height": null,
            "min_width": null,
            "object_fit": null,
            "object_position": null,
            "order": null,
            "overflow": null,
            "overflow_x": null,
            "overflow_y": null,
            "padding": null,
            "right": null,
            "top": null,
            "visibility": null,
            "width": null
          }
        },
        "ea788820a8a9470faa5403d14fdd410c": {
          "model_module": "@jupyter-widgets/controls",
          "model_name": "ProgressStyleModel",
          "model_module_version": "1.5.0",
          "state": {
            "_model_module": "@jupyter-widgets/controls",
            "_model_module_version": "1.5.0",
            "_model_name": "ProgressStyleModel",
            "_view_count": null,
            "_view_module": "@jupyter-widgets/base",
            "_view_module_version": "1.2.0",
            "_view_name": "StyleView",
            "bar_color": null,
            "description_width": ""
          }
        },
        "0560eb5dd3d64416b7987f72101d0af5": {
          "model_module": "@jupyter-widgets/base",
          "model_name": "LayoutModel",
          "model_module_version": "1.2.0",
          "state": {
            "_model_module": "@jupyter-widgets/base",
            "_model_module_version": "1.2.0",
            "_model_name": "LayoutModel",
            "_view_count": null,
            "_view_module": "@jupyter-widgets/base",
            "_view_module_version": "1.2.0",
            "_view_name": "LayoutView",
            "align_content": null,
            "align_items": null,
            "align_self": null,
            "border": null,
            "bottom": null,
            "display": null,
            "flex": null,
            "flex_flow": null,
            "grid_area": null,
            "grid_auto_columns": null,
            "grid_auto_flow": null,
            "grid_auto_rows": null,
            "grid_column": null,
            "grid_gap": null,
            "grid_row": null,
            "grid_template_areas": null,
            "grid_template_columns": null,
            "grid_template_rows": null,
            "height": null,
            "justify_content": null,
            "justify_items": null,
            "left": null,
            "margin": null,
            "max_height": null,
            "max_width": null,
            "min_height": null,
            "min_width": null,
            "object_fit": null,
            "object_position": null,
            "order": null,
            "overflow": null,
            "overflow_x": null,
            "overflow_y": null,
            "padding": null,
            "right": null,
            "top": null,
            "visibility": null,
            "width": null
          }
        },
        "9b866e823ee5477dab8ac58d97c02b61": {
          "model_module": "@jupyter-widgets/controls",
          "model_name": "DescriptionStyleModel",
          "model_module_version": "1.5.0",
          "state": {
            "_model_module": "@jupyter-widgets/controls",
            "_model_module_version": "1.5.0",
            "_model_name": "DescriptionStyleModel",
            "_view_count": null,
            "_view_module": "@jupyter-widgets/base",
            "_view_module_version": "1.2.0",
            "_view_name": "StyleView",
            "description_width": ""
          }
        },
        "152b24e3e4fe4b9480db778e86649c25": {
          "model_module": "@jupyter-widgets/controls",
          "model_name": "HBoxModel",
          "model_module_version": "1.5.0",
          "state": {
            "_dom_classes": [],
            "_model_module": "@jupyter-widgets/controls",
            "_model_module_version": "1.5.0",
            "_model_name": "HBoxModel",
            "_view_count": null,
            "_view_module": "@jupyter-widgets/controls",
            "_view_module_version": "1.5.0",
            "_view_name": "HBoxView",
            "box_style": "",
            "children": [
              "IPY_MODEL_428bd1fb397a4e6b81b509c4d47999fc",
              "IPY_MODEL_99457d47bc4147a49f312cb788b60c86",
              "IPY_MODEL_8543be304f7047b0a0e50aaf6a0ee203"
            ],
            "layout": "IPY_MODEL_9f7107b491f449958735fd011626d276"
          }
        },
        "428bd1fb397a4e6b81b509c4d47999fc": {
          "model_module": "@jupyter-widgets/controls",
          "model_name": "HTMLModel",
          "model_module_version": "1.5.0",
          "state": {
            "_dom_classes": [],
            "_model_module": "@jupyter-widgets/controls",
            "_model_module_version": "1.5.0",
            "_model_name": "HTMLModel",
            "_view_count": null,
            "_view_module": "@jupyter-widgets/controls",
            "_view_module_version": "1.5.0",
            "_view_name": "HTMLView",
            "description": "",
            "description_tooltip": null,
            "layout": "IPY_MODEL_77ce60e078534ca2a2262a6124d58236",
            "placeholder": "​",
            "style": "IPY_MODEL_3008ccebf53047d0b5699fdb6d13670a",
            "value": "Downloading pytorch_model.bin: 100%"
          }
        },
        "99457d47bc4147a49f312cb788b60c86": {
          "model_module": "@jupyter-widgets/controls",
          "model_name": "FloatProgressModel",
          "model_module_version": "1.5.0",
          "state": {
            "_dom_classes": [],
            "_model_module": "@jupyter-widgets/controls",
            "_model_module_version": "1.5.0",
            "_model_name": "FloatProgressModel",
            "_view_count": null,
            "_view_module": "@jupyter-widgets/controls",
            "_view_module_version": "1.5.0",
            "_view_name": "ProgressView",
            "bar_style": "success",
            "description": "",
            "description_tooltip": null,
            "layout": "IPY_MODEL_6c8e7d512dbf45fc8a1d4b3d198c3744",
            "max": 557771387,
            "min": 0,
            "orientation": "horizontal",
            "style": "IPY_MODEL_3965416423304948919a9df35c372f16",
            "value": 557771387
          }
        },
        "8543be304f7047b0a0e50aaf6a0ee203": {
          "model_module": "@jupyter-widgets/controls",
          "model_name": "HTMLModel",
          "model_module_version": "1.5.0",
          "state": {
            "_dom_classes": [],
            "_model_module": "@jupyter-widgets/controls",
            "_model_module_version": "1.5.0",
            "_model_name": "HTMLModel",
            "_view_count": null,
            "_view_module": "@jupyter-widgets/controls",
            "_view_module_version": "1.5.0",
            "_view_name": "HTMLView",
            "description": "",
            "description_tooltip": null,
            "layout": "IPY_MODEL_111449cd55d54996806e647211969623",
            "placeholder": "​",
            "style": "IPY_MODEL_76888545de4c46ee87a920e72fc01872",
            "value": " 558M/558M [00:05&lt;00:00, 83.0MB/s]"
          }
        },
        "9f7107b491f449958735fd011626d276": {
          "model_module": "@jupyter-widgets/base",
          "model_name": "LayoutModel",
          "model_module_version": "1.2.0",
          "state": {
            "_model_module": "@jupyter-widgets/base",
            "_model_module_version": "1.2.0",
            "_model_name": "LayoutModel",
            "_view_count": null,
            "_view_module": "@jupyter-widgets/base",
            "_view_module_version": "1.2.0",
            "_view_name": "LayoutView",
            "align_content": null,
            "align_items": null,
            "align_self": null,
            "border": null,
            "bottom": null,
            "display": null,
            "flex": null,
            "flex_flow": null,
            "grid_area": null,
            "grid_auto_columns": null,
            "grid_auto_flow": null,
            "grid_auto_rows": null,
            "grid_column": null,
            "grid_gap": null,
            "grid_row": null,
            "grid_template_areas": null,
            "grid_template_columns": null,
            "grid_template_rows": null,
            "height": null,
            "justify_content": null,
            "justify_items": null,
            "left": null,
            "margin": null,
            "max_height": null,
            "max_width": null,
            "min_height": null,
            "min_width": null,
            "object_fit": null,
            "object_position": null,
            "order": null,
            "overflow": null,
            "overflow_x": null,
            "overflow_y": null,
            "padding": null,
            "right": null,
            "top": null,
            "visibility": null,
            "width": null
          }
        },
        "77ce60e078534ca2a2262a6124d58236": {
          "model_module": "@jupyter-widgets/base",
          "model_name": "LayoutModel",
          "model_module_version": "1.2.0",
          "state": {
            "_model_module": "@jupyter-widgets/base",
            "_model_module_version": "1.2.0",
            "_model_name": "LayoutModel",
            "_view_count": null,
            "_view_module": "@jupyter-widgets/base",
            "_view_module_version": "1.2.0",
            "_view_name": "LayoutView",
            "align_content": null,
            "align_items": null,
            "align_self": null,
            "border": null,
            "bottom": null,
            "display": null,
            "flex": null,
            "flex_flow": null,
            "grid_area": null,
            "grid_auto_columns": null,
            "grid_auto_flow": null,
            "grid_auto_rows": null,
            "grid_column": null,
            "grid_gap": null,
            "grid_row": null,
            "grid_template_areas": null,
            "grid_template_columns": null,
            "grid_template_rows": null,
            "height": null,
            "justify_content": null,
            "justify_items": null,
            "left": null,
            "margin": null,
            "max_height": null,
            "max_width": null,
            "min_height": null,
            "min_width": null,
            "object_fit": null,
            "object_position": null,
            "order": null,
            "overflow": null,
            "overflow_x": null,
            "overflow_y": null,
            "padding": null,
            "right": null,
            "top": null,
            "visibility": null,
            "width": null
          }
        },
        "3008ccebf53047d0b5699fdb6d13670a": {
          "model_module": "@jupyter-widgets/controls",
          "model_name": "DescriptionStyleModel",
          "model_module_version": "1.5.0",
          "state": {
            "_model_module": "@jupyter-widgets/controls",
            "_model_module_version": "1.5.0",
            "_model_name": "DescriptionStyleModel",
            "_view_count": null,
            "_view_module": "@jupyter-widgets/base",
            "_view_module_version": "1.2.0",
            "_view_name": "StyleView",
            "description_width": ""
          }
        },
        "6c8e7d512dbf45fc8a1d4b3d198c3744": {
          "model_module": "@jupyter-widgets/base",
          "model_name": "LayoutModel",
          "model_module_version": "1.2.0",
          "state": {
            "_model_module": "@jupyter-widgets/base",
            "_model_module_version": "1.2.0",
            "_model_name": "LayoutModel",
            "_view_count": null,
            "_view_module": "@jupyter-widgets/base",
            "_view_module_version": "1.2.0",
            "_view_name": "LayoutView",
            "align_content": null,
            "align_items": null,
            "align_self": null,
            "border": null,
            "bottom": null,
            "display": null,
            "flex": null,
            "flex_flow": null,
            "grid_area": null,
            "grid_auto_columns": null,
            "grid_auto_flow": null,
            "grid_auto_rows": null,
            "grid_column": null,
            "grid_gap": null,
            "grid_row": null,
            "grid_template_areas": null,
            "grid_template_columns": null,
            "grid_template_rows": null,
            "height": null,
            "justify_content": null,
            "justify_items": null,
            "left": null,
            "margin": null,
            "max_height": null,
            "max_width": null,
            "min_height": null,
            "min_width": null,
            "object_fit": null,
            "object_position": null,
            "order": null,
            "overflow": null,
            "overflow_x": null,
            "overflow_y": null,
            "padding": null,
            "right": null,
            "top": null,
            "visibility": null,
            "width": null
          }
        },
        "3965416423304948919a9df35c372f16": {
          "model_module": "@jupyter-widgets/controls",
          "model_name": "ProgressStyleModel",
          "model_module_version": "1.5.0",
          "state": {
            "_model_module": "@jupyter-widgets/controls",
            "_model_module_version": "1.5.0",
            "_model_name": "ProgressStyleModel",
            "_view_count": null,
            "_view_module": "@jupyter-widgets/base",
            "_view_module_version": "1.2.0",
            "_view_name": "StyleView",
            "bar_color": null,
            "description_width": ""
          }
        },
        "111449cd55d54996806e647211969623": {
          "model_module": "@jupyter-widgets/base",
          "model_name": "LayoutModel",
          "model_module_version": "1.2.0",
          "state": {
            "_model_module": "@jupyter-widgets/base",
            "_model_module_version": "1.2.0",
            "_model_name": "LayoutModel",
            "_view_count": null,
            "_view_module": "@jupyter-widgets/base",
            "_view_module_version": "1.2.0",
            "_view_name": "LayoutView",
            "align_content": null,
            "align_items": null,
            "align_self": null,
            "border": null,
            "bottom": null,
            "display": null,
            "flex": null,
            "flex_flow": null,
            "grid_area": null,
            "grid_auto_columns": null,
            "grid_auto_flow": null,
            "grid_auto_rows": null,
            "grid_column": null,
            "grid_gap": null,
            "grid_row": null,
            "grid_template_areas": null,
            "grid_template_columns": null,
            "grid_template_rows": null,
            "height": null,
            "justify_content": null,
            "justify_items": null,
            "left": null,
            "margin": null,
            "max_height": null,
            "max_width": null,
            "min_height": null,
            "min_width": null,
            "object_fit": null,
            "object_position": null,
            "order": null,
            "overflow": null,
            "overflow_x": null,
            "overflow_y": null,
            "padding": null,
            "right": null,
            "top": null,
            "visibility": null,
            "width": null
          }
        },
        "76888545de4c46ee87a920e72fc01872": {
          "model_module": "@jupyter-widgets/controls",
          "model_name": "DescriptionStyleModel",
          "model_module_version": "1.5.0",
          "state": {
            "_model_module": "@jupyter-widgets/controls",
            "_model_module_version": "1.5.0",
            "_model_name": "DescriptionStyleModel",
            "_view_count": null,
            "_view_module": "@jupyter-widgets/base",
            "_view_module_version": "1.2.0",
            "_view_name": "StyleView",
            "description_width": ""
          }
        },
        "17102dceff5d4d96ba2c33e2a3e62e93": {
          "model_module": "@jupyter-widgets/controls",
          "model_name": "HBoxModel",
          "model_module_version": "1.5.0",
          "state": {
            "_dom_classes": [],
            "_model_module": "@jupyter-widgets/controls",
            "_model_module_version": "1.5.0",
            "_model_name": "HBoxModel",
            "_view_count": null,
            "_view_module": "@jupyter-widgets/controls",
            "_view_module_version": "1.5.0",
            "_view_name": "HBoxView",
            "box_style": "",
            "children": [
              "IPY_MODEL_643d837fb6534c73b9bde760dd054a1c",
              "IPY_MODEL_43573a49bf7f4c94b77d3c07756eef04",
              "IPY_MODEL_2fe1b614ded64982b07d2b903351e928"
            ],
            "layout": "IPY_MODEL_c1cdaaa9feb44161856fe30f5faaf222"
          }
        },
        "643d837fb6534c73b9bde760dd054a1c": {
          "model_module": "@jupyter-widgets/controls",
          "model_name": "HTMLModel",
          "model_module_version": "1.5.0",
          "state": {
            "_dom_classes": [],
            "_model_module": "@jupyter-widgets/controls",
            "_model_module_version": "1.5.0",
            "_model_name": "HTMLModel",
            "_view_count": null,
            "_view_module": "@jupyter-widgets/controls",
            "_view_module_version": "1.5.0",
            "_view_name": "HTMLView",
            "description": "",
            "description_tooltip": null,
            "layout": "IPY_MODEL_d1f5271d67d04bc69c72e1edd130400d",
            "placeholder": "​",
            "style": "IPY_MODEL_a35fe05dadcb4f219ce47cfe6424cf4d",
            "value": "Downloading builder script: 100%"
          }
        },
        "43573a49bf7f4c94b77d3c07756eef04": {
          "model_module": "@jupyter-widgets/controls",
          "model_name": "FloatProgressModel",
          "model_module_version": "1.5.0",
          "state": {
            "_dom_classes": [],
            "_model_module": "@jupyter-widgets/controls",
            "_model_module_version": "1.5.0",
            "_model_name": "FloatProgressModel",
            "_view_count": null,
            "_view_module": "@jupyter-widgets/controls",
            "_view_module_version": "1.5.0",
            "_view_name": "ProgressView",
            "bar_style": "success",
            "description": "",
            "description_tooltip": null,
            "layout": "IPY_MODEL_fb6e35adcf414962b6e62f78dce12b7e",
            "max": 6270,
            "min": 0,
            "orientation": "horizontal",
            "style": "IPY_MODEL_7f49a89419b64a948206b47809664ba8",
            "value": 6270
          }
        },
        "2fe1b614ded64982b07d2b903351e928": {
          "model_module": "@jupyter-widgets/controls",
          "model_name": "HTMLModel",
          "model_module_version": "1.5.0",
          "state": {
            "_dom_classes": [],
            "_model_module": "@jupyter-widgets/controls",
            "_model_module_version": "1.5.0",
            "_model_name": "HTMLModel",
            "_view_count": null,
            "_view_module": "@jupyter-widgets/controls",
            "_view_module_version": "1.5.0",
            "_view_name": "HTMLView",
            "description": "",
            "description_tooltip": null,
            "layout": "IPY_MODEL_b9a7805e62cd499bbd73f58022ac80ed",
            "placeholder": "​",
            "style": "IPY_MODEL_33f247cd511b446289ad5170d9f149a9",
            "value": " 6.27k/6.27k [00:00&lt;00:00, 171kB/s]"
          }
        },
        "c1cdaaa9feb44161856fe30f5faaf222": {
          "model_module": "@jupyter-widgets/base",
          "model_name": "LayoutModel",
          "model_module_version": "1.2.0",
          "state": {
            "_model_module": "@jupyter-widgets/base",
            "_model_module_version": "1.2.0",
            "_model_name": "LayoutModel",
            "_view_count": null,
            "_view_module": "@jupyter-widgets/base",
            "_view_module_version": "1.2.0",
            "_view_name": "LayoutView",
            "align_content": null,
            "align_items": null,
            "align_self": null,
            "border": null,
            "bottom": null,
            "display": null,
            "flex": null,
            "flex_flow": null,
            "grid_area": null,
            "grid_auto_columns": null,
            "grid_auto_flow": null,
            "grid_auto_rows": null,
            "grid_column": null,
            "grid_gap": null,
            "grid_row": null,
            "grid_template_areas": null,
            "grid_template_columns": null,
            "grid_template_rows": null,
            "height": null,
            "justify_content": null,
            "justify_items": null,
            "left": null,
            "margin": null,
            "max_height": null,
            "max_width": null,
            "min_height": null,
            "min_width": null,
            "object_fit": null,
            "object_position": null,
            "order": null,
            "overflow": null,
            "overflow_x": null,
            "overflow_y": null,
            "padding": null,
            "right": null,
            "top": null,
            "visibility": null,
            "width": null
          }
        },
        "d1f5271d67d04bc69c72e1edd130400d": {
          "model_module": "@jupyter-widgets/base",
          "model_name": "LayoutModel",
          "model_module_version": "1.2.0",
          "state": {
            "_model_module": "@jupyter-widgets/base",
            "_model_module_version": "1.2.0",
            "_model_name": "LayoutModel",
            "_view_count": null,
            "_view_module": "@jupyter-widgets/base",
            "_view_module_version": "1.2.0",
            "_view_name": "LayoutView",
            "align_content": null,
            "align_items": null,
            "align_self": null,
            "border": null,
            "bottom": null,
            "display": null,
            "flex": null,
            "flex_flow": null,
            "grid_area": null,
            "grid_auto_columns": null,
            "grid_auto_flow": null,
            "grid_auto_rows": null,
            "grid_column": null,
            "grid_gap": null,
            "grid_row": null,
            "grid_template_areas": null,
            "grid_template_columns": null,
            "grid_template_rows": null,
            "height": null,
            "justify_content": null,
            "justify_items": null,
            "left": null,
            "margin": null,
            "max_height": null,
            "max_width": null,
            "min_height": null,
            "min_width": null,
            "object_fit": null,
            "object_position": null,
            "order": null,
            "overflow": null,
            "overflow_x": null,
            "overflow_y": null,
            "padding": null,
            "right": null,
            "top": null,
            "visibility": null,
            "width": null
          }
        },
        "a35fe05dadcb4f219ce47cfe6424cf4d": {
          "model_module": "@jupyter-widgets/controls",
          "model_name": "DescriptionStyleModel",
          "model_module_version": "1.5.0",
          "state": {
            "_model_module": "@jupyter-widgets/controls",
            "_model_module_version": "1.5.0",
            "_model_name": "DescriptionStyleModel",
            "_view_count": null,
            "_view_module": "@jupyter-widgets/base",
            "_view_module_version": "1.2.0",
            "_view_name": "StyleView",
            "description_width": ""
          }
        },
        "fb6e35adcf414962b6e62f78dce12b7e": {
          "model_module": "@jupyter-widgets/base",
          "model_name": "LayoutModel",
          "model_module_version": "1.2.0",
          "state": {
            "_model_module": "@jupyter-widgets/base",
            "_model_module_version": "1.2.0",
            "_model_name": "LayoutModel",
            "_view_count": null,
            "_view_module": "@jupyter-widgets/base",
            "_view_module_version": "1.2.0",
            "_view_name": "LayoutView",
            "align_content": null,
            "align_items": null,
            "align_self": null,
            "border": null,
            "bottom": null,
            "display": null,
            "flex": null,
            "flex_flow": null,
            "grid_area": null,
            "grid_auto_columns": null,
            "grid_auto_flow": null,
            "grid_auto_rows": null,
            "grid_column": null,
            "grid_gap": null,
            "grid_row": null,
            "grid_template_areas": null,
            "grid_template_columns": null,
            "grid_template_rows": null,
            "height": null,
            "justify_content": null,
            "justify_items": null,
            "left": null,
            "margin": null,
            "max_height": null,
            "max_width": null,
            "min_height": null,
            "min_width": null,
            "object_fit": null,
            "object_position": null,
            "order": null,
            "overflow": null,
            "overflow_x": null,
            "overflow_y": null,
            "padding": null,
            "right": null,
            "top": null,
            "visibility": null,
            "width": null
          }
        },
        "7f49a89419b64a948206b47809664ba8": {
          "model_module": "@jupyter-widgets/controls",
          "model_name": "ProgressStyleModel",
          "model_module_version": "1.5.0",
          "state": {
            "_model_module": "@jupyter-widgets/controls",
            "_model_module_version": "1.5.0",
            "_model_name": "ProgressStyleModel",
            "_view_count": null,
            "_view_module": "@jupyter-widgets/base",
            "_view_module_version": "1.2.0",
            "_view_name": "StyleView",
            "bar_color": null,
            "description_width": ""
          }
        },
        "b9a7805e62cd499bbd73f58022ac80ed": {
          "model_module": "@jupyter-widgets/base",
          "model_name": "LayoutModel",
          "model_module_version": "1.2.0",
          "state": {
            "_model_module": "@jupyter-widgets/base",
            "_model_module_version": "1.2.0",
            "_model_name": "LayoutModel",
            "_view_count": null,
            "_view_module": "@jupyter-widgets/base",
            "_view_module_version": "1.2.0",
            "_view_name": "LayoutView",
            "align_content": null,
            "align_items": null,
            "align_self": null,
            "border": null,
            "bottom": null,
            "display": null,
            "flex": null,
            "flex_flow": null,
            "grid_area": null,
            "grid_auto_columns": null,
            "grid_auto_flow": null,
            "grid_auto_rows": null,
            "grid_column": null,
            "grid_gap": null,
            "grid_row": null,
            "grid_template_areas": null,
            "grid_template_columns": null,
            "grid_template_rows": null,
            "height": null,
            "justify_content": null,
            "justify_items": null,
            "left": null,
            "margin": null,
            "max_height": null,
            "max_width": null,
            "min_height": null,
            "min_width": null,
            "object_fit": null,
            "object_position": null,
            "order": null,
            "overflow": null,
            "overflow_x": null,
            "overflow_y": null,
            "padding": null,
            "right": null,
            "top": null,
            "visibility": null,
            "width": null
          }
        },
        "33f247cd511b446289ad5170d9f149a9": {
          "model_module": "@jupyter-widgets/controls",
          "model_name": "DescriptionStyleModel",
          "model_module_version": "1.5.0",
          "state": {
            "_model_module": "@jupyter-widgets/controls",
            "_model_module_version": "1.5.0",
            "_model_name": "DescriptionStyleModel",
            "_view_count": null,
            "_view_module": "@jupyter-widgets/base",
            "_view_module_version": "1.2.0",
            "_view_name": "StyleView",
            "description_width": ""
          }
        }
      }
    }
  },
  "nbformat_minor": 0,
  "nbformat": 4,
  "cells": [
    {
      "cell_type": "markdown",
      "metadata": {
        "id": "view-in-github",
        "colab_type": "text"
      },
      "source": [
        "<a href=\"https://colab.research.google.com/github/adupatil/Hindi-to-English-Translator/blob/main/nlp_summarizer_kaggle.ipynb\" target=\"_parent\"><img src=\"https://colab.research.google.com/assets/colab-badge.svg\" alt=\"Open In Colab\"/></a>"
      ]
    },
    {
      "cell_type": "code",
      "source": [
        "import pandas as pd\n",
        "import numpy as np\n",
        "import torch\n",
        "import nltk\n",
        "from nltk.tokenize import word_tokenize\n",
        "import seaborn as sns\n",
        "from time import time\n",
        "import matplotlib.pyplot as plt\n",
        "import torch\n",
        "import warnings\n",
        "warnings.filterwarnings('ignore')"
      ],
      "metadata": {
        "id": "7iMqtZgwayoh",
        "execution": {
          "iopub.status.busy": "2023-04-09T21:22:11.698425Z",
          "iopub.execute_input": "2023-04-09T21:22:11.698764Z",
          "iopub.status.idle": "2023-04-09T21:22:16.344021Z",
          "shell.execute_reply.started": "2023-04-09T21:22:11.698729Z",
          "shell.execute_reply": "2023-04-09T21:22:16.342873Z"
        },
        "trusted": true
      },
      "execution_count": null,
      "outputs": []
    },
    {
      "cell_type": "code",
      "source": [
        "from google.colab import drive\n",
        "drive.mount('/content/drive')"
      ],
      "metadata": {
        "colab": {
          "base_uri": "https://localhost:8080/"
        },
        "id": "xAr1P7RRNova",
        "outputId": "bebc011f-fdea-4e97-b7ad-22fa2fc86300",
        "execution": {
          "iopub.status.busy": "2023-04-09T17:24:20.539516Z",
          "iopub.execute_input": "2023-04-09T17:24:20.540129Z",
          "iopub.status.idle": "2023-04-09T17:24:20.545669Z",
          "shell.execute_reply.started": "2023-04-09T17:24:20.540088Z",
          "shell.execute_reply": "2023-04-09T17:24:20.543689Z"
        },
        "trusted": true
      },
      "execution_count": null,
      "outputs": [
        {
          "output_type": "stream",
          "name": "stdout",
          "text": [
            "Mounted at /content/drive\n"
          ]
        }
      ]
    },
    {
      "cell_type": "code",
      "source": [
        "#train = pd.read_csv(\"/kaggle/input/newspaper-text-summarization-cnn-dailymail/cnn_dailymail/train.csv\").drop(columns=\"id\")\n",
        "test = pd.read_csv(\"/content/drive/MyDrive/NLP_Project/datasets/cnn_dailymail/test.csv\").drop(columns=\"id\")\n",
        "validation = pd.read_csv(\"/content/drive/MyDrive/NLP_Project/datasets/cnn_dailymail/validation.csv\").drop(columns=\"id\")"
      ],
      "metadata": {
        "id": "lZoFskrSSPvh",
        "execution": {
          "iopub.status.busy": "2023-04-09T17:24:20.547522Z",
          "iopub.execute_input": "2023-04-09T17:24:20.547869Z",
          "iopub.status.idle": "2023-04-09T17:24:50.830863Z",
          "shell.execute_reply.started": "2023-04-09T17:24:20.547835Z",
          "shell.execute_reply": "2023-04-09T17:24:50.829906Z"
        },
        "trusted": true
      },
      "execution_count": null,
      "outputs": []
    },
    {
      "cell_type": "markdown",
      "source": [
        "---\n",
        "## EDA \n",
        "---"
      ],
      "metadata": {
        "id": "E3CFRwOBlZmN"
      }
    },
    {
      "cell_type": "code",
      "source": [
        "train.head()"
      ],
      "metadata": {
        "colab": {
          "base_uri": "https://localhost:8080/",
          "height": 206
        },
        "id": "zxMcxanPjzTx",
        "outputId": "ec2761ff-e758-42ab-d78f-f5cb2f863367",
        "execution": {
          "iopub.status.busy": "2023-04-09T17:24:50.833381Z",
          "iopub.execute_input": "2023-04-09T17:24:50.833642Z",
          "iopub.status.idle": "2023-04-09T17:24:50.854248Z",
          "shell.execute_reply.started": "2023-04-09T17:24:50.833616Z",
          "shell.execute_reply": "2023-04-09T17:24:50.852910Z"
        },
        "trusted": true
      },
      "execution_count": null,
      "outputs": [
        {
          "execution_count": 4,
          "output_type": "execute_result",
          "data": {
            "text/plain": "                                             article  \\\n0  By . Associated Press . PUBLISHED: . 14:11 EST...   \n1  (CNN) -- Ralph Mata was an internal affairs li...   \n2  A drunk driver who killed a young woman in a h...   \n3  (CNN) -- With a breezy sweep of his pen Presid...   \n4  Fleetwood are the only team still to have a 10...   \n\n                                          highlights  \n0  Bishop John Folda, of North Dakota, is taking ...  \n1  Criminal complaint: Cop used his role to help ...  \n2  Craig Eccleston-Todd, 27, had drunk at least t...  \n3  Nina dos Santos says Europe must be ready to a...  \n4  Fleetwood top of League One after 2-0 win at S...  ",
            "text/html": "<div>\n<style scoped>\n    .dataframe tbody tr th:only-of-type {\n        vertical-align: middle;\n    }\n\n    .dataframe tbody tr th {\n        vertical-align: top;\n    }\n\n    .dataframe thead th {\n        text-align: right;\n    }\n</style>\n<table border=\"1\" class=\"dataframe\">\n  <thead>\n    <tr style=\"text-align: right;\">\n      <th></th>\n      <th>article</th>\n      <th>highlights</th>\n    </tr>\n  </thead>\n  <tbody>\n    <tr>\n      <th>0</th>\n      <td>By . Associated Press . PUBLISHED: . 14:11 EST...</td>\n      <td>Bishop John Folda, of North Dakota, is taking ...</td>\n    </tr>\n    <tr>\n      <th>1</th>\n      <td>(CNN) -- Ralph Mata was an internal affairs li...</td>\n      <td>Criminal complaint: Cop used his role to help ...</td>\n    </tr>\n    <tr>\n      <th>2</th>\n      <td>A drunk driver who killed a young woman in a h...</td>\n      <td>Craig Eccleston-Todd, 27, had drunk at least t...</td>\n    </tr>\n    <tr>\n      <th>3</th>\n      <td>(CNN) -- With a breezy sweep of his pen Presid...</td>\n      <td>Nina dos Santos says Europe must be ready to a...</td>\n    </tr>\n    <tr>\n      <th>4</th>\n      <td>Fleetwood are the only team still to have a 10...</td>\n      <td>Fleetwood top of League One after 2-0 win at S...</td>\n    </tr>\n  </tbody>\n</table>\n</div>"
          },
          "metadata": {}
        }
      ]
    },
    {
      "cell_type": "code",
      "source": [
        "train.describe()"
      ],
      "metadata": {
        "colab": {
          "base_uri": "https://localhost:8080/",
          "height": 175
        },
        "id": "02vfyHjlj9iz",
        "outputId": "47a2395c-8521-4c0b-a24a-40e8fa83de80",
        "execution": {
          "iopub.status.busy": "2023-04-09T17:24:50.855938Z",
          "iopub.execute_input": "2023-04-09T17:24:50.856295Z",
          "iopub.status.idle": "2023-04-09T17:24:52.210308Z",
          "shell.execute_reply.started": "2023-04-09T17:24:50.856261Z",
          "shell.execute_reply": "2023-04-09T17:24:52.209180Z"
        },
        "trusted": true
      },
      "execution_count": null,
      "outputs": [
        {
          "execution_count": 5,
          "output_type": "execute_result",
          "data": {
            "text/plain": "                                                  article  \\\ncount                                              287113   \nunique                                             284005   \ntop     (CNN) -- Dubai could lose its place on the Wom...   \nfreq                                                    3   \n\n                                               highlights  \ncount                                              287113  \nunique                                             282197  \ntop     This page includes the show Transcript and the...  \nfreq                                                   83  ",
            "text/html": "<div>\n<style scoped>\n    .dataframe tbody tr th:only-of-type {\n        vertical-align: middle;\n    }\n\n    .dataframe tbody tr th {\n        vertical-align: top;\n    }\n\n    .dataframe thead th {\n        text-align: right;\n    }\n</style>\n<table border=\"1\" class=\"dataframe\">\n  <thead>\n    <tr style=\"text-align: right;\">\n      <th></th>\n      <th>article</th>\n      <th>highlights</th>\n    </tr>\n  </thead>\n  <tbody>\n    <tr>\n      <th>count</th>\n      <td>287113</td>\n      <td>287113</td>\n    </tr>\n    <tr>\n      <th>unique</th>\n      <td>284005</td>\n      <td>282197</td>\n    </tr>\n    <tr>\n      <th>top</th>\n      <td>(CNN) -- Dubai could lose its place on the Wom...</td>\n      <td>This page includes the show Transcript and the...</td>\n    </tr>\n    <tr>\n      <th>freq</th>\n      <td>3</td>\n      <td>83</td>\n    </tr>\n  </tbody>\n</table>\n</div>"
          },
          "metadata": {}
        }
      ]
    },
    {
      "cell_type": "code",
      "source": [
        "train['article'][0]"
      ],
      "metadata": {
        "colab": {
          "base_uri": "https://localhost:8080/",
          "height": 128
        },
        "id": "_VkEDePjkCzE",
        "outputId": "cf3a7358-b2d1-4243-e3ec-c9f52438747b",
        "execution": {
          "iopub.status.busy": "2023-04-09T17:24:52.211432Z",
          "iopub.execute_input": "2023-04-09T17:24:52.211672Z",
          "iopub.status.idle": "2023-04-09T17:24:52.217695Z",
          "shell.execute_reply.started": "2023-04-09T17:24:52.211648Z",
          "shell.execute_reply": "2023-04-09T17:24:52.216901Z"
        },
        "trusted": true
      },
      "execution_count": null,
      "outputs": [
        {
          "execution_count": 6,
          "output_type": "execute_result",
          "data": {
            "text/plain": "\"By . Associated Press . PUBLISHED: . 14:11 EST, 25 October 2013 . | . UPDATED: . 15:36 EST, 25 October 2013 . The bishop of the Fargo Catholic Diocese in North Dakota has exposed potentially hundreds of church members in Fargo, Grand Forks and Jamestown to the hepatitis A virus in late September and early October. The state Health Department has issued an advisory of exposure for anyone who attended five churches and took communion. Bishop John Folda (pictured) of the Fargo Catholic Diocese in North Dakota has exposed potentially hundreds of church members in Fargo, Grand Forks and Jamestown to the hepatitis A . State Immunization Program Manager Molly Howell says the risk is low, but officials feel it's important to alert people to the possible exposure. The diocese announced on Monday that Bishop John Folda is taking time off after being diagnosed with hepatitis A. The diocese says he contracted the infection through contaminated food while attending a conference for newly ordained bishops in Italy last month. Symptoms of hepatitis A include fever, tiredness, loss of appetite, nausea and abdominal discomfort. Fargo Catholic Diocese in North Dakota (pictured) is where the bishop is located .\""
          },
          "metadata": {}
        }
      ]
    },
    {
      "cell_type": "code",
      "source": [
        "train['highlights'][0]"
      ],
      "metadata": {
        "colab": {
          "base_uri": "https://localhost:8080/",
          "height": 55
        },
        "id": "MMJImD4xkROM",
        "outputId": "6bd79c2b-f604-4c65-a52f-a401d1a5ff5c",
        "execution": {
          "iopub.status.busy": "2023-04-09T17:24:52.219180Z",
          "iopub.execute_input": "2023-04-09T17:24:52.219846Z",
          "iopub.status.idle": "2023-04-09T17:24:52.230392Z",
          "shell.execute_reply.started": "2023-04-09T17:24:52.219813Z",
          "shell.execute_reply": "2023-04-09T17:24:52.229195Z"
        },
        "trusted": true
      },
      "execution_count": null,
      "outputs": [
        {
          "execution_count": 7,
          "output_type": "execute_result",
          "data": {
            "text/plain": "'Bishop John Folda, of North Dakota, is taking time off after being diagnosed .\\nHe contracted the infection through contaminated food in Italy .\\nChurch members in Fargo, Grand Forks and Jamestown could have been exposed .'"
          },
          "metadata": {}
        }
      ]
    },
    {
      "cell_type": "code",
      "source": [
        "train['article_length'] = train['article'].apply(lambda x : len(x.split()))\n",
        "train['highlights_length'] = train['highlights'].apply(lambda x : len(x.split()))"
      ],
      "metadata": {
        "id": "4yFdlV-DkdFb",
        "execution": {
          "iopub.status.busy": "2023-04-09T17:24:52.231673Z",
          "iopub.execute_input": "2023-04-09T17:24:52.231942Z",
          "iopub.status.idle": "2023-04-09T17:25:02.751863Z",
          "shell.execute_reply.started": "2023-04-09T17:24:52.231916Z",
          "shell.execute_reply": "2023-04-09T17:25:02.750599Z"
        },
        "trusted": true
      },
      "execution_count": null,
      "outputs": []
    },
    {
      "cell_type": "code",
      "source": [
        "sns.set_theme('notebook')\n",
        "sns.histplot(data=train,x='article_length',bins=30)"
      ],
      "metadata": {
        "colab": {
          "base_uri": "https://localhost:8080/",
          "height": 476
        },
        "id": "MUYvluAalEiN",
        "outputId": "6852b885-58a4-4b3a-e9b0-875be238c433",
        "execution": {
          "iopub.status.busy": "2023-04-09T17:25:02.753553Z",
          "iopub.execute_input": "2023-04-09T17:25:02.754278Z",
          "iopub.status.idle": "2023-04-09T17:25:03.096672Z",
          "shell.execute_reply.started": "2023-04-09T17:25:02.754244Z",
          "shell.execute_reply": "2023-04-09T17:25:03.095224Z"
        },
        "trusted": true
      },
      "execution_count": null,
      "outputs": [
        {
          "execution_count": 9,
          "output_type": "execute_result",
          "data": {
            "text/plain": "<AxesSubplot:xlabel='article_length', ylabel='Count'>"
          },
          "metadata": {}
        },
        {
          "output_type": "display_data",
          "data": {
            "text/plain": "<Figure size 640x480 with 1 Axes>",
            "image/png": "[encoded data removed]"
          },
          "metadata": {}
        }
      ]
    },
    {
      "cell_type": "markdown",
      "source": [
        "We can observe the following:\n",
        "1. There are some article with length 0\n",
        "2. Most articles range between 450 - 900 words"
      ],
      "metadata": {
        "id": "IDdTIk_dlpVc"
      }
    },
    {
      "cell_type": "code",
      "source": [
        "sns.histplot(data=train,x='highlights_length',bins=50)"
      ],
      "metadata": {
        "colab": {
          "base_uri": "https://localhost:8080/",
          "height": 476
        },
        "id": "cxfSy4chlSYt",
        "outputId": "601a9222-867c-4703-c9c4-7e3d37fe55d1",
        "execution": {
          "iopub.status.busy": "2023-04-09T17:25:03.100740Z",
          "iopub.execute_input": "2023-04-09T17:25:03.101039Z",
          "iopub.status.idle": "2023-04-09T17:25:03.466260Z",
          "shell.execute_reply.started": "2023-04-09T17:25:03.101011Z",
          "shell.execute_reply": "2023-04-09T17:25:03.464644Z"
        },
        "trusted": true
      },
      "execution_count": null,
      "outputs": [
        {
          "execution_count": 10,
          "output_type": "execute_result",
          "data": {
            "text/plain": "<AxesSubplot:xlabel='highlights_length', ylabel='Count'>"
          },
          "metadata": {}
        },
        {
          "output_type": "display_data",
          "data": {
            "text/plain": "<Figure size 640x480 with 1 Axes>",
            "image/png": "[encoded data removed]"
          },
          "metadata": {}
        }
      ]
    },
    {
      "cell_type": "markdown",
      "source": [
        "We observe the following:\n",
        "1. There are some outlier(s) in highlights which will affect our model performance"
      ],
      "metadata": {
        "id": "vUmcact2mo4Q"
      }
    },
    {
      "cell_type": "code",
      "source": [
        "sns.boxplot(data=train,x='article_length')"
      ],
      "metadata": {
        "colab": {
          "base_uri": "https://localhost:8080/",
          "height": 476
        },
        "id": "nBHGjMRlmV3E",
        "outputId": "942a98ba-96fa-4b0f-c8ff-6455d14270dc",
        "execution": {
          "iopub.status.busy": "2023-04-09T17:25:03.467787Z",
          "iopub.execute_input": "2023-04-09T17:25:03.468253Z",
          "iopub.status.idle": "2023-04-09T17:25:03.670715Z",
          "shell.execute_reply.started": "2023-04-09T17:25:03.468208Z",
          "shell.execute_reply": "2023-04-09T17:25:03.669446Z"
        },
        "trusted": true
      },
      "execution_count": null,
      "outputs": [
        {
          "execution_count": 11,
          "output_type": "execute_result",
          "data": {
            "text/plain": "<AxesSubplot:xlabel='article_length'>"
          },
          "metadata": {}
        },
        {
          "output_type": "display_data",
          "data": {
            "text/plain": "<Figure size 640x480 with 1 Axes>",
            "image/png": "[encoded data removed]"
          },
          "metadata": {}
        }
      ]
    },
    {
      "cell_type": "code",
      "source": [
        "sns.boxplot(data=train,x='highlights_length')"
      ],
      "metadata": {
        "colab": {
          "base_uri": "https://localhost:8080/",
          "height": 476
        },
        "id": "g0AcTcfWm_eO",
        "outputId": "03d3ef5a-41f9-4457-f966-6eb691c635fa",
        "execution": {
          "iopub.status.busy": "2023-04-09T17:25:03.672170Z",
          "iopub.execute_input": "2023-04-09T17:25:03.672538Z",
          "iopub.status.idle": "2023-04-09T17:25:03.896529Z",
          "shell.execute_reply.started": "2023-04-09T17:25:03.672503Z",
          "shell.execute_reply": "2023-04-09T17:25:03.895515Z"
        },
        "trusted": true
      },
      "execution_count": null,
      "outputs": [
        {
          "execution_count": 12,
          "output_type": "execute_result",
          "data": {
            "text/plain": "<AxesSubplot:xlabel='highlights_length'>"
          },
          "metadata": {}
        },
        {
          "output_type": "display_data",
          "data": {
            "text/plain": "<Figure size 640x480 with 1 Axes>",
            "image/png": "[encoded data removed]"
          },
          "metadata": {}
        }
      ]
    },
    {
      "cell_type": "markdown",
      "source": [
        "We can observe the average length of highlights varies a lot, so we will have to , decide some range and prune the other values"
      ],
      "metadata": {
        "id": "o98226HFnUsm"
      }
    },
    {
      "cell_type": "code",
      "source": [
        "## check for null\n",
        "train.isnull().sum()"
      ],
      "metadata": {
        "colab": {
          "base_uri": "https://localhost:8080/"
        },
        "id": "dJEEs85knRJF",
        "outputId": "9ed8875b-338a-47fd-9d54-4ba70933f20b",
        "execution": {
          "iopub.status.busy": "2023-04-09T17:25:03.897660Z",
          "iopub.execute_input": "2023-04-09T17:25:03.897952Z",
          "iopub.status.idle": "2023-04-09T17:25:03.994442Z",
          "shell.execute_reply.started": "2023-04-09T17:25:03.897924Z",
          "shell.execute_reply": "2023-04-09T17:25:03.993339Z"
        },
        "trusted": true
      },
      "execution_count": null,
      "outputs": [
        {
          "execution_count": 13,
          "output_type": "execute_result",
          "data": {
            "text/plain": "article              0\nhighlights           0\narticle_length       0\nhighlights_length    0\ndtype: int64"
          },
          "metadata": {}
        }
      ]
    },
    {
      "cell_type": "code",
      "source": [
        "## Checking for duplicates\n",
        "train.duplicated(subset= ['article', 'highlights']).sum()"
      ],
      "metadata": {
        "colab": {
          "base_uri": "https://localhost:8080/"
        },
        "id": "N_gJyGUFvhfW",
        "outputId": "63dc9849-4535-40cc-82c9-11703085fc0e",
        "execution": {
          "iopub.status.busy": "2023-04-09T17:25:03.995768Z",
          "iopub.execute_input": "2023-04-09T17:25:03.996073Z",
          "iopub.status.idle": "2023-04-09T17:25:07.393406Z",
          "shell.execute_reply.started": "2023-04-09T17:25:03.996039Z",
          "shell.execute_reply": "2023-04-09T17:25:07.392326Z"
        },
        "trusted": true
      },
      "execution_count": null,
      "outputs": [
        {
          "execution_count": 14,
          "output_type": "execute_result",
          "data": {
            "text/plain": "3098"
          },
          "metadata": {}
        }
      ]
    },
    {
      "cell_type": "code",
      "source": [
        "train = train.drop_duplicates(subset=['article', 'highlights'])"
      ],
      "metadata": {
        "id": "7J3v61D8vzF2",
        "execution": {
          "iopub.status.busy": "2023-04-09T17:25:07.395362Z",
          "iopub.execute_input": "2023-04-09T17:25:07.395727Z",
          "iopub.status.idle": "2023-04-09T17:25:10.057699Z",
          "shell.execute_reply.started": "2023-04-09T17:25:07.395695Z",
          "shell.execute_reply": "2023-04-09T17:25:10.056028Z"
        },
        "trusted": true
      },
      "execution_count": null,
      "outputs": []
    },
    {
      "cell_type": "markdown",
      "source": [
        "---\n",
        "## Remove Outliers\n",
        "---"
      ],
      "metadata": {
        "id": "k4IHPB37zU9G"
      }
    },
    {
      "cell_type": "code",
      "source": [
        "print(f\"{len(train[(train['article_length']>200) & (train['article_length']<1300)])/len(train)*100}% of the artciles lie between 200 and 1300 words\")"
      ],
      "metadata": {
        "colab": {
          "base_uri": "https://localhost:8080/"
        },
        "id": "J1AUtC5TxM2P",
        "outputId": "dac3ec8d-abe2-421b-8305-b44098fd009e",
        "execution": {
          "iopub.status.busy": "2023-04-09T17:25:10.059495Z",
          "iopub.execute_input": "2023-04-09T17:25:10.059922Z",
          "iopub.status.idle": "2023-04-09T17:25:10.089976Z",
          "shell.execute_reply.started": "2023-04-09T17:25:10.059881Z",
          "shell.execute_reply": "2023-04-09T17:25:10.088245Z"
        },
        "trusted": true
      },
      "execution_count": null,
      "outputs": [
        {
          "name": "stdout",
          "text": "91.35925919405665% of the artciles lie between 200 and 1300 words\n",
          "output_type": "stream"
        }
      ]
    },
    {
      "cell_type": "code",
      "source": [
        "# We will drop the outliers\n",
        "train = train[(train['article_length']>200) & (train['article_length']<1300)]"
      ],
      "metadata": {
        "id": "EV2IR9Qhxjox",
        "execution": {
          "iopub.status.busy": "2023-04-09T17:25:10.091751Z",
          "iopub.execute_input": "2023-04-09T17:25:10.092183Z",
          "iopub.status.idle": "2023-04-09T17:25:10.119801Z",
          "shell.execute_reply.started": "2023-04-09T17:25:10.092087Z",
          "shell.execute_reply": "2023-04-09T17:25:10.118377Z"
        },
        "trusted": true
      },
      "execution_count": null,
      "outputs": []
    },
    {
      "cell_type": "code",
      "source": [
        "sns.boxplot(data=train,x='article_length')"
      ],
      "metadata": {
        "colab": {
          "base_uri": "https://localhost:8080/",
          "height": 476
        },
        "id": "8ah-NR-MxmMH",
        "outputId": "921ed201-efe7-4f75-dc34-2b7a5b38ceef",
        "execution": {
          "iopub.status.busy": "2023-04-09T17:25:10.121001Z",
          "iopub.execute_input": "2023-04-09T17:25:10.121327Z",
          "iopub.status.idle": "2023-04-09T17:25:10.307679Z",
          "shell.execute_reply.started": "2023-04-09T17:25:10.121298Z",
          "shell.execute_reply": "2023-04-09T17:25:10.306433Z"
        },
        "trusted": true
      },
      "execution_count": null,
      "outputs": [
        {
          "execution_count": 18,
          "output_type": "execute_result",
          "data": {
            "text/plain": "<AxesSubplot:xlabel='article_length'>"
          },
          "metadata": {}
        },
        {
          "output_type": "display_data",
          "data": {
            "text/plain": "<Figure size 640x480 with 1 Axes>",
            "image/png": "[encoded data removed]"
          },
          "metadata": {}
        }
      ]
    },
    {
      "cell_type": "markdown",
      "source": [
        "Outliers have been removed from articles"
      ],
      "metadata": {
        "id": "KMppwN8ZzQcf"
      }
    },
    {
      "cell_type": "code",
      "source": [
        "print(f\"{len(train[(train['highlights_length']>20) & (train['highlights_length']<200)])/len(train)*100}% of the highights lie between 30 and 200 words\")"
      ],
      "metadata": {
        "colab": {
          "base_uri": "https://localhost:8080/"
        },
        "id": "WqzTTw1YzONf",
        "outputId": "227fdc01-4432-44f4-db50-ae51abfa652c",
        "execution": {
          "iopub.status.busy": "2023-04-09T17:25:10.309166Z",
          "iopub.execute_input": "2023-04-09T17:25:10.309457Z",
          "iopub.status.idle": "2023-04-09T17:25:10.334986Z",
          "shell.execute_reply.started": "2023-04-09T17:25:10.309430Z",
          "shell.execute_reply": "2023-04-09T17:25:10.333821Z"
        },
        "trusted": true
      },
      "execution_count": null,
      "outputs": [
        {
          "name": "stdout",
          "text": "97.87146303675898% of the highights lie between 30 and 200 words\n",
          "output_type": "stream"
        }
      ]
    },
    {
      "cell_type": "code",
      "source": [
        "## Removing the outliers in highlights\n",
        "train = train[(train['highlights_length']>20) & (train['highlights_length']<200)]"
      ],
      "metadata": {
        "id": "ETNCM2CDz0eX",
        "execution": {
          "iopub.status.busy": "2023-04-09T17:25:10.336290Z",
          "iopub.execute_input": "2023-04-09T17:25:10.337056Z",
          "iopub.status.idle": "2023-04-09T17:25:10.361672Z",
          "shell.execute_reply.started": "2023-04-09T17:25:10.337024Z",
          "shell.execute_reply": "2023-04-09T17:25:10.360286Z"
        },
        "trusted": true
      },
      "execution_count": null,
      "outputs": []
    },
    {
      "cell_type": "code",
      "source": [
        "sns.boxplot(data=train,x='highlights_length')"
      ],
      "metadata": {
        "colab": {
          "base_uri": "https://localhost:8080/",
          "height": 476
        },
        "id": "7F-lBF3l4GOX",
        "outputId": "402afbca-1f8f-4869-aa73-6367d0fe5507",
        "execution": {
          "iopub.status.busy": "2023-04-09T17:25:10.363058Z",
          "iopub.execute_input": "2023-04-09T17:25:10.363451Z",
          "iopub.status.idle": "2023-04-09T17:25:10.589110Z",
          "shell.execute_reply.started": "2023-04-09T17:25:10.363420Z",
          "shell.execute_reply": "2023-04-09T17:25:10.588419Z"
        },
        "trusted": true
      },
      "execution_count": null,
      "outputs": [
        {
          "execution_count": 21,
          "output_type": "execute_result",
          "data": {
            "text/plain": "<AxesSubplot:xlabel='highlights_length'>"
          },
          "metadata": {}
        },
        {
          "output_type": "display_data",
          "data": {
            "text/plain": "<Figure size 640x480 with 1 Axes>",
            "image/png": "[encoded data removed]"
          },
          "metadata": {}
        }
      ]
    },
    {
      "cell_type": "markdown",
      "source": [
        "---\n",
        "## Text Preprocessing\n",
        "---"
      ],
      "metadata": {
        "id": "9SD0ZZur1fS2"
      }
    },
    {
      "cell_type": "code",
      "source": [
        "from gensim.parsing import strip_tags, strip_numeric, strip_multiple_whitespaces, stem_text, strip_punctuation, remove_stopwords\n",
        "from gensim.parsing import preprocess_string\n",
        "from gensim import parsing\n",
        "import re\n",
        "from time import time"
      ],
      "metadata": {
        "id": "a1Yj_WXy1dKm",
        "execution": {
          "iopub.status.busy": "2023-04-09T17:25:10.590183Z",
          "iopub.execute_input": "2023-04-09T17:25:10.590726Z",
          "iopub.status.idle": "2023-04-09T17:25:11.039604Z",
          "shell.execute_reply.started": "2023-04-09T17:25:10.590698Z",
          "shell.execute_reply": "2023-04-09T17:25:11.038517Z"
        },
        "trusted": true
      },
      "execution_count": null,
      "outputs": []
    },
    {
      "cell_type": "code",
      "source": [
        "remove_emails = lambda s: re.sub(r'\\S+@\\S+', '', s)\n",
        "remove_single_char = lambda s: re.sub(r'\\s+\\w{1}\\s+', '', s)\n",
        "\n",
        "CLEAN_FILTERS = [\n",
        "                remove_emails,\n",
        "                strip_tags,\n",
        "                strip_numeric, \n",
        "                strip_multiple_whitespaces]\n",
        "\n",
        "def clean(document):\n",
        "    processed_words = preprocess_string(document, CLEAN_FILTERS)\n",
        "    \n",
        "    return processed_words\n",
        "\n",
        "def joinList(processed_words):\n",
        "    return ' '.join(processed_words)"
      ],
      "metadata": {
        "id": "uIanCD9L12YY",
        "execution": {
          "iopub.status.busy": "2023-04-09T17:25:11.040732Z",
          "iopub.execute_input": "2023-04-09T17:25:11.041010Z",
          "iopub.status.idle": "2023-04-09T17:25:11.048240Z",
          "shell.execute_reply.started": "2023-04-09T17:25:11.040983Z",
          "shell.execute_reply": "2023-04-09T17:25:11.047149Z"
        },
        "trusted": true
      },
      "execution_count": null,
      "outputs": []
    },
    {
      "cell_type": "code",
      "source": [
        "## Considering 30% of the total dataset ~ 60k rows\n",
        "train_df = train.sample(frac=0.3)"
      ],
      "metadata": {
        "id": "dNw1Dz0B4bg6",
        "execution": {
          "iopub.status.busy": "2023-04-09T17:25:11.049321Z",
          "iopub.execute_input": "2023-04-09T17:25:11.049559Z",
          "iopub.status.idle": "2023-04-09T17:25:11.082354Z",
          "shell.execute_reply.started": "2023-04-09T17:25:11.049535Z",
          "shell.execute_reply": "2023-04-09T17:25:11.081576Z"
        },
        "trusted": true
      },
      "execution_count": null,
      "outputs": []
    },
    {
      "cell_type": "code",
      "source": [
        "## Cleaning articles\n",
        "t0 = time()\n",
        "train_df['cleaned_articles'] = train_df['article'].apply(clean).apply(joinList)\n",
        "validation['cleaned_articles'] = validation['article'].apply(clean).apply(joinList)\n",
        "print(f\"done in {time()-t0}\")"
      ],
      "metadata": {
        "colab": {
          "base_uri": "https://localhost:8080/"
        },
        "id": "TcQ6_IZA2Ll4",
        "outputId": "e8c66d85-a1ee-467e-e223-a3d620071845",
        "execution": {
          "iopub.status.busy": "2023-04-09T17:25:11.083698Z",
          "iopub.execute_input": "2023-04-09T17:25:11.084290Z",
          "iopub.status.idle": "2023-04-09T17:26:09.419811Z",
          "shell.execute_reply.started": "2023-04-09T17:25:11.084253Z",
          "shell.execute_reply": "2023-04-09T17:26:09.418662Z"
        },
        "trusted": true
      },
      "execution_count": null,
      "outputs": [
        {
          "output_type": "stream",
          "name": "stdout",
          "text": [
            "done in 16.583983898162842\n"
          ]
        }
      ]
    },
    {
      "cell_type": "code",
      "source": [
        "## Cleaning highlights\n",
        "t0 = time()\n",
        "train_df['highlights'] = train_df['highlights'].apply(lambda x : strip_tags(x))\n",
        "validation['highlights'] = validation['highlights'].apply(lambda x : strip_tags(x))\n",
        "print(f\"done in {time()-t0}\")"
      ],
      "metadata": {
        "colab": {
          "base_uri": "https://localhost:8080/"
        },
        "id": "2sbRFaKa6CCQ",
        "outputId": "46aaffbd-3590-46c3-c2f1-5092ab0e6bf5",
        "execution": {
          "iopub.status.busy": "2023-04-09T17:26:09.420961Z",
          "iopub.execute_input": "2023-04-09T17:26:09.421361Z",
          "iopub.status.idle": "2023-04-09T17:26:09.528085Z",
          "shell.execute_reply.started": "2023-04-09T17:26:09.421331Z",
          "shell.execute_reply": "2023-04-09T17:26:09.526825Z"
        },
        "trusted": true
      },
      "execution_count": null,
      "outputs": [
        {
          "output_type": "stream",
          "name": "stdout",
          "text": [
            "done in 0.034847259521484375\n"
          ]
        }
      ]
    },
    {
      "cell_type": "code",
      "source": [
        "train_df['cleaned_articles'].iloc[0]"
      ],
      "metadata": {
        "colab": {
          "base_uri": "https://localhost:8080/",
          "height": 128
        },
        "id": "0zJn-Rz52cfX",
        "outputId": "c0d92046-9b62-4080-9b6e-f99c1a1f2843",
        "execution": {
          "iopub.status.busy": "2023-04-09T17:26:09.529350Z",
          "iopub.execute_input": "2023-04-09T17:26:09.529985Z",
          "iopub.status.idle": "2023-04-09T17:26:09.535762Z",
          "shell.execute_reply.started": "2023-04-09T17:26:09.529954Z",
          "shell.execute_reply": "2023-04-09T17:26:09.534961Z"
        },
        "trusted": true
      },
      "execution_count": null,
      "outputs": [
        {
          "execution_count": 27,
          "output_type": "execute_result",
          "data": {
            "text/plain": "\"Juan Cuadrado had come to symbolise a young man with ambition and desire to succeed against the odds long before his £million transfer to Chelsea. Cuadrado was born in , days before Chelsea were relegated from the top flight, and raised in the port city of Tumaco, in Colombia's south west, which became one of the most dangerous and violent regions of the country as the drug wars forced the coca growers out of more traditional areas. His father Guillermo, who drove a fuel tanker, was shot dead by guerrillas when Juan was five-years-old. In interviews, he said he remembered little about the incident and hid under the bed. Juan Cuadrado joined Chelsea from Fiorentina in a £million deal on transfer deadline day . The Colombian midfielder moved to Europe with Serie A side Udinese before joining Fiorentina . He was raised by his mother Marcela and they remain inseparable. She has promised to stay with him until he has a family of his own. Marcela and Juan's half-sister Maria Angel moved to Italy when he left Independiente Medellin in for Udinese, and will follow him to London, along with his girlfriend Melissa Botero. Cuadrado admits he still likes his mother's lentil and chickpea stews and she sometimes braids his hair, which can take hours. They have starred together in a tomato sauce advert in Colombia. Marcela said: 'Seeing his dreams come true has made me the happiest mum in the world.' As a football-mad boy in South America, he idolised Brazilian striker Ronaldo and started out as a striker but had reverted to right-back by the time he had broken into the Medellin team as a teenager. Cuadrado impressed in Brazil as he played a starring role for Colombia in the World Cup . The attacking midfielder playing in the group stages of the World Cup (right) and against Brazil (left) Having failed to make an impression on trial with a second tier team in Argentina, he got his break with a move to Udinese and it was during a season on loan at Lecce where he was able to refine his game and was converted into a wide midfielder or wing-back. He became a key man in the Colombia team and was signed by Fiorentina, where striker Luca Toni dubbed him 'Vespa', because of his knack of zipping through the traffic on the pitch. Fiorentina paid £.m for half of Cuadrado's rights, buying the other half during last year's World Cup, where he helped Colombia to the last eight. His transfer to Chelsea was completed on Monday. He has signed a four-and-a-half year deal at Stamford Bridge and will wear the No . The -year-old attempts to tackle Real Madrid full back Marcelo during their World Cup clash . The Colombian midfielder poses for one last photo with his team-mates before moving to Chelsea .\""
          },
          "metadata": {}
        }
      ]
    },
    {
      "cell_type": "code",
      "source": [
        "train_df['highlights'].iloc[0]"
      ],
      "metadata": {
        "colab": {
          "base_uri": "https://localhost:8080/",
          "height": 55
        },
        "id": "s259jHPa5wXh",
        "outputId": "f4b0c63d-7bc9-41a5-b831-b65fe6687b7d",
        "execution": {
          "iopub.status.busy": "2023-04-09T17:26:09.541421Z",
          "iopub.execute_input": "2023-04-09T17:26:09.541861Z",
          "iopub.status.idle": "2023-04-09T17:26:09.551616Z",
          "shell.execute_reply.started": "2023-04-09T17:26:09.541824Z",
          "shell.execute_reply": "2023-04-09T17:26:09.550254Z"
        },
        "trusted": true
      },
      "execution_count": null,
      "outputs": [
        {
          "execution_count": 28,
          "output_type": "execute_result",
          "data": {
            "text/plain": "\"Juan Cuadrado signed for Chelsea from Fiorentina in a £27m deal .\\nThe footballer's father was murdered when he was five-years-old .\\nCuadrado's mother moves from country to country with him .\\nHe has played in Colombia, Italy and Argentina .\\nAs a boy, Cuadrado idolised Brazilian striker Ronaldo .\""
          },
          "metadata": {}
        }
      ]
    },
    {
      "cell_type": "markdown",
      "source": [
        "---\n",
        "## Data Preprocessing\n",
        "---"
      ],
      "metadata": {
        "id": "iJGSKfGZe5LI"
      }
    },
    {
      "cell_type": "code",
      "source": [
        "! pip install transformers"
      ],
      "metadata": {
        "id": "Y2hqYm09e93w",
        "execution": {
          "iopub.status.busy": "2023-04-09T17:26:09.553115Z",
          "iopub.execute_input": "2023-04-09T17:26:09.553443Z",
          "iopub.status.idle": "2023-04-09T17:26:19.996392Z",
          "shell.execute_reply.started": "2023-04-09T17:26:09.553415Z",
          "shell.execute_reply": "2023-04-09T17:26:19.995178Z"
        },
        "trusted": true,
        "colab": {
          "base_uri": "https://localhost:8080/"
        },
        "outputId": "bfca3136-b41e-4b6c-a755-77666e7ca54c"
      },
      "execution_count": null,
      "outputs": [
        {
          "output_type": "stream",
          "name": "stdout",
          "text": [
            "Looking in indexes: https://pypi.org/simple, https://us-python.pkg.dev/colab-wheels/public/simple/\n",
            "Collecting transformers\n",
            "  Downloading transformers-4.27.4-py3-none-any.whl (6.8 MB)\n",
            "\u001b[2K     \u001b[90m━━━━━━━━━━━━━━━━━━━━━━━━━━━━━━━━━━━━━━━━\u001b[0m \u001b[32m6.8/6.8 MB\u001b[0m \u001b[31m44.9 MB/s\u001b[0m eta \u001b[36m0:00:00\u001b[0m\n",
            "\u001b[?25hRequirement already satisfied: packaging>=20.0 in /usr/local/lib/python3.9/dist-packages (from transformers) (23.0)\n",
            "Requirement already satisfied: regex!=2019.12.17 in /usr/local/lib/python3.9/dist-packages (from transformers) (2022.10.31)\n",
            "Collecting huggingface-hub<1.0,>=0.11.0\n",
            "  Downloading huggingface_hub-0.13.4-py3-none-any.whl (200 kB)\n",
            "\u001b[2K     \u001b[90m━━━━━━━━━━━━━━━━━━━━━━━━━━━━━━━━━━━━━━\u001b[0m \u001b[32m200.1/200.1 kB\u001b[0m \u001b[31m19.0 MB/s\u001b[0m eta \u001b[36m0:00:00\u001b[0m\n",
            "\u001b[?25hCollecting tokenizers!=0.11.3,<0.14,>=0.11.1\n",
            "  Downloading tokenizers-0.13.3-cp39-cp39-manylinux_2_17_x86_64.manylinux2014_x86_64.whl (7.8 MB)\n",
            "\u001b[2K     \u001b[90m━━━━━━━━━━━━━━━━━━━━━━━━━━━━━━━━━━━━━━━━\u001b[0m \u001b[32m7.8/7.8 MB\u001b[0m \u001b[31m73.7 MB/s\u001b[0m eta \u001b[36m0:00:00\u001b[0m\n",
            "\u001b[?25hRequirement already satisfied: requests in /usr/local/lib/python3.9/dist-packages (from transformers) (2.27.1)\n",
            "Requirement already satisfied: tqdm>=4.27 in /usr/local/lib/python3.9/dist-packages (from transformers) (4.65.0)\n",
            "Requirement already satisfied: pyyaml>=5.1 in /usr/local/lib/python3.9/dist-packages (from transformers) (6.0)\n",
            "Requirement already satisfied: filelock in /usr/local/lib/python3.9/dist-packages (from transformers) (3.10.7)\n",
            "Requirement already satisfied: numpy>=1.17 in /usr/local/lib/python3.9/dist-packages (from transformers) (1.22.4)\n",
            "Requirement already satisfied: typing-extensions>=3.7.4.3 in /usr/local/lib/python3.9/dist-packages (from huggingface-hub<1.0,>=0.11.0->transformers) (4.5.0)\n",
            "Requirement already satisfied: urllib3<1.27,>=1.21.1 in /usr/local/lib/python3.9/dist-packages (from requests->transformers) (1.26.15)\n",
            "Requirement already satisfied: certifi>=2017.4.17 in /usr/local/lib/python3.9/dist-packages (from requests->transformers) (2022.12.7)\n",
            "Requirement already satisfied: idna<4,>=2.5 in /usr/local/lib/python3.9/dist-packages (from requests->transformers) (3.4)\n",
            "Requirement already satisfied: charset-normalizer~=2.0.0 in /usr/local/lib/python3.9/dist-packages (from requests->transformers) (2.0.12)\n",
            "Installing collected packages: tokenizers, huggingface-hub, transformers\n",
            "Successfully installed huggingface-hub-0.13.4 tokenizers-0.13.3 transformers-4.27.4\n"
          ]
        }
      ]
    },
    {
      "cell_type": "code",
      "source": [
        "from transformers import AutoTokenizer\n",
        "\n",
        "model_checkpoint = \"facebook/bart-base\"\n",
        "tokenizer = AutoTokenizer.from_pretrained(model_checkpoint)"
      ],
      "metadata": {
        "id": "ZfX7kmOe57Eh",
        "execution": {
          "iopub.status.busy": "2023-04-09T17:26:19.997800Z",
          "iopub.execute_input": "2023-04-09T17:26:19.998093Z",
          "iopub.status.idle": "2023-04-09T17:26:23.251859Z",
          "shell.execute_reply.started": "2023-04-09T17:26:19.998064Z",
          "shell.execute_reply": "2023-04-09T17:26:23.247997Z"
        },
        "trusted": true,
        "colab": {
          "base_uri": "https://localhost:8080/",
          "height": 145,
          "referenced_widgets": [
            "afb598b814ce4565b5a2e1dc80707af0",
            "9c84674bd33b434492eca0f4d19b094d",
            "b70f49ed05a64b65a9228d29254e68bd",
            "1df1b1c5b7834f8b907a6d1b331d91fa",
            "f32e180c93f344e3a87836673b3a03d2",
            "ae13e2c9e9b14c8e9a6c97e33b5f1df2",
            "d28eb38f9d704909b262a8f76f9be3f3",
            "5a999614ad9c46b4abdbeae3e31d7914",
            "b544abea5d0e45c1a13856011c3a1095",
            "642a77b41b944d04804503990956baf4",
            "34efc94552304685bea2ebed77adf35d",
            "85b82ab23bc94135979ce48cfe6b2d7f",
            "a4826ac043d64e69965e76b3189df4b5",
            "17760d07f6ec4c0383b47aa7187642cc",
            "421954782d954e73b393d06ceb7fb85d",
            "43904e575bde4272a5239b0c0db3418d",
            "1807e6bf65894617b259614ff49be665",
            "c67d924b0fee4fceb5a112954c4fb0c9",
            "6e2da996cfbf41ea8f1e4fbb2cfdffb8",
            "fd9de01cadb4430bae8061b25202b346",
            "e349ea28b297440aa3c9ac31b421e329",
            "79e2529bc7364def9774856b58ee5567",
            "0ba53216dc8a418397ab071ca78f1b28",
            "61c1414e2f874bdca2bfe2335524de8f",
            "f27465bde92a4b1db86aab0f5b889ad2",
            "422310e60d804095991cec077be4e1f6",
            "6f2f3d545daf4cf4bd976c7561fd1ca9",
            "615316daf73c42c9b75b1f729b930e4f",
            "d2b5bef45aab4b12b669d4541234ccf3",
            "7f8fd45f3b8c45b9be3028e4d661c4a9",
            "71e87c90b4fd41f39af8006430de9fa9",
            "768506db7149450ca3ee369ff288986b",
            "648143871b9e43b2bf0e2e7ab5a50719",
            "a42ce79d74724281a0f91f86248a7bfb",
            "5a726b6c784246fdb8c2fb7617737171",
            "094927f3a70f4abfb2b19d48f8fac646",
            "d9bfbb9878c14ddead484b1d0e7f9fb7",
            "8423eb73a61047308c2d79c057f1dac5",
            "f556e34b6d5e4828ad70d8d49b7bdc93",
            "03aa641f126a4d74839593e2e813c55e",
            "82939c2844254bd4aff2ea07ab308ffe",
            "ea788820a8a9470faa5403d14fdd410c",
            "0560eb5dd3d64416b7987f72101d0af5",
            "9b866e823ee5477dab8ac58d97c02b61"
          ]
        },
        "outputId": "bbbde617-a6b5-4735-dd48-1d4cf8b5c085"
      },
      "execution_count": null,
      "outputs": [
        {
          "output_type": "display_data",
          "data": {
            "text/plain": [
              "Downloading (…)lve/main/config.json:   0%|          | 0.00/1.72k [00:00<?, ?B/s]"
            ],
            "application/vnd.jupyter.widget-view+json": {
              "version_major": 2,
              "version_minor": 0,
              "model_id": "afb598b814ce4565b5a2e1dc80707af0"
            }
          },
          "metadata": {}
        },
        {
          "output_type": "display_data",
          "data": {
            "text/plain": [
              "Downloading (…)olve/main/vocab.json:   0%|          | 0.00/899k [00:00<?, ?B/s]"
            ],
            "application/vnd.jupyter.widget-view+json": {
              "version_major": 2,
              "version_minor": 0,
              "model_id": "85b82ab23bc94135979ce48cfe6b2d7f"
            }
          },
          "metadata": {}
        },
        {
          "output_type": "display_data",
          "data": {
            "text/plain": [
              "Downloading (…)olve/main/merges.txt:   0%|          | 0.00/456k [00:00<?, ?B/s]"
            ],
            "application/vnd.jupyter.widget-view+json": {
              "version_major": 2,
              "version_minor": 0,
              "model_id": "0ba53216dc8a418397ab071ca78f1b28"
            }
          },
          "metadata": {}
        },
        {
          "output_type": "display_data",
          "data": {
            "text/plain": [
              "Downloading (…)/main/tokenizer.json:   0%|          | 0.00/1.36M [00:00<?, ?B/s]"
            ],
            "application/vnd.jupyter.widget-view+json": {
              "version_major": 2,
              "version_minor": 0,
              "model_id": "a42ce79d74724281a0f91f86248a7bfb"
            }
          },
          "metadata": {}
        }
      ]
    },
    {
      "cell_type": "code",
      "source": [
        "## Setting the max_length for padding or truncating articles and summaries\n",
        "max_length_art = 1000\n",
        "max_length_sum = 180"
      ],
      "metadata": {
        "id": "8a5axt-5fuNi",
        "execution": {
          "iopub.status.busy": "2023-04-09T17:26:23.253395Z",
          "iopub.execute_input": "2023-04-09T17:26:23.254081Z",
          "iopub.status.idle": "2023-04-09T17:26:23.260319Z",
          "shell.execute_reply.started": "2023-04-09T17:26:23.254037Z",
          "shell.execute_reply": "2023-04-09T17:26:23.259056Z"
        },
        "trusted": true
      },
      "execution_count": null,
      "outputs": []
    },
    {
      "cell_type": "code",
      "source": [
        "def preprocess_data(data):\n",
        "    model_inputs = []\n",
        "    labels = []\n",
        "    for i in range(len(data)):\n",
        "      model_inputs.append(tokenizer(\n",
        "      data[i:i+1][\"cleaned_articles\"].tolist(),\n",
        "      max_length=max_length_art,\n",
        "      truncation=True,\n",
        "    ))\n",
        "      labels.append(tokenizer(\n",
        "      data[i:i+1][\"highlights\"].tolist(), max_length=max_length_sum, truncation=True\n",
        "    )['input_ids'])\n",
        "    return model_inputs,labels\n",
        "\n",
        "def create_tokenized_data(data):\n",
        "    model_inputs,labels = preprocess_data(data)\n",
        "    for item,label in zip(model_inputs,labels):\n",
        "        item.update({\"labels\":label})\n",
        "    return model_inputs"
      ],
      "metadata": {
        "id": "u3PU5FJKfGOu",
        "execution": {
          "iopub.status.busy": "2023-04-09T18:55:23.522369Z",
          "iopub.execute_input": "2023-04-09T18:55:23.522778Z",
          "iopub.status.idle": "2023-04-09T18:55:23.532170Z",
          "shell.execute_reply.started": "2023-04-09T18:55:23.522744Z",
          "shell.execute_reply": "2023-04-09T18:55:23.531227Z"
        },
        "trusted": true
      },
      "execution_count": null,
      "outputs": []
    },
    {
      "cell_type": "code",
      "source": [
        "t0=time()\n",
        "tokenized_train = create_tokenized_data(train_df)\n",
        "tokenized_val = create_tokenized_data(validation)\n",
        "print(f\"Completed in {time()-t0} secs\")"
      ],
      "metadata": {
        "id": "aYJmx-UemUTz",
        "execution": {
          "iopub.status.busy": "2023-04-09T19:00:57.609298Z",
          "iopub.execute_input": "2023-04-09T19:00:57.610420Z",
          "iopub.status.idle": "2023-04-09T19:05:41.692952Z",
          "shell.execute_reply.started": "2023-04-09T19:00:57.610349Z",
          "shell.execute_reply": "2023-04-09T19:05:41.691470Z"
        },
        "trusted": true,
        "outputId": "92e771f5-82c1-4890-acb3-4ae9f6fd8660"
      },
      "execution_count": null,
      "outputs": [
        {
          "name": "stdout",
          "text": "Completed in 284.07619762420654 secs\n",
          "output_type": "stream"
        }
      ]
    },
    {
      "cell_type": "code",
      "source": [
        "tokenized_data_train = pd.DataFrame()\n",
        "tokenized_data_val = pd.DataFrame()"
      ],
      "metadata": {
        "execution": {
          "iopub.status.busy": "2023-04-09T20:24:11.617839Z",
          "iopub.execute_input": "2023-04-09T20:24:11.618286Z",
          "iopub.status.idle": "2023-04-09T20:24:11.624389Z",
          "shell.execute_reply.started": "2023-04-09T20:24:11.618247Z",
          "shell.execute_reply": "2023-04-09T20:24:11.623117Z"
        },
        "trusted": true,
        "id": "9bcDhQBr6F1F"
      },
      "execution_count": null,
      "outputs": []
    },
    {
      "cell_type": "code",
      "source": [
        "tokenized_data_train['train'] = tokenized_train\n",
        "tokenized_data_val['val'] = tokenized_val"
      ],
      "metadata": {
        "execution": {
          "iopub.status.busy": "2023-04-09T20:24:12.311692Z",
          "iopub.execute_input": "2023-04-09T20:24:12.312285Z",
          "iopub.status.idle": "2023-04-09T20:24:13.119852Z",
          "shell.execute_reply.started": "2023-04-09T20:24:12.312249Z",
          "shell.execute_reply": "2023-04-09T20:24:13.118981Z"
        },
        "trusted": true,
        "id": "566_7xiW6F1G"
      },
      "execution_count": null,
      "outputs": []
    },
    {
      "cell_type": "code",
      "source": [
        "tokenized_data_train.head()"
      ],
      "metadata": {
        "execution": {
          "iopub.status.busy": "2023-04-09T20:24:13.789673Z",
          "iopub.execute_input": "2023-04-09T20:24:13.790345Z",
          "iopub.status.idle": "2023-04-09T20:24:13.800922Z",
          "shell.execute_reply.started": "2023-04-09T20:24:13.790302Z",
          "shell.execute_reply": "2023-04-09T20:24:13.800203Z"
        },
        "trusted": true,
        "id": "pp1iMQmQ6F1G",
        "outputId": "d4caf642-ed42-4c86-f8d2-797e86529352"
      },
      "execution_count": null,
      "outputs": [
        {
          "execution_count": 133,
          "output_type": "execute_result",
          "data": {
            "text/plain": "                                 train\n0  [input_ids, attention_mask, labels]\n1  [input_ids, attention_mask, labels]\n2  [input_ids, attention_mask, labels]\n3  [input_ids, attention_mask, labels]\n4  [input_ids, attention_mask, labels]",
            "text/html": "<div>\n<style scoped>\n    .dataframe tbody tr th:only-of-type {\n        vertical-align: middle;\n    }\n\n    .dataframe tbody tr th {\n        vertical-align: top;\n    }\n\n    .dataframe thead th {\n        text-align: right;\n    }\n</style>\n<table border=\"1\" class=\"dataframe\">\n  <thead>\n    <tr style=\"text-align: right;\">\n      <th></th>\n      <th>train</th>\n    </tr>\n  </thead>\n  <tbody>\n    <tr>\n      <th>0</th>\n      <td>[input_ids, attention_mask, labels]</td>\n    </tr>\n    <tr>\n      <th>1</th>\n      <td>[input_ids, attention_mask, labels]</td>\n    </tr>\n    <tr>\n      <th>2</th>\n      <td>[input_ids, attention_mask, labels]</td>\n    </tr>\n    <tr>\n      <th>3</th>\n      <td>[input_ids, attention_mask, labels]</td>\n    </tr>\n    <tr>\n      <th>4</th>\n      <td>[input_ids, attention_mask, labels]</td>\n    </tr>\n  </tbody>\n</table>\n</div>"
          },
          "metadata": {}
        }
      ]
    },
    {
      "cell_type": "code",
      "source": [
        "tokenized_data_train.to_csv(\"./tokenized_data_train.csv\",index=False)\n",
        "tokenized_data_val.to_csv(\"./tokenized_data_val.csv\",index=False)"
      ],
      "metadata": {
        "execution": {
          "iopub.status.busy": "2023-04-09T20:10:48.582594Z",
          "iopub.execute_input": "2023-04-09T20:10:48.583026Z",
          "iopub.status.idle": "2023-04-09T20:11:04.310553Z",
          "shell.execute_reply.started": "2023-04-09T20:10:48.582991Z",
          "shell.execute_reply": "2023-04-09T20:11:04.309127Z"
        },
        "trusted": true,
        "id": "0Dfb-GO26F1G"
      },
      "execution_count": null,
      "outputs": []
    },
    {
      "cell_type": "markdown",
      "source": [
        "---\n",
        "## Model training\n",
        "---"
      ],
      "metadata": {
        "id": "hzbT5VRp6F1G"
      }
    },
    {
      "cell_type": "code",
      "source": [
        "import nltk\n",
        "from nltk.tokenize import sent_tokenize"
      ],
      "metadata": {
        "execution": {
          "iopub.status.busy": "2023-04-09T21:22:49.570795Z",
          "iopub.execute_input": "2023-04-09T21:22:49.571989Z",
          "iopub.status.idle": "2023-04-09T21:22:49.576340Z",
          "shell.execute_reply.started": "2023-04-09T21:22:49.571930Z",
          "shell.execute_reply": "2023-04-09T21:22:49.574883Z"
        },
        "trusted": true,
        "id": "CYCgR7Qk6F1G"
      },
      "execution_count": null,
      "outputs": []
    },
    {
      "cell_type": "code",
      "source": [
        "nltk.download('punkt')"
      ],
      "metadata": {
        "execution": {
          "iopub.status.busy": "2023-04-09T21:22:50.696480Z",
          "iopub.execute_input": "2023-04-09T21:22:50.696872Z",
          "iopub.status.idle": "2023-04-09T21:22:50.851301Z",
          "shell.execute_reply.started": "2023-04-09T21:22:50.696816Z",
          "shell.execute_reply": "2023-04-09T21:22:50.850064Z"
        },
        "trusted": true,
        "colab": {
          "base_uri": "https://localhost:8080/"
        },
        "id": "SxHOUruA6F1G",
        "outputId": "16508fe1-6c1f-4f62-e455-c328debc3c41"
      },
      "execution_count": null,
      "outputs": [
        {
          "output_type": "stream",
          "name": "stderr",
          "text": [
            "[nltk_data] Downloading package punkt to /root/nltk_data...\n",
            "[nltk_data]   Unzipping tokenizers/punkt.zip.\n"
          ]
        },
        {
          "output_type": "execute_result",
          "data": {
            "text/plain": [
              "True"
            ]
          },
          "metadata": {},
          "execution_count": 11
        }
      ]
    },
    {
      "cell_type": "code",
      "source": [
        "tokenized_data_train = pd.read_csv(\"/content/drive/MyDrive/NLP_Project/datasets/tokenized_data_train.csv\",nrows=10000)\n",
        "tokenized_data_val = pd.read_csv(\"/content/drive/MyDrive/NLP_Project/datasets/tokenized_data_val.csv\",nrows=1000)"
      ],
      "metadata": {
        "id": "K32DL9Is6F1G"
      },
      "execution_count": null,
      "outputs": []
    },
    {
      "cell_type": "code",
      "source": [
        "tokenized_data_train.iloc[1].values"
      ],
      "metadata": {
        "execution": {
          "iopub.status.busy": "2023-04-09T20:45:38.568843Z",
          "iopub.execute_input": "2023-04-09T20:45:38.569313Z",
          "iopub.status.idle": "2023-04-09T20:45:38.577043Z",
          "shell.execute_reply.started": "2023-04-09T20:45:38.569278Z",
          "shell.execute_reply": "2023-04-09T20:45:38.575987Z"
        },
        "trusted": true,
        "colab": {
          "base_uri": "https://localhost:8080/"
        },
        "id": "eG8bp7Mz6F1H",
        "outputId": "25e61ada-6b2b-45e3-be87-7f573b2eeb33"
      },
      "execution_count": null,
      "outputs": [
        {
          "output_type": "execute_result",
          "data": {
            "text/plain": [
              "array([\"{'input_ids': [0, 133, 78, 9, 292, 11544, 13, 8972, 5227, 42, 526, 9, 5, 8755, 1239, 317, 11, 5524, 42, 186, 6, 147, 5, 2772, 9, 5, 111, 958, 5454, 2234, 1639, 10, 4884, 219, 2849, 12, 40776, 7, 5, 213, 1033, 12, 261, 159, 5, 921, 23, 5, 1582, 2616, 4, 152, 40, 28, 5227, 17, 27, 29, 78, 2018, 11, 10, 1675, 221, 4164, 3637, 515, 187, 94, 550, 6, 8, 78, 1967, 4558, 187, 37, 1550, 2660, 94, 11, 5, 111, 397, 12259, 17166, 1967, 37, 4457, 11, 1261, 11, 719, 4, 407, 4309, 5, 1716, 13495, 14, 6246, 6337, 94, 186, 4, 1398, 32, 292, 1142, 5227, 531, 1948, 148, 209, 292, 1061, 114, 37, 965, 17, 27, 90, 7, 213, 1716, 23, 17538, 4, 3759, 13665, 12, 958, 5454, 1924, 8972, 5227, 2653, 1227, 7, 386, 39, 191, 30, 816, 80, 1061, 11, 10, 3236, 479, 286, 5227, 7, 339, 277, 5454, 37, 531, 1100, 114, 37, 16, 2564, 615, 7, 1539, 5, 3829, 9, 16498, 1509, 13693, 6506, 479, 4557, 7, 961, 54, 13892, 49, 4312, 15, 84, 637, 7, 489, 697, 1953, 9, 20, 2117, 15, 481, 12, 560, 12, 2456, 2384, 4, 440, 65, 802, 2183, 697, 1953, 7, 3601, 74, 28, 10, 2793, 517, 13, 5, 177, 4, 2155, 404, 3006, 3026, 162, 37, 17, 27, 29, 57, 562, 5, 276, 1579, 6, 511, 84, 5451, 1194, 19, 5, 3295, 17, 27, 29, 2236, 9, 3524, 4, 509, 10746, 6, 10125, 1405, 417, 6, 27446, 62, 5, 6711, 4, 832, 1354, 21, 205, 615, 7, 339, 5, 13261, 17560, 413, 3261, 94, 76, 53, 51, 1395, 4960, 3601, 8, 98, 5, 129, 778, 79, 1516, 7, 1183, 697, 3524, 16, 20, 2117, 8, 1804, 1953, 9, 5, 8755, 4, 11258, 79, 33, 551, 62, 5, 177, 23, 70, 114, 79, 5844, 17, 27, 90, 56, 190, 209, 14628, 27955, 13, 7125, 116, 1541, 13836, 3738, 109, 2770, 173, 11, 542, 4352, 13247, 538, 11268, 53, 47, 109, 2490, 51, 40, 1010, 28, 1633, 19, 258, 1420, 3016, 639, 49, 7314, 6, 1195, 87, 65, 4, 1534, 37, 2245, 116, 5227, 16, 8, 2282, 17, 27, 90, 10, 9621, 9, 1311, 16498, 1509, 13693, 6506, 10, 422, 13, 39, 418, 3867, 37, 64, 904, 10, 1313, 2935, 15, 42, 65, 4, 660, 542, 2253, 24071, 868, 173, 19889, 21, 65, 9, 5, 383, 14, 851, 123, 39, 3543, 8, 37, 782, 7, 28, 441, 7, 342, 11, 5, 543, 722, 683, 55, 4, 19883, 6, 89, 32, 2188, 13, 9420, 9743, 4, 85, 17, 27, 29, 300, 7, 28, 205, 340, 14, 37, 2653, 1227, 7, 386, 39, 191, 30, 816, 80, 1061, 11, 10, 3236, 4, 2780, 17, 27, 29, 1034, 37, 1411, 292, 1061, 396, 683, 34631, 39, 795, 124, 50, 1158, 7, 34478, 4, 2615, 37, 465, 5, 2105, 1970, 116, 616, 8972, 34, 57, 409, 6, 1509, 13693, 6506, 34, 551, 5, 1808, 9, 1428, 7, 10, 92, 672, 4, 91, 17, 27, 29, 6566, 3022, 5, 1011, 1314, 159, 5, 1692, 4, 2306, 5, 375, 891, 9, 107, 6, 5227, 21, 3022, 24, 8, 40771, 4, 2223, 39, 1471, 29162, 399, 17, 27, 90, 311, 24, 6, 5227, 6, 3234, 19, 10, 55, 12293, 7021, 6, 888, 4024, 5, 1011, 1341, 157, 11, 14, 10021, 515, 4, 978, 52, 2067, 7, 192, 114, 37, 64, 12982, 615, 2105, 5924, 11, 221, 4164, 3637, 1061, 7, 3511, 4, 2285, 2018, 10, 55, 12293, 7021, 5, 111, 180, 12, 279, 531, 67, 3511, 19, 1509, 13693, 6506, 18, 4292, 1428, 479, 44, 711, 100, 222, 45, 33, 10, 936, 36, 5632, 9890, 322, 38, 33, 743, 4, 125, 14, 17, 27, 29, 45, 5, 696, 4, 17, 27, 470, 15170, 1436, 40, 15546, 28, 15449, 70, 167, 16043, 54, 1695, 39, 411, 12, 2151, 1108, 21, 528, 7, 10, 936, 19, 9687, 2196, 4, 6781, 9997, 6, 4146, 9, 5, 26, 6639, 33, 2325, 49, 3969, 15, 239, 5439, 4, 6233, 37, 300, 5, 1855, 11813, 1423, 7418, 116, 85, 21, 13541, 8777, 7, 192, 8972, 6, 11, 39, 94, 9913, 6, 492, 10, 1323, 868, 23153, 1258, 9, 10, 111, 4539, 636, 11688, 23, 1855, 11813, 4, 374, 411, 7657, 37, 3741, 6435, 196, 5, 1011, 117, 55, 87, 10, 367, 1730, 11, 760, 9, 123, 4, 35078, 3649, 42, 40, 45, 1369, 683, 37, 1516, 124, 88, 5, 1967, 6108, 6, 53, 24, 17, 27, 29, 45, 10, 15233, 4, 14821, 6, 38, 17, 27, 417, 33, 26, 8972, 115, 492, 62, 5, 177, 13, 10, 2202, 8, 202, 45, 385, 5865, 411, 8053, 15, 39, 671, 4, 20, 5227, 9, 793, 21, 10, 29107, 8, 14092, 342, 1334, 148, 5, 4874, 3423, 111, 53, 16, 14, 8972, 1613, 116, 6233, 89, 655, 57, 10, 386, 7, 10, 76, 101, 42, 65, 116, 26874, 644, 8, 902, 32, 33019, 13105, 2577, 4, 978, 81, 5, 220, 353, 52, 17, 27, 890, 192, 80, 15245, 968, 25043, 4986, 15, 1169, 526, 9, 5, 5038, 6, 232, 440, 1509, 13693, 6506, 2116, 12, 3463, 424, 6158, 11, 10, 7378, 12054, 8, 6, 2532, 6, 5, 2930, 8, 34515, 6111, 2009, 3558, 107, 9, 5589, 8, 602, 697, 1953, 9, 20, 2117, 409, 31, 5, 3295, 4, 280, 17, 27, 29, 137, 5, 3031, 3524, 4, 2615, 37, 202, 342, 90, 223, 1164, 116, 13308, 40, 8838, 162, 89, 21, 655, 1268, 7, 8933, 7, 8972, 77, 24, 376, 7, 18701, 154, 4874, 342, 1872, 4, 125, 24, 17, 27, 29, 10, 5074, 35121, 1809, 14, 2057, 16, 460, 5, 78, 631, 7, 213, 6, 8, 24, 17, 27, 29, 10, 251, 86, 187, 52, 17, 27, 548, 450, 123, 2332, 5, 2345, 9, 2490, 16337, 15, 5, 16543, 14, 341, 7, 28, 10, 576, 4, 2615, 37, 1045, 103, 4093, 116, 374, 349, 9, 5, 237, 7657, 8972, 351, 5, 8755, 37, 222, 24, 5, 276, 169, 93, 745, 2], 'attention_mask': [1, 1, 1, 1, 1, 1, 1, 1, 1, 1, 1, 1, 1, 1, 1, 1, 1, 1, 1, 1, 1, 1, 1, 1, 1, 1, 1, 1, 1, 1, 1, 1, 1, 1, 1, 1, 1, 1, 1, 1, 1, 1, 1, 1, 1, 1, 1, 1, 1, 1, 1, 1, 1, 1, 1, 1, 1, 1, 1, 1, 1, 1, 1, 1, 1, 1, 1, 1, 1, 1, 1, 1, 1, 1, 1, 1, 1, 1, 1, 1, 1, 1, 1, 1, 1, 1, 1, 1, 1, 1, 1, 1, 1, 1, 1, 1, 1, 1, 1, 1, 1, 1, 1, 1, 1, 1, 1, 1, 1, 1, 1, 1, 1, 1, 1, 1, 1, 1, 1, 1, 1, 1, 1, 1, 1, 1, 1, 1, 1, 1, 1, 1, 1, 1, 1, 1, 1, 1, 1, 1, 1, 1, 1, 1, 1, 1, 1, 1, 1, 1, 1, 1, 1, 1, 1, 1, 1, 1, 1, 1, 1, 1, 1, 1, 1, 1, 1, 1, 1, 1, 1, 1, 1, 1, 1, 1, 1, 1, 1, 1, 1, 1, 1, 1, 1, 1, 1, 1, 1, 1, 1, 1, 1, 1, 1, 1, 1, 1, 1, 1, 1, 1, 1, 1, 1, 1, 1, 1, 1, 1, 1, 1, 1, 1, 1, 1, 1, 1, 1, 1, 1, 1, 1, 1, 1, 1, 1, 1, 1, 1, 1, 1, 1, 1, 1, 1, 1, 1, 1, 1, 1, 1, 1, 1, 1, 1, 1, 1, 1, 1, 1, 1, 1, 1, 1, 1, 1, 1, 1, 1, 1, 1, 1, 1, 1, 1, 1, 1, 1, 1, 1, 1, 1, 1, 1, 1, 1, 1, 1, 1, 1, 1, 1, 1, 1, 1, 1, 1, 1, 1, 1, 1, 1, 1, 1, 1, 1, 1, 1, 1, 1, 1, 1, 1, 1, 1, 1, 1, 1, 1, 1, 1, 1, 1, 1, 1, 1, 1, 1, 1, 1, 1, 1, 1, 1, 1, 1, 1, 1, 1, 1, 1, 1, 1, 1, 1, 1, 1, 1, 1, 1, 1, 1, 1, 1, 1, 1, 1, 1, 1, 1, 1, 1, 1, 1, 1, 1, 1, 1, 1, 1, 1, 1, 1, 1, 1, 1, 1, 1, 1, 1, 1, 1, 1, 1, 1, 1, 1, 1, 1, 1, 1, 1, 1, 1, 1, 1, 1, 1, 1, 1, 1, 1, 1, 1, 1, 1, 1, 1, 1, 1, 1, 1, 1, 1, 1, 1, 1, 1, 1, 1, 1, 1, 1, 1, 1, 1, 1, 1, 1, 1, 1, 1, 1, 1, 1, 1, 1, 1, 1, 1, 1, 1, 1, 1, 1, 1, 1, 1, 1, 1, 1, 1, 1, 1, 1, 1, 1, 1, 1, 1, 1, 1, 1, 1, 1, 1, 1, 1, 1, 1, 1, 1, 1, 1, 1, 1, 1, 1, 1, 1, 1, 1, 1, 1, 1, 1, 1, 1, 1, 1, 1, 1, 1, 1, 1, 1, 1, 1, 1, 1, 1, 1, 1, 1, 1, 1, 1, 1, 1, 1, 1, 1, 1, 1, 1, 1, 1, 1, 1, 1, 1, 1, 1, 1, 1, 1, 1, 1, 1, 1, 1, 1, 1, 1, 1, 1, 1, 1, 1, 1, 1, 1, 1, 1, 1, 1, 1, 1, 1, 1, 1, 1, 1, 1, 1, 1, 1, 1, 1, 1, 1, 1, 1, 1, 1, 1, 1, 1, 1, 1, 1, 1, 1, 1, 1, 1, 1, 1, 1, 1, 1, 1, 1, 1, 1, 1, 1, 1, 1, 1, 1, 1, 1, 1, 1, 1, 1, 1, 1, 1, 1, 1, 1, 1, 1, 1, 1, 1, 1, 1, 1, 1, 1, 1, 1, 1, 1, 1, 1, 1, 1, 1, 1, 1, 1, 1, 1, 1, 1, 1, 1, 1, 1, 1, 1, 1, 1, 1, 1, 1, 1, 1, 1, 1, 1, 1, 1, 1, 1, 1, 1, 1, 1, 1, 1, 1, 1, 1, 1, 1, 1, 1, 1, 1, 1, 1, 1, 1, 1, 1, 1, 1, 1, 1, 1, 1, 1, 1, 1, 1, 1, 1, 1, 1, 1, 1, 1, 1, 1, 1, 1, 1, 1, 1, 1, 1, 1, 1, 1, 1, 1, 1, 1, 1, 1, 1, 1, 1, 1, 1, 1, 1, 1, 1, 1, 1, 1, 1, 1, 1, 1, 1, 1, 1, 1, 1, 1, 1, 1, 1, 1, 1, 1, 1, 1, 1, 1, 1, 1, 1, 1, 1, 1, 1, 1, 1, 1, 1, 1, 1, 1, 1, 1, 1, 1, 1, 1, 1, 1, 1, 1, 1, 1, 1, 1, 1, 1, 1, 1, 1, 1, 1, 1, 1, 1, 1, 1, 1, 1, 1, 1, 1, 1, 1, 1, 1, 1, 1, 1, 1, 1, 1, 1, 1, 1, 1, 1, 1, 1, 1, 1, 1, 1, 1, 1, 1, 1, 1, 1, 1, 1, 1, 1, 1, 1, 1, 1, 1, 1, 1, 1, 1, 1, 1, 1, 1, 1, 1, 1, 1, 1, 1, 1, 1, 1, 1, 1, 1, 1, 1, 1, 1, 1, 1, 1, 1, 1, 1, 1, 1, 1, 1, 1, 1, 1, 1, 1, 1, 1, 1, 1, 1, 1, 1, 1, 1, 1, 1, 1, 1, 1, 1, 1, 1, 1, 1, 1, 1, 1, 1, 1, 1, 1, 1, 1, 1, 1, 1, 1, 1, 1, 1, 1, 1, 1, 1, 1, 1, 1, 1, 1, 1, 1, 1, 1, 1, 1, 1, 1, 1, 1, 1, 1, 1, 1, 1, 1, 1, 1, 1, 1, 1, 1, 1, 1, 1, 1, 1, 1, 1, 1, 1, 1, 1, 1, 1, 1, 1, 1, 1, 1, 1, 1, 1, 1, 1, 1, 1, 1, 1, 1, 1, 1, 1, 1, 1, 1, 1, 1, 1, 1, 1, 1, 1, 1, 1, 1, 1, 1, 1, 1, 1, 1, 1, 1, 1, 1, 1, 1, 1, 1, 1, 1, 1, 1, 1, 1, 1, 1, 1, 1, 1, 1, 1, 1, 1, 1, 1, 1, 1, 1, 1, 1, 1, 1, 1, 1, 1, 1], 'labels': [0, 565, 10168, 5227, 16, 278, 7, 310, 39, 78, 1675, 221, 4164, 3637, 515, 187, 94, 550, 479, 50118, 133, 501, 12, 958, 5454, 2234, 1239, 15, 292, 11544, 137, 5, 8755, 479, 50118, 10554, 6380, 6990, 292, 1142, 14, 5227, 531, 1948, 2052, 7, 17538, 479, 2]}\"],\n",
              "      dtype=object)"
            ]
          },
          "metadata": {},
          "execution_count": 8
        }
      ]
    },
    {
      "cell_type": "code",
      "source": [
        "## Using eval to convert the dictionaries saved as str in dataframe to type dict\n",
        "tokenized_data_train['train'] = tokenized_data_train['train'].apply(lambda x : eval(x))\n",
        "tokenized_data_val['val'] = tokenized_data_val['val'].apply(lambda x : eval(x))"
      ],
      "metadata": {
        "execution": {
          "iopub.status.busy": "2023-04-09T20:26:02.316568Z",
          "iopub.execute_input": "2023-04-09T20:26:02.316947Z",
          "iopub.status.idle": "2023-04-09T20:28:01.392040Z",
          "shell.execute_reply.started": "2023-04-09T20:26:02.316917Z",
          "shell.execute_reply": "2023-04-09T20:28:01.391034Z"
        },
        "trusted": true,
        "id": "m2W75t5s6F1H"
      },
      "execution_count": null,
      "outputs": []
    },
    {
      "cell_type": "code",
      "source": [
        "def convert_list(x):\n",
        "    col = {}\n",
        "    col['input_ids'] = x['input_ids'][0]\n",
        "    col['attention_mask'] = x['attention_mask'][0]\n",
        "    col['labels'] = x['labels'][0]\n",
        "    return col"
      ],
      "metadata": {
        "execution": {
          "iopub.status.busy": "2023-04-09T20:57:10.980424Z",
          "iopub.execute_input": "2023-04-09T20:57:10.980798Z",
          "iopub.status.idle": "2023-04-09T20:57:10.986360Z",
          "shell.execute_reply.started": "2023-04-09T20:57:10.980766Z",
          "shell.execute_reply": "2023-04-09T20:57:10.985292Z"
        },
        "trusted": true,
        "id": "gykUWJ1B6F1H"
      },
      "execution_count": null,
      "outputs": []
    },
    {
      "cell_type": "code",
      "source": [
        "# converting from list(list) to a single list\n",
        "tokenized_data_train['train'] = tokenized_data_train['train'].apply(lambda x : convert_list(x) )\n",
        "tokenized_data_val['val'] = tokenized_data_val['val'].apply(lambda x : convert_list(x))"
      ],
      "metadata": {
        "execution": {
          "iopub.status.busy": "2023-04-09T20:57:32.487653Z",
          "iopub.execute_input": "2023-04-09T20:57:32.488066Z",
          "iopub.status.idle": "2023-04-09T20:57:32.583668Z",
          "shell.execute_reply.started": "2023-04-09T20:57:32.488033Z",
          "shell.execute_reply": "2023-04-09T20:57:32.582617Z"
        },
        "trusted": true,
        "id": "oTezqDjU6F1H"
      },
      "execution_count": null,
      "outputs": []
    },
    {
      "cell_type": "code",
      "source": [
        "## Saving dataset\n",
        "tokenized_data_train.to_csv(\"/content/drive/MyDrive/NLP_Project/datasets/tokenized_data_train.csv\",index=False)\n",
        "tokenized_data_val.to_csv(\"/content/drive/MyDrive/NLP_Project/datasets/tokenized_data_val.csv\",index=False)"
      ],
      "metadata": {
        "execution": {
          "iopub.status.busy": "2023-04-09T20:58:44.960518Z",
          "iopub.execute_input": "2023-04-09T20:58:44.960906Z",
          "iopub.status.idle": "2023-04-09T20:59:01.193469Z",
          "shell.execute_reply.started": "2023-04-09T20:58:44.960874Z",
          "shell.execute_reply": "2023-04-09T20:59:01.192636Z"
        },
        "trusted": true,
        "id": "HjZI2ovW6F1H"
      },
      "execution_count": null,
      "outputs": []
    },
    {
      "cell_type": "code",
      "source": [
        "from transformers import AutoModelForSeq2SeqLM\n",
        "\n",
        "model = AutoModelForSeq2SeqLM.from_pretrained(model_checkpoint)"
      ],
      "metadata": {
        "execution": {
          "iopub.status.busy": "2023-04-09T19:56:58.182995Z",
          "iopub.execute_input": "2023-04-09T19:56:58.184063Z",
          "iopub.status.idle": "2023-04-09T19:57:09.619283Z",
          "shell.execute_reply.started": "2023-04-09T19:56:58.183986Z",
          "shell.execute_reply": "2023-04-09T19:57:09.617666Z"
        },
        "trusted": true,
        "id": "PwzzW1Ab6F1H",
        "colab": {
          "base_uri": "https://localhost:8080/",
          "height": 49,
          "referenced_widgets": [
            "152b24e3e4fe4b9480db778e86649c25",
            "428bd1fb397a4e6b81b509c4d47999fc",
            "99457d47bc4147a49f312cb788b60c86",
            "8543be304f7047b0a0e50aaf6a0ee203",
            "9f7107b491f449958735fd011626d276",
            "77ce60e078534ca2a2262a6124d58236",
            "3008ccebf53047d0b5699fdb6d13670a",
            "6c8e7d512dbf45fc8a1d4b3d198c3744",
            "3965416423304948919a9df35c372f16",
            "111449cd55d54996806e647211969623",
            "76888545de4c46ee87a920e72fc01872"
          ]
        },
        "outputId": "e8925934-84db-44a9-d6da-85475720ce24"
      },
      "execution_count": null,
      "outputs": [
        {
          "output_type": "display_data",
          "data": {
            "text/plain": [
              "Downloading pytorch_model.bin:   0%|          | 0.00/558M [00:00<?, ?B/s]"
            ],
            "application/vnd.jupyter.widget-view+json": {
              "version_major": 2,
              "version_minor": 0,
              "model_id": "152b24e3e4fe4b9480db778e86649c25"
            }
          },
          "metadata": {}
        }
      ]
    },
    {
      "cell_type": "code",
      "source": [
        "from huggingface_hub import notebook_login\n",
        "\n",
        "notebook_login()"
      ],
      "metadata": {
        "execution": {
          "iopub.status.busy": "2023-04-09T20:01:54.043122Z",
          "iopub.execute_input": "2023-04-09T20:01:54.043597Z",
          "iopub.status.idle": "2023-04-09T20:01:54.074869Z",
          "shell.execute_reply.started": "2023-04-09T20:01:54.043556Z",
          "shell.execute_reply": "2023-04-09T20:01:54.073633Z"
        },
        "trusted": true,
        "colab": {
          "referenced_widgets": [
            "170b114d6989419f9defdbd91186bee2"
          ]
        },
        "id": "mGKMT62x6F1H",
        "outputId": "2582397f-9f0a-479b-91b7-d5e57797aa07"
      },
      "execution_count": null,
      "outputs": [
        {
          "output_type": "display_data",
          "data": {
            "text/plain": "VBox(children=(HTML(value='<center> <img\\nsrc=https://huggingface.co/front/assets/huggingface_logo-noborder.sv…",
            "application/vnd.jupyter.widget-view+json": {
              "version_major": 2,
              "version_minor": 0,
              "model_id": "170b114d6989419f9defdbd91186bee2"
            }
          },
          "metadata": {}
        }
      ]
    },
    {
      "cell_type": "code",
      "source": [
        "from transformers import Seq2SeqTrainingArguments\n",
        "\n",
        "batch_size = 8\n",
        "num_train_epochs = 3\n",
        "# Show the training loss with every epoch\n",
        "logging_steps = len(tokenized_data_train[\"train\"]) // batch_size\n",
        "model_name = model_checkpoint.split(\"/\")[-1]\n",
        "\n",
        "args = Seq2SeqTrainingArguments(\n",
        "    output_dir=f\"./content/drive/MyDrive/NLP_Project/model/{model_name}-finetuned-cnn-summarizer.pt\",\n",
        "    evaluation_strategy=\"epoch\",\n",
        "    learning_rate=5.6e-5,\n",
        "    per_device_train_batch_size=batch_size,\n",
        "    per_device_eval_batch_size=batch_size,\n",
        "    weight_decay=0.01,\n",
        "    save_total_limit=3,\n",
        "    num_train_epochs=num_train_epochs,\n",
        "    predict_with_generate=True,\n",
        "    logging_steps=logging_steps,\n",
        "    push_to_hub=False,\n",
        ")"
      ],
      "metadata": {
        "execution": {
          "iopub.status.busy": "2023-04-09T21:09:52.053350Z",
          "iopub.execute_input": "2023-04-09T21:09:52.053760Z",
          "iopub.status.idle": "2023-04-09T21:09:52.064756Z",
          "shell.execute_reply.started": "2023-04-09T21:09:52.053725Z",
          "shell.execute_reply": "2023-04-09T21:09:52.063447Z"
        },
        "trusted": true,
        "id": "S77zQV-M6F1H"
      },
      "execution_count": null,
      "outputs": []
    },
    {
      "cell_type": "markdown",
      "source": [
        "## Evaluation Metric"
      ],
      "metadata": {
        "id": "dQsIqNZB6F1I"
      }
    },
    {
      "cell_type": "code",
      "source": [
        "! pip install evaluate\n",
        "! pip install rouge_score"
      ],
      "metadata": {
        "id": "4q1J_aoT86mA"
      },
      "execution_count": null,
      "outputs": []
    },
    {
      "cell_type": "code",
      "source": [
        "import evaluate\n",
        "\n",
        "rouge_score = evaluate.load(\"rouge\")"
      ],
      "metadata": {
        "id": "QrJsvmqo8xha",
        "colab": {
          "base_uri": "https://localhost:8080/",
          "height": 49,
          "referenced_widgets": [
            "17102dceff5d4d96ba2c33e2a3e62e93",
            "643d837fb6534c73b9bde760dd054a1c",
            "43573a49bf7f4c94b77d3c07756eef04",
            "2fe1b614ded64982b07d2b903351e928",
            "c1cdaaa9feb44161856fe30f5faaf222",
            "d1f5271d67d04bc69c72e1edd130400d",
            "a35fe05dadcb4f219ce47cfe6424cf4d",
            "fb6e35adcf414962b6e62f78dce12b7e",
            "7f49a89419b64a948206b47809664ba8",
            "b9a7805e62cd499bbd73f58022ac80ed",
            "33f247cd511b446289ad5170d9f149a9"
          ]
        },
        "outputId": "213b7157-202d-4f48-d975-6c6eadff50f3"
      },
      "execution_count": null,
      "outputs": [
        {
          "output_type": "display_data",
          "data": {
            "text/plain": [
              "Downloading builder script:   0%|          | 0.00/6.27k [00:00<?, ?B/s]"
            ],
            "application/vnd.jupyter.widget-view+json": {
              "version_major": 2,
              "version_minor": 0,
              "model_id": "17102dceff5d4d96ba2c33e2a3e62e93"
            }
          },
          "metadata": {}
        }
      ]
    },
    {
      "cell_type": "code",
      "source": [
        "generated_summary = \"I absolutely loved reading the Hunger Games\"\n",
        "reference_summary = \"I loved reading the Hunger Games\""
      ],
      "metadata": {
        "id": "0oDsM9gnURk-"
      },
      "execution_count": null,
      "outputs": []
    },
    {
      "cell_type": "code",
      "source": [
        "scores = rouge_score.compute(\n",
        "    predictions=[generated_summary], references=[reference_summary]\n",
        ")\n",
        "scores"
      ],
      "metadata": {
        "colab": {
          "base_uri": "https://localhost:8080/"
        },
        "id": "Zsyn9TZqUbol",
        "outputId": "d640b71f-9fcc-4aec-dea5-2329ad00c3b1"
      },
      "execution_count": null,
      "outputs": [
        {
          "output_type": "execute_result",
          "data": {
            "text/plain": [
              "{'rouge1': 0.923076923076923,\n",
              " 'rouge2': 0.7272727272727272,\n",
              " 'rougeL': 0.923076923076923,\n",
              " 'rougeLsum': 0.923076923076923}"
            ]
          },
          "metadata": {},
          "execution_count": 14
        }
      ]
    },
    {
      "cell_type": "code",
      "source": [
        "import numpy as np\n",
        "\n",
        "\n",
        "def compute_metrics(eval_pred):\n",
        "    predictions, labels = eval_pred\n",
        "    # Decode generated summaries into text\n",
        "    decoded_preds = tokenizer.batch_decode(predictions, skip_special_tokens=True)\n",
        "    # Replace -100 in the labels as we can't decode them\n",
        "    labels = np.where(labels != -100, labels, tokenizer.pad_token_id)\n",
        "    # Decode reference summaries into text\n",
        "    decoded_labels = tokenizer.batch_decode(labels, skip_special_tokens=True)\n",
        "    # ROUGE expects a newline after each sentence\n",
        "    decoded_preds = [\"\\n\".join(sent_tokenize(pred.strip())) for pred in decoded_preds]\n",
        "    decoded_labels = [\"\\n\".join(sent_tokenize(label.strip())) for label in decoded_labels]\n",
        "    # Compute ROUGE scores\n",
        "    result = rouge_score.compute(\n",
        "        predictions=decoded_preds, references=decoded_labels, use_stemmer=True\n",
        "    )\n",
        "    # Extract the median scores\n",
        "    #result = {key: value.mid.fmeasure * 100 for key, value in result.items()}\n",
        "    return {k: round(v, 4) for k, v in result.items()}"
      ],
      "metadata": {
        "execution": {
          "iopub.status.busy": "2023-04-09T21:10:46.293544Z",
          "iopub.execute_input": "2023-04-09T21:10:46.294772Z",
          "iopub.status.idle": "2023-04-09T21:10:46.304777Z",
          "shell.execute_reply.started": "2023-04-09T21:10:46.294732Z",
          "shell.execute_reply": "2023-04-09T21:10:46.303205Z"
        },
        "trusted": true,
        "id": "xjTzKXql6F1I"
      },
      "execution_count": null,
      "outputs": []
    },
    {
      "cell_type": "markdown",
      "source": [
        "---\n",
        "## Data Collation\n",
        "---"
      ],
      "metadata": {
        "id": "HUoKC9TH6F1I"
      }
    },
    {
      "cell_type": "code",
      "source": [
        "from transformers import DataCollatorForSeq2Seq\n",
        "\n",
        "data_collator = DataCollatorForSeq2Seq(tokenizer, model=model)"
      ],
      "metadata": {
        "execution": {
          "iopub.status.busy": "2023-04-09T21:10:48.702632Z",
          "iopub.execute_input": "2023-04-09T21:10:48.703213Z",
          "iopub.status.idle": "2023-04-09T21:10:48.707502Z",
          "shell.execute_reply.started": "2023-04-09T21:10:48.703180Z",
          "shell.execute_reply": "2023-04-09T21:10:48.706186Z"
        },
        "trusted": true,
        "id": "r2jw2kZa6F1I"
      },
      "execution_count": null,
      "outputs": []
    },
    {
      "cell_type": "code",
      "source": [
        "features = [tokenized_data_train[\"train\"][i] for i in range(2)]\n",
        "data_collator(features)"
      ],
      "metadata": {
        "execution": {
          "iopub.status.busy": "2023-04-09T21:10:49.676302Z",
          "iopub.execute_input": "2023-04-09T21:10:49.676727Z",
          "iopub.status.idle": "2023-04-09T21:10:49.692353Z",
          "shell.execute_reply.started": "2023-04-09T21:10:49.676693Z",
          "shell.execute_reply": "2023-04-09T21:10:49.691199Z"
        },
        "trusted": true,
        "colab": {
          "base_uri": "https://localhost:8080/"
        },
        "id": "FW1LwpL76F1I",
        "outputId": "0d0d3a9c-b20c-4eb3-fbc2-8b19a0b929ae"
      },
      "execution_count": null,
      "outputs": [
        {
          "output_type": "stream",
          "name": "stderr",
          "text": [
            "You're using a BartTokenizerFast tokenizer. Please note that with a fast tokenizer, using the `__call__` method is faster than using a method to encode the text followed by a call to the `pad` method to get a padded encoding.\n"
          ]
        },
        {
          "output_type": "execute_result",
          "data": {
            "text/plain": [
              "{'input_ids': tensor([[   0,  863, 7372,  ...,    1,    1,    1],\n",
              "        [   0,  133,   78,  ...,   93,  745,    2]]), 'attention_mask': tensor([[1, 1, 1,  ..., 0, 0, 0],\n",
              "        [1, 1, 1,  ..., 1, 1, 1]]), 'labels': tensor([[    0,   863,  7372, 10016, 27968,  2102,  1419,    13,  3098,    31,\n",
              "         19643,  1688,  3999,  1243,    11,    10,   984,  2518,   119,   432,\n",
              "           479, 50118,   133, 19931,    18,  1150,    21,  9694,    77,    37,\n",
              "            21,   292,    12, 12857,    12,   279,   479, 50118, 37454, 27968,\n",
              "          2102,    18,   985,  3136,    31,   247,     7,   247,    19,   123,\n",
              "           479, 50118,   894,    34,   702,    11,  8700,     6,  2627,     8,\n",
              "          5244,   479, 50118,  1620,    10,  2143,     6, 10016, 27968,  2102,\n",
              "         23390,  1720,  6606,  5955,  7991,   479,     2],\n",
              "        [    0,   565, 10168,  5227,    16,   278,     7,   310,    39,    78,\n",
              "          1675,   221,  4164,  3637,   515,   187,    94,   550,   479, 50118,\n",
              "           133,   501,    12,   958,  5454,  2234,  1239,    15,   292, 11544,\n",
              "           137,     5,  8755,   479, 50118, 10554,  6380,  6990,   292,  1142,\n",
              "            14,  5227,   531,  1948,  2052,     7, 17538,   479,     2,  -100,\n",
              "          -100,  -100,  -100,  -100,  -100,  -100,  -100,  -100,  -100,  -100,\n",
              "          -100,  -100,  -100,  -100,  -100,  -100,  -100,  -100,  -100,  -100,\n",
              "          -100,  -100,  -100,  -100,  -100,  -100,  -100]]), 'decoder_input_ids': tensor([[    2,     0,   863,  7372, 10016, 27968,  2102,  1419,    13,  3098,\n",
              "            31, 19643,  1688,  3999,  1243,    11,    10,   984,  2518,   119,\n",
              "           432,   479, 50118,   133, 19931,    18,  1150,    21,  9694,    77,\n",
              "            37,    21,   292,    12, 12857,    12,   279,   479, 50118, 37454,\n",
              "         27968,  2102,    18,   985,  3136,    31,   247,     7,   247,    19,\n",
              "           123,   479, 50118,   894,    34,   702,    11,  8700,     6,  2627,\n",
              "             8,  5244,   479, 50118,  1620,    10,  2143,     6, 10016, 27968,\n",
              "          2102, 23390,  1720,  6606,  5955,  7991,   479],\n",
              "        [    2,     0,   565, 10168,  5227,    16,   278,     7,   310,    39,\n",
              "            78,  1675,   221,  4164,  3637,   515,   187,    94,   550,   479,\n",
              "         50118,   133,   501,    12,   958,  5454,  2234,  1239,    15,   292,\n",
              "         11544,   137,     5,  8755,   479, 50118, 10554,  6380,  6990,   292,\n",
              "          1142,    14,  5227,   531,  1948,  2052,     7, 17538,   479,     2,\n",
              "             1,     1,     1,     1,     1,     1,     1,     1,     1,     1,\n",
              "             1,     1,     1,     1,     1,     1,     1,     1,     1,     1,\n",
              "             1,     1,     1,     1,     1,     1,     1]])}"
            ]
          },
          "metadata": {},
          "execution_count": 17
        }
      ]
    },
    {
      "cell_type": "markdown",
      "source": [
        "---\n",
        "## Creating Trainer\n",
        "---"
      ],
      "metadata": {
        "id": "VPYUEUJD6F1I"
      }
    },
    {
      "cell_type": "code",
      "source": [
        "from transformers import Seq2SeqTrainer\n",
        "\n",
        "trainer = Seq2SeqTrainer(\n",
        "    model,\n",
        "    args,\n",
        "    train_dataset=tokenized_data_train[\"train\"],\n",
        "    eval_dataset=tokenized_data_val[\"val\"],\n",
        "    data_collator=data_collator,\n",
        "    tokenizer=tokenizer,\n",
        "    compute_metrics=compute_metrics,\n",
        ")"
      ],
      "metadata": {
        "execution": {
          "iopub.status.busy": "2023-04-09T21:10:52.842176Z",
          "iopub.execute_input": "2023-04-09T21:10:52.842574Z",
          "iopub.status.idle": "2023-04-09T21:10:52.855890Z",
          "shell.execute_reply.started": "2023-04-09T21:10:52.842533Z",
          "shell.execute_reply": "2023-04-09T21:10:52.854818Z"
        },
        "trusted": true,
        "id": "av0EYJvN6F1I"
      },
      "execution_count": null,
      "outputs": []
    },
    {
      "cell_type": "code",
      "source": [
        "t0= time()\n",
        "trainer.train()\n",
        "print(f\"Training done in{time()-t0}\")"
      ],
      "metadata": {
        "execution": {
          "iopub.status.busy": "2023-04-09T21:15:04.662955Z",
          "iopub.execute_input": "2023-04-09T21:15:04.664241Z"
        },
        "trusted": true,
        "colab": {
          "base_uri": "https://localhost:8080/",
          "height": 245
        },
        "id": "qz7eZYBE6F1J",
        "outputId": "4460de0d-522c-4139-f6bb-e2c054d1c5c4"
      },
      "execution_count": null,
      "outputs": [
        {
          "output_type": "stream",
          "name": "stderr",
          "text": [
            "/usr/local/lib/python3.9/dist-packages/transformers/optimization.py:391: FutureWarning: This implementation of AdamW is deprecated and will be removed in a future version. Use the PyTorch implementation torch.optim.AdamW instead, or set `no_deprecation_warning=True` to disable this warning\n",
            "  warnings.warn(\n"
          ]
        },
        {
          "output_type": "display_data",
          "data": {
            "text/plain": [
              "<IPython.core.display.HTML object>"
            ],
            "text/html": [
              "\n",
              "    <div>\n",
              "      \n",
              "      <progress value='3750' max='3750' style='width:300px; height:20px; vertical-align: middle;'></progress>\n",
              "      [3750/3750 1:23:38, Epoch 3/3]\n",
              "    </div>\n",
              "    <table border=\"1\" class=\"dataframe\">\n",
              "  <thead>\n",
              " <tr style=\"text-align: left;\">\n",
              "      <th>Epoch</th>\n",
              "      <th>Training Loss</th>\n",
              "      <th>Validation Loss</th>\n",
              "      <th>Rouge1</th>\n",
              "      <th>Rouge2</th>\n",
              "      <th>Rougel</th>\n",
              "      <th>Rougelsum</th>\n",
              "    </tr>\n",
              "  </thead>\n",
              "  <tbody>\n",
              "    <tr>\n",
              "      <td>1</td>\n",
              "      <td>1.890000</td>\n",
              "      <td>1.861508</td>\n",
              "      <td>0.231200</td>\n",
              "      <td>0.107600</td>\n",
              "      <td>0.190900</td>\n",
              "      <td>0.218500</td>\n",
              "    </tr>\n",
              "    <tr>\n",
              "      <td>2</td>\n",
              "      <td>1.613700</td>\n",
              "      <td>1.870957</td>\n",
              "      <td>0.233400</td>\n",
              "      <td>0.108300</td>\n",
              "      <td>0.190500</td>\n",
              "      <td>0.219200</td>\n",
              "    </tr>\n",
              "    <tr>\n",
              "      <td>3</td>\n",
              "      <td>1.425700</td>\n",
              "      <td>1.891384</td>\n",
              "      <td>0.232400</td>\n",
              "      <td>0.107000</td>\n",
              "      <td>0.190400</td>\n",
              "      <td>0.218400</td>\n",
              "    </tr>\n",
              "  </tbody>\n",
              "</table><p>"
            ]
          },
          "metadata": {}
        },
        {
          "output_type": "stream",
          "name": "stdout",
          "text": [
            "Training done in5020.020175218582\n"
          ]
        }
      ]
    },
    {
      "cell_type": "code",
      "source": [
        "torch.save(model,\"/content/drive/MyDrive/NLP_Project/model/cnn_summarizer.pt\")"
      ],
      "metadata": {
        "id": "487gHhq76F1J"
      },
      "execution_count": null,
      "outputs": []
    },
    {
      "cell_type": "code",
      "source": [
        "trainer.evaluate()"
      ],
      "metadata": {
        "id": "pXV6CHlBAsfx",
        "colab": {
          "base_uri": "https://localhost:8080/",
          "height": 203
        },
        "outputId": "a15dc5c0-0593-4afb-8d94-085eb20c19b8"
      },
      "execution_count": null,
      "outputs": [
        {
          "output_type": "display_data",
          "data": {
            "text/plain": [
              "<IPython.core.display.HTML object>"
            ],
            "text/html": [
              "\n",
              "    <div>\n",
              "      \n",
              "      <progress value='125' max='125' style='width:300px; height:20px; vertical-align: middle;'></progress>\n",
              "      [125/125 02:34]\n",
              "    </div>\n",
              "    "
            ]
          },
          "metadata": {}
        },
        {
          "output_type": "execute_result",
          "data": {
            "text/plain": [
              "{'eval_loss': 1.8913843631744385,\n",
              " 'eval_rouge1': 0.2324,\n",
              " 'eval_rouge2': 0.107,\n",
              " 'eval_rougeL': 0.1904,\n",
              " 'eval_rougeLsum': 0.2184,\n",
              " 'eval_runtime': 159.6037,\n",
              " 'eval_samples_per_second': 6.266,\n",
              " 'eval_steps_per_second': 0.783,\n",
              " 'epoch': 3.0}"
            ]
          },
          "metadata": {},
          "execution_count": 27
        }
      ]
    },
    {
      "cell_type": "code",
      "source": [
        "model = torch.load(\"/content/drive/MyDrive/NLP_Project/model/cnn_summarizer.pt\",map_location=torch.device('cpu'))"
      ],
      "metadata": {
        "id": "PaAZKKndOB3u"
      },
      "execution_count": null,
      "outputs": []
    },
    {
      "cell_type": "code",
      "source": [
        "from transformers import pipeline\n",
        "\n",
        "summarizer = pipeline(task=\"summarization\",tokenizer=model_checkpoint,model=model)"
      ],
      "metadata": {
        "id": "t8JPp1nmnDXi"
      },
      "execution_count": null,
      "outputs": []
    },
    {
      "cell_type": "code",
      "source": [
        "def unpack(rouge1,rouge2,rougeL,rougeLsum):\n",
        "  return rouge1,rouge2,rougeL,rougeLsum\n",
        "\n",
        "def cal_avg_rouge(test_data):\n",
        "  D = {'rouge1': 0,\n",
        " 'rouge2': 0,\n",
        " 'rougeL': 0,\n",
        " 'rougeLsum': 0}\n",
        "  for i in range(len(test_data)):\n",
        "    article = test_data['cleaned_articles'].iloc[i]\n",
        "    actual_summary = test_data['highlights'].iloc[i]\n",
        "    generated_summary = summarizer(article)\n",
        "    scores = rouge_score.compute(\n",
        "    predictions=[generated_summary[0]['summary_text']], references=[actual_summary]\n",
        ")\n",
        "    rouge1,rouge2,rougeL,rougeLsum = unpack(**scores)\n",
        "    D['rouge1']+=rouge1\n",
        "    D['rouge2']+=rouge2\n",
        "    D['rougeL']+=rougeL\n",
        "    D['rougeLsum']+=rougeLsum\n",
        "  a = {k: v / len(test_data) for k, v in D.items()}\n",
        "  return a"
      ],
      "metadata": {
        "id": "gkULWdvkJa0F"
      },
      "execution_count": null,
      "outputs": []
    },
    {
      "cell_type": "markdown",
      "source": [
        "---\n",
        "## Testing on examples from validation dataset\n",
        "---"
      ],
      "metadata": {
        "id": "7Tl_4VF5DTn_"
      }
    },
    {
      "cell_type": "code",
      "source": [
        "article = validation[validation.cleaned_articles.str.len()<1000]['cleaned_articles'].iloc[0]"
      ],
      "metadata": {
        "id": "eLyZBmz3Dl7G"
      },
      "execution_count": null,
      "outputs": []
    },
    {
      "cell_type": "code",
      "source": [
        "article"
      ],
      "metadata": {
        "colab": {
          "base_uri": "https://localhost:8080/",
          "height": 165
        },
        "id": "2lfCypdoHSzu",
        "outputId": "4b92d76b-4f96-4bd0-8fe3-84cc79258ecf"
      },
      "execution_count": null,
      "outputs": [
        {
          "output_type": "execute_result",
          "data": {
            "text/plain": [
              "\"Modou Barrow has joined Nottingham Forest on loan from Swansea City until the end of the season. Swansea manager Garry Monk was keen for the winger to get first-team football having seen Jefferson Montero return from his hamstring injury. The -year-old has impressed significantly since joining from Swedish club Ostersunds last September and quickly landed an improved four-year contract last month. Swansea City's Modou Barrow has joined Nottingham Forest on loan until the end of the season . Club staff have been surprised by his progress, but having made only one Premier League start this season it has been deemed necessary to send him to the Championship club for extra experience. Forest boss Dougie Freedman took Barrow on trial at Bolton last summer, but was unsuccessful in an attempt to sign him. The -year-old winger was once on trial with Forest manager Dougie Freedman during his Bolton spell .\""
            ],
            "application/vnd.google.colaboratory.intrinsic+json": {
              "type": "string"
            }
          },
          "metadata": {},
          "execution_count": 69
        }
      ]
    },
    {
      "cell_type": "code",
      "source": [
        "actual_summary = validation[validation.cleaned_articles.str.len()<1000]['highlights'].iloc[0]"
      ],
      "metadata": {
        "id": "3csLUZluEKYx"
      },
      "execution_count": null,
      "outputs": []
    },
    {
      "cell_type": "code",
      "source": [
        "generated_summary = summarizer(article)"
      ],
      "metadata": {
        "id": "0Dz47maMENf_"
      },
      "execution_count": null,
      "outputs": []
    },
    {
      "cell_type": "code",
      "source": [
        "generated_summary"
      ],
      "metadata": {
        "colab": {
          "base_uri": "https://localhost:8080/"
        },
        "id": "n5_Hnw_YGJPM",
        "outputId": "edd516ab-8369-420c-e344-55e881b8f482"
      },
      "execution_count": null,
      "outputs": [
        {
          "output_type": "execute_result",
          "data": {
            "text/plain": [
              "[{'summary_text': 'Swansea City winger Modou Barrow has joined Nottingham Forest on loan until the end of the season .\\nThe winger has impressed since joining from Swedish club Ostersunds last September .\\nForest boss Dougie Freedman took Barrow on trial at Bolton last summer, but was unsuccessful in an attempt to sign him .'}]"
            ]
          },
          "metadata": {},
          "execution_count": 71
        }
      ]
    },
    {
      "cell_type": "code",
      "source": [
        "rouge_score.compute(\n",
        "    predictions=[generated_summary[0]['summary_text']], references=[actual_summary]\n",
        ")"
      ],
      "metadata": {
        "colab": {
          "base_uri": "https://localhost:8080/"
        },
        "id": "rMGABgnEFeP_",
        "outputId": "9353cec7-c6c8-4f64-9402-7efe0dd15ec0"
      },
      "execution_count": null,
      "outputs": [
        {
          "output_type": "execute_result",
          "data": {
            "text/plain": [
              "{'rouge1': 0.4444444444444445,\n",
              " 'rouge2': 0.17721518987341772,\n",
              " 'rougeL': 0.2716049382716049,\n",
              " 'rougeLsum': 0.4197530864197531}"
            ]
          },
          "metadata": {},
          "execution_count": 109
        }
      ]
    },
    {
      "cell_type": "code",
      "source": [
        "cal_avg_rouge(validation[validation.cleaned_articles.str.len()<1000])"
      ],
      "metadata": {
        "colab": {
          "base_uri": "https://localhost:8080/"
        },
        "id": "iM5tBOj6NhtX",
        "outputId": "60eba14e-4fae-4e49-bbe0-9420c05d303b"
      },
      "execution_count": null,
      "outputs": [
        {
          "output_type": "execute_result",
          "data": {
            "text/plain": [
              "{'rouge1': 0.375,\n",
              " 'rouge2': 0.18475588338602036,\n",
              " 'rougeL': 0.25666666666666665,\n",
              " 'rougeLsum': 0.32166666666666666}"
            ]
          },
          "metadata": {},
          "execution_count": 114
        }
      ]
    },
    {
      "cell_type": "markdown",
      "source": [
        "---\n",
        "## Evaluatuion on Test articles\n",
        "---"
      ],
      "metadata": {
        "id": "kw-gYeEwHmG3"
      }
    },
    {
      "cell_type": "code",
      "source": [
        "## cleaning test data\n",
        "test['cleaned_articles'] = test['article'].apply(clean).apply(joinList)"
      ],
      "metadata": {
        "id": "32b2so9LBTH8"
      },
      "execution_count": null,
      "outputs": []
    },
    {
      "cell_type": "code",
      "source": [
        "article = test['cleaned_articles'][1]"
      ],
      "metadata": {
        "id": "CHlBTmnUDOHE"
      },
      "execution_count": null,
      "outputs": []
    },
    {
      "cell_type": "code",
      "source": [
        "actual_summary = test['highlights'][1]"
      ],
      "metadata": {
        "id": "SCE7k0llHyI7"
      },
      "execution_count": null,
      "outputs": []
    },
    {
      "cell_type": "code",
      "source": [
        "generated_summary = summarizer(article)"
      ],
      "metadata": {
        "id": "fwlGGLfSDit_"
      },
      "execution_count": null,
      "outputs": []
    },
    {
      "cell_type": "code",
      "source": [
        "scores = rouge_score.compute(\n",
        "    predictions=[generated_summary[0]['summary_text']], references=[actual_summary]\n",
        ")"
      ],
      "metadata": {
        "id": "OKpfU4mSHw-Z"
      },
      "execution_count": null,
      "outputs": []
    },
    {
      "cell_type": "code",
      "source": [
        "cal_avg_rouge(test[test.cleaned_articles.str.len()<1000])"
      ],
      "metadata": {
        "colab": {
          "base_uri": "https://localhost:8080/"
        },
        "id": "sJIJY5ftMoqH",
        "outputId": "98ffe862-5b5c-49c7-a7c1-f524f5dae22d"
      },
      "execution_count": null,
      "outputs": [
        {
          "output_type": "execute_result",
          "data": {
            "text/plain": [
              "{'rouge1': 0.42427964716178107,\n",
              " 'rouge2': 0.21822748689707785,\n",
              " 'rougeL': 0.3204901652291072,\n",
              " 'rougeLsum': 0.3996832349792125}"
            ]
          },
          "metadata": {},
          "execution_count": 118
        }
      ]
    },
    {
      "cell_type": "code",
      "source": [],
      "metadata": {
        "id": "lOMeXlxHimlA"
      },
      "execution_count": null,
      "outputs": []
    }
  ]
}