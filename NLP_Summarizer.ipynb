{
  "nbformat": 4,
  "nbformat_minor": 0,
  "metadata": {
    "colab": {
      "provenance": [],
      "authorship_tag": "ABX9TyOhFvXAG9CqCyGYJmPnF4xp",
      "include_colab_link": true
    },
    "kernelspec": {
      "name": "python3",
      "display_name": "Python 3"
    },
    "language_info": {
      "name": "python"
    },
    "accelerator": "GPU",
    "gpuClass": "standard"
  },
  "cells": [
    {
      "cell_type": "markdown",
      "metadata": {
        "id": "view-in-github",
        "colab_type": "text"
      },
      "source": [
        "<a href=\"https://colab.research.google.com/github/adupatil/Hindi-to-English-Translator/blob/main/NLP_Summarizer.ipynb\" target=\"_parent\"><img src=\"https://colab.research.google.com/assets/colab-badge.svg\" alt=\"Open In Colab\"/></a>"
      ]
    },
    {
      "cell_type": "code",
      "source": [
        "import pandas as pd\n",
        "import numpy as np\n",
        "import torch\n",
        "import nltk\n",
        "from nltk.tokenize import word_tokenize\n",
        "import seaborn as sns\n",
        "import matplotlib.pyplot as plt"
      ],
      "metadata": {
        "id": "7iMqtZgwayoh"
      },
      "execution_count": 1,
      "outputs": []
    },
    {
      "cell_type": "code",
      "source": [
        "from google.colab import drive\n",
        "drive.mount('/content/drive')"
      ],
      "metadata": {
        "colab": {
          "base_uri": "https://localhost:8080/"
        },
        "id": "xAr1P7RRNova",
        "outputId": "8830e82d-4588-4b57-9f63-492195a54de0"
      },
      "execution_count": 2,
      "outputs": [
        {
          "output_type": "stream",
          "name": "stdout",
          "text": [
            "Drive already mounted at /content/drive; to attempt to forcibly remount, call drive.mount(\"/content/drive\", force_remount=True).\n"
          ]
        }
      ]
    },
    {
      "cell_type": "code",
      "source": [
        "train = pd.read_csv(\"/content/drive/MyDrive/NLP_Project/datasets/cnn_dailymail/train.csv\").drop(columns=\"id\")\n",
        "test = pd.read_csv(\"/content/drive/MyDrive/NLP_Project/datasets/cnn_dailymail/test.csv\").drop(columns=\"id\")\n",
        "validation = pd.read_csv(\"/content/drive/MyDrive/NLP_Project/datasets/cnn_dailymail/validation.csv\").drop(columns=\"id\")"
      ],
      "metadata": {
        "id": "lZoFskrSSPvh"
      },
      "execution_count": 3,
      "outputs": []
    },
    {
      "cell_type": "markdown",
      "source": [
        "---\n",
        "## EDA \n",
        "---"
      ],
      "metadata": {
        "id": "E3CFRwOBlZmN"
      }
    },
    {
      "cell_type": "code",
      "source": [
        "train.head()"
      ],
      "metadata": {
        "colab": {
          "base_uri": "https://localhost:8080/",
          "height": 206
        },
        "id": "zxMcxanPjzTx",
        "outputId": "ec2761ff-e758-42ab-d78f-f5cb2f863367"
      },
      "execution_count": 4,
      "outputs": [
        {
          "output_type": "execute_result",
          "data": {
            "text/plain": [
              "                                             article  \\\n",
              "0  By . Associated Press . PUBLISHED: . 14:11 EST...   \n",
              "1  (CNN) -- Ralph Mata was an internal affairs li...   \n",
              "2  A drunk driver who killed a young woman in a h...   \n",
              "3  (CNN) -- With a breezy sweep of his pen Presid...   \n",
              "4  Fleetwood are the only team still to have a 10...   \n",
              "\n",
              "                                          highlights  \n",
              "0  Bishop John Folda, of North Dakota, is taking ...  \n",
              "1  Criminal complaint: Cop used his role to help ...  \n",
              "2  Craig Eccleston-Todd, 27, had drunk at least t...  \n",
              "3  Nina dos Santos says Europe must be ready to a...  \n",
              "4  Fleetwood top of League One after 2-0 win at S...  "
            ],
            "text/html": [
              "\n",
              "  <div id=\"df-e81e83b8-5c54-4999-842f-b0edf73f156d\">\n",
              "    <div class=\"colab-df-container\">\n",
              "      <div>\n",
              "<style scoped>\n",
              "    .dataframe tbody tr th:only-of-type {\n",
              "        vertical-align: middle;\n",
              "    }\n",
              "\n",
              "    .dataframe tbody tr th {\n",
              "        vertical-align: top;\n",
              "    }\n",
              "\n",
              "    .dataframe thead th {\n",
              "        text-align: right;\n",
              "    }\n",
              "</style>\n",
              "<table border=\"1\" class=\"dataframe\">\n",
              "  <thead>\n",
              "    <tr style=\"text-align: right;\">\n",
              "      <th></th>\n",
              "      <th>article</th>\n",
              "      <th>highlights</th>\n",
              "    </tr>\n",
              "  </thead>\n",
              "  <tbody>\n",
              "    <tr>\n",
              "      <th>0</th>\n",
              "      <td>By . Associated Press . PUBLISHED: . 14:11 EST...</td>\n",
              "      <td>Bishop John Folda, of North Dakota, is taking ...</td>\n",
              "    </tr>\n",
              "    <tr>\n",
              "      <th>1</th>\n",
              "      <td>(CNN) -- Ralph Mata was an internal affairs li...</td>\n",
              "      <td>Criminal complaint: Cop used his role to help ...</td>\n",
              "    </tr>\n",
              "    <tr>\n",
              "      <th>2</th>\n",
              "      <td>A drunk driver who killed a young woman in a h...</td>\n",
              "      <td>Craig Eccleston-Todd, 27, had drunk at least t...</td>\n",
              "    </tr>\n",
              "    <tr>\n",
              "      <th>3</th>\n",
              "      <td>(CNN) -- With a breezy sweep of his pen Presid...</td>\n",
              "      <td>Nina dos Santos says Europe must be ready to a...</td>\n",
              "    </tr>\n",
              "    <tr>\n",
              "      <th>4</th>\n",
              "      <td>Fleetwood are the only team still to have a 10...</td>\n",
              "      <td>Fleetwood top of League One after 2-0 win at S...</td>\n",
              "    </tr>\n",
              "  </tbody>\n",
              "</table>\n",
              "</div>\n",
              "      <button class=\"colab-df-convert\" onclick=\"convertToInteractive('df-e81e83b8-5c54-4999-842f-b0edf73f156d')\"\n",
              "              title=\"Convert this dataframe to an interactive table.\"\n",
              "              style=\"display:none;\">\n",
              "        \n",
              "  <svg xmlns=\"http://www.w3.org/2000/svg\" height=\"24px\"viewBox=\"0 0 24 24\"\n",
              "       width=\"24px\">\n",
              "    <path d=\"M0 0h24v24H0V0z\" fill=\"none\"/>\n",
              "    <path d=\"M18.56 5.44l.94 2.06.94-2.06 2.06-.94-2.06-.94-.94-2.06-.94 2.06-2.06.94zm-11 1L8.5 8.5l.94-2.06 2.06-.94-2.06-.94L8.5 2.5l-.94 2.06-2.06.94zm10 10l.94 2.06.94-2.06 2.06-.94-2.06-.94-.94-2.06-.94 2.06-2.06.94z\"/><path d=\"M17.41 7.96l-1.37-1.37c-.4-.4-.92-.59-1.43-.59-.52 0-1.04.2-1.43.59L10.3 9.45l-7.72 7.72c-.78.78-.78 2.05 0 2.83L4 21.41c.39.39.9.59 1.41.59.51 0 1.02-.2 1.41-.59l7.78-7.78 2.81-2.81c.8-.78.8-2.07 0-2.86zM5.41 20L4 18.59l7.72-7.72 1.47 1.35L5.41 20z\"/>\n",
              "  </svg>\n",
              "      </button>\n",
              "      \n",
              "  <style>\n",
              "    .colab-df-container {\n",
              "      display:flex;\n",
              "      flex-wrap:wrap;\n",
              "      gap: 12px;\n",
              "    }\n",
              "\n",
              "    .colab-df-convert {\n",
              "      background-color: #E8F0FE;\n",
              "      border: none;\n",
              "      border-radius: 50%;\n",
              "      cursor: pointer;\n",
              "      display: none;\n",
              "      fill: #1967D2;\n",
              "      height: 32px;\n",
              "      padding: 0 0 0 0;\n",
              "      width: 32px;\n",
              "    }\n",
              "\n",
              "    .colab-df-convert:hover {\n",
              "      background-color: #E2EBFA;\n",
              "      box-shadow: 0px 1px 2px rgba(60, 64, 67, 0.3), 0px 1px 3px 1px rgba(60, 64, 67, 0.15);\n",
              "      fill: #174EA6;\n",
              "    }\n",
              "\n",
              "    [theme=dark] .colab-df-convert {\n",
              "      background-color: #3B4455;\n",
              "      fill: #D2E3FC;\n",
              "    }\n",
              "\n",
              "    [theme=dark] .colab-df-convert:hover {\n",
              "      background-color: #434B5C;\n",
              "      box-shadow: 0px 1px 3px 1px rgba(0, 0, 0, 0.15);\n",
              "      filter: drop-shadow(0px 1px 2px rgba(0, 0, 0, 0.3));\n",
              "      fill: #FFFFFF;\n",
              "    }\n",
              "  </style>\n",
              "\n",
              "      <script>\n",
              "        const buttonEl =\n",
              "          document.querySelector('#df-e81e83b8-5c54-4999-842f-b0edf73f156d button.colab-df-convert');\n",
              "        buttonEl.style.display =\n",
              "          google.colab.kernel.accessAllowed ? 'block' : 'none';\n",
              "\n",
              "        async function convertToInteractive(key) {\n",
              "          const element = document.querySelector('#df-e81e83b8-5c54-4999-842f-b0edf73f156d');\n",
              "          const dataTable =\n",
              "            await google.colab.kernel.invokeFunction('convertToInteractive',\n",
              "                                                     [key], {});\n",
              "          if (!dataTable) return;\n",
              "\n",
              "          const docLinkHtml = 'Like what you see? Visit the ' +\n",
              "            '<a target=\"_blank\" href=https://colab.research.google.com/notebooks/data_table.ipynb>data table notebook</a>'\n",
              "            + ' to learn more about interactive tables.';\n",
              "          element.innerHTML = '';\n",
              "          dataTable['output_type'] = 'display_data';\n",
              "          await google.colab.output.renderOutput(dataTable, element);\n",
              "          const docLink = document.createElement('div');\n",
              "          docLink.innerHTML = docLinkHtml;\n",
              "          element.appendChild(docLink);\n",
              "        }\n",
              "      </script>\n",
              "    </div>\n",
              "  </div>\n",
              "  "
            ]
          },
          "metadata": {},
          "execution_count": 4
        }
      ]
    },
    {
      "cell_type": "code",
      "source": [
        "train.describe()"
      ],
      "metadata": {
        "colab": {
          "base_uri": "https://localhost:8080/",
          "height": 175
        },
        "id": "02vfyHjlj9iz",
        "outputId": "47a2395c-8521-4c0b-a24a-40e8fa83de80"
      },
      "execution_count": 5,
      "outputs": [
        {
          "output_type": "execute_result",
          "data": {
            "text/plain": [
              "                                                  article  \\\n",
              "count                                              287113   \n",
              "unique                                             284005   \n",
              "top     (CNN) -- Dubai could lose its place on the Wom...   \n",
              "freq                                                    3   \n",
              "\n",
              "                                               highlights  \n",
              "count                                              287113  \n",
              "unique                                             282197  \n",
              "top     This page includes the show Transcript and the...  \n",
              "freq                                                   83  "
            ],
            "text/html": [
              "\n",
              "  <div id=\"df-0848981d-7ab6-4df1-a24e-87075333a181\">\n",
              "    <div class=\"colab-df-container\">\n",
              "      <div>\n",
              "<style scoped>\n",
              "    .dataframe tbody tr th:only-of-type {\n",
              "        vertical-align: middle;\n",
              "    }\n",
              "\n",
              "    .dataframe tbody tr th {\n",
              "        vertical-align: top;\n",
              "    }\n",
              "\n",
              "    .dataframe thead th {\n",
              "        text-align: right;\n",
              "    }\n",
              "</style>\n",
              "<table border=\"1\" class=\"dataframe\">\n",
              "  <thead>\n",
              "    <tr style=\"text-align: right;\">\n",
              "      <th></th>\n",
              "      <th>article</th>\n",
              "      <th>highlights</th>\n",
              "    </tr>\n",
              "  </thead>\n",
              "  <tbody>\n",
              "    <tr>\n",
              "      <th>count</th>\n",
              "      <td>287113</td>\n",
              "      <td>287113</td>\n",
              "    </tr>\n",
              "    <tr>\n",
              "      <th>unique</th>\n",
              "      <td>284005</td>\n",
              "      <td>282197</td>\n",
              "    </tr>\n",
              "    <tr>\n",
              "      <th>top</th>\n",
              "      <td>(CNN) -- Dubai could lose its place on the Wom...</td>\n",
              "      <td>This page includes the show Transcript and the...</td>\n",
              "    </tr>\n",
              "    <tr>\n",
              "      <th>freq</th>\n",
              "      <td>3</td>\n",
              "      <td>83</td>\n",
              "    </tr>\n",
              "  </tbody>\n",
              "</table>\n",
              "</div>\n",
              "      <button class=\"colab-df-convert\" onclick=\"convertToInteractive('df-0848981d-7ab6-4df1-a24e-87075333a181')\"\n",
              "              title=\"Convert this dataframe to an interactive table.\"\n",
              "              style=\"display:none;\">\n",
              "        \n",
              "  <svg xmlns=\"http://www.w3.org/2000/svg\" height=\"24px\"viewBox=\"0 0 24 24\"\n",
              "       width=\"24px\">\n",
              "    <path d=\"M0 0h24v24H0V0z\" fill=\"none\"/>\n",
              "    <path d=\"M18.56 5.44l.94 2.06.94-2.06 2.06-.94-2.06-.94-.94-2.06-.94 2.06-2.06.94zm-11 1L8.5 8.5l.94-2.06 2.06-.94-2.06-.94L8.5 2.5l-.94 2.06-2.06.94zm10 10l.94 2.06.94-2.06 2.06-.94-2.06-.94-.94-2.06-.94 2.06-2.06.94z\"/><path d=\"M17.41 7.96l-1.37-1.37c-.4-.4-.92-.59-1.43-.59-.52 0-1.04.2-1.43.59L10.3 9.45l-7.72 7.72c-.78.78-.78 2.05 0 2.83L4 21.41c.39.39.9.59 1.41.59.51 0 1.02-.2 1.41-.59l7.78-7.78 2.81-2.81c.8-.78.8-2.07 0-2.86zM5.41 20L4 18.59l7.72-7.72 1.47 1.35L5.41 20z\"/>\n",
              "  </svg>\n",
              "      </button>\n",
              "      \n",
              "  <style>\n",
              "    .colab-df-container {\n",
              "      display:flex;\n",
              "      flex-wrap:wrap;\n",
              "      gap: 12px;\n",
              "    }\n",
              "\n",
              "    .colab-df-convert {\n",
              "      background-color: #E8F0FE;\n",
              "      border: none;\n",
              "      border-radius: 50%;\n",
              "      cursor: pointer;\n",
              "      display: none;\n",
              "      fill: #1967D2;\n",
              "      height: 32px;\n",
              "      padding: 0 0 0 0;\n",
              "      width: 32px;\n",
              "    }\n",
              "\n",
              "    .colab-df-convert:hover {\n",
              "      background-color: #E2EBFA;\n",
              "      box-shadow: 0px 1px 2px rgba(60, 64, 67, 0.3), 0px 1px 3px 1px rgba(60, 64, 67, 0.15);\n",
              "      fill: #174EA6;\n",
              "    }\n",
              "\n",
              "    [theme=dark] .colab-df-convert {\n",
              "      background-color: #3B4455;\n",
              "      fill: #D2E3FC;\n",
              "    }\n",
              "\n",
              "    [theme=dark] .colab-df-convert:hover {\n",
              "      background-color: #434B5C;\n",
              "      box-shadow: 0px 1px 3px 1px rgba(0, 0, 0, 0.15);\n",
              "      filter: drop-shadow(0px 1px 2px rgba(0, 0, 0, 0.3));\n",
              "      fill: #FFFFFF;\n",
              "    }\n",
              "  </style>\n",
              "\n",
              "      <script>\n",
              "        const buttonEl =\n",
              "          document.querySelector('#df-0848981d-7ab6-4df1-a24e-87075333a181 button.colab-df-convert');\n",
              "        buttonEl.style.display =\n",
              "          google.colab.kernel.accessAllowed ? 'block' : 'none';\n",
              "\n",
              "        async function convertToInteractive(key) {\n",
              "          const element = document.querySelector('#df-0848981d-7ab6-4df1-a24e-87075333a181');\n",
              "          const dataTable =\n",
              "            await google.colab.kernel.invokeFunction('convertToInteractive',\n",
              "                                                     [key], {});\n",
              "          if (!dataTable) return;\n",
              "\n",
              "          const docLinkHtml = 'Like what you see? Visit the ' +\n",
              "            '<a target=\"_blank\" href=https://colab.research.google.com/notebooks/data_table.ipynb>data table notebook</a>'\n",
              "            + ' to learn more about interactive tables.';\n",
              "          element.innerHTML = '';\n",
              "          dataTable['output_type'] = 'display_data';\n",
              "          await google.colab.output.renderOutput(dataTable, element);\n",
              "          const docLink = document.createElement('div');\n",
              "          docLink.innerHTML = docLinkHtml;\n",
              "          element.appendChild(docLink);\n",
              "        }\n",
              "      </script>\n",
              "    </div>\n",
              "  </div>\n",
              "  "
            ]
          },
          "metadata": {},
          "execution_count": 5
        }
      ]
    },
    {
      "cell_type": "code",
      "source": [
        "train['article'][0]"
      ],
      "metadata": {
        "colab": {
          "base_uri": "https://localhost:8080/",
          "height": 128
        },
        "id": "_VkEDePjkCzE",
        "outputId": "cf3a7358-b2d1-4243-e3ec-c9f52438747b"
      },
      "execution_count": 6,
      "outputs": [
        {
          "output_type": "execute_result",
          "data": {
            "text/plain": [
              "\"By . Associated Press . PUBLISHED: . 14:11 EST, 25 October 2013 . | . UPDATED: . 15:36 EST, 25 October 2013 . The bishop of the Fargo Catholic Diocese in North Dakota has exposed potentially hundreds of church members in Fargo, Grand Forks and Jamestown to the hepatitis A virus in late September and early October. The state Health Department has issued an advisory of exposure for anyone who attended five churches and took communion. Bishop John Folda (pictured) of the Fargo Catholic Diocese in North Dakota has exposed potentially hundreds of church members in Fargo, Grand Forks and Jamestown to the hepatitis A . State Immunization Program Manager Molly Howell says the risk is low, but officials feel it's important to alert people to the possible exposure. The diocese announced on Monday that Bishop John Folda is taking time off after being diagnosed with hepatitis A. The diocese says he contracted the infection through contaminated food while attending a conference for newly ordained bishops in Italy last month. Symptoms of hepatitis A include fever, tiredness, loss of appetite, nausea and abdominal discomfort. Fargo Catholic Diocese in North Dakota (pictured) is where the bishop is located .\""
            ],
            "application/vnd.google.colaboratory.intrinsic+json": {
              "type": "string"
            }
          },
          "metadata": {},
          "execution_count": 6
        }
      ]
    },
    {
      "cell_type": "code",
      "source": [
        "train['highlights'][0]"
      ],
      "metadata": {
        "colab": {
          "base_uri": "https://localhost:8080/",
          "height": 55
        },
        "id": "MMJImD4xkROM",
        "outputId": "6bd79c2b-f604-4c65-a52f-a401d1a5ff5c"
      },
      "execution_count": 7,
      "outputs": [
        {
          "output_type": "execute_result",
          "data": {
            "text/plain": [
              "'Bishop John Folda, of North Dakota, is taking time off after being diagnosed .\\nHe contracted the infection through contaminated food in Italy .\\nChurch members in Fargo, Grand Forks and Jamestown could have been exposed .'"
            ],
            "application/vnd.google.colaboratory.intrinsic+json": {
              "type": "string"
            }
          },
          "metadata": {},
          "execution_count": 7
        }
      ]
    },
    {
      "cell_type": "code",
      "source": [
        "train['article_length'] = train['article'].apply(lambda x : len(x.split()))\n",
        "train['highlights_length'] = train['highlights'].apply(lambda x : len(x.split()))"
      ],
      "metadata": {
        "id": "4yFdlV-DkdFb"
      },
      "execution_count": 8,
      "outputs": []
    },
    {
      "cell_type": "code",
      "source": [
        "sns.set_theme('notebook')\n",
        "sns.histplot(data=train,x='article_length',bins=30)"
      ],
      "metadata": {
        "colab": {
          "base_uri": "https://localhost:8080/",
          "height": 476
        },
        "id": "MUYvluAalEiN",
        "outputId": "6852b885-58a4-4b3a-e9b0-875be238c433"
      },
      "execution_count": 9,
      "outputs": [
        {
          "output_type": "execute_result",
          "data": {
            "text/plain": [
              "<Axes: xlabel='article_length', ylabel='Count'>"
            ]
          },
          "metadata": {},
          "execution_count": 9
        },
        {
          "output_type": "display_data",
          "data": {
            "text/plain": [
              "<Figure size 640x480 with 1 Axes>"
            ],
            "image/png": "[encoded data removed]"
          },
          "metadata": {}
        }
      ]
    },
    {
      "cell_type": "markdown",
      "source": [
        "We can observe the following:\n",
        "1. There are some article with length 0\n",
        "2. Most articles range between 450 - 900 words"
      ],
      "metadata": {
        "id": "IDdTIk_dlpVc"
      }
    },
    {
      "cell_type": "code",
      "source": [
        "sns.histplot(data=train,x='highlights_length',bins=50)"
      ],
      "metadata": {
        "colab": {
          "base_uri": "https://localhost:8080/",
          "height": 476
        },
        "id": "cxfSy4chlSYt",
        "outputId": "601a9222-867c-4703-c9c4-7e3d37fe55d1"
      },
      "execution_count": 10,
      "outputs": [
        {
          "output_type": "execute_result",
          "data": {
            "text/plain": [
              "<Axes: xlabel='highlights_length', ylabel='Count'>"
            ]
          },
          "metadata": {},
          "execution_count": 10
        },
        {
          "output_type": "display_data",
          "data": {
            "text/plain": [
              "<Figure size 640x480 with 1 Axes>"
            ],
            "image/png": "[encoded data removed]"
          },
          "metadata": {}
        }
      ]
    },
    {
      "cell_type": "markdown",
      "source": [
        "We observe the following:\n",
        "1. There are some outlier(s) in highlights which will affect our model performance"
      ],
      "metadata": {
        "id": "vUmcact2mo4Q"
      }
    },
    {
      "cell_type": "code",
      "source": [
        "sns.boxplot(data=train,x='article_length')"
      ],
      "metadata": {
        "colab": {
          "base_uri": "https://localhost:8080/",
          "height": 476
        },
        "id": "nBHGjMRlmV3E",
        "outputId": "942a98ba-96fa-4b0f-c8ff-6455d14270dc"
      },
      "execution_count": 11,
      "outputs": [
        {
          "output_type": "execute_result",
          "data": {
            "text/plain": [
              "<Axes: xlabel='article_length'>"
            ]
          },
          "metadata": {},
          "execution_count": 11
        },
        {
          "output_type": "display_data",
          "data": {
            "text/plain": [
              "<Figure size 640x480 with 1 Axes>"
            ],
            "image/png": "[encoded data removed]"
          },
          "metadata": {}
        }
      ]
    },
    {
      "cell_type": "code",
      "source": [
        "sns.boxplot(data=train,x='highlights_length')"
      ],
      "metadata": {
        "colab": {
          "base_uri": "https://localhost:8080/",
          "height": 476
        },
        "id": "g0AcTcfWm_eO",
        "outputId": "03d3ef5a-41f9-4457-f966-6eb691c635fa"
      },
      "execution_count": 12,
      "outputs": [
        {
          "output_type": "execute_result",
          "data": {
            "text/plain": [
              "<Axes: xlabel='highlights_length'>"
            ]
          },
          "metadata": {},
          "execution_count": 12
        },
        {
          "output_type": "display_data",
          "data": {
            "text/plain": [
              "<Figure size 640x480 with 1 Axes>"
            ],
            "image/png": "[encoded data removed]"
          },
          "metadata": {}
        }
      ]
    },
    {
      "cell_type": "markdown",
      "source": [
        "We can observe the average length of highlights varies a lot, so we will have to , decide some range and prune the other values"
      ],
      "metadata": {
        "id": "o98226HFnUsm"
      }
    },
    {
      "cell_type": "code",
      "source": [
        "## check for null\n",
        "train.isnull().sum()"
      ],
      "metadata": {
        "colab": {
          "base_uri": "https://localhost:8080/"
        },
        "id": "dJEEs85knRJF",
        "outputId": "9ed8875b-338a-47fd-9d54-4ba70933f20b"
      },
      "execution_count": 13,
      "outputs": [
        {
          "output_type": "execute_result",
          "data": {
            "text/plain": [
              "article              0\n",
              "highlights           0\n",
              "article_length       0\n",
              "highlights_length    0\n",
              "dtype: int64"
            ]
          },
          "metadata": {},
          "execution_count": 13
        }
      ]
    },
    {
      "cell_type": "code",
      "source": [
        "## Checking for duplicates\n",
        "train.duplicated(subset= ['article', 'highlights']).sum()"
      ],
      "metadata": {
        "colab": {
          "base_uri": "https://localhost:8080/"
        },
        "id": "N_gJyGUFvhfW",
        "outputId": "63dc9849-4535-40cc-82c9-11703085fc0e"
      },
      "execution_count": 14,
      "outputs": [
        {
          "output_type": "execute_result",
          "data": {
            "text/plain": [
              "3098"
            ]
          },
          "metadata": {},
          "execution_count": 14
        }
      ]
    },
    {
      "cell_type": "code",
      "source": [
        "train = train.drop_duplicates(subset=['article', 'highlights'])"
      ],
      "metadata": {
        "id": "7J3v61D8vzF2"
      },
      "execution_count": 15,
      "outputs": []
    },
    {
      "cell_type": "markdown",
      "source": [
        "---\n",
        "## Remove Outliers\n",
        "---"
      ],
      "metadata": {
        "id": "k4IHPB37zU9G"
      }
    },
    {
      "cell_type": "code",
      "source": [
        "print(f\"{len(train[(train['article_length']>200) & (train['article_length']<1300)])/len(train)*100}% of the artciles lie between 200 and 1300 words\")"
      ],
      "metadata": {
        "colab": {
          "base_uri": "https://localhost:8080/"
        },
        "id": "J1AUtC5TxM2P",
        "outputId": "dac3ec8d-abe2-421b-8305-b44098fd009e"
      },
      "execution_count": 16,
      "outputs": [
        {
          "output_type": "stream",
          "name": "stdout",
          "text": [
            "91.35925919405665% of the artciles lie between 200 and 1300 words\n"
          ]
        }
      ]
    },
    {
      "cell_type": "code",
      "source": [
        "# We will drop the outliers\n",
        "train = train[(train['article_length']>200) & (train['article_length']<1300)]"
      ],
      "metadata": {
        "id": "EV2IR9Qhxjox"
      },
      "execution_count": 17,
      "outputs": []
    },
    {
      "cell_type": "code",
      "source": [
        "sns.boxplot(data=train,x='article_length')"
      ],
      "metadata": {
        "colab": {
          "base_uri": "https://localhost:8080/",
          "height": 476
        },
        "id": "8ah-NR-MxmMH",
        "outputId": "921ed201-efe7-4f75-dc34-2b7a5b38ceef"
      },
      "execution_count": 18,
      "outputs": [
        {
          "output_type": "execute_result",
          "data": {
            "text/plain": [
              "<Axes: xlabel='article_length'>"
            ]
          },
          "metadata": {},
          "execution_count": 18
        },
        {
          "output_type": "display_data",
          "data": {
            "text/plain": [
              "<Figure size 640x480 with 1 Axes>"
            ],
            "image/png": "[encoded data removed]"
          },
          "metadata": {}
        }
      ]
    },
    {
      "cell_type": "markdown",
      "source": [
        "Outliers have been removed from articles"
      ],
      "metadata": {
        "id": "KMppwN8ZzQcf"
      }
    },
    {
      "cell_type": "code",
      "source": [
        "print(f\"{len(train[(train['highlights_length']>20) & (train['highlights_length']<200)])/len(train)*100}% of the highights lie between 30 and 200 words\")"
      ],
      "metadata": {
        "colab": {
          "base_uri": "https://localhost:8080/"
        },
        "id": "WqzTTw1YzONf",
        "outputId": "227fdc01-4432-44f4-db50-ae51abfa652c"
      },
      "execution_count": 19,
      "outputs": [
        {
          "output_type": "stream",
          "name": "stdout",
          "text": [
            "97.87146303675898% of the highights lie between 30 and 200 words\n"
          ]
        }
      ]
    },
    {
      "cell_type": "code",
      "source": [
        "## Removing the outliers in highlights\n",
        "train = train[(train['highlights_length']>20) & (train['highlights_length']<200)]"
      ],
      "metadata": {
        "id": "ETNCM2CDz0eX"
      },
      "execution_count": 20,
      "outputs": []
    },
    {
      "cell_type": "code",
      "source": [
        "sns.boxplot(data=train,x='highlights_length')"
      ],
      "metadata": {
        "colab": {
          "base_uri": "https://localhost:8080/",
          "height": 476
        },
        "id": "7F-lBF3l4GOX",
        "outputId": "402afbca-1f8f-4869-aa73-6367d0fe5507"
      },
      "execution_count": 21,
      "outputs": [
        {
          "output_type": "execute_result",
          "data": {
            "text/plain": [
              "<Axes: xlabel='highlights_length'>"
            ]
          },
          "metadata": {},
          "execution_count": 21
        },
        {
          "output_type": "display_data",
          "data": {
            "text/plain": [
              "<Figure size 640x480 with 1 Axes>"
            ],
            "image/png": "[encoded data removed]"
          },
          "metadata": {}
        }
      ]
    },
    {
      "cell_type": "markdown",
      "source": [
        "---\n",
        "## Text Preprocessing\n",
        "---"
      ],
      "metadata": {
        "id": "9SD0ZZur1fS2"
      }
    },
    {
      "cell_type": "code",
      "source": [
        "from gensim.parsing import strip_tags, strip_numeric, strip_multiple_whitespaces, stem_text, strip_punctuation, remove_stopwords\n",
        "from gensim.parsing import preprocess_string\n",
        "from gensim import parsing\n",
        "import re\n",
        "from time import time"
      ],
      "metadata": {
        "id": "a1Yj_WXy1dKm"
      },
      "execution_count": 22,
      "outputs": []
    },
    {
      "cell_type": "code",
      "source": [
        "remove_emails = lambda s: re.sub(r'\\S+@\\S+', '', s)\n",
        "remove_single_char = lambda s: re.sub(r'\\s+\\w{1}\\s+', '', s)\n",
        "\n",
        "CLEAN_FILTERS = [\n",
        "                remove_emails,\n",
        "                strip_tags,\n",
        "                strip_numeric, \n",
        "                strip_multiple_whitespaces]\n",
        "\n",
        "def clean(document):\n",
        "    processed_words = preprocess_string(document, CLEAN_FILTERS)\n",
        "    \n",
        "    return processed_words\n",
        "\n",
        "def joinList(processed_words):\n",
        "    return ' '.join(processed_words)"
      ],
      "metadata": {
        "id": "uIanCD9L12YY"
      },
      "execution_count": 23,
      "outputs": []
    },
    {
      "cell_type": "code",
      "source": [
        "## Considering 30% of the total dataset ~ 60k rows\n",
        "train_df = train.sample(frac=0.3)"
      ],
      "metadata": {
        "id": "dNw1Dz0B4bg6"
      },
      "execution_count": 24,
      "outputs": []
    },
    {
      "cell_type": "code",
      "source": [
        "## Cleaning articles\n",
        "t0 = time()\n",
        "train_df['cleaned_articles'] = train_df['article'].apply(clean).apply(joinList)\n",
        "validation['cleaned_articles'] = validation['article'].apply(clean).apply(joinList)\n",
        "print(f\"done in {time()-t0}\")"
      ],
      "metadata": {
        "colab": {
          "base_uri": "https://localhost:8080/"
        },
        "id": "TcQ6_IZA2Ll4",
        "outputId": "11814c05-0de3-43d8-dd0f-018a94d8fbba"
      },
      "execution_count": 25,
      "outputs": [
        {
          "output_type": "stream",
          "name": "stdout",
          "text": [
            "done in 61.80499601364136\n"
          ]
        }
      ]
    },
    {
      "cell_type": "code",
      "source": [
        "## Cleaning highlights\n",
        "t0 = time()\n",
        "train_df['highlights'] = train_df['highlights'].apply(lambda x : strip_tags(x))\n",
        "validation['highlights'] = validation['highlights'].apply(lambda x : strip_tags(x))\n",
        "print(f\"done in {time()-t0}\")"
      ],
      "metadata": {
        "colab": {
          "base_uri": "https://localhost:8080/"
        },
        "id": "2sbRFaKa6CCQ",
        "outputId": "e8f650b5-5fdd-4d6c-987a-db22a42265e4"
      },
      "execution_count": 26,
      "outputs": [
        {
          "output_type": "stream",
          "name": "stdout",
          "text": [
            "done in 0.148756742477417\n"
          ]
        }
      ]
    },
    {
      "cell_type": "code",
      "source": [
        "train_df['cleaned_articles'].iloc[0]"
      ],
      "metadata": {
        "colab": {
          "base_uri": "https://localhost:8080/",
          "height": 128
        },
        "id": "0zJn-Rz52cfX",
        "outputId": "c0d92046-9b62-4080-9b6e-f99c1a1f2843"
      },
      "execution_count": 27,
      "outputs": [
        {
          "output_type": "execute_result",
          "data": {
            "text/plain": [
              "'Hong Kong (CNN) -- In scenes that would not have been out of place in a Hollywood science fiction thriller, at dawn on March , , armed police and Hong Kong health authorities dressed in biological suits, theater masks and surgical gloves descended on Amoy Gardens housing estate. Working swiftly on an order from the Department of Health to isolate Block E, the residents were sealed in. Under -hour medical surveillance, they could neither leave the block nor receive visitors, according to a report from the Hong Kong Department of Health. Later moved to confinement camps under quarantine laws that had not been invoked since an outbreak of bubonic plague in , the residents of Amoy Gardens were locked out for days as doctors, clinicians, sewerage experts and engineers scoured the block for clues. But even before Block E could be quarantined, police were on a manhunt for residents who had already fled the infected apartment block -- to hotels or to stay with family or friends -- possibly spreading the virus into the community. If SARS (Severe Acute Respiratory Syndrome) -- then a new and barely understood type of pneumonia -- demonstrated anything, it was that rumor and panic spread almost as fast as the virus. \"Good, proactive communication that provides accurate information in a timely fashion is certainly one of the lessons of SARS and to some extent this was implemented during the (swine flu) pandemic of ,\" said Professor Malik Peiris of the Centre of Influenza Research at Hong Kong University. \"But there were even lessons to learn from because communicating like this in a crisis is difficult and challenging precisely because you are in a situation of grossly imperfect knowledge,\" he said. In the case of Amoy Gardens, epidemiologists and health authorities were faced with a serious dilemma -- find out how the deadly virus was spreading, but contain panic that could send more infected people into the wider community. Almost immediately, worried residents filled the information vacuum themselves, launching the website sosick.org. Collecting information from residents on infected buildings, the website was able to record the spread of SARS from Amoy Gardens to nearby Lower Ngau Tau Kok Estate a week ahead of the authorities, according to reports at the time. But if government information on the Amoy Estate outbreak was perceived to be lacking, the investigation (conducted at speed) to establish how the disease was spreading was a masterpiece of medical detective work. While people in Hong Kong had been coming down with the virus at the rate of a day, the infection could be traced to contact with a person showing symptoms of the disease. Now, at E-block Amoy Gardens, more than people had contracted the virus almost overnight and their only connection was that they lived vertically above or below each other in the same apartment block. Ultimately, a total of residents at Amoy Gardens came down with SARS and were to die, of them at Block E, . Within hours a team of experts found evidence the building\\'s sewerage was involved in the vertical spread of the virus. Intense diarrhea from one of the patients -- a -year-old Shenzhen resident in Hong Kong for kidney treatment and identified only as patient YY -- was believed to have spread the disease through defective piping in the building. According to the Department of Health, a break in E block\\'s flush-water system earlier that month had meant the water-sealed S-bend in some of the apartments\\' toilets had been dry for an extended period, allowing virus-laden droplets to collect from the system\\'s soil pipe. Bucket flushing by residents may have disturbed and released contaminated droplets, government agencies said. Similarly, exhaust fans may have sucked droplets into bathrooms where the virus was deposited on floor mats, towels, toiletries and toothbrushes. Even then, the government had to work quickly to quash panic sparked by medical conjecture that exhaust fans had drawn contaminated droplets into the building\\'s light well, a disturbing development, if it had been true, that would have meant the virus was airborne. For Hong Kong\\'s government, Amoy Gardens was a turning point. \"The general public expects things to be cut and dried with clear answers -- obviously that may not be possible all the time. The lesson is that one really needs to be upfront in communicating uncertainty,\" Peiris said. Margaret Chan, Director General of the World Health Organization, but then head of the Hong Kong Department of Health, said the fight against SARS was a triumph of dogged medical work. \"SARS taught the importance of meeting an emergency with whatever tools are at hand,\" she told the South China Morning Post. \"SARS was a st century disease in its mode and speed of spread. But it was eventually defeated using the th century tools of case detection, contact tracing, isolation and infection control.\" In terms of epidemiology, the study of the spread of diseases, the lessons from SARS were that the categories of epidemic diseases and their modes of transmission may never end. SARS was believed to have originated in civet cats at the exotic food markets of southern China, leaping the species barrier through human contact, possibly even through the food chain. According to Professor Gabriel Leung, the head of the Department of Community Medicine at Hong Kong University, the spread of disease does not just work in one direction. Virologists, he said, are now looking at how viruses pass, not just from animals to humans, but from humans to animals and then back to humans again. \"SARS was a wake up call, not just to Hong Kong but to the rest of the world and what it showed us is that the world of infectious diseases is ever present. Microbes will always be with us and we can never proclaim -- as we did in the s and s -- that the book on infectious diseases is closed,\" Leung said. \"It reminds us that human health and veterinary health are one and the same thing and we need to be constantly vigilant,\" he added. \"We are linked to animals not just by contact but also by the food chain and the latest horse meat scandal is a good illustration of that.\"'"
            ],
            "application/vnd.google.colaboratory.intrinsic+json": {
              "type": "string"
            }
          },
          "metadata": {},
          "execution_count": 27
        }
      ]
    },
    {
      "cell_type": "code",
      "source": [
        "train_df['highlights'].iloc[0]"
      ],
      "metadata": {
        "colab": {
          "base_uri": "https://localhost:8080/",
          "height": 55
        },
        "id": "s259jHPa5wXh",
        "outputId": "f4b0c63d-7bc9-41a5-b831-b65fe6687b7d"
      },
      "execution_count": 28,
      "outputs": [
        {
          "output_type": "execute_result",
          "data": {
            "text/plain": [
              "'Hong Kong housing estate Amoy Gardens was center of 2003 SARS outbreak .\\nAuthorities had to work fast to isolate the virus and quarantine residents .\\nThe events at Amoy Gardens underscored the difficulties of containing epidemics .\\nPublic information an important part of the fight against epidemics .'"
            ],
            "application/vnd.google.colaboratory.intrinsic+json": {
              "type": "string"
            }
          },
          "metadata": {},
          "execution_count": 28
        }
      ]
    },
    {
      "cell_type": "markdown",
      "source": [
        "---\n",
        "## Data Preprocessing\n",
        "---"
      ],
      "metadata": {
        "id": "iJGSKfGZe5LI"
      }
    },
    {
      "cell_type": "code",
      "source": [
        "! pip install transformers"
      ],
      "metadata": {
        "id": "Y2hqYm09e93w"
      },
      "execution_count": null,
      "outputs": []
    },
    {
      "cell_type": "code",
      "source": [
        "from transformers import AutoTokenizer\n",
        "\n",
        "model_checkpoint = \"facebook/bart-base\"\n",
        "tokenizer = AutoTokenizer.from_pretrained(model_checkpoint)"
      ],
      "metadata": {
        "id": "ZfX7kmOe57Eh"
      },
      "execution_count": 30,
      "outputs": []
    },
    {
      "cell_type": "code",
      "source": [
        "## Setting the max_length for padding or truncating articles and summaries\n",
        "max_length_art = 1000\n",
        "max_length_sum = 180"
      ],
      "metadata": {
        "id": "8a5axt-5fuNi"
      },
      "execution_count": 31,
      "outputs": []
    },
    {
      "cell_type": "code",
      "source": [
        "def preprocess_data(col):\n",
        "  model_inputs = tokenizer(\n",
        "      col['cleaned_articles'].tolist(),\n",
        "      max_length=max_length_art,\n",
        "      truncation=True,\n",
        "  )\n",
        "  labels = tokenizer(\n",
        "      col[\"highlights\"].tolist(), max_length=max_length_sum, truncation=True\n",
        "  )\n",
        "  model_inputs[\"labels\"] = labels[\"input_ids\"]\n",
        "  return model_inputs\n",
        "\n",
        "def create_tokenized_data(data):\n",
        "  tokenized_data = []\n",
        "  for i in range(len(data)):\n",
        "    tokenized_data.append(preprocess_data(data[i:i+1]))\n",
        "  return tokenized_data"
      ],
      "metadata": {
        "id": "u3PU5FJKfGOu"
      },
      "execution_count": 47,
      "outputs": []
    },
    {
      "cell_type": "code",
      "source": [
        "t0=time()\n",
        "tokeinzed_train = create_tokenized_data(train_df)\n",
        "tokenized_val = create_tokenized_data(validation)\n",
        "print(f\"Completed in {time()-t0} secs\")"
      ],
      "metadata": {
        "id": "aYJmx-UemUTz"
      },
      "execution_count": null,
      "outputs": []
    },
    {
      "cell_type": "code",
      "source": [],
      "metadata": {
        "id": "37QJb75yutcp"
      },
      "execution_count": null,
      "outputs": []
    }
  ]
}