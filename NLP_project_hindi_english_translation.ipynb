{
  "nbformat": 4,
  "nbformat_minor": 0,
  "metadata": {
    "colab": {
      "provenance": []
    },
    "kernelspec": {
      "name": "python3",
      "display_name": "Python 3"
    },
    "language_info": {
      "name": "python"
    },
    "accelerator": "GPU",
    "gpuClass": "standard"
  },
  "cells": [
    {
      "cell_type": "code",
      "source": [],
      "metadata": {
        "id": "2rgkt7oeGafj"
      },
      "execution_count": null,
      "outputs": []
    },
    {
      "cell_type": "code",
      "execution_count": null,
      "metadata": {
        "id": "NS0Z-5c4hwfZ",
        "colab": {
          "base_uri": "https://localhost:8080/"
        },
        "outputId": "43a40778-380f-4452-ccff-9c79ba0faab1"
      },
      "outputs": [
        {
          "output_type": "stream",
          "name": "stdout",
          "text": [
            "Drive already mounted at /content/drive; to attempt to forcibly remount, call drive.mount(\"/content/drive\", force_remount=True).\n"
          ]
        }
      ],
      "source": [
        "import pandas as pd\n",
        "import numpy as np \n",
        "import re\n",
        "from google.colab import drive\n",
        "drive.mount('/content/drive')\n",
        "import warnings\n",
        "warnings.filterwarnings('ignore')\n"
      ]
    },
    {
      "cell_type": "code",
      "execution_count": null,
      "metadata": {
        "id": "REKWkWovdacF",
        "colab": {
          "base_uri": "https://localhost:8080/"
        },
        "outputId": "7ffb086f-098d-4e00-aa44-dd483f42b905"
      },
      "outputs": [
        {
          "output_type": "stream",
          "name": "stdout",
          "text": [
            "2.12.0\n"
          ]
        }
      ],
      "source": [
        "import tensorflow as tf\n",
        "print(tf.__version__)\n",
        "import matplotlib.pyplot as plt\n",
        "import matplotlib.ticker as ticker\n",
        "from sklearn.model_selection import train_test_split\n",
        "\n",
        "import unicodedata\n",
        "import re\n",
        "import numpy as np\n",
        "import os\n",
        "import io\n",
        "import time"
      ]
    },
    {
      "cell_type": "code",
      "source": [
        "!pip install indic-nlp-library\n",
        "\n"
      ],
      "metadata": {
        "colab": {
          "base_uri": "https://localhost:8080/"
        },
        "id": "8XiyJpIHt4RA",
        "outputId": "5c7df89c-7041-494e-cb65-74097da0820f"
      },
      "execution_count": null,
      "outputs": [
        {
          "output_type": "stream",
          "name": "stdout",
          "text": [
            "Looking in indexes: https://pypi.org/simple, https://us-python.pkg.dev/colab-wheels/public/simple/\n",
            "Collecting indic-nlp-library\n",
            "  Downloading indic_nlp_library-0.91-py3-none-any.whl (40 kB)\n",
            "\u001b[?25l     \u001b[90m━━━━━━━━━━━━━━━━━━━━━━━━━━━━━━━━━━━━━━━━\u001b[0m \u001b[32m0.0/40.3 KB\u001b[0m \u001b[31m?\u001b[0m eta \u001b[36m-:--:--\u001b[0m\r\u001b[2K     \u001b[90m━━━━━━━━━━━━━━━━━━━━━━━━━━━━━━━━━━━━━━━━\u001b[0m \u001b[32m40.3/40.3 KB\u001b[0m \u001b[31m4.0 MB/s\u001b[0m eta \u001b[36m0:00:00\u001b[0m\n",
            "\u001b[?25hCollecting sphinx-argparse\n",
            "  Downloading sphinx_argparse-0.4.0-py3-none-any.whl (12 kB)\n",
            "Requirement already satisfied: numpy in /usr/local/lib/python3.9/dist-packages (from indic-nlp-library) (1.22.4)\n",
            "Collecting sphinx-rtd-theme\n",
            "  Downloading sphinx_rtd_theme-1.2.0-py2.py3-none-any.whl (2.8 MB)\n",
            "\u001b[2K     \u001b[90m━━━━━━━━━━━━━━━━━━━━━━━━━━━━━━━━━━━━━━━━\u001b[0m \u001b[32m2.8/2.8 MB\u001b[0m \u001b[31m36.5 MB/s\u001b[0m eta \u001b[36m0:00:00\u001b[0m\n",
            "\u001b[?25hRequirement already satisfied: pandas in /usr/local/lib/python3.9/dist-packages (from indic-nlp-library) (1.4.4)\n",
            "Collecting morfessor\n",
            "  Downloading Morfessor-2.0.6-py3-none-any.whl (35 kB)\n",
            "Requirement already satisfied: python-dateutil>=2.8.1 in /usr/local/lib/python3.9/dist-packages (from pandas->indic-nlp-library) (2.8.2)\n",
            "Requirement already satisfied: pytz>=2020.1 in /usr/local/lib/python3.9/dist-packages (from pandas->indic-nlp-library) (2022.7.1)\n",
            "Requirement already satisfied: sphinx>=1.2.0 in /usr/local/lib/python3.9/dist-packages (from sphinx-argparse->indic-nlp-library) (3.5.4)\n",
            "Collecting sphinxcontrib-jquery!=3.0.0,>=2.0.0\n",
            "  Downloading sphinxcontrib_jquery-4.1-py2.py3-none-any.whl (121 kB)\n",
            "\u001b[2K     \u001b[90m━━━━━━━━━━━━━━━━━━━━━━━━━━━━━━━━━━━━━━\u001b[0m \u001b[32m121.1/121.1 KB\u001b[0m \u001b[31m11.6 MB/s\u001b[0m eta \u001b[36m0:00:00\u001b[0m\n",
            "\u001b[?25hRequirement already satisfied: docutils<0.19 in /usr/local/lib/python3.9/dist-packages (from sphinx-rtd-theme->indic-nlp-library) (0.16)\n",
            "Requirement already satisfied: six>=1.5 in /usr/local/lib/python3.9/dist-packages (from python-dateutil>=2.8.1->pandas->indic-nlp-library) (1.16.0)\n",
            "Requirement already satisfied: Jinja2>=2.3 in /usr/local/lib/python3.9/dist-packages (from sphinx>=1.2.0->sphinx-argparse->indic-nlp-library) (3.1.2)\n",
            "Requirement already satisfied: sphinxcontrib-devhelp in /usr/local/lib/python3.9/dist-packages (from sphinx>=1.2.0->sphinx-argparse->indic-nlp-library) (1.0.2)\n",
            "Requirement already satisfied: requests>=2.5.0 in /usr/local/lib/python3.9/dist-packages (from sphinx>=1.2.0->sphinx-argparse->indic-nlp-library) (2.27.1)\n",
            "Requirement already satisfied: setuptools in /usr/local/lib/python3.9/dist-packages (from sphinx>=1.2.0->sphinx-argparse->indic-nlp-library) (67.6.0)\n",
            "Requirement already satisfied: sphinxcontrib-jsmath in /usr/local/lib/python3.9/dist-packages (from sphinx>=1.2.0->sphinx-argparse->indic-nlp-library) (1.0.1)\n",
            "Requirement already satisfied: imagesize in /usr/local/lib/python3.9/dist-packages (from sphinx>=1.2.0->sphinx-argparse->indic-nlp-library) (1.4.1)\n",
            "Requirement already satisfied: snowballstemmer>=1.1 in /usr/local/lib/python3.9/dist-packages (from sphinx>=1.2.0->sphinx-argparse->indic-nlp-library) (2.2.0)\n",
            "Requirement already satisfied: alabaster<0.8,>=0.7 in /usr/local/lib/python3.9/dist-packages (from sphinx>=1.2.0->sphinx-argparse->indic-nlp-library) (0.7.13)\n",
            "Requirement already satisfied: sphinxcontrib-serializinghtml in /usr/local/lib/python3.9/dist-packages (from sphinx>=1.2.0->sphinx-argparse->indic-nlp-library) (1.1.5)\n",
            "Requirement already satisfied: sphinxcontrib-qthelp in /usr/local/lib/python3.9/dist-packages (from sphinx>=1.2.0->sphinx-argparse->indic-nlp-library) (1.0.3)\n",
            "Requirement already satisfied: sphinxcontrib-applehelp in /usr/local/lib/python3.9/dist-packages (from sphinx>=1.2.0->sphinx-argparse->indic-nlp-library) (1.0.4)\n",
            "Requirement already satisfied: packaging in /usr/local/lib/python3.9/dist-packages (from sphinx>=1.2.0->sphinx-argparse->indic-nlp-library) (23.0)\n",
            "Requirement already satisfied: Pygments>=2.0 in /usr/local/lib/python3.9/dist-packages (from sphinx>=1.2.0->sphinx-argparse->indic-nlp-library) (2.6.1)\n",
            "Requirement already satisfied: babel>=1.3 in /usr/local/lib/python3.9/dist-packages (from sphinx>=1.2.0->sphinx-argparse->indic-nlp-library) (2.12.1)\n",
            "Requirement already satisfied: sphinxcontrib-htmlhelp in /usr/local/lib/python3.9/dist-packages (from sphinx>=1.2.0->sphinx-argparse->indic-nlp-library) (2.0.1)\n",
            "Requirement already satisfied: MarkupSafe>=2.0 in /usr/local/lib/python3.9/dist-packages (from Jinja2>=2.3->sphinx>=1.2.0->sphinx-argparse->indic-nlp-library) (2.1.2)\n",
            "Requirement already satisfied: charset-normalizer~=2.0.0 in /usr/local/lib/python3.9/dist-packages (from requests>=2.5.0->sphinx>=1.2.0->sphinx-argparse->indic-nlp-library) (2.0.12)\n",
            "Requirement already satisfied: idna<4,>=2.5 in /usr/local/lib/python3.9/dist-packages (from requests>=2.5.0->sphinx>=1.2.0->sphinx-argparse->indic-nlp-library) (3.4)\n",
            "Requirement already satisfied: urllib3<1.27,>=1.21.1 in /usr/local/lib/python3.9/dist-packages (from requests>=2.5.0->sphinx>=1.2.0->sphinx-argparse->indic-nlp-library) (1.26.15)\n",
            "Requirement already satisfied: certifi>=2017.4.17 in /usr/local/lib/python3.9/dist-packages (from requests>=2.5.0->sphinx>=1.2.0->sphinx-argparse->indic-nlp-library) (2022.12.7)\n",
            "Installing collected packages: morfessor, sphinxcontrib-jquery, sphinx-argparse, sphinx-rtd-theme, indic-nlp-library\n",
            "Successfully installed indic-nlp-library-0.91 morfessor-2.0.6 sphinx-argparse-0.4.0 sphinx-rtd-theme-1.2.0 sphinxcontrib-jquery-4.1\n"
          ]
        }
      ]
    },
    {
      "cell_type": "code",
      "source": [
        "from indicnlp.tokenize import indic_tokenize \n"
      ],
      "metadata": {
        "id": "T1_oe5n5sQKL"
      },
      "execution_count": null,
      "outputs": []
    },
    {
      "cell_type": "code",
      "source": [
        "df_original = pd.read_csv('/content/drive/MyDrive/hindi_english_parallel.csv')"
      ],
      "metadata": {
        "id": "_o1WPF3nWzqv"
      },
      "execution_count": null,
      "outputs": []
    },
    {
      "cell_type": "code",
      "source": [
        "df = pd.read_csv('/content/drive/MyDrive/hindi_english_parallel.csv')"
      ],
      "metadata": {
        "id": "ps0RKDpHd3lX"
      },
      "execution_count": null,
      "outputs": []
    },
    {
      "cell_type": "code",
      "source": [
        "df.head()"
      ],
      "metadata": {
        "colab": {
          "base_uri": "https://localhost:8080/",
          "height": 206
        },
        "id": "-czM4Tn9iF2V",
        "outputId": "4b802eec-ef2f-44ad-cce9-a10665f70ce2"
      },
      "execution_count": null,
      "outputs": [
        {
          "output_type": "execute_result",
          "data": {
            "text/plain": [
              "                                               hindi  \\\n",
              "0    अपने अनुप्रयोग को पहुंचनीयता व्यायाम का लाभ दें   \n",
              "1                    एक्सेर्साइसर पहुंचनीयता अन्वेषक   \n",
              "2              निचले पटल के लिए डिफोल्ट प्लग-इन खाका   \n",
              "3               ऊपरी पटल के लिए डिफोल्ट प्लग-इन खाका   \n",
              "4  उन प्लग-इनों की सूची जिन्हें डिफोल्ट रूप से नि...   \n",
              "\n",
              "                                          english  \n",
              "0  Give your application an accessibility workout  \n",
              "1               Accerciser Accessibility Explorer  \n",
              "2  The default plugin layout for the bottom panel  \n",
              "3     The default plugin layout for the top panel  \n",
              "4  A list of plugins that are disabled by default  "
            ],
            "text/html": [
              "\n",
              "  <div id=\"df-2db0e43c-5a26-4002-88fe-04f08a3fe3f6\">\n",
              "    <div class=\"colab-df-container\">\n",
              "      <div>\n",
              "<style scoped>\n",
              "    .dataframe tbody tr th:only-of-type {\n",
              "        vertical-align: middle;\n",
              "    }\n",
              "\n",
              "    .dataframe tbody tr th {\n",
              "        vertical-align: top;\n",
              "    }\n",
              "\n",
              "    .dataframe thead th {\n",
              "        text-align: right;\n",
              "    }\n",
              "</style>\n",
              "<table border=\"1\" class=\"dataframe\">\n",
              "  <thead>\n",
              "    <tr style=\"text-align: right;\">\n",
              "      <th></th>\n",
              "      <th>hindi</th>\n",
              "      <th>english</th>\n",
              "    </tr>\n",
              "  </thead>\n",
              "  <tbody>\n",
              "    <tr>\n",
              "      <th>0</th>\n",
              "      <td>अपने अनुप्रयोग को पहुंचनीयता व्यायाम का लाभ दें</td>\n",
              "      <td>Give your application an accessibility workout</td>\n",
              "    </tr>\n",
              "    <tr>\n",
              "      <th>1</th>\n",
              "      <td>एक्सेर्साइसर पहुंचनीयता अन्वेषक</td>\n",
              "      <td>Accerciser Accessibility Explorer</td>\n",
              "    </tr>\n",
              "    <tr>\n",
              "      <th>2</th>\n",
              "      <td>निचले पटल के लिए डिफोल्ट प्लग-इन खाका</td>\n",
              "      <td>The default plugin layout for the bottom panel</td>\n",
              "    </tr>\n",
              "    <tr>\n",
              "      <th>3</th>\n",
              "      <td>ऊपरी पटल के लिए डिफोल्ट प्लग-इन खाका</td>\n",
              "      <td>The default plugin layout for the top panel</td>\n",
              "    </tr>\n",
              "    <tr>\n",
              "      <th>4</th>\n",
              "      <td>उन प्लग-इनों की सूची जिन्हें डिफोल्ट रूप से नि...</td>\n",
              "      <td>A list of plugins that are disabled by default</td>\n",
              "    </tr>\n",
              "  </tbody>\n",
              "</table>\n",
              "</div>\n",
              "      <button class=\"colab-df-convert\" onclick=\"convertToInteractive('df-2db0e43c-5a26-4002-88fe-04f08a3fe3f6')\"\n",
              "              title=\"Convert this dataframe to an interactive table.\"\n",
              "              style=\"display:none;\">\n",
              "        \n",
              "  <svg xmlns=\"http://www.w3.org/2000/svg\" height=\"24px\"viewBox=\"0 0 24 24\"\n",
              "       width=\"24px\">\n",
              "    <path d=\"M0 0h24v24H0V0z\" fill=\"none\"/>\n",
              "    <path d=\"M18.56 5.44l.94 2.06.94-2.06 2.06-.94-2.06-.94-.94-2.06-.94 2.06-2.06.94zm-11 1L8.5 8.5l.94-2.06 2.06-.94-2.06-.94L8.5 2.5l-.94 2.06-2.06.94zm10 10l.94 2.06.94-2.06 2.06-.94-2.06-.94-.94-2.06-.94 2.06-2.06.94z\"/><path d=\"M17.41 7.96l-1.37-1.37c-.4-.4-.92-.59-1.43-.59-.52 0-1.04.2-1.43.59L10.3 9.45l-7.72 7.72c-.78.78-.78 2.05 0 2.83L4 21.41c.39.39.9.59 1.41.59.51 0 1.02-.2 1.41-.59l7.78-7.78 2.81-2.81c.8-.78.8-2.07 0-2.86zM5.41 20L4 18.59l7.72-7.72 1.47 1.35L5.41 20z\"/>\n",
              "  </svg>\n",
              "      </button>\n",
              "      \n",
              "  <style>\n",
              "    .colab-df-container {\n",
              "      display:flex;\n",
              "      flex-wrap:wrap;\n",
              "      gap: 12px;\n",
              "    }\n",
              "\n",
              "    .colab-df-convert {\n",
              "      background-color: #E8F0FE;\n",
              "      border: none;\n",
              "      border-radius: 50%;\n",
              "      cursor: pointer;\n",
              "      display: none;\n",
              "      fill: #1967D2;\n",
              "      height: 32px;\n",
              "      padding: 0 0 0 0;\n",
              "      width: 32px;\n",
              "    }\n",
              "\n",
              "    .colab-df-convert:hover {\n",
              "      background-color: #E2EBFA;\n",
              "      box-shadow: 0px 1px 2px rgba(60, 64, 67, 0.3), 0px 1px 3px 1px rgba(60, 64, 67, 0.15);\n",
              "      fill: #174EA6;\n",
              "    }\n",
              "\n",
              "    [theme=dark] .colab-df-convert {\n",
              "      background-color: #3B4455;\n",
              "      fill: #D2E3FC;\n",
              "    }\n",
              "\n",
              "    [theme=dark] .colab-df-convert:hover {\n",
              "      background-color: #434B5C;\n",
              "      box-shadow: 0px 1px 3px 1px rgba(0, 0, 0, 0.15);\n",
              "      filter: drop-shadow(0px 1px 2px rgba(0, 0, 0, 0.3));\n",
              "      fill: #FFFFFF;\n",
              "    }\n",
              "  </style>\n",
              "\n",
              "      <script>\n",
              "        const buttonEl =\n",
              "          document.querySelector('#df-2db0e43c-5a26-4002-88fe-04f08a3fe3f6 button.colab-df-convert');\n",
              "        buttonEl.style.display =\n",
              "          google.colab.kernel.accessAllowed ? 'block' : 'none';\n",
              "\n",
              "        async function convertToInteractive(key) {\n",
              "          const element = document.querySelector('#df-2db0e43c-5a26-4002-88fe-04f08a3fe3f6');\n",
              "          const dataTable =\n",
              "            await google.colab.kernel.invokeFunction('convertToInteractive',\n",
              "                                                     [key], {});\n",
              "          if (!dataTable) return;\n",
              "\n",
              "          const docLinkHtml = 'Like what you see? Visit the ' +\n",
              "            '<a target=\"_blank\" href=https://colab.research.google.com/notebooks/data_table.ipynb>data table notebook</a>'\n",
              "            + ' to learn more about interactive tables.';\n",
              "          element.innerHTML = '';\n",
              "          dataTable['output_type'] = 'display_data';\n",
              "          await google.colab.output.renderOutput(dataTable, element);\n",
              "          const docLink = document.createElement('div');\n",
              "          docLink.innerHTML = docLinkHtml;\n",
              "          element.appendChild(docLink);\n",
              "        }\n",
              "      </script>\n",
              "    </div>\n",
              "  </div>\n",
              "  "
            ]
          },
          "metadata": {},
          "execution_count": 7
        }
      ]
    },
    {
      "cell_type": "code",
      "source": [
        "df = df.dropna()\n",
        "df.reset_index()"
      ],
      "metadata": {
        "colab": {
          "base_uri": "https://localhost:8080/",
          "height": 424
        },
        "id": "Ym-YKeUenRph",
        "outputId": "5ce06024-c28f-41de-d326-d9a01c2d7084"
      },
      "execution_count": null,
      "outputs": [
        {
          "output_type": "execute_result",
          "data": {
            "text/plain": [
              "           index                                              hindi  \\\n",
              "0              0    अपने अनुप्रयोग को पहुंचनीयता व्यायाम का लाभ दें   \n",
              "1              1                    एक्सेर्साइसर पहुंचनीयता अन्वेषक   \n",
              "2              2              निचले पटल के लिए डिफोल्ट प्लग-इन खाका   \n",
              "3              3               ऊपरी पटल के लिए डिफोल्ट प्लग-इन खाका   \n",
              "4              4  उन प्लग-इनों की सूची जिन्हें डिफोल्ट रूप से नि...   \n",
              "...          ...                                                ...   \n",
              "1555722  1561835                    Members making oath/affirmation   \n",
              "1555723  1561836  स्पष्टीकरण.–जहां इस उपधारा के अधीन हानि और लाभ...   \n",
              "1555724  1561837  मैंने गौर किया है कि यह न केवल अपने महत्त्वपूर...   \n",
              "1555725  1561838  उन्होंने मेरे समक्ष जो प्रदर्शन किया उसमें से ...   \n",
              "1555726  1561839  खाद्य और जल सुरक्षा; पर्यावरण की दृष्टि से वहन...   \n",
              "\n",
              "                                                   english  \n",
              "0           Give your application an accessibility workout  \n",
              "1                        Accerciser Accessibility Explorer  \n",
              "2           The default plugin layout for the bottom panel  \n",
              "3              The default plugin layout for the top panel  \n",
              "4           A list of plugins that are disabled by default  \n",
              "...                                                    ...  \n",
              "1555722                शपथ लेने/प्रतिज्ञान करने वाले सदस्य  \n",
              "1555723  स्पष्टीकरण.–जहां इस उपधारा के अधीन हानि और लाभ...  \n",
              "1555724  है। I note that this is a landmark meeting – n...  \n",
              "1555725  है। In the presentations that they made before...  \n",
              "1555726  ्त है। Issues such as food and water security;...  \n",
              "\n",
              "[1555727 rows x 3 columns]"
            ],
            "text/html": [
              "\n",
              "  <div id=\"df-2244c17c-5394-44c1-864a-2a98b41145d7\">\n",
              "    <div class=\"colab-df-container\">\n",
              "      <div>\n",
              "<style scoped>\n",
              "    .dataframe tbody tr th:only-of-type {\n",
              "        vertical-align: middle;\n",
              "    }\n",
              "\n",
              "    .dataframe tbody tr th {\n",
              "        vertical-align: top;\n",
              "    }\n",
              "\n",
              "    .dataframe thead th {\n",
              "        text-align: right;\n",
              "    }\n",
              "</style>\n",
              "<table border=\"1\" class=\"dataframe\">\n",
              "  <thead>\n",
              "    <tr style=\"text-align: right;\">\n",
              "      <th></th>\n",
              "      <th>index</th>\n",
              "      <th>hindi</th>\n",
              "      <th>english</th>\n",
              "    </tr>\n",
              "  </thead>\n",
              "  <tbody>\n",
              "    <tr>\n",
              "      <th>0</th>\n",
              "      <td>0</td>\n",
              "      <td>अपने अनुप्रयोग को पहुंचनीयता व्यायाम का लाभ दें</td>\n",
              "      <td>Give your application an accessibility workout</td>\n",
              "    </tr>\n",
              "    <tr>\n",
              "      <th>1</th>\n",
              "      <td>1</td>\n",
              "      <td>एक्सेर्साइसर पहुंचनीयता अन्वेषक</td>\n",
              "      <td>Accerciser Accessibility Explorer</td>\n",
              "    </tr>\n",
              "    <tr>\n",
              "      <th>2</th>\n",
              "      <td>2</td>\n",
              "      <td>निचले पटल के लिए डिफोल्ट प्लग-इन खाका</td>\n",
              "      <td>The default plugin layout for the bottom panel</td>\n",
              "    </tr>\n",
              "    <tr>\n",
              "      <th>3</th>\n",
              "      <td>3</td>\n",
              "      <td>ऊपरी पटल के लिए डिफोल्ट प्लग-इन खाका</td>\n",
              "      <td>The default plugin layout for the top panel</td>\n",
              "    </tr>\n",
              "    <tr>\n",
              "      <th>4</th>\n",
              "      <td>4</td>\n",
              "      <td>उन प्लग-इनों की सूची जिन्हें डिफोल्ट रूप से नि...</td>\n",
              "      <td>A list of plugins that are disabled by default</td>\n",
              "    </tr>\n",
              "    <tr>\n",
              "      <th>...</th>\n",
              "      <td>...</td>\n",
              "      <td>...</td>\n",
              "      <td>...</td>\n",
              "    </tr>\n",
              "    <tr>\n",
              "      <th>1555722</th>\n",
              "      <td>1561835</td>\n",
              "      <td>Members making oath/affirmation</td>\n",
              "      <td>शपथ लेने/प्रतिज्ञान करने वाले सदस्य</td>\n",
              "    </tr>\n",
              "    <tr>\n",
              "      <th>1555723</th>\n",
              "      <td>1561836</td>\n",
              "      <td>स्पष्टीकरण.–जहां इस उपधारा के अधीन हानि और लाभ...</td>\n",
              "      <td>स्पष्टीकरण.–जहां इस उपधारा के अधीन हानि और लाभ...</td>\n",
              "    </tr>\n",
              "    <tr>\n",
              "      <th>1555724</th>\n",
              "      <td>1561837</td>\n",
              "      <td>मैंने गौर किया है कि यह न केवल अपने महत्त्वपूर...</td>\n",
              "      <td>है। I note that this is a landmark meeting – n...</td>\n",
              "    </tr>\n",
              "    <tr>\n",
              "      <th>1555725</th>\n",
              "      <td>1561838</td>\n",
              "      <td>उन्होंने मेरे समक्ष जो प्रदर्शन किया उसमें से ...</td>\n",
              "      <td>है। In the presentations that they made before...</td>\n",
              "    </tr>\n",
              "    <tr>\n",
              "      <th>1555726</th>\n",
              "      <td>1561839</td>\n",
              "      <td>खाद्य और जल सुरक्षा; पर्यावरण की दृष्टि से वहन...</td>\n",
              "      <td>्त है। Issues such as food and water security;...</td>\n",
              "    </tr>\n",
              "  </tbody>\n",
              "</table>\n",
              "<p>1555727 rows × 3 columns</p>\n",
              "</div>\n",
              "      <button class=\"colab-df-convert\" onclick=\"convertToInteractive('df-2244c17c-5394-44c1-864a-2a98b41145d7')\"\n",
              "              title=\"Convert this dataframe to an interactive table.\"\n",
              "              style=\"display:none;\">\n",
              "        \n",
              "  <svg xmlns=\"http://www.w3.org/2000/svg\" height=\"24px\"viewBox=\"0 0 24 24\"\n",
              "       width=\"24px\">\n",
              "    <path d=\"M0 0h24v24H0V0z\" fill=\"none\"/>\n",
              "    <path d=\"M18.56 5.44l.94 2.06.94-2.06 2.06-.94-2.06-.94-.94-2.06-.94 2.06-2.06.94zm-11 1L8.5 8.5l.94-2.06 2.06-.94-2.06-.94L8.5 2.5l-.94 2.06-2.06.94zm10 10l.94 2.06.94-2.06 2.06-.94-2.06-.94-.94-2.06-.94 2.06-2.06.94z\"/><path d=\"M17.41 7.96l-1.37-1.37c-.4-.4-.92-.59-1.43-.59-.52 0-1.04.2-1.43.59L10.3 9.45l-7.72 7.72c-.78.78-.78 2.05 0 2.83L4 21.41c.39.39.9.59 1.41.59.51 0 1.02-.2 1.41-.59l7.78-7.78 2.81-2.81c.8-.78.8-2.07 0-2.86zM5.41 20L4 18.59l7.72-7.72 1.47 1.35L5.41 20z\"/>\n",
              "  </svg>\n",
              "      </button>\n",
              "      \n",
              "  <style>\n",
              "    .colab-df-container {\n",
              "      display:flex;\n",
              "      flex-wrap:wrap;\n",
              "      gap: 12px;\n",
              "    }\n",
              "\n",
              "    .colab-df-convert {\n",
              "      background-color: #E8F0FE;\n",
              "      border: none;\n",
              "      border-radius: 50%;\n",
              "      cursor: pointer;\n",
              "      display: none;\n",
              "      fill: #1967D2;\n",
              "      height: 32px;\n",
              "      padding: 0 0 0 0;\n",
              "      width: 32px;\n",
              "    }\n",
              "\n",
              "    .colab-df-convert:hover {\n",
              "      background-color: #E2EBFA;\n",
              "      box-shadow: 0px 1px 2px rgba(60, 64, 67, 0.3), 0px 1px 3px 1px rgba(60, 64, 67, 0.15);\n",
              "      fill: #174EA6;\n",
              "    }\n",
              "\n",
              "    [theme=dark] .colab-df-convert {\n",
              "      background-color: #3B4455;\n",
              "      fill: #D2E3FC;\n",
              "    }\n",
              "\n",
              "    [theme=dark] .colab-df-convert:hover {\n",
              "      background-color: #434B5C;\n",
              "      box-shadow: 0px 1px 3px 1px rgba(0, 0, 0, 0.15);\n",
              "      filter: drop-shadow(0px 1px 2px rgba(0, 0, 0, 0.3));\n",
              "      fill: #FFFFFF;\n",
              "    }\n",
              "  </style>\n",
              "\n",
              "      <script>\n",
              "        const buttonEl =\n",
              "          document.querySelector('#df-2244c17c-5394-44c1-864a-2a98b41145d7 button.colab-df-convert');\n",
              "        buttonEl.style.display =\n",
              "          google.colab.kernel.accessAllowed ? 'block' : 'none';\n",
              "\n",
              "        async function convertToInteractive(key) {\n",
              "          const element = document.querySelector('#df-2244c17c-5394-44c1-864a-2a98b41145d7');\n",
              "          const dataTable =\n",
              "            await google.colab.kernel.invokeFunction('convertToInteractive',\n",
              "                                                     [key], {});\n",
              "          if (!dataTable) return;\n",
              "\n",
              "          const docLinkHtml = 'Like what you see? Visit the ' +\n",
              "            '<a target=\"_blank\" href=https://colab.research.google.com/notebooks/data_table.ipynb>data table notebook</a>'\n",
              "            + ' to learn more about interactive tables.';\n",
              "          element.innerHTML = '';\n",
              "          dataTable['output_type'] = 'display_data';\n",
              "          await google.colab.output.renderOutput(dataTable, element);\n",
              "          const docLink = document.createElement('div');\n",
              "          docLink.innerHTML = docLinkHtml;\n",
              "          element.appendChild(docLink);\n",
              "        }\n",
              "      </script>\n",
              "    </div>\n",
              "  </div>\n",
              "  "
            ]
          },
          "metadata": {},
          "execution_count": 8
        }
      ]
    },
    {
      "cell_type": "code",
      "source": [
        "def pre_processing(sentence):\n",
        "  pattern = r\"\\s*\\(\\_\\s*[a-zA-Z]\\)\"\n",
        "  sentence = re.sub(pattern, \"\", sentence)\n",
        "  pattern = r\"\\s*\\([a-zA-Z]\\s_\\)\"\n",
        "  sentence = re.sub(pattern, \"\", sentence)\n",
        "  sentence = re.sub(r\"([?.!,¿])\", r\" \\1 \", sentence)\n",
        "  sentence = re.sub(r'[\" \"]+', \" \", sentence)\n",
        "\n",
        "  #remove % [a-z]\n",
        "  #sentence = re.sub(r'%\\s*[a-z]', '', sentence)\n",
        "  if re.search(r'[a-z]_[a-z]', sentence):\n",
        "      sentence = re.sub(r'_', \"\", sentence)\n",
        "  if re.search(r'[a-z]_[A-Z]', sentence):\n",
        "      sentence = re.sub(r'_', \" \", sentence)\n",
        "  if re.search(r'[a-zA-Z]\\s_\\s[a-z]', sentence):\n",
        "      sentence = re.sub(r'\\s_\\s', \"\", sentence)\n",
        "  if re.search(r'[a-z]\\s_\\s[A-Z]', sentence):\n",
        "      sentence = re.sub(r'\\s_\\s', \" \", sentence)\n",
        "\n",
        "  #remove % s \n",
        "  sentence = re.sub(r\"%\\ss\\s\", \"\", sentence)\n",
        "  sentence = re.sub(r\"\\ss\\s\", \"\", sentence)\n",
        "  sentence = re.sub(r\"\\sd\\s\", \"\", sentence)\n",
        "  \n",
        "  sentence = re.sub(r\"^Y\\s= \", \"\", sentence)\n",
        "\n",
        "  # replacing everything with space except (\".\", \"?\", \"!\", \",\",\"¿\",\":\",\"%\",\"|\",\"(\",\")\",\"-\",\"<\",\">\",\"।(hindi full stop)\",\"॰\")\n",
        "  sentence = re.sub(r\"[=?.!₹+,;¿/:|%()<>।॰{}#_'\\\"]\", \" \", sentence)\n",
        "  sentence = re.sub(r\"…\", \" \", sentence)\n",
        "  #remove double quotes\n",
        "  sentence = re.sub(r'\"', \" \", sentence)\n",
        "  #remove english letters\n",
        "  #sentence = re.sub(r'[a-zA-z]', \" \", sentence)\n",
        "  #remove numbers\n",
        "  sentence = re.sub(r'[0-9]', \"\", sentence)\n",
        "  sentence = re.sub(r'#([^s]+)', r'1', sentence)\n",
        "  #remove website links\n",
        "  sentence = re.sub('((www.[^s]+)|(https?://[^s]+))','',sentence)\n",
        "  #remove @anythin here\n",
        "  sentence = re.sub('@[^s]+','',sentence)\n",
        "  #remove multiple spaces\n",
        "  sentence = re.sub(r'[\" \"]+', \" \", sentence)\n",
        "  # remove extra space\n",
        "  sentence = sentence.strip()\n",
        "  sentence = '<start> ' + sentence + ' <stop>'\n",
        "  return sentence\n",
        "\n"
      ],
      "metadata": {
        "id": "WlJh4Vy6msOq"
      },
      "execution_count": null,
      "outputs": []
    },
    {
      "cell_type": "code",
      "source": [],
      "metadata": {
        "id": "it-seqEDkGdJ"
      },
      "execution_count": null,
      "outputs": []
    },
    {
      "cell_type": "code",
      "source": [
        "df['hindi'] = df['hindi'].apply(lambda x: pre_processing(x))\n",
        "df['english'] = df['english'].apply(lambda x: pre_processing(x))\n",
        "\n",
        "df.dropna()\n",
        "df = df.drop(df[df['english'].str.contains(\"ToDo\")].index)\n",
        "\n",
        "#drop rows with hindi words in english colmn \n",
        "hindi_pattern = re.compile(r'[\\u0900-\\u097F]+')\n",
        "mask = df['english'].apply(lambda x: bool(hindi_pattern.search(x)))\n",
        "df = df[~mask]\n",
        "\n",
        "#drop rows where lenght of characters is less than 4\n",
        "mask = df['english'].str.len() < 4\n",
        "df = df[~mask]\n",
        "\n"
      ],
      "metadata": {
        "id": "AdFLYVUZsip3"
      },
      "execution_count": null,
      "outputs": []
    },
    {
      "cell_type": "code",
      "source": [],
      "metadata": {
        "id": "xMQzV4UCja9F"
      },
      "execution_count": null,
      "outputs": []
    },
    {
      "cell_type": "code",
      "source": [
        "df.reset_index()"
      ],
      "metadata": {
        "colab": {
          "base_uri": "https://localhost:8080/",
          "height": 169
        },
        "id": "dZyFMyFTiElv",
        "outputId": "8efb9648-6012-4a04-ddf8-02f3816ce198"
      },
      "execution_count": null,
      "outputs": [
        {
          "output_type": "error",
          "ename": "NameError",
          "evalue": "ignored",
          "traceback": [
            "\u001b[0;31m---------------------------------------------------------------------------\u001b[0m",
            "\u001b[0;31mNameError\u001b[0m                                 Traceback (most recent call last)",
            "\u001b[0;32m<ipython-input-4-20da24c655af>\u001b[0m in \u001b[0;36m<cell line: 1>\u001b[0;34m()\u001b[0m\n\u001b[0;32m----> 1\u001b[0;31m \u001b[0mdf\u001b[0m\u001b[0;34m.\u001b[0m\u001b[0mreset_index\u001b[0m\u001b[0;34m(\u001b[0m\u001b[0;34m)\u001b[0m\u001b[0;34m\u001b[0m\u001b[0;34m\u001b[0m\u001b[0m\n\u001b[0m",
            "\u001b[0;31mNameError\u001b[0m: name 'df' is not defined"
          ]
        }
      ]
    },
    {
      "cell_type": "code",
      "source": [
        "from indicnlp.tokenize import indic_tokenize\n",
        "def tokenization(indic_string):\n",
        "    tokens = []\n",
        "    for t in indic_tokenize.trivial_tokenize(indic_string):\n",
        "        tokens.append(t)\n",
        "    return tokens\n"
      ],
      "metadata": {
        "id": "kkul7HoCnPH8"
      },
      "execution_count": null,
      "outputs": []
    },
    {
      "cell_type": "code",
      "source": [
        "#df['hindi_tokenized'] = df['hindi'].apply(lambda x: tokenization(x))\n"
      ],
      "metadata": {
        "id": "_-cfSRa3wMmv"
      },
      "execution_count": null,
      "outputs": []
    },
    {
      "cell_type": "code",
      "source": [
        "df.tail(10000)"
      ],
      "metadata": {
        "colab": {
          "base_uri": "https://localhost:8080/"
        },
        "id": "hV-zJDn3wRAD",
        "outputId": "b0d4bdd3-0397-41ca-a3e0-c0b9b75a5002"
      },
      "execution_count": null,
      "outputs": [
        {
          "output_type": "execute_result",
          "data": {
            "text/plain": [
              "                                                     hindi  \\\n",
              "1551833  राष्ट्रपति ने कहा कि प्रौद्योगिकीविद समस्या सम...   \n",
              "1551834  राष्ट्रपति ने कहा कि गुणवत्तायुक्त चिकित्सा उप...   \n",
              "1551835  राष्ट्रपति ने कहा कि प्रौद्योगिकी उन्नति की कु...   \n",
              "1551836  राष्ट्रपति ने कहा कि आतंकवाद और हिंसा का दुनिय...   \n",
              "1551837  राष्ट्रपति ने कहा कि आतंकवाद एक प्रमुख चुनौती ...   \n",
              "...                                                    ...   \n",
              "1561828  जोनलः रू 0 50 लाख के प्रत्येक वार्षिक पुरस्कार...   \n",
              "1561829  इस्लाम से पहले करोड़ों लोगों के इस पारसी धर्म ...   \n",
              "1561830  य प्रतिभूतिकरण से किसी प्रतिभूतिकरण कंपनी या प...   \n",
              "1561831  राष्ट्रपति जी ने कहा कि जुबिन मेहता संगीत को श...   \n",
              "1561832  जुबिन मेहता के संगीत में सीमाओं के आर पार पहुं...   \n",
              "\n",
              "                                                   english  \n",
              "1551833  The President saidtechnologists are problem so...  \n",
              "1551834  The President said technology has to be harnes...  \n",
              "1551835  The President said technology is the key to ad...  \n",
              "1551836  The President said terror and violence have no...  \n",
              "1551837  The President said terrorism remains a major c...  \n",
              "...                                                    ...  \n",
              "1561828  Zonal Eleven annual awards of ₹ 0 50 lakh each...  \n",
              "1561829  Zoroastrianism which was once the religion of ...  \n",
              "1561830  z securitisation means acquisition of financia...  \n",
              "1561831  ZUBIN MEHTA HAS ENGAGED IN UNTIRING EFFORTS TO...  \n",
              "1561832  Zubin Mehta’s music has the power to transcend...  \n",
              "\n",
              "[10000 rows x 2 columns]"
            ],
            "text/html": [
              "\n",
              "  <div id=\"df-d9ab4db3-cd10-4191-a682-0f2fe184a1e8\">\n",
              "    <div class=\"colab-df-container\">\n",
              "      <div>\n",
              "<style scoped>\n",
              "    .dataframe tbody tr th:only-of-type {\n",
              "        vertical-align: middle;\n",
              "    }\n",
              "\n",
              "    .dataframe tbody tr th {\n",
              "        vertical-align: top;\n",
              "    }\n",
              "\n",
              "    .dataframe thead th {\n",
              "        text-align: right;\n",
              "    }\n",
              "</style>\n",
              "<table border=\"1\" class=\"dataframe\">\n",
              "  <thead>\n",
              "    <tr style=\"text-align: right;\">\n",
              "      <th></th>\n",
              "      <th>hindi</th>\n",
              "      <th>english</th>\n",
              "    </tr>\n",
              "  </thead>\n",
              "  <tbody>\n",
              "    <tr>\n",
              "      <th>1551833</th>\n",
              "      <td>राष्ट्रपति ने कहा कि प्रौद्योगिकीविद समस्या सम...</td>\n",
              "      <td>The President saidtechnologists are problem so...</td>\n",
              "    </tr>\n",
              "    <tr>\n",
              "      <th>1551834</th>\n",
              "      <td>राष्ट्रपति ने कहा कि गुणवत्तायुक्त चिकित्सा उप...</td>\n",
              "      <td>The President said technology has to be harnes...</td>\n",
              "    </tr>\n",
              "    <tr>\n",
              "      <th>1551835</th>\n",
              "      <td>राष्ट्रपति ने कहा कि प्रौद्योगिकी उन्नति की कु...</td>\n",
              "      <td>The President said technology is the key to ad...</td>\n",
              "    </tr>\n",
              "    <tr>\n",
              "      <th>1551836</th>\n",
              "      <td>राष्ट्रपति ने कहा कि आतंकवाद और हिंसा का दुनिय...</td>\n",
              "      <td>The President said terror and violence have no...</td>\n",
              "    </tr>\n",
              "    <tr>\n",
              "      <th>1551837</th>\n",
              "      <td>राष्ट्रपति ने कहा कि आतंकवाद एक प्रमुख चुनौती ...</td>\n",
              "      <td>The President said terrorism remains a major c...</td>\n",
              "    </tr>\n",
              "    <tr>\n",
              "      <th>...</th>\n",
              "      <td>...</td>\n",
              "      <td>...</td>\n",
              "    </tr>\n",
              "    <tr>\n",
              "      <th>1561828</th>\n",
              "      <td>जोनलः रू 0 50 लाख के प्रत्येक वार्षिक पुरस्कार...</td>\n",
              "      <td>Zonal Eleven annual awards of ₹ 0 50 lakh each...</td>\n",
              "    </tr>\n",
              "    <tr>\n",
              "      <th>1561829</th>\n",
              "      <td>इस्लाम से पहले करोड़ों लोगों के इस पारसी धर्म ...</td>\n",
              "      <td>Zoroastrianism which was once the religion of ...</td>\n",
              "    </tr>\n",
              "    <tr>\n",
              "      <th>1561830</th>\n",
              "      <td>य प्रतिभूतिकरण से किसी प्रतिभूतिकरण कंपनी या प...</td>\n",
              "      <td>z securitisation means acquisition of financia...</td>\n",
              "    </tr>\n",
              "    <tr>\n",
              "      <th>1561831</th>\n",
              "      <td>राष्ट्रपति जी ने कहा कि जुबिन मेहता संगीत को श...</td>\n",
              "      <td>ZUBIN MEHTA HAS ENGAGED IN UNTIRING EFFORTS TO...</td>\n",
              "    </tr>\n",
              "    <tr>\n",
              "      <th>1561832</th>\n",
              "      <td>जुबिन मेहता के संगीत में सीमाओं के आर पार पहुं...</td>\n",
              "      <td>Zubin Mehta’s music has the power to transcend...</td>\n",
              "    </tr>\n",
              "  </tbody>\n",
              "</table>\n",
              "<p>10000 rows × 2 columns</p>\n",
              "</div>\n",
              "      <button class=\"colab-df-convert\" onclick=\"convertToInteractive('df-d9ab4db3-cd10-4191-a682-0f2fe184a1e8')\"\n",
              "              title=\"Convert this dataframe to an interactive table.\"\n",
              "              style=\"display:none;\">\n",
              "        \n",
              "  <svg xmlns=\"http://www.w3.org/2000/svg\" height=\"24px\"viewBox=\"0 0 24 24\"\n",
              "       width=\"24px\">\n",
              "    <path d=\"M0 0h24v24H0V0z\" fill=\"none\"/>\n",
              "    <path d=\"M18.56 5.44l.94 2.06.94-2.06 2.06-.94-2.06-.94-.94-2.06-.94 2.06-2.06.94zm-11 1L8.5 8.5l.94-2.06 2.06-.94-2.06-.94L8.5 2.5l-.94 2.06-2.06.94zm10 10l.94 2.06.94-2.06 2.06-.94-2.06-.94-.94-2.06-.94 2.06-2.06.94z\"/><path d=\"M17.41 7.96l-1.37-1.37c-.4-.4-.92-.59-1.43-.59-.52 0-1.04.2-1.43.59L10.3 9.45l-7.72 7.72c-.78.78-.78 2.05 0 2.83L4 21.41c.39.39.9.59 1.41.59.51 0 1.02-.2 1.41-.59l7.78-7.78 2.81-2.81c.8-.78.8-2.07 0-2.86zM5.41 20L4 18.59l7.72-7.72 1.47 1.35L5.41 20z\"/>\n",
              "  </svg>\n",
              "      </button>\n",
              "      \n",
              "  <style>\n",
              "    .colab-df-container {\n",
              "      display:flex;\n",
              "      flex-wrap:wrap;\n",
              "      gap: 12px;\n",
              "    }\n",
              "\n",
              "    .colab-df-convert {\n",
              "      background-color: #E8F0FE;\n",
              "      border: none;\n",
              "      border-radius: 50%;\n",
              "      cursor: pointer;\n",
              "      display: none;\n",
              "      fill: #1967D2;\n",
              "      height: 32px;\n",
              "      padding: 0 0 0 0;\n",
              "      width: 32px;\n",
              "    }\n",
              "\n",
              "    .colab-df-convert:hover {\n",
              "      background-color: #E2EBFA;\n",
              "      box-shadow: 0px 1px 2px rgba(60, 64, 67, 0.3), 0px 1px 3px 1px rgba(60, 64, 67, 0.15);\n",
              "      fill: #174EA6;\n",
              "    }\n",
              "\n",
              "    [theme=dark] .colab-df-convert {\n",
              "      background-color: #3B4455;\n",
              "      fill: #D2E3FC;\n",
              "    }\n",
              "\n",
              "    [theme=dark] .colab-df-convert:hover {\n",
              "      background-color: #434B5C;\n",
              "      box-shadow: 0px 1px 3px 1px rgba(0, 0, 0, 0.15);\n",
              "      filter: drop-shadow(0px 1px 2px rgba(0, 0, 0, 0.3));\n",
              "      fill: #FFFFFF;\n",
              "    }\n",
              "  </style>\n",
              "\n",
              "      <script>\n",
              "        const buttonEl =\n",
              "          document.querySelector('#df-d9ab4db3-cd10-4191-a682-0f2fe184a1e8 button.colab-df-convert');\n",
              "        buttonEl.style.display =\n",
              "          google.colab.kernel.accessAllowed ? 'block' : 'none';\n",
              "\n",
              "        async function convertToInteractive(key) {\n",
              "          const element = document.querySelector('#df-d9ab4db3-cd10-4191-a682-0f2fe184a1e8');\n",
              "          const dataTable =\n",
              "            await google.colab.kernel.invokeFunction('convertToInteractive',\n",
              "                                                     [key], {});\n",
              "          if (!dataTable) return;\n",
              "\n",
              "          const docLinkHtml = 'Like what you see? Visit the ' +\n",
              "            '<a target=\"_blank\" href=https://colab.research.google.com/notebooks/data_table.ipynb>data table notebook</a>'\n",
              "            + ' to learn more about interactive tables.';\n",
              "          element.innerHTML = '';\n",
              "          dataTable['output_type'] = 'display_data';\n",
              "          await google.colab.output.renderOutput(dataTable, element);\n",
              "          const docLink = document.createElement('div');\n",
              "          docLink.innerHTML = docLinkHtml;\n",
              "          element.appendChild(docLink);\n",
              "        }\n",
              "      </script>\n",
              "    </div>\n",
              "  </div>\n",
              "  "
            ]
          },
          "metadata": {},
          "execution_count": 14
        }
      ]
    },
    {
      "cell_type": "code",
      "source": [
        "#save df to csv\n",
        "#df.to_csv('/content/drive/MyDrive/hindi_english_parallel_preprocessed.csv' , index = False )\n",
        "df = pd.read_csv('/content/drive/MyDrive/hindi_english_parallel_preprocessed.csv')"
      ],
      "metadata": {
        "id": "gcxziB2tkSMB"
      },
      "execution_count": null,
      "outputs": []
    },
    {
      "cell_type": "code",
      "source": [
        "#drop rows where lenght of characters is less than 4\n",
        "mask = df['english'].str.len() > 182\n",
        "df = df[~mask]"
      ],
      "metadata": {
        "id": "26b88cSOz5OR"
      },
      "execution_count": null,
      "outputs": []
    },
    {
      "cell_type": "code",
      "source": [
        "df.reset_index()"
      ],
      "metadata": {
        "colab": {
          "base_uri": "https://localhost:8080/",
          "height": 424
        },
        "id": "HFSNLHJW0iYm",
        "outputId": "31bd14ac-32b3-494a-b9fc-d8fb034b9e02"
      },
      "execution_count": null,
      "outputs": [
        {
          "output_type": "execute_result",
          "data": {
            "text/plain": [
              "           index                                              hindi  \\\n",
              "0              0  <start> किसी मिश्रण में प्रोटीनों साबुन या अन्...   \n",
              "1              1                         <start> अभियोगकर्ता <stop>   \n",
              "2              2                           <start> गामा काला <stop>   \n",
              "3              3  <start> काई-अनुक्रम का विशिष्ट डीएनए अनुक्रम <...   \n",
              "4              4  <start> विश्व के विभिन्न भागों में तट पर स्थित...   \n",
              "...          ...                                                ...   \n",
              "1399782  1553134     <start> इस संदेश को फिर कभी नहीं दिखाएँ <stop>   \n",
              "1399783  1553135   <start> कह दो हाँ और तुम अपमानित भी होंगे <stop>   \n",
              "1399784  1553137                               <start> शुक्र <stop>   \n",
              "1399785  1553138            <start> और खिड़कियों को खुला रखा <stop>   \n",
              "1399786  1553139  <start> घटना कार्य बैठक संपादक में प्रकार क्षे...   \n",
              "\n",
              "                                                   english  \n",
              "0        <start> Salting out is done by adding salt to ...  \n",
              "1                                 <start> plaintiff <stop>  \n",
              "2                               <start> Gamma Black <stop>  \n",
              "3        <start> Specific DNA sequence of chi - sequenc...  \n",
              "4        <start> Large - scale Off - shore Thermal Ener...  \n",
              "...                                                    ...  \n",
              "1399782      <start> Do not show this message again <stop>  \n",
              "1399783   <start> Proclaim “Yes and with disgrace ” <stop>  \n",
              "1399784                                  <start> Fr <stop>  \n",
              "1399785            <start> and pry open the windows <stop>  \n",
              "1399786  <start> Whether to show type field in the even...  \n",
              "\n",
              "[1399787 rows x 3 columns]"
            ],
            "text/html": [
              "\n",
              "  <div id=\"df-5b12d549-c28b-44aa-9f6a-d2ad76966031\">\n",
              "    <div class=\"colab-df-container\">\n",
              "      <div>\n",
              "<style scoped>\n",
              "    .dataframe tbody tr th:only-of-type {\n",
              "        vertical-align: middle;\n",
              "    }\n",
              "\n",
              "    .dataframe tbody tr th {\n",
              "        vertical-align: top;\n",
              "    }\n",
              "\n",
              "    .dataframe thead th {\n",
              "        text-align: right;\n",
              "    }\n",
              "</style>\n",
              "<table border=\"1\" class=\"dataframe\">\n",
              "  <thead>\n",
              "    <tr style=\"text-align: right;\">\n",
              "      <th></th>\n",
              "      <th>index</th>\n",
              "      <th>hindi</th>\n",
              "      <th>english</th>\n",
              "    </tr>\n",
              "  </thead>\n",
              "  <tbody>\n",
              "    <tr>\n",
              "      <th>0</th>\n",
              "      <td>0</td>\n",
              "      <td>&lt;start&gt; किसी मिश्रण में प्रोटीनों साबुन या अन्...</td>\n",
              "      <td>&lt;start&gt; Salting out is done by adding salt to ...</td>\n",
              "    </tr>\n",
              "    <tr>\n",
              "      <th>1</th>\n",
              "      <td>1</td>\n",
              "      <td>&lt;start&gt; अभियोगकर्ता &lt;stop&gt;</td>\n",
              "      <td>&lt;start&gt; plaintiff &lt;stop&gt;</td>\n",
              "    </tr>\n",
              "    <tr>\n",
              "      <th>2</th>\n",
              "      <td>2</td>\n",
              "      <td>&lt;start&gt; गामा काला &lt;stop&gt;</td>\n",
              "      <td>&lt;start&gt; Gamma Black &lt;stop&gt;</td>\n",
              "    </tr>\n",
              "    <tr>\n",
              "      <th>3</th>\n",
              "      <td>3</td>\n",
              "      <td>&lt;start&gt; काई-अनुक्रम का विशिष्ट डीएनए अनुक्रम &lt;...</td>\n",
              "      <td>&lt;start&gt; Specific DNA sequence of chi - sequenc...</td>\n",
              "    </tr>\n",
              "    <tr>\n",
              "      <th>4</th>\n",
              "      <td>4</td>\n",
              "      <td>&lt;start&gt; विश्व के विभिन्न भागों में तट पर स्थित...</td>\n",
              "      <td>&lt;start&gt; Large - scale Off - shore Thermal Ener...</td>\n",
              "    </tr>\n",
              "    <tr>\n",
              "      <th>...</th>\n",
              "      <td>...</td>\n",
              "      <td>...</td>\n",
              "      <td>...</td>\n",
              "    </tr>\n",
              "    <tr>\n",
              "      <th>1399782</th>\n",
              "      <td>1553134</td>\n",
              "      <td>&lt;start&gt; इस संदेश को फिर कभी नहीं दिखाएँ &lt;stop&gt;</td>\n",
              "      <td>&lt;start&gt; Do not show this message again &lt;stop&gt;</td>\n",
              "    </tr>\n",
              "    <tr>\n",
              "      <th>1399783</th>\n",
              "      <td>1553135</td>\n",
              "      <td>&lt;start&gt; कह दो हाँ और तुम अपमानित भी होंगे &lt;stop&gt;</td>\n",
              "      <td>&lt;start&gt; Proclaim “Yes and with disgrace ” &lt;stop&gt;</td>\n",
              "    </tr>\n",
              "    <tr>\n",
              "      <th>1399784</th>\n",
              "      <td>1553137</td>\n",
              "      <td>&lt;start&gt; शुक्र &lt;stop&gt;</td>\n",
              "      <td>&lt;start&gt; Fr &lt;stop&gt;</td>\n",
              "    </tr>\n",
              "    <tr>\n",
              "      <th>1399785</th>\n",
              "      <td>1553138</td>\n",
              "      <td>&lt;start&gt; और खिड़कियों को खुला रखा &lt;stop&gt;</td>\n",
              "      <td>&lt;start&gt; and pry open the windows &lt;stop&gt;</td>\n",
              "    </tr>\n",
              "    <tr>\n",
              "      <th>1399786</th>\n",
              "      <td>1553139</td>\n",
              "      <td>&lt;start&gt; घटना कार्य बैठक संपादक में प्रकार क्षे...</td>\n",
              "      <td>&lt;start&gt; Whether to show type field in the even...</td>\n",
              "    </tr>\n",
              "  </tbody>\n",
              "</table>\n",
              "<p>1399787 rows × 3 columns</p>\n",
              "</div>\n",
              "      <button class=\"colab-df-convert\" onclick=\"convertToInteractive('df-5b12d549-c28b-44aa-9f6a-d2ad76966031')\"\n",
              "              title=\"Convert this dataframe to an interactive table.\"\n",
              "              style=\"display:none;\">\n",
              "        \n",
              "  <svg xmlns=\"http://www.w3.org/2000/svg\" height=\"24px\"viewBox=\"0 0 24 24\"\n",
              "       width=\"24px\">\n",
              "    <path d=\"M0 0h24v24H0V0z\" fill=\"none\"/>\n",
              "    <path d=\"M18.56 5.44l.94 2.06.94-2.06 2.06-.94-2.06-.94-.94-2.06-.94 2.06-2.06.94zm-11 1L8.5 8.5l.94-2.06 2.06-.94-2.06-.94L8.5 2.5l-.94 2.06-2.06.94zm10 10l.94 2.06.94-2.06 2.06-.94-2.06-.94-.94-2.06-.94 2.06-2.06.94z\"/><path d=\"M17.41 7.96l-1.37-1.37c-.4-.4-.92-.59-1.43-.59-.52 0-1.04.2-1.43.59L10.3 9.45l-7.72 7.72c-.78.78-.78 2.05 0 2.83L4 21.41c.39.39.9.59 1.41.59.51 0 1.02-.2 1.41-.59l7.78-7.78 2.81-2.81c.8-.78.8-2.07 0-2.86zM5.41 20L4 18.59l7.72-7.72 1.47 1.35L5.41 20z\"/>\n",
              "  </svg>\n",
              "      </button>\n",
              "      \n",
              "  <style>\n",
              "    .colab-df-container {\n",
              "      display:flex;\n",
              "      flex-wrap:wrap;\n",
              "      gap: 12px;\n",
              "    }\n",
              "\n",
              "    .colab-df-convert {\n",
              "      background-color: #E8F0FE;\n",
              "      border: none;\n",
              "      border-radius: 50%;\n",
              "      cursor: pointer;\n",
              "      display: none;\n",
              "      fill: #1967D2;\n",
              "      height: 32px;\n",
              "      padding: 0 0 0 0;\n",
              "      width: 32px;\n",
              "    }\n",
              "\n",
              "    .colab-df-convert:hover {\n",
              "      background-color: #E2EBFA;\n",
              "      box-shadow: 0px 1px 2px rgba(60, 64, 67, 0.3), 0px 1px 3px 1px rgba(60, 64, 67, 0.15);\n",
              "      fill: #174EA6;\n",
              "    }\n",
              "\n",
              "    [theme=dark] .colab-df-convert {\n",
              "      background-color: #3B4455;\n",
              "      fill: #D2E3FC;\n",
              "    }\n",
              "\n",
              "    [theme=dark] .colab-df-convert:hover {\n",
              "      background-color: #434B5C;\n",
              "      box-shadow: 0px 1px 3px 1px rgba(0, 0, 0, 0.15);\n",
              "      filter: drop-shadow(0px 1px 2px rgba(0, 0, 0, 0.3));\n",
              "      fill: #FFFFFF;\n",
              "    }\n",
              "  </style>\n",
              "\n",
              "      <script>\n",
              "        const buttonEl =\n",
              "          document.querySelector('#df-5b12d549-c28b-44aa-9f6a-d2ad76966031 button.colab-df-convert');\n",
              "        buttonEl.style.display =\n",
              "          google.colab.kernel.accessAllowed ? 'block' : 'none';\n",
              "\n",
              "        async function convertToInteractive(key) {\n",
              "          const element = document.querySelector('#df-5b12d549-c28b-44aa-9f6a-d2ad76966031');\n",
              "          const dataTable =\n",
              "            await google.colab.kernel.invokeFunction('convertToInteractive',\n",
              "                                                     [key], {});\n",
              "          if (!dataTable) return;\n",
              "\n",
              "          const docLinkHtml = 'Like what you see? Visit the ' +\n",
              "            '<a target=\"_blank\" href=https://colab.research.google.com/notebooks/data_table.ipynb>data table notebook</a>'\n",
              "            + ' to learn more about interactive tables.';\n",
              "          element.innerHTML = '';\n",
              "          dataTable['output_type'] = 'display_data';\n",
              "          await google.colab.output.renderOutput(dataTable, element);\n",
              "          const docLink = document.createElement('div');\n",
              "          docLink.innerHTML = docLinkHtml;\n",
              "          element.appendChild(docLink);\n",
              "        }\n",
              "      </script>\n",
              "    </div>\n",
              "  </div>\n",
              "  "
            ]
          },
          "metadata": {},
          "execution_count": 21
        }
      ]
    },
    {
      "cell_type": "code",
      "source": [],
      "metadata": {
        "id": "nZ-Dec--z5Lp"
      },
      "execution_count": null,
      "outputs": []
    },
    {
      "cell_type": "code",
      "source": [],
      "metadata": {
        "id": "Jo4vTpMrz5JD"
      },
      "execution_count": null,
      "outputs": []
    },
    {
      "cell_type": "code",
      "source": [],
      "metadata": {
        "id": "0zOq8qjLz5GP"
      },
      "execution_count": null,
      "outputs": []
    },
    {
      "cell_type": "code",
      "source": [],
      "metadata": {
        "id": "p1s3eN1zz5BV"
      },
      "execution_count": null,
      "outputs": []
    },
    {
      "cell_type": "code",
      "source": [],
      "metadata": {
        "id": "wb10DQzuzpKB"
      },
      "execution_count": null,
      "outputs": []
    },
    {
      "cell_type": "code",
      "execution_count": null,
      "metadata": {
        "id": "GGp2_ZT4PcwD"
      },
      "outputs": [],
      "source": [
        "# Tokenize the sentence into list of words(integers) and pad the sequence to the same length\n",
        "def tokenize(lang):\n",
        "  lang_tokenizer = tf.keras.preprocessing.text.Tokenizer(\n",
        "      filters='')\n",
        "  lang_tokenizer.fit_on_texts(lang)\n",
        "\n",
        "  tensor = lang_tokenizer.texts_to_sequences(lang)\n",
        "\n",
        "  tensor = tf.keras.preprocessing.sequence.pad_sequences(tensor,\n",
        "                                                         padding='post')\n",
        "  return tensor, lang_tokenizer"
      ]
    },
    {
      "cell_type": "code",
      "execution_count": null,
      "metadata": {
        "colab": {
          "base_uri": "https://localhost:8080/"
        },
        "id": "XJ4y5JBMS1ji",
        "outputId": "098e186b-8c44-4f33-f317-983cc3cc92d6"
      },
      "outputs": [
        {
          "output_type": "stream",
          "name": "stdout",
          "text": [
            "(100, 39)\n",
            "{'<start>': 1, '<stop>': 2, 'के': 3, 'में': 4, 'है': 5, 'की': 6, 'और': 7, 'का': 8, 'को': 9, 'पर': 10, 'लिए': 11, 'से': 12, 'किया': 13, 'हो': 14, 'हैं': 15, 'जाने': 16, 'तो': 17, 'कि': 18, 'या': 19, 'जो': 20, 'किसी': 21, 'करने': 22, 'रूप': 23, 'ही': 24, 'ने': 25, 'न': 26, 'उस': 27, 'हम': 28, 'एक': 29, 'कर': 30, 'तथा': 31, 'योजना': 32, 'आप': 33, 'यदि': 34, 'यह': 35, 'नहीं': 36, 'इस': 37, 'उपयोग': 38, 'भी': 39, 'तरह': 40, 'वह': 41, 'उसे': 42, 'अपने': 43, 'दिन': 44, 'अन्य': 45, 'जाता': 46, 'ऊर्जा': 47, 'दे': 48, 'विकास': 49, 'अल्लाह': 50, 'रहे': 51, 'आता': 52, 'दिया': 53, 'गया': 54, 'जा': 55, 'सके': 56, 's': 57, 'कोई': 58, 'लोगों': 59, 'करें': 60, 'वे': 61, 'सामान्य': 62, 'जैव': 63, 'विश्व': 64, 'बन': 65, 'किए': 66, 'वाले': 67, 'वाली': 68, 'आने': 69, 'अपनी': 70, 'सूचना': 71, 'तुमसे': 72, 'झुठला': 73, 'रसूल': 74, 'पहुँचा': 75, 'सिंचाई': 76, 'पक्ष': 77, 'ये': 78, 'जिन्हें': 79, 'करना': 80, 'ऐसा': 81, 'श्रेणी': 82, 'उन्होंने': 83, 'भारत': 84, 'संस्थानों': 85, 'बना': 86, 'जाए': 87, 'तक': 88, 'सहायता': 89, 'घर': 90, 'हुआ': 91, 'दो': 92, 'ऐसी': 93, 'भुगतान': 94, 'बैंक': 95, 'रखी': 96, 'उनके': 97, 'देखने': 98, 'उसके': 99, 'नीचे': 100, 'अनुभव': 101, 'लिखने': 102, 'परिणाम': 103, 'विकसित': 104, 'उत्पादन': 105, 'लगा': 106, 'जब': 107, 'ख़ुदा': 108, 'उसी': 109, 'जिसे': 110, 'चाहे': 111, 'अंधा': 112, 'सही': 113, 'हमारे': 114, 'बन्दे': 115, 'बहुत': 116, 'दृष्टि': 117, 'सकते': 118, 'होगा': 119, 'इनकार': 120, 'जिस': 121, 'इन': 122, 'हमने': 123, 'घृणा': 124, 'परिक्षण': 125, 'मिश्रण': 126, 'प्रोटीनों': 127, 'साबुन': 128, 'यौगिकों': 129, 'अवक्षेप': 130, 'लवणक्षेपण': 131, 'अभियोगकर्ता': 132, 'गामा': 133, 'काला': 134, 'काई-अनुक्रम': 135, 'विशिष्ट': 136, 'डीएनए': 137, 'अनुक्रम': 138, 'विभिन्न': 139, 'भागों': 140, 'तट': 141, 'स्थित': 142, 'ऊष्ण': 143, 'परिवर्तन': 144, 'सिद्धांत': 145, 'आधारित': 146, 'बिजली': 147, 'कारखाने': 148, 'बड़े': 149, 'पैमाने': 150, 'लगाने': 151, 'रही': 152, 'हारे': 153, 'अनंत': 154, 'इच्छापत्र': 155, 'असफल': 156, 'दैनिक': 157, 'व्यय': 158, 'प्रदान': 159, 'राशि': 160, 'अग्रिम': 161, 'प्रतियोगिता': 162, 'सर्वप्रथम': 163, 'लिये': 164, 'नाव': 165, 'अनुकूल': 166, 'कचरे': 167, 'हाइड्रोजन': 168, 'बनाने': 169, 'तुम': 170, 'झुठलाते': 171, 'पहले': 172, 'कितने': 173, 'समुदाय': 174, 'चुके': 175, 'बस': 176, 'केवल': 177, 'स्पष्ट': 178, 'सत्य': 179, 'संदेश': 180, 'देने': 181, 'ज़िम्मेदारी': 182, 'किंतु': 183, 'सामाजिक': 184, 'दबाव': 185, 'सामने': 186, 'अड़चनें': 187, 'अपने-आप': 188, 'दब': 189, 'जायेंगी': 190, 'तेजी': 191, 'निरंतर': 192, 'बढ़': 193, 'रहा': 194, 'मत': 195, 'आयतें': 196, 'हक़': 197, 'साथ': 198, 'तुम्हें': 199, 'सुना': 200, 'संसारवालों': 201, 'प्रकार': 202, 'अत्याचार': 203, 'चाहता': 204, 'मेरे': 205, 'परिवार': 206, 'बेहद': 207, 'दुःखद': 208, 'घड़ी': 209, 'थी': 210, 'यात्री': 211, 'समान': 212, 'लाने-ले': 213, 'वर्जित': 214, 'माल': 215, 'विश्वास': 216, 'व्यक्त': 217, 'नवान्वेषण': 218, 'प्रक्रिया': 219, 'शिक्षण': 220, 'स्थाई': 221, 'तत्व': 222, 'संख्या': 223, 'वृद्धि': 224, 'पाएगी': 225, 'मच-मच': 226, 'रुपये': 227, 'परियोजनाओं': 228, 'दी': 229, 'जाती': 230, 'मीरा': 231, 'जल्दी': 232, 'अर्ध-मूर्ख': 233, 'नौकर': 234, 'स्थानांतरित': 235, 'अवचेतन': 236, 'जादूगर': 237, 'बीच': 238, 'संबंध': 239, 'था': 240, 'एवोल्यूशनअप्रत्याशित': 241, 'तीन': 242, 'चार': 243, 'बात': 244, 'हैदराबाद': 245, 'जम्मू': 246, 'काश्मीर': 247, 'सम्बन्धित': 248, 'घटनाओं': 249, 'अलग': 250, 'प्रकरणों': 251, 'विचार': 252, 'प्रथा': 253, 'जिसके': 254, 'अन्तर्गत': 255, 'संपत्ति': 256, 'निर्धारित': 257, 'अवधि': 258, 'अनुमत': 259, 'निधियां': 260, 'संस्था': 261, 'सरकारी': 262, 'न्यायालय': 263, 'आदेश': 264, 'कारण': 265, 'अंतरित': 266, 'प्रयोग': 267, 'लाया': 268, 'अदृश्य': 269, 'नियत': 270, 'नाटक': 271, 'सघाबर': 272, 'एकादशी': 273, 'नीलदर्पण': 274, 'नाट्य-नर्णय': 275, 'स्थापित': 276, 'निकषों': 277, 'खरे': 278, 'उतरते': 279, 'अमीर': 280, 'दुखी': 281, 'गरीब': 282, 'सुखी': 283, 'कामकाज': 284, 'बोझ': 285, 'इतना': 286, 'भारी': 287, 'मैं': 288, 'दबा': 289, 'करता': 290, 'हूं': 291, 'y': 292, 'एमएक्स': 293, 'प्लस': 294, 'बी': 295, 'बराबर': 296, 'इसे': 297, 'तरीका': 298, 'अपराध': 299, 'शिकार': 300, 'डेस्कटॉप': 301, 'परिवेश': 302, 'निद्राकर': 303, 'सुप्तिकारक': 304, 'नींद': 305, 'लाने': 306, 'प्रारंभिक': 307, 'http': 308, 'pranabmukherjee': 309, 'nic': 310, 'in': 311, 'prh': 312, 'html': 313, 'अच्छा': 314, 'ऋणदाता': 315, 'देश': 316, 'अवस्था': 317, 'परका': 318, 'शख्सियत': 319, 'कारों': 320, 'दुपहियों': 321, 'बाइसाइकिलों': 322, 'अत्यधिक': 323, 'विस्तार': 324, 'बावजूद': 325, 'स्थायी': 326, 'उपभोक़्ता': 327, 'वस्तु': 328, 'उद्योगों': 329, 'छठी': 330, 'गिरावट': 331, 'आयी': 332, 'श्यान': 333, 'नीलामी': 334, 'देशों': 335, 'वृहत': 336, 'वितरण': 337, 'संदर्भ': 338, 'वाला': 339, 'अध्ययन': 340, 'दरवाजे': 341, 'ताला': 342, 'यातायात': 343, 'बाधाओं': 344, 'जोड़ने': 345, 'लक्ष्य': 346, 'सख्त': 347, 'वो': 348, 'सौर-इंजीनियर': 349, 'गयीं': 350, 'उन': 351, 'मुसीबत': 352, 'आ': 353, 'पड़ी': 354, 'बेसाख्ता': 355, 'बोल': 356, 'उठे': 357, 'तरफ': 358, 'लौट': 359, 'जिहन': 360, 'जिन': 361, 'हमारी': 362, 'आयतों': 363, 'गोया': 364, 'कुफ्र': 365, 'घटाटोप': 366, 'ऍधेरों': 367, 'गूंगें': 368, 'बहरे': 369, 'पड़े': 370, 'गुमराही': 371, 'छोड़': 372, 'सीधे': 373, 'ढर्रे': 374, '-': 375, 'गुण': 376, 'नाम': 377, 'सजीव': 378, 'ध्वनि': 379, 'नमूना': 380, 'सेटिंग': 381, 'प्रबंधित': 382, 'प्लगिन': 383, 'सक्रिय': 384, 'सेट': 385, 'रवि': 386, 'सूरज': 387, 'रौशन': 388, 'चिराग़': 389, 'बनाया': 390, 'ऐ': 391, 'ख़ास': 392, 'अय्यूब': 393, 'याद': 394, 'करो': 395, 'परवरगिार': 396, 'फरियाद': 397, 'मुझको': 398, 'शैतान': 399, 'अज़ीयत': 400, 'तकलीफ': 401, 'ढलाव': 402, 'चलिए': 403, 'देखे': 404, 'फॅक्टर': 405, 'नही': 406, 'सुधारात्मक': 407, 'उपाय': 408, 'कदम': 409, 'अब': 410, 'गोचर': 411, 'मधुमेह': 412, 'मरीज': 413, 'कांच': 414, 'बिंदु': 415, 'पीड़ित': 416, 'सरोजिनी': 417, 'नायडू': 418, 'सफल': 419, 'होने': 420, 'दुनिया': 421, 'समय': 422, 'पूरा': 423, 'जैसाकि': 424, 'कवियों': 425, 'छपे': 426, 'हुए': 427, 'पृष्ठ': 428, 'संसार': 429, 'प्रक्षेपित': 430, 'चाहिए': 431, 'वास्तविक': 432, 'राज्य': 433, 'रहमान': 434, 'करनेवालों': 435, 'बड़ा': 436, 'मुश्किल': 437, 'आज': 438, 'नियमों': 439, 'कितनी': 440, 'हेरा-फेरी': 441, 'क्यों': 442, 'सुधारों': 443, 'जरूरत': 444, 'संभव': 445, 'पाएंगे': 446, 'मुख्य-अनुक्रम': 447, 'तारा': 448, 'हिंग': 449, 'विशेष': 450, 'मैक': 451, 'पता': 452, 'संलग्नता': 453, 'आसंधि': 454, 'प्रदर्शित': 455, 'सकता': 456, 'जयश्री': 457, 'सुपुर्द': 458, 'कार्य': 459, 'हाथी': 460, 'सभी': 461, 'दृश्य': 462, 'मेमो': 463, 'चुनें': 464, 'तबाही': 465, 'झुठलानेवालों': 466, 'साउथफील्डcity': 467, 'name': 468, 'optional': 469, 'probably': 470, 'does': 471, 'not': 472, 'need': 473, 'a': 474, 'translation': 475, 'वाटर': 476, 'प्यूरीफायर': 477, 'लगाया': 478, 'जैसे': 479, 'पुस्तिका': 480, 'विनिर्दिष्ट': 481, 'निर्गम': 482, 'खंड': 483, 'पाठ्य': 484, 'विशिष्टता': 485, 'दर्शा': 486, 'd': 487, 'सिद्धांतों': 488, 'किस': 489, 'हद': 490, 'कार्यान्वित': 491, 'पोर्टफोलियो': 492, 'प्रबंधक': 493, 'तीसरा': 494, 'उनकी': 495, 'प्रतिभा': 496, 'आबा': 497, 'साहेब': 498, 'स्थानीय': 499, 'शिक्षक': 500, 'महबूब': 501, 'खान': 502, 'नियुकत': 503, 'ताकि': 504, 'नारायण': 505, 'शास्त्रीय': 506, 'गायन': 507, 'प्रशिक्षण': 508, 'प्राप्त': 509, 'वसुनीथ': 510, 'उरबीधर': 511, 'बरुआ': 512, 'टोल': 513, 'छोड़ने': 514, 'बाद': 515, 'हेमचन्द्र': 516, 'संस्कृत': 517, 'पढ़ाई': 518, 'लगभग': 519, 'बंद': 520, 'गई': 521, 'मलांत्र-उच्छेदन': 522, 'गंभीर': 523, 'सर्जरी': 524, 'अधेड़': 525, 'तालु': 526, 'संबंधित': 527, 'पक्षाघात': 528, 'जहन्नुम': 529, 'बड़ी': 530, 'आफ़त': 531, 'ब्याज': 532, 'अनुदान': 533, 'हेतु': 534, 'पात्र': 535, 'मान्यताप्राप्त': 536, 'विश्वविद्यालयों': 537, 'व्यावसायिक': 538, 'पाठ्यक्रमों': 539, 'सूची': 540, 'स्पेसेस': 541, 'संख्याः': 542, 'मक्का': 543, 'करनेवाले': 544, 'लड़ते': 545, 'अवश्य': 546, 'पीठ': 547, 'फेर': 548, 'जाते': 549, 'फिर': 550, 'संरक्षक': 551, 'पाएँगे': 552, 'सहायक': 553, 'औरतें': 554, 'कभी': 555, 'सामान': 556, 'लेती': 557, 'थीं': 558, 'प्रयोजन': 559, 'सोलर': 560, 'फोटोवोल्टेक': 561, 'वॉटर': 562, 'प्ंपिंग': 563, 'सिस्टमों': 564, 'संवर्धन': 565, 'नव': 566, 'नवीकरणीय': 567, 'मंत्रालय': 568, 'एमएनआरई': 569, 'सरकार': 570, 'योजना--': 571, 'दौरान': 572, 'जारी': 573, 'नया': 574, 'किटकिटाना': 575, 'स्रोत': 576, 'क्या': 577, 'कहना': 578, 'बैठकर': 579, 'पिएँगे': 580, 'बहा-बहाकर': 581, 'जहाँ': 582, 'चाहेंगे': 583, 'ले': 584, 'जाएँगे': 585, 'अति': 586, 'भावना': 587, 'मतली': 588, 'द्वेष': 589, 'पेंशन': 590, 'फंड': 591, 'नियामक': 592, 'प्राधिकरण': 593, 'अंश्कालिक': 594, 'सदस्यों': 595, 'संदेय': 596, 'भत्ते': 597, 'नियम': 598, '२०१४': 599, 'तामरस': 600, 'रंग': 601, 'प्रोफ़ाइल': 602, 'शीर्षक': 603, 'हर': 604, 'हरियालियों': 605, 'खेतों': 606, 'खेरों': 607, 'बगियों': 608, 'चुन': 609, 'लाते': 610, 'मुफ़्त': 611, 'एन': 612, 'ऐच': 613, 'ऐस': 614, 'अधिकारी': 615, 'परन्तु': 616, 'बाहर': 617, 'कठिनाई': 618, 'करते': 619, 'ऑपटीशियन': 620, 'कहें-आप': 621, 'किये': 622, 'सम्भावना': 623, 'अन्ततः': 624, 'सारे': 625, 'बचा': 626, 'लिया': 627, 'वेबसाइट': 628, 'जाएं': 629, '–': 630, 'sh': 631, 'creditcardpayment': 632, 'aspx': 633, 'लिंक': 634, 'क्लिक': 635}\n"
          ]
        }
      ],
      "source": [
        "input_tensor, inp_lang_tokenizer = tokenize(df.iloc[:100 , :]['hindi'])\n",
        "print(input_tensor.shape)\n",
        "print(inp_lang_tokenizer.word_index)"
      ]
    },
    {
      "cell_type": "code",
      "execution_count": null,
      "metadata": {
        "id": "nb_tiKphiUfO"
      },
      "outputs": [],
      "source": [
        "def create_dataset(path, num_examples):\n",
        "  lines = io.open(path).read().strip().split('\\n')\n",
        "  word_pairs = [[pre_processing(w) for w in l.split('\\t')]  for l in lines[:num_examples]]\n",
        "  return zip(*word_pairs)"
      ]
    },
    {
      "cell_type": "code",
      "execution_count": null,
      "metadata": {
        "id": "dvSbRRt2Peku"
      },
      "outputs": [],
      "source": [
        "def load_dataset(data):\n",
        "  # creating cleaned input, output pairs\n",
        "  \n",
        "\n",
        "  input_tensor, inp_lang_tokenizer = tokenize(data['hindi'])\n",
        "  target_tensor, targ_lang_tokenizer = tokenize(data['english'])\n",
        "\n",
        "  return input_tensor, target_tensor, inp_lang_tokenizer, targ_lang_tokenizer"
      ]
    },
    {
      "cell_type": "code",
      "execution_count": null,
      "metadata": {
        "id": "d2x1jvvgP10p"
      },
      "outputs": [],
      "source": [
        "input_tensor, target_tensor, inp_lang_tokenizer, targ_lang_tokenizer = load_dataset(df.iloc[:50000,:]  )\n",
        "#load_dataset(df.iloc[:900000,:]  ) used 8/12.7gb"
      ]
    },
    {
      "cell_type": "code",
      "execution_count": null,
      "metadata": {
        "colab": {
          "base_uri": "https://localhost:8080/"
        },
        "id": "8D8b3jKbVlGB",
        "outputId": "d2eb8e81-8d1c-4f3c-a0e9-722fa215942f"
      },
      "outputs": [
        {
          "output_type": "execute_result",
          "data": {
            "text/plain": [
              "(50000, 120)"
            ]
          },
          "metadata": {},
          "execution_count": 23
        }
      ],
      "source": [
        "input_tensor.shape"
      ]
    },
    {
      "cell_type": "code",
      "execution_count": null,
      "metadata": {
        "colab": {
          "base_uri": "https://localhost:8080/"
        },
        "id": "CcdsR57Ga30Q",
        "outputId": "a936ed6a-e206-4f82-96fa-150ba6de8fe6"
      },
      "outputs": [
        {
          "output_type": "execute_result",
          "data": {
            "text/plain": [
              "(1399787, 2)"
            ]
          },
          "metadata": {},
          "execution_count": 24
        }
      ],
      "source": [
        "df.shape"
      ]
    },
    {
      "cell_type": "code",
      "execution_count": null,
      "metadata": {
        "colab": {
          "base_uri": "https://localhost:8080/"
        },
        "id": "0pFwk1DvnvBz",
        "outputId": "7d79c094-678e-4edc-d82c-b188652fa46d"
      },
      "outputs": [
        {
          "output_type": "stream",
          "name": "stdout",
          "text": [
            "40000 40000 10000 10000\n",
            "[    1   222    10   485   895 11770     5   805   215     5  1433  4049\n",
            "     7   807    54     4     2     0     0     0     0     0     0     0\n",
            "     0     0     0     0     0     0     0     0     0     0     0     0\n",
            "     0     0     0     0     0     0     0     0     0     0     0     0\n",
            "     0     0     0     0     0     0     0     0     0     0     0     0\n",
            "     0     0     0     0     0     0     0     0     0     0     0     0\n",
            "     0     0     0     0     0     0     0     0     0     0     0     0\n",
            "     0     0     0     0     0     0     0     0     0     0     0     0\n",
            "     0     0     0     0     0     0     0     0     0     0     0     0\n",
            "     0     0     0     0     0     0     0     0     0     0     0     0]\n",
            "[   1  805  181   14 2556   41 5839    7  297  133    4 3402   11 2349\n",
            "    8    3  805  424    2    0    0    0    0    0    0    0    0    0\n",
            "    0    0    0    0    0    0    0    0    0    0    0    0]\n"
          ]
        }
      ],
      "source": [
        "# Creating training and validation sets using an 80-20 split\n",
        "input_tensor_train, input_tensor_val, target_tensor_train, target_tensor_val = train_test_split(input_tensor, target_tensor, test_size=0.2 , random_state=42)\n",
        "\n",
        "# Show length\n",
        "print(len(input_tensor_train), len(target_tensor_train), len(input_tensor_val), len(target_tensor_val))\n",
        "print(input_tensor_train[0])\n",
        "print(target_tensor_train[0])"
      ]
    },
    {
      "cell_type": "markdown",
      "metadata": {
        "id": "OYWcscTfZ8Mz"
      },
      "source": [
        "Model after this"
      ]
    },
    {
      "cell_type": "code",
      "execution_count": null,
      "metadata": {
        "colab": {
          "base_uri": "https://localhost:8080/"
        },
        "id": "rFznscdm-APV",
        "outputId": "b53998d2-3413-44b5-ee6e-0d350d4afd2e"
      },
      "outputs": [
        {
          "output_type": "execute_result",
          "data": {
            "text/plain": [
              "(TensorShape([64, 120]), TensorShape([64, 40]))"
            ]
          },
          "metadata": {},
          "execution_count": 26
        }
      ],
      "source": [
        "# Configuration \n",
        "BUFFER_SIZE = len(input_tensor_train)\n",
        "BATCH_SIZE = 64\n",
        "steps_per_epoch = len(input_tensor_train)//BATCH_SIZE\n",
        "steps_per_epoch_val = len(input_tensor_val)//BATCH_SIZE\n",
        "embedding_dim = 256  # for word embedding\n",
        "units = 1024  # dimensionality of the output space of RNN\n",
        "vocab_inp_size = len(inp_lang_tokenizer.word_index)+1\n",
        "vocab_tar_size = len(targ_lang_tokenizer.word_index)+1\n",
        "\n",
        "dataset = tf.data.Dataset.from_tensor_slices((input_tensor_train, target_tensor_train)).shuffle(BUFFER_SIZE)\n",
        "dataset = dataset.batch(BATCH_SIZE, drop_remainder=True)\n",
        "validation_dataset = tf.data.Dataset.from_tensor_slices((input_tensor_val, target_tensor_val)).shuffle(BUFFER_SIZE)\n",
        "validation_dataset = validation_dataset.batch(BATCH_SIZE, drop_remainder=True)\n",
        "\n",
        "example_input_batch, example_target_batch = next(iter(dataset))\n",
        "example_input_batch.shape, example_target_batch.shape\n"
      ]
    },
    {
      "cell_type": "code",
      "execution_count": null,
      "metadata": {
        "id": "KrItid3NZ-h-"
      },
      "outputs": [],
      "source": [
        "class Encoder(tf.keras.Model):\n",
        "  def __init__(self, vocab_size, embedding_dim, enc_units, batch_sz):\n",
        "    super(Encoder, self).__init__()\n",
        "    self.batch_sz = batch_sz\n",
        "    self.enc_units = enc_units\n",
        "    self.embedding = tf.keras.layers.Embedding(vocab_size, embedding_dim)\n",
        "    self.gru = tf.keras.layers.GRU(self.enc_units,\n",
        "                                   return_sequences=True,  # Whether to return the last output in the output sequence, or the full sequence. \n",
        "                                   return_state=True,  # Whether to return the last state in addition to the output.\n",
        "                                   recurrent_initializer='glorot_uniform')\n",
        "\n",
        "  def call(self, x, hidden):\n",
        "    x = self.embedding(x)\n",
        "    output, state = self.gru(x, initial_state = hidden)\n",
        "    return output, state\n",
        "\n",
        "  def initialize_hidden_state(self):\n",
        "    return tf.zeros((self.batch_sz, self.enc_units))"
      ]
    },
    {
      "cell_type": "code",
      "execution_count": null,
      "metadata": {
        "colab": {
          "base_uri": "https://localhost:8080/"
        },
        "id": "3MHv-ztnZ_KR",
        "outputId": "c6a6a9e9-6ff3-4b85-f703-2fb11fbdd8bc"
      },
      "outputs": [
        {
          "output_type": "stream",
          "name": "stdout",
          "text": [
            "Encoder output shape: (batch size, sequence length, units) (64, 120, 1024)\n",
            "Encoder Hidden state shape: (batch size, units) (64, 1024)\n"
          ]
        }
      ],
      "source": [
        "encoder = Encoder(vocab_inp_size, embedding_dim, units, BATCH_SIZE)\n",
        "\n",
        "# sample input\n",
        "sample_hidden = encoder.initialize_hidden_state()\n",
        "sample_output, sample_hidden = encoder(example_input_batch, sample_hidden)\n",
        "print ('Encoder output shape: (batch size, sequence length, units) {}'.format(sample_output.shape))\n",
        "print ('Encoder Hidden state shape: (batch size, units) {}'.format(sample_hidden.shape))"
      ]
    },
    {
      "cell_type": "code",
      "execution_count": null,
      "metadata": {
        "id": "WDR73hWOaBYQ"
      },
      "outputs": [],
      "source": [
        "class Decoder(tf.keras.Model):\n",
        "  def __init__(self, vocab_size, embedding_dim, dec_units, batch_sz):\n",
        "    super(Decoder, self).__init__()\n",
        "    self.batch_sz = batch_sz\n",
        "    self.dec_units = dec_units\n",
        "    self.embedding = tf.keras.layers.Embedding(vocab_size, embedding_dim)\n",
        "    self.gru = tf.keras.layers.GRU(self.dec_units,\n",
        "                                   return_sequences=True,\n",
        "                                   return_state=True,\n",
        "                                   recurrent_initializer='glorot_uniform')\n",
        "    self.fc = tf.keras.layers.Dense(vocab_size)\n",
        "\n",
        "\n",
        "  def call(self, x, hidden):\n",
        "    # x shape after passing through embedding == (batch_size, 1, embedding_dim)\n",
        "    x = self.embedding(x)\n",
        "\n",
        "    # passing the concatenated vector to the GRU\n",
        "    output, state = self.gru(x, initial_state = hidden)\n",
        "\n",
        "    # output shape == (batch_size * 1, hidden_size)\n",
        "    output = tf.reshape(output, (-1, output.shape[2]))\n",
        "\n",
        "    # output shape == (batch_size, vocab)\n",
        "    x = self.fc(output)\n",
        "    return x, state"
      ]
    },
    {
      "cell_type": "code",
      "execution_count": null,
      "metadata": {
        "colab": {
          "base_uri": "https://localhost:8080/"
        },
        "id": "AhorrGdYaEBh",
        "outputId": "7e8bb5ec-3834-4a1b-db06-69099dd43be9"
      },
      "outputs": [
        {
          "output_type": "execute_result",
          "data": {
            "text/plain": [
              "<tf.Tensor: shape=(3, 2), dtype=int32, numpy=\n",
              "array([[1, 2],\n",
              "       [3, 4],\n",
              "       [5, 6]], dtype=int32)>"
            ]
          },
          "metadata": {},
          "execution_count": 30
        }
      ],
      "source": [
        "tf.reshape([[1,2,3],[4,5,6]], (-1, 2))"
      ]
    },
    {
      "cell_type": "code",
      "execution_count": null,
      "metadata": {
        "colab": {
          "base_uri": "https://localhost:8080/"
        },
        "id": "ntW32WmZaGA5",
        "outputId": "d65ba52f-646a-4c30-8e56-ff7d11d36f90"
      },
      "outputs": [
        {
          "output_type": "stream",
          "name": "stdout",
          "text": [
            "Decoder output shape: (batch_size, vocab size) (64, 35074)\n"
          ]
        }
      ],
      "source": [
        "decoder = Decoder(vocab_tar_size, embedding_dim, units, BATCH_SIZE)\n",
        "\n",
        "sample_decoder_output, _ = decoder(tf.random.uniform((BATCH_SIZE, 1)),\n",
        "                                      sample_hidden)\n",
        "\n",
        "print ('Decoder output shape: (batch_size, vocab size) {}'.format(sample_decoder_output.shape))"
      ]
    },
    {
      "cell_type": "code",
      "execution_count": null,
      "metadata": {
        "id": "peVzwCVIaIBd"
      },
      "outputs": [],
      "source": [
        " class DotProductAttention(tf.keras.layers.Layer):\n",
        "  def call(self, query, values):\n",
        "    #self.attention(hidden, enc_output) . query = (decoder?) hidden state , value = encoder output\n",
        "    # query hidden state shape == (batch_size, hidden size)\n",
        "    # query_with_time_axis shape == (batch_size, 1, hidden size)\n",
        "    # values shape == (batch_size, max_len, hidden size)\n",
        "    # we are doing this to broadcast addition along the time axis to calculate the score\n",
        "    query_with_time_axis = tf.expand_dims(query, 1)\n",
        "\n",
        "    # inner product, score shape == (batch_size, max_length, 1)\n",
        "    score = query_with_time_axis * values\n",
        "    score = tf.reduce_sum(score, axis=2)\n",
        "    score = tf.expand_dims(score, 2)\n",
        "    \n",
        "    # attention_weights shape == (batch_size, max_length, 1)\n",
        "    attention_weights = tf.nn.softmax(score, axis=1)\n",
        "\n",
        "    # context_vector shape after sum == (batch_size, hidden_size)\n",
        "    context_vector = attention_weights * values\n",
        "    context_vector = tf.reduce_sum(context_vector, axis=1)\n",
        "\n",
        "    return context_vector, attention_weights"
      ]
    },
    {
      "cell_type": "code",
      "execution_count": null,
      "metadata": {
        "colab": {
          "base_uri": "https://localhost:8080/"
        },
        "id": "QRI74Z1WaK8t",
        "outputId": "10b57d23-f5b4-4072-9d2d-2882ac85e698"
      },
      "outputs": [
        {
          "output_type": "stream",
          "name": "stdout",
          "text": [
            "Attention result shape: (batch size, units) (64, 1024)\n",
            "Attention weights shape: (batch_size, sequence_length, 1) (64, 120, 1)\n"
          ]
        }
      ],
      "source": [
        "attention_layer = DotProductAttention()\n",
        "attention_result, attention_weights = attention_layer(sample_hidden, sample_output)\n",
        "\n",
        "print(\"Attention result shape: (batch size, units) {}\".format(attention_result.shape))\n",
        "print(\"Attention weights shape: (batch_size, sequence_length, 1) {}\".format(attention_weights.shape))"
      ]
    },
    {
      "cell_type": "code",
      "execution_count": null,
      "metadata": {
        "id": "aPBeO4o6aNFg"
      },
      "outputs": [],
      "source": [
        "class BahdanauAttention(tf.keras.layers.Layer):\n",
        "  def __init__(self, units):\n",
        "    super(BahdanauAttention, self).__init__()\n",
        "    self.W1 = tf.keras.layers.Dense(units)\n",
        "    self.W2 = tf.keras.layers.Dense(units)\n",
        "    self.V = tf.keras.layers.Dense(1)\n",
        "\n",
        "  def call(self, query, values):\n",
        "    # query hidden state shape == (batch_size, hidden size)\n",
        "    # query_with_time_axis shape == (batch_size, 1, hidden size)\n",
        "    # values shape == (batch_size, max_len, hidden size)\n",
        "    query_with_time_axis = tf.expand_dims(query, 1)\n",
        "\n",
        "    # score shape == (batch_size, max_length, 1)\n",
        "    # we get 1 at the last axis because we are applying score to self.V\n",
        "    # the shape of the tensor before applying self.V is (batch_size, max_length, units)\n",
        "    score = self.V(tf.nn.tanh(\n",
        "        self.W1(values) + self.W2(query_with_time_axis)))\n",
        "\n",
        "    # attention_weights shape == (batch_size, max_length, 1)\n",
        "    attention_weights = tf.nn.softmax(score, axis=1)\n",
        "\n",
        "    # context_vector shape after sum == (batch_size, hidden_size)\n",
        "    context_vector = attention_weights * values\n",
        "    context_vector = tf.reduce_sum(context_vector, axis=1)\n",
        "\n",
        "    return context_vector, attention_weights"
      ]
    },
    {
      "cell_type": "code",
      "execution_count": null,
      "metadata": {
        "id": "wI1kK7kqaPxW"
      },
      "outputs": [],
      "source": [
        "class DecoderWithAttention(tf.keras.Model):\n",
        "  def __init__(self, vocab_size, embedding_dim, dec_units, batch_sz, attention_layer = None):\n",
        "    super(DecoderWithAttention, self).__init__()\n",
        "    self.batch_sz = batch_sz\n",
        "    self.dec_units = dec_units\n",
        "    self.embedding = tf.keras.layers.Embedding(vocab_size, embedding_dim)\n",
        "    self.gru = tf.keras.layers.GRU(self.dec_units,\n",
        "                                   return_sequences=True,\n",
        "                                   return_state=True,\n",
        "                                   recurrent_initializer='glorot_uniform')\n",
        "    self.fc = tf.keras.layers.Dense(vocab_size)\n",
        "\n",
        "    # used for attention\n",
        "    self.attention = attention_layer\n",
        "\n",
        "  def call(self, x, hidden, enc_output):\n",
        "    # x shape after passing through embedding == (batch_size, 1, embedding_dim)\n",
        "    x = self.embedding(x)\n",
        "    attention_weights = None\n",
        "    \n",
        "    if self.attention:\n",
        "      # enc_output shape == (batch_size, max_length, hidden_size)\n",
        "      context_vector, attention_weights = self.attention(hidden, enc_output)\n",
        "      # x shape after concatenation == (batch_size, 1, embedding_dim + hidden_size)\n",
        "      x = tf.concat([tf.expand_dims(context_vector, 1), x], axis=-1)\n",
        "\n",
        "    # passing the concatenated vector to the GRU\n",
        "    output, state = self.gru(x, initial_state = hidden)\n",
        "\n",
        "    # output shape == (batch_size * 1, hidden_size)\n",
        "    output = tf.reshape(output, (-1, output.shape[2]))\n",
        "\n",
        "    # output shape == (batch_size, vocab)\n",
        "    x = self.fc(output)\n",
        "\n",
        "    return x, state, attention_weights"
      ]
    },
    {
      "cell_type": "code",
      "execution_count": null,
      "metadata": {
        "id": "YlAyqJdnaT5O"
      },
      "outputs": [],
      "source": [
        "loss_object = tf.keras.losses.SparseCategoricalCrossentropy(from_logits=True, reduction='none')\n",
        "\n",
        "def loss_function(real, pred):\n",
        "  mask = tf.math.logical_not(tf.math.equal(real, 0)) \n",
        "  loss_ = loss_object(real, pred)\n",
        "  mask = tf.cast(mask, dtype=loss_.dtype)\n",
        "  loss_ *= mask\n",
        "  return tf.reduce_mean(loss_)"
      ]
    },
    {
      "cell_type": "code",
      "execution_count": null,
      "metadata": {
        "id": "hBUodAP4aU36"
      },
      "outputs": [],
      "source": [
        "optimizer = tf.keras.optimizers.legacy.Adam()\n",
        "\n",
        "def get_train_step_func():\n",
        "\n",
        "  @tf.function\n",
        "  def train_step(inp, targ, enc_hidden, encoder, decoder):\n",
        "    loss = 0\n",
        "\n",
        "    with tf.GradientTape() as tape: # for automatic differentiation\n",
        "      enc_output, enc_hidden = encoder(inp, enc_hidden)\n",
        "\n",
        "      dec_hidden = enc_hidden\n",
        "\n",
        "      dec_input = tf.expand_dims([targ_lang_tokenizer.word_index['<start>']] * BATCH_SIZE, 1)\n",
        "\n",
        "      # Teacher forcing - feeding the target as the next input\n",
        "      for t in range(1, targ.shape[1]):\n",
        "        # passing enc_output to the decoder\n",
        "        predictions, dec_hidden, _ = decoder(dec_input, dec_hidden, enc_output)\n",
        "\n",
        "        loss += loss_function(targ[:, t], predictions)\n",
        "\n",
        "        # using teacher forcing\n",
        "        dec_input = tf.expand_dims(targ[:, t], 1)\n",
        "\n",
        "    batch_loss = (loss / int(targ.shape[1]))\n",
        "\n",
        "    variables = encoder.trainable_variables + decoder.trainable_variables\n",
        "\n",
        "    gradients = tape.gradient(loss, variables)\n",
        "\n",
        "    optimizer.apply_gradients(zip(gradients, variables))\n",
        "\n",
        "    return batch_loss\n",
        "    \n",
        "  return train_step\n",
        "    "
      ]
    },
    {
      "cell_type": "code",
      "execution_count": null,
      "metadata": {
        "id": "H2ElXT_DaaKU"
      },
      "outputs": [],
      "source": [
        "def caculate_validation_loss(inp, targ, enc_hidden, encoder, decoder):\n",
        "  loss = 0\n",
        "  enc_output, enc_hidden = encoder(inp, enc_hidden)\n",
        "  dec_hidden = enc_hidden\n",
        "  dec_input = tf.expand_dims([targ_lang_tokenizer.word_index['<start>']] * BATCH_SIZE, 1)\n",
        "\n",
        "  # Teacher forcing - feeding the target as the next input\n",
        "  for t in range(1, targ.shape[1]):\n",
        "    predictions, dec_hidden, _ = decoder(dec_input, dec_hidden, enc_output)\n",
        "    loss += loss_function(targ[:, t], predictions)\n",
        "    dec_input = tf.expand_dims(targ[:, t], 1)\n",
        "\n",
        "  loss = loss / int(targ.shape[1])\n",
        "  return loss"
      ]
    },
    {
      "cell_type": "code",
      "execution_count": null,
      "metadata": {
        "id": "OHk3XQKBacIa"
      },
      "outputs": [],
      "source": [
        "def training_seq2seq(epochs, attention):\n",
        "  encoder = Encoder(vocab_inp_size, embedding_dim, units, BATCH_SIZE)\n",
        "  decoder = DecoderWithAttention(vocab_tar_size, embedding_dim, units, BATCH_SIZE, attention)\n",
        "  train_step_func = get_train_step_func()\n",
        "  training_loss = []\n",
        "  validation_loss = []\n",
        "\n",
        "  for epoch in range(epochs):\n",
        "    start = time.time()\n",
        "    enc_hidden = encoder.initialize_hidden_state()\n",
        "    total_loss = 0\n",
        "\n",
        "    for (batch, (inp, targ)) in enumerate(dataset.take(steps_per_epoch)):\n",
        "      batch_loss = train_step_func(inp, targ, enc_hidden, encoder, decoder)\n",
        "      total_loss += batch_loss\n",
        "\n",
        "      if batch % 100 == 0:\n",
        "        print('Epoch {} Batch {} Loss {:.4f}'.format(epoch + 1, batch, batch_loss))\n",
        "        \n",
        "    enc_hidden = encoder.initialize_hidden_state()\n",
        "    total_val_loss = 0\n",
        "    for (batch, (inp, targ)) in enumerate(validation_dataset.take(steps_per_epoch)):\n",
        "      val_loss = caculate_validation_loss(inp, targ, enc_hidden, encoder, decoder)\n",
        "      total_val_loss += val_loss\n",
        "\n",
        "    training_loss.append(total_loss / steps_per_epoch)\n",
        "    validation_loss.append(total_val_loss / steps_per_epoch_val)\n",
        "    print('Epoch {} Loss {:.4f} Validation Loss {:.4f}'.format(epoch + 1,\n",
        "                                        training_loss[-1], validation_loss[-1]))\n",
        "    print('Time taken for 1 epoch {} sec\\n'.format(time.time() - start))\n",
        "  return encoder, decoder, training_loss, validation_loss"
      ]
    },
    {
      "cell_type": "code",
      "execution_count": null,
      "metadata": {
        "colab": {
          "base_uri": "https://localhost:8080/"
        },
        "id": "mPPJW3m-aefR",
        "outputId": "c831b9d0-d014-4d2c-b60d-c436bca973cd"
      },
      "outputs": [
        {
          "name": "stdout",
          "output_type": "stream",
          "text": [
            "Running seq2seq model without attention\n",
            "Epoch 1 Batch 0 Loss 2.6347\n",
            "Epoch 1 Batch 100 Loss 1.5441\n",
            "Epoch 1 Loss 1.8607 Validation Loss 1.7679\n",
            "Time taken for 1 epoch 91.20334386825562 sec\n",
            "\n",
            "Epoch 2 Batch 0 Loss 1.8198\n",
            "Epoch 2 Batch 100 Loss 1.3025\n",
            "Epoch 2 Loss 1.6076 Validation Loss 1.6845\n",
            "Time taken for 1 epoch 38.26387429237366 sec\n",
            "\n",
            "Epoch 3 Batch 0 Loss 1.8036\n",
            "Epoch 3 Batch 100 Loss 1.6284\n",
            "Epoch 3 Loss 1.4641 Validation Loss 1.6961\n",
            "Time taken for 1 epoch 37.88337469100952 sec\n",
            "\n",
            "Epoch 4 Batch 0 Loss 1.2322\n",
            "Epoch 4 Batch 100 Loss 1.2815\n",
            "Epoch 4 Loss 1.3256 Validation Loss 1.7221\n",
            "Time taken for 1 epoch 38.32018446922302 sec\n",
            "\n",
            "Epoch 5 Batch 0 Loss 1.0575\n",
            "Epoch 5 Batch 100 Loss 1.2654\n",
            "Epoch 5 Loss 1.1679 Validation Loss 1.7848\n",
            "Time taken for 1 epoch 46.71889066696167 sec\n",
            "\n"
          ]
        }
      ],
      "source": [
        "epochs = 5\n",
        "attention = None\n",
        "\n",
        "print(\"Running seq2seq model without attention\")\n",
        "encoder, decoder, training_loss, validation_loss = training_seq2seq(epochs, attention)\n",
        "\n",
        "tloss = training_loss\n",
        "vloss = validation_loss"
      ]
    },
    {
      "cell_type": "code",
      "execution_count": null,
      "metadata": {
        "id": "9-eUXynZagpC"
      },
      "outputs": [],
      "source": [
        "attention = DotProductAttention()\n",
        "print(\"Running seq2seq model with dot product attention\")\n",
        "encoder_dp, decoder_dp, training_loss, validation_loss = training_seq2seq(epochs, attention)\n",
        "\n",
        "tloss = np.vstack((tloss, training_loss))\n",
        "vloss = np.vstack((vloss, validation_loss))"
      ]
    },
    {
      "cell_type": "code",
      "execution_count": null,
      "metadata": {
        "colab": {
          "base_uri": "https://localhost:8080/"
        },
        "id": "7TUKivtyYix6",
        "outputId": "f55f2f9f-31c6-4b6d-b2c7-02f4e8af8051"
      },
      "outputs": [
        {
          "output_type": "stream",
          "name": "stdout",
          "text": [
            "Running seq2seq model with Bahdanau attention\n",
            "Epoch 1 Batch 0 Loss 2.7676\n",
            "Epoch 1 Batch 100 Loss 2.1063\n",
            "Epoch 1 Batch 200 Loss 1.9871\n",
            "Epoch 1 Batch 300 Loss 1.5671\n",
            "Epoch 1 Batch 400 Loss 1.6174\n",
            "Epoch 1 Batch 500 Loss 1.6486\n",
            "Epoch 1 Batch 600 Loss 1.4692\n",
            "Epoch 1 Loss 1.7592 Validation Loss 1.5988\n",
            "Time taken for 1 epoch 737.6231420040131 sec\n",
            "\n",
            "Epoch 2 Batch 0 Loss 1.6462\n",
            "Epoch 2 Batch 100 Loss 1.8006\n",
            "Epoch 2 Batch 200 Loss 1.5325\n",
            "Epoch 2 Batch 300 Loss 1.5322\n",
            "Epoch 2 Batch 400 Loss 1.6087\n",
            "Epoch 2 Batch 500 Loss 1.3348\n",
            "Epoch 2 Batch 600 Loss 1.3610\n",
            "Epoch 2 Loss 1.4828 Validation Loss 1.4823\n",
            "Time taken for 1 epoch 691.4047722816467 sec\n",
            "\n",
            "Epoch 3 Batch 0 Loss 1.3280\n",
            "Epoch 3 Batch 100 Loss 1.1889\n",
            "Epoch 3 Batch 200 Loss 1.4188\n",
            "Epoch 3 Batch 300 Loss 1.3372\n",
            "Epoch 3 Batch 400 Loss 1.4533\n",
            "Epoch 3 Batch 500 Loss 1.2049\n",
            "Epoch 3 Batch 600 Loss 1.3497\n",
            "Epoch 3 Loss 1.3085 Validation Loss 1.4468\n",
            "Time taken for 1 epoch 738.7181055545807 sec\n",
            "\n",
            "Epoch 4 Batch 0 Loss 1.2515\n",
            "Epoch 4 Batch 100 Loss 1.1593\n",
            "Epoch 4 Batch 200 Loss 0.7749\n",
            "Epoch 4 Batch 300 Loss 1.3224\n",
            "Epoch 4 Batch 400 Loss 1.1648\n",
            "Epoch 4 Batch 500 Loss 1.3419\n",
            "Epoch 4 Batch 600 Loss 1.2835\n",
            "Epoch 4 Loss 1.1249 Validation Loss 1.4661\n",
            "Time taken for 1 epoch 691.2757012844086 sec\n",
            "\n",
            "Epoch 5 Batch 0 Loss 0.7691\n",
            "Epoch 5 Batch 100 Loss 0.9878\n",
            "Epoch 5 Batch 200 Loss 0.9834\n",
            "Epoch 5 Batch 300 Loss 0.8847\n",
            "Epoch 5 Batch 400 Loss 0.8699\n",
            "Epoch 5 Batch 500 Loss 1.1199\n",
            "Epoch 5 Batch 600 Loss 0.9412\n",
            "Epoch 5 Loss 0.9483 Validation Loss 1.4979\n",
            "Time taken for 1 epoch 692.671865940094 sec\n",
            "\n",
            "Epoch 6 Batch 0 Loss 0.7104\n",
            "Epoch 6 Batch 100 Loss 0.7470\n",
            "Epoch 6 Batch 200 Loss 0.6196\n",
            "Epoch 6 Batch 300 Loss 0.7480\n",
            "Epoch 6 Batch 400 Loss 0.7889\n",
            "Epoch 6 Batch 500 Loss 0.7556\n",
            "Epoch 6 Batch 600 Loss 0.8193\n",
            "Epoch 6 Loss 0.7694 Validation Loss 1.5328\n",
            "Time taken for 1 epoch 693.5200924873352 sec\n",
            "\n",
            "Epoch 7 Batch 0 Loss 0.6115\n",
            "Epoch 7 Batch 100 Loss 0.5636\n",
            "Epoch 7 Batch 200 Loss 0.5708\n",
            "Epoch 7 Batch 300 Loss 0.7697\n",
            "Epoch 7 Batch 400 Loss 0.6418\n",
            "Epoch 7 Batch 500 Loss 0.6842\n",
            "Epoch 7 Batch 600 Loss 0.5821\n",
            "Epoch 7 Loss 0.6337 Validation Loss 1.5759\n",
            "Time taken for 1 epoch 692.2950472831726 sec\n",
            "\n",
            "Epoch 8 Batch 0 Loss 0.4473\n",
            "Epoch 8 Batch 100 Loss 0.6007\n",
            "Epoch 8 Batch 200 Loss 0.5232\n",
            "Epoch 8 Batch 300 Loss 0.4131\n",
            "Epoch 8 Batch 400 Loss 0.5948\n",
            "Epoch 8 Batch 500 Loss 0.4869\n",
            "Epoch 8 Batch 600 Loss 0.5279\n",
            "Epoch 8 Loss 0.5182 Validation Loss 1.6204\n",
            "Time taken for 1 epoch 692.9450507164001 sec\n",
            "\n",
            "Epoch 9 Batch 0 Loss 0.4237\n",
            "Epoch 9 Batch 100 Loss 0.4381\n",
            "Epoch 9 Batch 200 Loss 0.4478\n",
            "Epoch 9 Batch 300 Loss 0.4491\n",
            "Epoch 9 Batch 400 Loss 0.3621\n",
            "Epoch 9 Batch 500 Loss 0.4866\n",
            "Epoch 9 Batch 600 Loss 0.4835\n",
            "Epoch 9 Loss 0.4241 Validation Loss 1.6747\n",
            "Time taken for 1 epoch 691.781370639801 sec\n",
            "\n",
            "Epoch 10 Batch 0 Loss 0.2908\n",
            "Epoch 10 Batch 100 Loss 0.3184\n",
            "Epoch 10 Batch 200 Loss 0.3161\n",
            "Epoch 10 Batch 300 Loss 0.3728\n",
            "Epoch 10 Batch 400 Loss 0.4473\n",
            "Epoch 10 Batch 500 Loss 0.3290\n",
            "Epoch 10 Batch 600 Loss 0.4250\n",
            "Epoch 10 Loss 0.3431 Validation Loss 1.7392\n",
            "Time taken for 1 epoch 692.9782493114471 sec\n",
            "\n"
          ]
        }
      ],
      "source": [
        "epochs = 10\n",
        "\n",
        "attention = BahdanauAttention(units)\n",
        "print(\"Running seq2seq model with Bahdanau attention\")\n",
        "encoder_bah, decoder_bah, training_loss, validation_loss = training_seq2seq(epochs, attention)\n",
        "\n",
        "#tloss = np.vstack((tloss, training_loss))\n",
        "#vloss = np.vstack((vloss, validation_loss))"
      ]
    },
    {
      "cell_type": "code",
      "execution_count": null,
      "metadata": {
        "id": "e5Yk-AZ4h3Hb"
      },
      "outputs": [],
      "source": [
        "import matplotlib.pyplot as plt\n",
        "\n",
        "ax = plt.subplot(111) \n",
        "t = np.arange(1, epochs+1)\n",
        "\n",
        "for i in range(0, vloss.shape[0]):\n",
        "  line, = plt.plot(t, vloss[i,:], lw=2)\n",
        "\n",
        "ax.legend(('No attention', 'Dot product', 'Bahdanau'))\n",
        "ax.set_title(\"Validation loss\")\n"
      ]
    },
    {
      "cell_type": "code",
      "execution_count": null,
      "metadata": {
        "id": "fbaNyQu9akk3"
      },
      "outputs": [],
      "source": [
        "max_length_targ, max_length_inp = target_tensor.shape[1], input_tensor.shape[1]\n"
      ]
    },
    {
      "cell_type": "code",
      "execution_count": null,
      "metadata": {
        "id": "Ad9Fn5HrOO6i"
      },
      "outputs": [],
      "source": [
        "def translate(sentence, encoder, decoder):\n",
        "  attention_plot = np.zeros((max_length_targ, max_length_inp))\n",
        "\n",
        "  sentence = pre_processing(sentence)\n",
        "\n",
        "  inputs = [inp_lang_tokenizer.word_index[i] for i in sentence.split(' ')]\n",
        "  inputs = tf.keras.preprocessing.sequence.pad_sequences([inputs],\n",
        "                                                         maxlen=max_length_inp,\n",
        "                                                         padding='post')\n",
        "  inputs = tf.convert_to_tensor(inputs)\n",
        "\n",
        "  result = ''\n",
        "\n",
        "  hidden = [tf.zeros((1, units))]\n",
        "  enc_out, enc_hidden = encoder(inputs, hidden)\n",
        "\n",
        "  dec_hidden = enc_hidden\n",
        "  dec_input = tf.expand_dims([targ_lang_tokenizer.word_index['<start>']], 0)\n",
        "\n",
        "  for t in range(max_length_targ):\n",
        "    predictions, dec_hidden, attention_weights = decoder(dec_input,\n",
        "                                                         dec_hidden,\n",
        "                                                         enc_out)\n",
        "\n",
        "    predicted_id = tf.argmax(predictions[0]).numpy()\n",
        "\n",
        "    result += targ_lang_tokenizer.index_word[predicted_id] + ' '\n",
        "\n",
        "    # until the predicted word is <end>.\n",
        "    if targ_lang_tokenizer.index_word[predicted_id] == '<end>':\n",
        "      return result, sentence\n",
        "\n",
        "    # the predicted ID is fed back into the model, no teacher forcing.\n",
        "    dec_input = tf.expand_dims([predicted_id], 0)\n",
        "\n",
        "  return result, sentence"
      ]
    },
    {
      "cell_type": "code",
      "execution_count": null,
      "metadata": {
        "id": "rEFkURA0fRH0",
        "colab": {
          "base_uri": "https://localhost:8080/"
        },
        "outputId": "b4c9d8be-3be7-43dc-faee-25f775a4df40"
      },
      "outputs": [
        {
          "output_type": "stream",
          "name": "stdout",
          "text": [
            "Input: <start> आपका नाम <stop>\n",
            "Predicted translation: your name <stop> <stop> <stop> <stop> etc <stop> <stop> <stop> etc <stop> <stop> <stop> etc <stop> <stop> <stop> etc <stop> <stop> <stop> etc <stop> <stop> <stop> etc <stop> <stop> <stop> etc <stop> <stop> <stop> etc <stop> <stop> <stop> etc <stop> \n"
          ]
        }
      ],
      "source": [
        "#आपका नाम क्या है\n",
        "result, sentence = translate(u'आपका नाम', encoder_bah, decoder_bah)\n",
        "print('Input: %s' % (sentence))\n",
        "print('Predicted translation: {}'.format(result))"
      ]
    },
    {
      "cell_type": "code",
      "source": [],
      "metadata": {
        "id": "nzdR4LWaxD7m"
      },
      "execution_count": null,
      "outputs": []
    },
    {
      "cell_type": "markdown",
      "source": [
        "### Calculatig Mean BLEU score for training set"
      ],
      "metadata": {
        "id": "tPVnYUke4Bx0"
      }
    },
    {
      "cell_type": "markdown",
      "source": [],
      "metadata": {
        "id": "rNeI2DE7bHTj"
      }
    },
    {
      "cell_type": "code",
      "source": [],
      "metadata": {
        "id": "A3ex10QobbFt"
      },
      "execution_count": null,
      "outputs": []
    },
    {
      "cell_type": "code",
      "source": [
        "!pip install sacrebleu\n",
        "!pip install evaluate"
      ],
      "metadata": {
        "id": "4xku9wkiLrF9",
        "colab": {
          "base_uri": "https://localhost:8080/"
        },
        "outputId": "d93b026d-d24f-4220-9bb6-b387917c074c"
      },
      "execution_count": null,
      "outputs": [
        {
          "output_type": "stream",
          "name": "stdout",
          "text": [
            "Looking in indexes: https://pypi.org/simple, https://us-python.pkg.dev/colab-wheels/public/simple/\n",
            "Requirement already satisfied: sacrebleu in /usr/local/lib/python3.9/dist-packages (2.3.1)\n",
            "Requirement already satisfied: numpy>=1.17 in /usr/local/lib/python3.9/dist-packages (from sacrebleu) (1.22.4)\n",
            "Requirement already satisfied: tabulate>=0.8.9 in /usr/local/lib/python3.9/dist-packages (from sacrebleu) (0.8.10)\n",
            "Requirement already satisfied: colorama in /usr/local/lib/python3.9/dist-packages (from sacrebleu) (0.4.6)\n",
            "Requirement already satisfied: portalocker in /usr/local/lib/python3.9/dist-packages (from sacrebleu) (2.7.0)\n",
            "Requirement already satisfied: lxml in /usr/local/lib/python3.9/dist-packages (from sacrebleu) (4.9.2)\n",
            "Requirement already satisfied: regex in /usr/local/lib/python3.9/dist-packages (from sacrebleu) (2022.10.31)\n",
            "Looking in indexes: https://pypi.org/simple, https://us-python.pkg.dev/colab-wheels/public/simple/\n",
            "Requirement already satisfied: evaluate in /usr/local/lib/python3.9/dist-packages (0.4.0)\n",
            "Requirement already satisfied: packaging in /usr/local/lib/python3.9/dist-packages (from evaluate) (23.0)\n",
            "Requirement already satisfied: tqdm>=4.62.1 in /usr/local/lib/python3.9/dist-packages (from evaluate) (4.65.0)\n",
            "Requirement already satisfied: pandas in /usr/local/lib/python3.9/dist-packages (from evaluate) (1.4.4)\n",
            "Requirement already satisfied: huggingface-hub>=0.7.0 in /usr/local/lib/python3.9/dist-packages (from evaluate) (0.13.4)\n",
            "Requirement already satisfied: numpy>=1.17 in /usr/local/lib/python3.9/dist-packages (from evaluate) (1.22.4)\n",
            "Requirement already satisfied: datasets>=2.0.0 in /usr/local/lib/python3.9/dist-packages (from evaluate) (2.11.0)\n",
            "Requirement already satisfied: multiprocess in /usr/local/lib/python3.9/dist-packages (from evaluate) (0.70.14)\n",
            "Requirement already satisfied: xxhash in /usr/local/lib/python3.9/dist-packages (from evaluate) (3.2.0)\n",
            "Requirement already satisfied: responses<0.19 in /usr/local/lib/python3.9/dist-packages (from evaluate) (0.18.0)\n",
            "Requirement already satisfied: dill in /usr/local/lib/python3.9/dist-packages (from evaluate) (0.3.6)\n",
            "Requirement already satisfied: requests>=2.19.0 in /usr/local/lib/python3.9/dist-packages (from evaluate) (2.27.1)\n",
            "Requirement already satisfied: fsspec[http]>=2021.05.0 in /usr/local/lib/python3.9/dist-packages (from evaluate) (2023.3.0)\n",
            "Requirement already satisfied: aiohttp in /usr/local/lib/python3.9/dist-packages (from datasets>=2.0.0->evaluate) (3.8.4)\n",
            "Requirement already satisfied: pyarrow>=8.0.0 in /usr/local/lib/python3.9/dist-packages (from datasets>=2.0.0->evaluate) (9.0.0)\n",
            "Requirement already satisfied: pyyaml>=5.1 in /usr/local/lib/python3.9/dist-packages (from datasets>=2.0.0->evaluate) (6.0)\n",
            "Requirement already satisfied: typing-extensions>=3.7.4.3 in /usr/local/lib/python3.9/dist-packages (from huggingface-hub>=0.7.0->evaluate) (4.5.0)\n",
            "Requirement already satisfied: filelock in /usr/local/lib/python3.9/dist-packages (from huggingface-hub>=0.7.0->evaluate) (3.10.7)\n",
            "Requirement already satisfied: certifi>=2017.4.17 in /usr/local/lib/python3.9/dist-packages (from requests>=2.19.0->evaluate) (2022.12.7)\n",
            "Requirement already satisfied: charset-normalizer~=2.0.0 in /usr/local/lib/python3.9/dist-packages (from requests>=2.19.0->evaluate) (2.0.12)\n",
            "Requirement already satisfied: idna<4,>=2.5 in /usr/local/lib/python3.9/dist-packages (from requests>=2.19.0->evaluate) (3.4)\n",
            "Requirement already satisfied: urllib3<1.27,>=1.21.1 in /usr/local/lib/python3.9/dist-packages (from requests>=2.19.0->evaluate) (1.26.15)\n",
            "Requirement already satisfied: python-dateutil>=2.8.1 in /usr/local/lib/python3.9/dist-packages (from pandas->evaluate) (2.8.2)\n",
            "Requirement already satisfied: pytz>=2020.1 in /usr/local/lib/python3.9/dist-packages (from pandas->evaluate) (2022.7.1)\n",
            "Requirement already satisfied: yarl<2.0,>=1.0 in /usr/local/lib/python3.9/dist-packages (from aiohttp->datasets>=2.0.0->evaluate) (1.8.2)\n",
            "Requirement already satisfied: multidict<7.0,>=4.5 in /usr/local/lib/python3.9/dist-packages (from aiohttp->datasets>=2.0.0->evaluate) (6.0.4)\n",
            "Requirement already satisfied: attrs>=17.3.0 in /usr/local/lib/python3.9/dist-packages (from aiohttp->datasets>=2.0.0->evaluate) (22.2.0)\n",
            "Requirement already satisfied: aiosignal>=1.1.2 in /usr/local/lib/python3.9/dist-packages (from aiohttp->datasets>=2.0.0->evaluate) (1.3.1)\n",
            "Requirement already satisfied: async-timeout<5.0,>=4.0.0a3 in /usr/local/lib/python3.9/dist-packages (from aiohttp->datasets>=2.0.0->evaluate) (4.0.2)\n",
            "Requirement already satisfied: frozenlist>=1.1.1 in /usr/local/lib/python3.9/dist-packages (from aiohttp->datasets>=2.0.0->evaluate) (1.3.3)\n",
            "Requirement already satisfied: six>=1.5 in /usr/local/lib/python3.9/dist-packages (from python-dateutil>=2.8.1->pandas->evaluate) (1.16.0)\n"
          ]
        }
      ]
    },
    {
      "cell_type": "code",
      "source": [
        "import evaluate\n",
        "\n",
        "metric = evaluate.load(\"sacrebleu\")\n",
        "\n",
        "def calculate_bleu1(dataframe):\n",
        "  #print(dataframe['hindi'])\n",
        "  var  = dataframe['hindi']\n",
        "  var = var.replace('<start>' , '')\n",
        "  var = var.replace('<stop>' , '')\n",
        "  #print(var)\n",
        "  try:\n",
        "    result, sentence = translate(str(var), encoder_bah, decoder_bah)\n",
        "  except KeyError:\n",
        "    return 0.0\n",
        "  #print(dataframe['english'])\n",
        "  #print(result)\n",
        "  word = \"<stop>\"\n",
        "  word_index = result.find(word)\n",
        "  result = result[:word_index + len(word)]\n",
        "  result = ''.join(result)\n",
        "  final =\"<start> \" + result\n",
        "  #print(final)\n",
        "\n",
        "  bleu_score = metric.compute(predictions=[result] , references= [[str(dataframe['english'])]])\n",
        "  return bleu_score['score']\n",
        "\n",
        "\n",
        "X_train, X_test = train_test_split( df.iloc[:50000,:], test_size=0.2 , random_state=42)\n",
        "\n",
        "X_train = X_train.iloc[:500 , :]\n",
        "#print(type(X_train))\n",
        "#print(X_train)\n",
        "output_list = X_train.apply(calculate_bleu1, axis=1).tolist()\n",
        "#print(output_list)\n",
        "output_list.remove(0.0)\n",
        "output_list = np.mean(np.array(output_list))\n",
        "print(\"Mean BLEU score for validation set = \", output_list)\n",
        "\n",
        "\n",
        "\n"
      ],
      "metadata": {
        "colab": {
          "base_uri": "https://localhost:8080/"
        },
        "id": "MG5orO6p2Hff",
        "outputId": "f5c38238-bf13-4928-9408-db7674064ddb"
      },
      "execution_count": null,
      "outputs": [
        {
          "output_type": "stream",
          "name": "stdout",
          "text": [
            "<start> योजना का उद्देश्य ग्रामीण क्षेञों में भारी संख्या में सूक्ष्म उद्यमों की स्थापना करना है <stop>\n",
            "<start> लाखों लोगों ने लिखित रूप से शपि ली कि वे मुसलमानों की रक्षा के लिए सब कुछ करने के लिए तैयार हैं <stop>\n",
            "<start> मैथुन के कारण <stop>\n",
            "<start> नमूनों का विश्लेषण <stop>\n",
            "<start> इस धारा के अन्य उपबंधों के अधीन रहते हुए यह है कि संबंधित प्राधिकारी– <stop>\n",
            "<start> जो कुछ आसमानों में है और जो कुछ ज़मीन में है और जो कुछ दोनों के बीच में है और जो कुछ ज़मीन के नीचे है ग़रज़ सब कुछ उसी का है <stop>\n",
            "<start> उसे हल्के पूलिका स्फुरण के कारण विशेषकर बिस्तर में आराम करते हुए पूलिका स्फुरण तथा पैरों में पीड़ा का अनुभव हुआ <stop>\n",
            "<start> भ्रमित होना <stop>\n",
            "<start> संलग्नक <stop>\n",
            "<start> आम तौर पर किसी सैनिक अफसर की गिरफ्तारी होने पर जांच करने वाली अदालत कोर्ट ऑफ इन्क्वायरी बैठती है <stop>\n",
            "<start> नाम मे कुछ नही है <stop>\n",
            "<start> घर पर करने के लिए दिये जाने वाले शैक्षिक कार्य होमवर्क <stop>\n",
            "<start> इस युक्ति का समय समाप्त हो गया <stop>\n",
            "<start> परिरक्षित व्यावर्तित युग्म <stop>\n",
            "<start> प्रारूप अधिकतर यूरोप में प्रयुक्त होता है <stop>\n",
            "<start> मैड्रिड मास्टर्स <stop>\n",
            "<start> http pranabmukherjee nic in prh html <stop>\n",
            "<start> अगले मेल खाते घटना को खोज रहे हैं <stop>\n",
            "<start> अज्ञात <stop>\n",
            "<start> अंगुलि-त्वक्काठिन्य प्रायः नीचे स्थित मृदुतकों के अपक्षय के कारण होता है <stop>\n",
            "<start> अपन प्रकृति के इन भागों की समता हमें शुद्धि और मुक्ति से प्राप्त होती है <stop>\n",
            "<start> [घुरघुराना] <stop>\n",
            "<start> नदीमुख-भूमि <stop>\n",
            "<start> शरीर में रोगजनक के प्रवेश के बीच की अवधि और लक्षणों की पहली स्वरूप <stop>\n",
            "<start> raviratlami <stop>\n",
            "<start> पाकिस्तान <stop>\n",
            "<start> धोखाधड़ी <stop>\n",
            "<start> हस्ब-ए-मामूल <stop>\n",
            "<start> श्राप देना <stop>\n",
            "<start> इन अवस्थाओं में मेडिकल सहायता की जरूरत पड़ती है <stop>\n",
            "<start> दिवालिया घोषित किए गए व्यक्ति की संपत्ति के प्रबन्धन का कार्य जिन लोगों को सौंपा गया हो <stop>\n",
            "<start> अधोहनु एक असिथ होती है जिसे निचला जबड़ा कहा जाता है <stop>\n",
            "<start> यह भव्य स्मारक रात के समय देखने योग्य होता है जब इसकी विशाल भव्यता समुद्र की पृष्ठभूमि में दिखाई देती है <stop>\n",
            "<start> अभियोगकर्ता <stop>\n",
            "<start> और मुझे लगता है कि बहुत वैज्ञानिकों का यह रवैया है <stop>\n",
            "<start> कोहरेदार <stop>\n",
            "<start> स्विचित आभासी परिपथ स्विचित वर्चुअल सर्किट <stop>\n",
            "<start> उन्होंने हाई कोर्ट का जज बनाए जाने की पेशकश अस्वीकार कर दी और में सरकारी सेवा से निवृत्त हो गए <stop>\n",
            "<start> डेनियल मॉल्केनटिन <stop>\n",
            "<start> उसका ठिकाना तो यक़ीनन दोज़ख़ है <stop>\n",
            "<start> इक्षुपात्रा <stop>\n",
            "<start> सभी चैनल छाया टोन रंग चयनक <stop>\n",
            "<start> कांग्रेस का विचार था कि सदस्यों की गवर्नमेंट जब बनेगी तभी अल्पसंख्यकों के यथेष्ट प्रतिनिधि लिये जा सकेंगे और सबको संतुष्ट किया जा सकेगा <stop>\n",
            "<start> योगदान <stop>\n",
            "<start> पत्रसूची <stop>\n",
            "<start> ऐ रसूल तुम दिल तंग न हो तुम से पहले भी पैग़म्बरों के साथ मसख़रापन किया गया है पस जो लोग मसख़रापन करते थे उनको उस अज़ाब ने जिसके ये लोग हॅसी उड़ाते थे घेर लिया <stop>\n",
            "<start> डब्लयूएसएस के लिए संकल्पनाएं तथा उन पर आधारित कार्यप्रणालियां डब्लयूएसएस हस्तपुस्तिका पर उपलब्ध हैं <stop>\n",
            "<start> जेओफ्री रश <stop>\n",
            "<start> लेकिन ये साल पुरानी नाल जिसमें पानी बहता है <stop>\n",
            "<start> ऊँचाईः Action for toggling <stop>\n",
            "<start> लेंस <stop>\n",
            "<start> कस्तूर <stop>\n",
            "<start> पूछना है इस नोड का मान से छोटा है <stop>\n",
            "<start> ICQ UIN <stop>\n",
            "<start> कोशिका झिल्ली किसी कोशिका के साइटोप्लाज्म को बंद करती है <stop>\n",
            "<start> पाँच राजा <stop>\n",
            "<start> उपलब्ध डिस्क के लिए खोज रहा है <stop>\n",
            "<start> इससे एक दिन पहले उनके चौथे पुत्र भूपेन्द्रनाथ की तेरह वर्ष की आयु में अकाल मृत्यु ने भी जल्द ही उनकी जीवनलीला समाप्त करने में मदद की होगी <stop>\n",
            "<start> क्या त्रुटििपूर्ण मान स्वयं ही स्पिन बटन के नजदीकी आगे वाले मान से बदल जाएँ <stop>\n",
            "<start> में अकेली चली जाऊंगी <stop>\n",
            "<start> मुफ्त NHS दृष्टी का इलाज <stop>\n",
            "<start> चयनित औजारपट्टी हटायें <stop>\n",
            "<start> जावा द्वीप <stop>\n",
            "<start> वित्त से संबधित मामलों में कुछ कर्तव्य जिनका अनुपालन किया जाना बाध्यता हो <stop>\n",
            "<start> आख़िर उन्हें क्या हुआ है कि वे नसीहत से कतराते है <stop>\n",
            "<start> अपर्तिअम् <stop>\n",
            "<start> रेस <stop>\n",
            "<start> योनशोपिंग लैन <stop>\n",
            "<start> बघेली <stop>\n",
            "<start> कुंवारी <stop>\n",
            "<start> समृद्धिपूर्णता <stop>\n",
            "<start> सभी फ़ाइलें * सभी समर्थित फ़ाइलें <stop>\n",
            "<start> रेत <stop>\n",
            "<start> श्रोता सूची <stop>\n",
            "<start> आज उसे अपने अंदर की आग को बुझाने की इच्छा नहीं है <stop>\n",
            "<start> आकार <stop>\n",
            "<start> परियोजना नामः <stop>\n",
            "<start> अतः जिन लोगों ने ज़ुल्म किया है उनके लिए एक नियत पैमाना है जैसा उनके साथियों का नियत पैमाना था अतः वे मुझसे जल्दी न मचाएँ <stop>\n",
            "<start> वाणिज्यिक आसूचना महानिदेशालय और सांख्यिकी डीजीसीआई एण्ड एस <stop>\n",
            "<start> कभी कभी कोई पौराणिक कथा उठा ली जाती है जिसमें बीच बीच में दैनिक जीवन की घटनाएं आती रहती हैं <stop>\n",
            "<start> अवरुद्ध करना <stop>\n",
            "<start> शरर ने उतने ही जोर से नसीम की भर्त्सना कर दी <stop>\n",
            "<start> गुद की कोषिकाएं <stop>\n",
            "<start> और उनके काफ़िर होने और मरियम पर बहुत बड़ा बोहतान बॉधने कि वजह से <stop>\n",
            "<start> इसलिए भवभूति के भावकुतापूर्ण उद्गारों का कारण उनके व्यक्तिगत जीवन में खोजना ही अधिक तर्कसंगत होगा <stop>\n",
            "<start> ’ बुद्धि ने इसे मान लिया और झटपट उसके पास जाकर उसे ज्ञान से भर दिया <stop>\n",
            "<start> सभी मुद्दों पर समग्र रूप से मानवता के हित में विचार होना चाहिए <stop>\n",
            "<start> कृत्तिका <stop>\n",
            "<start> उपलब्ध सीआरएल काफी पुराना है <stop>\n",
            "<start> मुझे वर्ष के राष्ट्रीय भूविज्ञान पुरस्कार प्रदान करने के लिए आपके बीच उपस्थित होकर वास्तव में अत्यंत प्रसन्नता हो रही है <stop>\n",
            "<start> सरसरी दृष्टि-से <stop>\n",
            "<start> एक्सटेंशन गतिविधि UI सक्षम करें <stop>\n",
            "<start> किटकिटाना <stop>\n",
            "<start> एक अध्ययन जो मानव के एक कोशिका से धीरे धीरे विकास के तथ्य पर आधारित है <stop>\n",
            "<start> जयपुर शहर के भ्रमण का सर्वोत्तम समय अक्टूबर से मार्च के मध्य में है <stop>\n",
            "<start> टर्मिनलों को बंद करे <stop>\n",
            "<start> बदलें <stop>\n",
            "<start> अस्थायी विनिमय दर बाजार के तत्वों से संचालित होती है <stop>\n",
            "<start> श्रेणीःसाहित्य <stop>\n",
            "<start> राज्य में किमी पक्की और कच्ची सड़कें हैं <stop>\n",
            "[7.306186623318163, 5.695928476566283, 17.86690863748233, 19.692104496063735, 10.170065501417424, 10.544517185703011, 6.926525845924281, 47.23665527410149, 28.087083270446133, 8.085624637982553, 18.141207173155518, 12.159158171055836, 16.009559139455188, 46.08636396914616, 14.211011212459495, 30.8198090959812, 71.65313105737896, 15.512258520268645, 28.087083270446133, 9.604706734275478, 8.097785064266205, 17.86690863748233, 21.64910073203448, 9.697349470195066, 36.70124608961282, 28.087083270446133, 28.087083270446133, 19.199242796476852, 47.23665527410149, 5.328172962611896, 0.0, 65.2002810852378, 14.50995760682347, 47.23665527410149, 9.739982528168149, 28.087083270446133, 46.08636396914616, 0.0, 21.82269148961668, 12.788328485625525, 47.23665527410149, 11.967409389919146, 39.610499362947735, 28.087083270446133, 28.087083270446133, 3.617577806302957, 24.32897699632212, 21.82269148961668, 11.412735515545796, 0.0, 25.57539057896621, 23.263472697663296, 10.573119961590265, 0.0, 67.99584717294225, 17.035677145427364, 52.70837136273562, 6.2146469669574635, 7.399927443879033, 10.941952848244524, 0.0, 52.70837136273562, 28.087083270446133, 6.741374997490328, 6.315269106962742, 28.087083270446133, 47.23665527410149, 21.82269148961668, 36.70124608961282, 47.23665527410149, 47.23665527410149, 12.716571564598604, 54.88116360940266, 21.82269148961668, 7.03457324188939, 28.087083270446133, 21.82269148961668, 5.300620189040969, 8.153616295286648, 7.2643397661757225, 28.087083270446133, 10.944265796042357, 40.04970149398301, 6.824052038741776, 7.7075324887553816, 8.794090522118719, 7.559140888944795, 28.087083270446133, 15.181939159382823, 5.64785727197696, 47.23665527410149, 0.0, 28.087083270446133, 81.40073465061016, 8.668528067348738, 21.82269148961668, 28.087083270446133, 10.470197811644793, 54.88116360940266, 45.917071600598206]\n",
            "Mean BLEU score for validation set =  23.271791613073365\n"
          ]
        }
      ]
    },
    {
      "cell_type": "code",
      "source": [
        "X_train.values[0]\n"
      ],
      "metadata": {
        "colab": {
          "base_uri": "https://localhost:8080/",
          "height": 35
        },
        "id": "c-3os2f655GZ",
        "outputId": "27d68123-90b8-4e78-f972-9cd5ecf2070c"
      },
      "execution_count": null,
      "outputs": [
        {
          "output_type": "execute_result",
          "data": {
            "text/plain": [
              "'<start> वे साल की उम्र तक स्कूल में पढ़ेंगी <stop>'"
            ],
            "application/vnd.google.colaboratory.intrinsic+json": {
              "type": "string"
            }
          },
          "metadata": {},
          "execution_count": 34
        }
      ]
    },
    {
      "cell_type": "markdown",
      "source": [
        "### Comparing Training and Validation Loss when No attention layer is applied to Dot product and Bahdanau attention layers"
      ],
      "metadata": {
        "id": "3XTLznZZ3dq2"
      }
    },
    {
      "cell_type": "code",
      "execution_count": null,
      "metadata": {
        "colab": {
          "base_uri": "https://localhost:8080/"
        },
        "outputId": "4a34d868-9872-4174-8937-5cc169c13ff0",
        "id": "0WkXFuTx3YzD"
      },
      "outputs": [
        {
          "output_type": "stream",
          "name": "stdout",
          "text": [
            "Running seq2seq model without attention\n",
            "Epoch 1 Batch 0 Loss 2.7062\n",
            "Epoch 1 Loss 1.9336 Validation Loss 1.8459\n",
            "Time taken for 1 epoch 56.63261580467224 sec\n",
            "\n",
            "Epoch 2 Batch 0 Loss 1.7007\n",
            "Epoch 2 Loss 1.7102 Validation Loss 1.8269\n",
            "Time taken for 1 epoch 14.975201606750488 sec\n",
            "\n",
            "Epoch 3 Batch 0 Loss 1.3442\n",
            "Epoch 3 Loss 1.5857 Validation Loss 1.8089\n",
            "Time taken for 1 epoch 15.056754112243652 sec\n",
            "\n",
            "Epoch 4 Batch 0 Loss 1.5948\n",
            "Epoch 4 Loss 1.4734 Validation Loss 1.8236\n",
            "Time taken for 1 epoch 14.985893487930298 sec\n",
            "\n",
            "Epoch 5 Batch 0 Loss 1.1870\n",
            "Epoch 5 Loss 1.3426 Validation Loss 1.8435\n",
            "Time taken for 1 epoch 15.382180452346802 sec\n",
            "\n",
            "Epoch 6 Batch 0 Loss 1.0442\n",
            "Epoch 6 Loss 1.2057 Validation Loss 1.8943\n",
            "Time taken for 1 epoch 15.763388872146606 sec\n",
            "\n",
            "Epoch 7 Batch 0 Loss 0.9689\n",
            "Epoch 7 Loss 1.0529 Validation Loss 1.9931\n",
            "Time taken for 1 epoch 15.964319229125977 sec\n",
            "\n",
            "Epoch 8 Batch 0 Loss 0.9053\n",
            "Epoch 8 Loss 0.8987 Validation Loss 2.0280\n",
            "Time taken for 1 epoch 15.532874584197998 sec\n",
            "\n",
            "Epoch 9 Batch 0 Loss 0.6692\n",
            "Epoch 9 Loss 0.7534 Validation Loss 2.0949\n",
            "Time taken for 1 epoch 15.234872102737427 sec\n",
            "\n",
            "Epoch 10 Batch 0 Loss 0.5837\n",
            "Epoch 10 Loss 0.6287 Validation Loss 2.1142\n",
            "Time taken for 1 epoch 15.153736352920532 sec\n",
            "\n"
          ]
        }
      ],
      "source": [
        "epochs = 10\n",
        "attention = None\n",
        "\n",
        "print(\"Running seq2seq model without attention\")\n",
        "encoder, decoder, training_loss, validation_loss = training_seq2seq(epochs, attention)\n",
        "\n",
        "tloss = training_loss\n",
        "vloss = validation_loss"
      ]
    },
    {
      "cell_type": "code",
      "execution_count": null,
      "metadata": {
        "colab": {
          "base_uri": "https://localhost:8080/"
        },
        "outputId": "9f1ff379-bc00-49a0-ab77-73b753530181",
        "id": "6vZxGkrN3YzE"
      },
      "outputs": [
        {
          "output_type": "stream",
          "name": "stdout",
          "text": [
            "Running seq2seq model with dot product attention\n",
            "Epoch 1 Batch 0 Loss 2.2114\n",
            "Epoch 1 Loss 2.2129 Validation Loss 2.1528\n",
            "Time taken for 1 epoch 82.39088797569275 sec\n",
            "\n",
            "Epoch 2 Batch 0 Loss 1.9353\n",
            "Epoch 2 Loss 2.0042 Validation Loss 2.1520\n",
            "Time taken for 1 epoch 30.032902002334595 sec\n",
            "\n",
            "Epoch 3 Batch 0 Loss 1.7424\n",
            "Epoch 3 Loss 1.8829 Validation Loss 2.0934\n",
            "Time taken for 1 epoch 26.784725189208984 sec\n",
            "\n",
            "Epoch 4 Batch 0 Loss 1.8058\n",
            "Epoch 4 Loss 1.7877 Validation Loss 2.0589\n",
            "Time taken for 1 epoch 26.828142881393433 sec\n",
            "\n",
            "Epoch 5 Batch 0 Loss 1.3217\n",
            "Epoch 5 Loss 1.7086 Validation Loss 2.0581\n",
            "Time taken for 1 epoch 26.932738065719604 sec\n",
            "\n",
            "Epoch 6 Batch 0 Loss 1.4054\n",
            "Epoch 6 Loss 1.6450 Validation Loss 2.0776\n",
            "Time taken for 1 epoch 26.82259464263916 sec\n",
            "\n",
            "Epoch 7 Batch 0 Loss 1.6215\n",
            "Epoch 7 Loss 1.5880 Validation Loss 2.0769\n",
            "Time taken for 1 epoch 27.00435519218445 sec\n",
            "\n",
            "Epoch 8 Batch 0 Loss 1.5985\n",
            "Epoch 8 Loss 1.5405 Validation Loss 2.0899\n",
            "Time taken for 1 epoch 26.861000061035156 sec\n",
            "\n",
            "Epoch 9 Batch 0 Loss 1.4014\n",
            "Epoch 9 Loss 1.4880 Validation Loss 2.1025\n",
            "Time taken for 1 epoch 26.77229619026184 sec\n",
            "\n",
            "Epoch 10 Batch 0 Loss 1.4153\n",
            "Epoch 10 Loss 1.4391 Validation Loss 2.0985\n",
            "Time taken for 1 epoch 26.72658371925354 sec\n",
            "\n"
          ]
        }
      ],
      "source": [
        "epochs = 10\n",
        "\n",
        "attention = DotProductAttention()\n",
        "print(\"Running seq2seq model with dot product attention\")\n",
        "encoder_dp, decoder_dp, training_loss, validation_loss = training_seq2seq(epochs, attention)\n",
        "\n",
        "tloss = np.vstack((tloss, training_loss))\n",
        "vloss = np.vstack((vloss, validation_loss))"
      ]
    },
    {
      "cell_type": "code",
      "execution_count": null,
      "metadata": {
        "colab": {
          "base_uri": "https://localhost:8080/"
        },
        "outputId": "14cf2bcb-aff6-4aa0-f5df-d88cf3bb7c0d",
        "id": "rWNk9WpC3YzE"
      },
      "outputs": [
        {
          "output_type": "stream",
          "name": "stdout",
          "text": [
            "Running seq2seq model with Bahdanau attention\n",
            "Epoch 1 Batch 0 Loss 2.3855\n",
            "Epoch 1 Loss 2.1103 Validation Loss 1.9713\n",
            "Time taken for 1 epoch 102.4408164024353 sec\n",
            "\n",
            "Epoch 2 Batch 0 Loss 1.7271\n",
            "Epoch 2 Loss 1.9315 Validation Loss 1.9827\n",
            "Time taken for 1 epoch 50.63910889625549 sec\n",
            "\n",
            "Epoch 3 Batch 0 Loss 1.8853\n",
            "Epoch 3 Loss 1.6981 Validation Loss 1.8488\n",
            "Time taken for 1 epoch 52.38480281829834 sec\n",
            "\n",
            "Epoch 4 Batch 0 Loss 1.5073\n",
            "Epoch 4 Loss 1.5253 Validation Loss 1.8667\n",
            "Time taken for 1 epoch 52.72197508811951 sec\n",
            "\n",
            "Epoch 5 Batch 0 Loss 1.5977\n",
            "Epoch 5 Loss 1.3428 Validation Loss 1.8929\n",
            "Time taken for 1 epoch 50.98045325279236 sec\n",
            "\n",
            "Epoch 6 Batch 0 Loss 1.1858\n",
            "Epoch 6 Loss 1.1292 Validation Loss 1.9573\n",
            "Time taken for 1 epoch 50.78667640686035 sec\n",
            "\n",
            "Epoch 7 Batch 0 Loss 0.8139\n",
            "Epoch 7 Loss 0.8975 Validation Loss 2.0348\n",
            "Time taken for 1 epoch 51.305941343307495 sec\n",
            "\n",
            "Epoch 8 Batch 0 Loss 0.6041\n",
            "Epoch 8 Loss 0.6896 Validation Loss 2.0917\n",
            "Time taken for 1 epoch 51.85340428352356 sec\n",
            "\n",
            "Epoch 9 Batch 0 Loss 0.4841\n",
            "Epoch 9 Loss 0.5298 Validation Loss 2.1644\n",
            "Time taken for 1 epoch 51.60452651977539 sec\n",
            "\n",
            "Epoch 10 Batch 0 Loss 0.3044\n",
            "Epoch 10 Loss 0.4085 Validation Loss 2.1962\n",
            "Time taken for 1 epoch 51.67909097671509 sec\n",
            "\n"
          ]
        }
      ],
      "source": [
        "epochs = 10\n",
        "\n",
        "attention = BahdanauAttention(units)\n",
        "print(\"Running seq2seq model with Bahdanau attention\")\n",
        "encoder_bah, decoder_bah, training_loss, validation_loss = training_seq2seq(epochs, attention)\n",
        "\n",
        "tloss = np.vstack((tloss, training_loss))\n",
        "vloss = np.vstack((vloss, validation_loss))"
      ]
    },
    {
      "cell_type": "markdown",
      "source": [],
      "metadata": {
        "id": "kDxJFvIVCTqX"
      }
    },
    {
      "cell_type": "code",
      "source": [],
      "metadata": {
        "id": "2r7eZJ8lCw6Q"
      },
      "execution_count": null,
      "outputs": []
    },
    {
      "cell_type": "code",
      "source": [
        "import matplotlib.pyplot as plt\n",
        "\n",
        "ax = plt.subplot(111) \n",
        "t = np.arange(1, epochs+1)\n",
        "\n",
        "for i in range(0, tloss.shape[0]):\n",
        "  line, = plt.plot(t, tloss[i,:], lw=2)\n",
        "\n",
        "ax.legend(('No attention', 'Dot product', 'Bahdanau'))\n",
        "ax.set_title(\"Training loss\")\n"
      ],
      "metadata": {
        "id": "6-NDhos4Cp8Y",
        "outputId": "f1855f80-d179-40bd-b668-baeb0a0dfc6b",
        "colab": {
          "base_uri": "https://localhost:8080/",
          "height": 470
        }
      },
      "execution_count": null,
      "outputs": [
        {
          "output_type": "execute_result",
          "data": {
            "text/plain": [
              "Text(0.5, 1.0, 'Training loss')"
            ]
          },
          "metadata": {},
          "execution_count": 44
        },
        {
          "output_type": "display_data",
          "data": {
            "text/plain": [
              "<Figure size 640x480 with 1 Axes>"
            ],
            "image/png": "[encoded data removed]"
          },
          "metadata": {}
        }
      ]
    },
    {
      "cell_type": "code",
      "source": [
        "import matplotlib.pyplot as plt\n",
        "\n",
        "ax = plt.subplot(111) \n",
        "t = np.arange(1, epochs+1)\n",
        "\n",
        "for i in range(0, vloss.shape[0]):\n",
        "  line, = plt.plot(t, vloss[i,:], lw=2)\n",
        "\n",
        "ax.legend(('No attention', 'Dot product', 'Bahdanau'))\n",
        "ax.set_title(\"Validation loss\")\n"
      ],
      "metadata": {
        "colab": {
          "base_uri": "https://localhost:8080/",
          "height": 470
        },
        "id": "565G8HZh3MOo",
        "outputId": "d546b8f0-411d-4bc0-f9de-4397251421c4"
      },
      "execution_count": null,
      "outputs": [
        {
          "data": {
            "text/plain": [
              "Text(0.5, 1.0, 'Validation loss')"
            ]
          },
          "execution_count": 43,
          "metadata": {},
          "output_type": "execute_result"
        },
        {
          "data": {
            "image/png": "[encoded data removed]",
            "text/plain": [
              "<Figure size 640x480 with 1 Axes>"
            ]
          },
          "metadata": {},
          "output_type": "display_data"
        }
      ]
    },
    {
      "cell_type": "markdown",
      "source": [],
      "metadata": {
        "id": "2utzRmJcCxHc"
      }
    }
  ]
}